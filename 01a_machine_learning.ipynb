{
  "cells": [
    {
      "attachments": {},
      "cell_type": "markdown",
      "metadata": {
        "id": "9H_2ZBmNf-ph"
      },
      "source": [
        "# Creative machine learning - Machine Learning\n",
        "\n",
        "### Author: Philippe Esling (esling@ircam.fr)\n",
        "\n",
        "In this course we will cover\n",
        "1. A [first definition](#definition) on the concept of machine learning\n",
        "2. An introduction to a simple problem of [linear regression](#regression)\n",
        "4. A detailed implementation of [simple linear regression](#linear)\n",
        "3. An explanation on [model capacity and overfitting](#capacity)\n",
        "4. Two [exercises](#exercises) to explore regression and classification\n",
        "4. An introduction to the [audio datasets](#audio) that we will use"
      ]
    },
    {
      "attachments": {},
      "cell_type": "markdown",
      "metadata": {
        "id": "Ujgujy5wCRyQ"
      },
      "source": [
        "### Colab-specific cell for imports\n",
        "\n",
        "This is the *colab version* of the course, please evaluate the following cell right away in order to set up the missing libraries in the environment."
      ]
    },
    {
      "cell_type": "code",
      "execution_count": 1,
      "metadata": {
        "colab": {
          "base_uri": "https://localhost:8080/"
        },
        "id": "oq6D1IPlCODk",
        "outputId": "52fb69ca-038d-4cf2-907f-7d2e8fd3430e"
      },
      "outputs": [
        {
          "name": "stdout",
          "output_type": "stream",
          "text": [
            "Requirement already satisfied: distrax in /home/zhaoyutian/Documents/cml/lib/python3.10/site-packages (0.1.3)\n",
            "Requirement already satisfied: absl-py>=0.9.0 in /home/zhaoyutian/Documents/cml/lib/python3.10/site-packages (from distrax) (1.4.0)\n",
            "Requirement already satisfied: chex>=0.0.7 in /home/zhaoyutian/Documents/cml/lib/python3.10/site-packages (from distrax) (0.1.7)\n",
            "Requirement already satisfied: jax>=0.1.55 in /home/zhaoyutian/Documents/cml/lib/python3.10/site-packages (from distrax) (0.4.10)\n",
            "Requirement already satisfied: jaxlib>=0.1.67 in /home/zhaoyutian/Documents/cml/lib/python3.10/site-packages (from distrax) (0.4.10)\n",
            "Requirement already satisfied: numpy<1.23,>=1.18.0 in /home/zhaoyutian/Documents/cml/lib/python3.10/site-packages (from distrax) (1.22.0)\n",
            "Requirement already satisfied: tensorflow-probability>=0.15.0 in /home/zhaoyutian/Documents/cml/lib/python3.10/site-packages (from distrax) (0.20.0)\n",
            "Requirement already satisfied: dm-tree>=0.1.5 in /home/zhaoyutian/Documents/cml/lib/python3.10/site-packages (from chex>=0.0.7->distrax) (0.1.8)\n",
            "Requirement already satisfied: toolz>=0.9.0 in /home/zhaoyutian/Documents/cml/lib/python3.10/site-packages (from chex>=0.0.7->distrax) (0.12.0)\n",
            "Requirement already satisfied: typing-extensions>=4.2.0 in /home/zhaoyutian/Documents/cml/lib/python3.10/site-packages (from chex>=0.0.7->distrax) (4.5.0)\n",
            "Requirement already satisfied: ml-dtypes>=0.1.0 in /home/zhaoyutian/Documents/cml/lib/python3.10/site-packages (from jax>=0.1.55->distrax) (0.1.0)\n",
            "Requirement already satisfied: opt-einsum in /home/zhaoyutian/Documents/cml/lib/python3.10/site-packages (from jax>=0.1.55->distrax) (3.3.0)\n",
            "Requirement already satisfied: scipy>=1.7 in /home/zhaoyutian/Documents/cml/lib/python3.10/site-packages (from jax>=0.1.55->distrax) (1.10.1)\n",
            "Requirement already satisfied: six>=1.10.0 in /home/zhaoyutian/Documents/cml/lib/python3.10/site-packages (from tensorflow-probability>=0.15.0->distrax) (1.16.0)\n",
            "Requirement already satisfied: decorator in /home/zhaoyutian/Documents/cml/lib/python3.10/site-packages (from tensorflow-probability>=0.15.0->distrax) (5.1.1)\n",
            "Requirement already satisfied: cloudpickle>=1.3 in /home/zhaoyutian/Documents/cml/lib/python3.10/site-packages (from tensorflow-probability>=0.15.0->distrax) (2.2.1)\n",
            "Requirement already satisfied: gast>=0.3.2 in /home/zhaoyutian/Documents/cml/lib/python3.10/site-packages (from tensorflow-probability>=0.15.0->distrax) (0.4.0)\n",
            "fatal: destination path 'cml' already exists and is not an empty directory.\n"
          ]
        }
      ],
      "source": [
        "!pip install distrax\n",
        "!git clone https://github.com/acids-ircam/cml.git \"cml\""
      ]
    },
    {
      "attachments": {},
      "cell_type": "markdown",
      "metadata": {
        "id": "oCT_TLrof-pk"
      },
      "source": [
        "<a id=\"definition\"></a>\n",
        "## Defining machine learning\n",
        "\n",
        "In all natural process, there exists complex relations between sets ${X} \\mapsto {Y}$. This can relate some objects with their names, or a cause to a consequence. In most cases, _we do not know the precise relations_ between these sets, all we have is _observations_ such as pairs $(x,y)$, composed of input data $x \\in {X}$, which have a corresponding expected output $y \\in {Y}$. The overarching goal of machine learning is to approximate such _unknown processes_ as a function ${F}_{\\theta}$, which _transforms_ input data $x$ into output data $y$.\n",
        "\n",
        "\n",
        "<center>\n",
        "<img src=\"images/01_machine_learning_basic.png\" align=\"center\"/>\n",
        "</center>\n",
        "\n",
        "Hence, machine learning aims to understand and model the relationship between some (usually complex and high-dimensional) inputs $\\mathbf{x}\\in{X}\\subset\\mathbb{R}^{{X}}$ and outputs $\\mathbf{y}\\in{Y}\\subset\\mathbb{R}^{{Y}}$, given by a set of data examples ${D}=\\left\\{(x_1,y_1),\\cdots,(x_N,y_N)\\right\\}$. This is achieved by defining a parametric model $f_{\\mathbf{\\theta}}\\in{F}$ inside a family of functions ${F}$, which depends on parameters $\\mathbf{\\theta} \\in \\mathbf{\\Theta}$ and that could approximate the underlying relationship. The _learning_ aspect refers to the adjustment of the parameters $\\mathbf{\\theta}$ in order to obtain the best approximation of the given task\n",
        "$$\n",
        "\\begin{equation}\n",
        "f_{\\mathbf{\\theta}}(\\mathbf{x}) = \\bar{\\mathbf{y}}\\approx \\mathbf{y}.\n",
        "\\end{equation}\n",
        "$$\n",
        "\n",
        "Hence, the major elements that we have to define in any machine learning problems are\n",
        "1. **Dataset** : ${D}=\\left\\{(x_1,y_1),\\cdots,(x_N,y_N)\\right\\}$. This dataset has to be representative of the relation $f:{X} \\mapsto {Y}$ that we are looking to model\n",
        "2. **Model** : Our parametric approximation $\\bar{\\mathbf{y}} = f_{\\mathbf{\\theta}}(\\mathbf{x})$, where the choice of family $f_{\\mathbf{\\theta}}\\in{F}$ is critical\n",
        "3. **Loss** : ${L}\\left( \\bar{\\mathbf{y}}, \\mathbf{y} \\mid f_{\\theta}, \\theta \\right)$ allows to measure the amount of errors made by our model\n",
        "4. **Optimization** : Method to find $\\theta^{*}\\in\\Theta$ so that our model minimizes the loss\n",
        "$$\\theta^{*}= \\underset{\\theta}{\\text{argmin }} {L}\\left( \\bar{\\mathbf{y}}, \\mathbf{y} \\mid f_{\\theta}, \\theta \\right)$$\n",
        "\n",
        "\n",
        "To observe this idea in simple setups, we are going to use the `numpy` library and also initialize the homemade course library `cml` and style for future plotting and exercise. We also set the random generator to a fixed point with `rng = np.random.RandomState(1)`, to ensure reproducibility"
      ]
    },
    {
      "cell_type": "code",
      "execution_count": 2,
      "metadata": {
        "colab": {
          "base_uri": "https://localhost:8080/",
          "height": 1000
        },
        "id": "vvMI98vDf-pl",
        "outputId": "062c995d-8873-4079-f474-f6345af8eba7"
      },
      "outputs": [
        {
          "name": "stderr",
          "output_type": "stream",
          "text": [
            "2023-05-16 23:26:46.578282: I tensorflow/core/util/port.cc:110] oneDNN custom operations are on. You may see slightly different numerical results due to floating-point round-off errors from different computation orders. To turn them off, set the environment variable `TF_ENABLE_ONEDNN_OPTS=0`.\n",
            "2023-05-16 23:26:46.597848: I tensorflow/core/platform/cpu_feature_guard.cc:182] This TensorFlow binary is optimized to use available CPU instructions in performance-critical operations.\n",
            "To enable the following instructions: AVX2 AVX512F AVX512_VNNI AVX512_BF16 FMA, in other operations, rebuild TensorFlow with the appropriate compiler flags.\n",
            "2023-05-16 23:26:46.913195: W tensorflow/compiler/tf2tensorrt/utils/py_utils.cc:38] TF-TRT Warning: Could not find TensorRT\n",
            "No GPU/TPU found, falling back to CPU. (Set TF_CPP_MIN_LOG_LEVEL=0 and rerun for more info.)\n"
          ]
        },
        {
          "data": {
            "text/html": [
              "<div class=\"bk-root\">\n",
              "        <a href=\"https://bokeh.org\" target=\"_blank\" class=\"bk-logo bk-logo-small bk-logo-notebook\"></a>\n",
              "        <span id=\"1002\">Loading BokehJS ...</span>\n",
              "    </div>\n"
            ]
          },
          "metadata": {},
          "output_type": "display_data"
        },
        {
          "data": {
            "application/javascript": "(function(root) {\n  function now() {\n    return new Date();\n  }\n\n  const force = true;\n\n  if (typeof root._bokeh_onload_callbacks === \"undefined\" || force === true) {\n    root._bokeh_onload_callbacks = [];\n    root._bokeh_is_loading = undefined;\n  }\n\nconst JS_MIME_TYPE = 'application/javascript';\n  const HTML_MIME_TYPE = 'text/html';\n  const EXEC_MIME_TYPE = 'application/vnd.bokehjs_exec.v0+json';\n  const CLASS_NAME = 'output_bokeh rendered_html';\n\n  /**\n   * Render data to the DOM node\n   */\n  function render(props, node) {\n    const script = document.createElement(\"script\");\n    node.appendChild(script);\n  }\n\n  /**\n   * Handle when an output is cleared or removed\n   */\n  function handleClearOutput(event, handle) {\n    const cell = handle.cell;\n\n    const id = cell.output_area._bokeh_element_id;\n    const server_id = cell.output_area._bokeh_server_id;\n    // Clean up Bokeh references\n    if (id != null && id in Bokeh.index) {\n      Bokeh.index[id].model.document.clear();\n      delete Bokeh.index[id];\n    }\n\n    if (server_id !== undefined) {\n      // Clean up Bokeh references\n      const cmd_clean = \"from bokeh.io.state import curstate; print(curstate().uuid_to_server['\" + server_id + \"'].get_sessions()[0].document.roots[0]._id)\";\n      cell.notebook.kernel.execute(cmd_clean, {\n        iopub: {\n          output: function(msg) {\n            const id = msg.content.text.trim();\n            if (id in Bokeh.index) {\n              Bokeh.index[id].model.document.clear();\n              delete Bokeh.index[id];\n            }\n          }\n        }\n      });\n      // Destroy server and session\n      const cmd_destroy = \"import bokeh.io.notebook as ion; ion.destroy_server('\" + server_id + \"')\";\n      cell.notebook.kernel.execute(cmd_destroy);\n    }\n  }\n\n  /**\n   * Handle when a new output is added\n   */\n  function handleAddOutput(event, handle) {\n    const output_area = handle.output_area;\n    const output = handle.output;\n\n    // limit handleAddOutput to display_data with EXEC_MIME_TYPE content only\n    if ((output.output_type != \"display_data\") || (!Object.prototype.hasOwnProperty.call(output.data, EXEC_MIME_TYPE))) {\n      return\n    }\n\n    const toinsert = output_area.element.find(\".\" + CLASS_NAME.split(' ')[0]);\n\n    if (output.metadata[EXEC_MIME_TYPE][\"id\"] !== undefined) {\n      toinsert[toinsert.length - 1].firstChild.textContent = output.data[JS_MIME_TYPE];\n      // store reference to embed id on output_area\n      output_area._bokeh_element_id = output.metadata[EXEC_MIME_TYPE][\"id\"];\n    }\n    if (output.metadata[EXEC_MIME_TYPE][\"server_id\"] !== undefined) {\n      const bk_div = document.createElement(\"div\");\n      bk_div.innerHTML = output.data[HTML_MIME_TYPE];\n      const script_attrs = bk_div.children[0].attributes;\n      for (let i = 0; i < script_attrs.length; i++) {\n        toinsert[toinsert.length - 1].firstChild.setAttribute(script_attrs[i].name, script_attrs[i].value);\n        toinsert[toinsert.length - 1].firstChild.textContent = bk_div.children[0].textContent\n      }\n      // store reference to server id on output_area\n      output_area._bokeh_server_id = output.metadata[EXEC_MIME_TYPE][\"server_id\"];\n    }\n  }\n\n  function register_renderer(events, OutputArea) {\n\n    function append_mime(data, metadata, element) {\n      // create a DOM node to render to\n      const toinsert = this.create_output_subarea(\n        metadata,\n        CLASS_NAME,\n        EXEC_MIME_TYPE\n      );\n      this.keyboard_manager.register_events(toinsert);\n      // Render to node\n      const props = {data: data, metadata: metadata[EXEC_MIME_TYPE]};\n      render(props, toinsert[toinsert.length - 1]);\n      element.append(toinsert);\n      return toinsert\n    }\n\n    /* Handle when an output is cleared or removed */\n    events.on('clear_output.CodeCell', handleClearOutput);\n    events.on('delete.Cell', handleClearOutput);\n\n    /* Handle when a new output is added */\n    events.on('output_added.OutputArea', handleAddOutput);\n\n    /**\n     * Register the mime type and append_mime function with output_area\n     */\n    OutputArea.prototype.register_mime_type(EXEC_MIME_TYPE, append_mime, {\n      /* Is output safe? */\n      safe: true,\n      /* Index of renderer in `output_area.display_order` */\n      index: 0\n    });\n  }\n\n  // register the mime type if in Jupyter Notebook environment and previously unregistered\n  if (root.Jupyter !== undefined) {\n    const events = require('base/js/events');\n    const OutputArea = require('notebook/js/outputarea').OutputArea;\n\n    if (OutputArea.prototype.mime_types().indexOf(EXEC_MIME_TYPE) == -1) {\n      register_renderer(events, OutputArea);\n    }\n  }\n  if (typeof (root._bokeh_timeout) === \"undefined\" || force === true) {\n    root._bokeh_timeout = Date.now() + 5000;\n    root._bokeh_failed_load = false;\n  }\n\n  const NB_LOAD_WARNING = {'data': {'text/html':\n     \"<div style='background-color: #fdd'>\\n\"+\n     \"<p>\\n\"+\n     \"BokehJS does not appear to have successfully loaded. If loading BokehJS from CDN, this \\n\"+\n     \"may be due to a slow or bad network connection. Possible fixes:\\n\"+\n     \"</p>\\n\"+\n     \"<ul>\\n\"+\n     \"<li>re-rerun `output_notebook()` to attempt to load from CDN again, or</li>\\n\"+\n     \"<li>use INLINE resources instead, as so:</li>\\n\"+\n     \"</ul>\\n\"+\n     \"<code>\\n\"+\n     \"from bokeh.resources import INLINE\\n\"+\n     \"output_notebook(resources=INLINE)\\n\"+\n     \"</code>\\n\"+\n     \"</div>\"}};\n\n  function display_loaded() {\n    const el = document.getElementById(\"1002\");\n    if (el != null) {\n      el.textContent = \"BokehJS is loading...\";\n    }\n    if (root.Bokeh !== undefined) {\n      if (el != null) {\n        el.textContent = \"BokehJS \" + root.Bokeh.version + \" successfully loaded.\";\n      }\n    } else if (Date.now() < root._bokeh_timeout) {\n      setTimeout(display_loaded, 100)\n    }\n  }\n\n  function run_callbacks() {\n    try {\n      root._bokeh_onload_callbacks.forEach(function(callback) {\n        if (callback != null)\n          callback();\n      });\n    } finally {\n      delete root._bokeh_onload_callbacks\n    }\n    console.debug(\"Bokeh: all callbacks have finished\");\n  }\n\n  function load_libs(css_urls, js_urls, callback) {\n    if (css_urls == null) css_urls = [];\n    if (js_urls == null) js_urls = [];\n\n    root._bokeh_onload_callbacks.push(callback);\n    if (root._bokeh_is_loading > 0) {\n      console.debug(\"Bokeh: BokehJS is being loaded, scheduling callback at\", now());\n      return null;\n    }\n    if (js_urls == null || js_urls.length === 0) {\n      run_callbacks();\n      return null;\n    }\n    console.debug(\"Bokeh: BokehJS not loaded, scheduling load and callback at\", now());\n    root._bokeh_is_loading = css_urls.length + js_urls.length;\n\n    function on_load() {\n      root._bokeh_is_loading--;\n      if (root._bokeh_is_loading === 0) {\n        console.debug(\"Bokeh: all BokehJS libraries/stylesheets loaded\");\n        run_callbacks()\n      }\n    }\n\n    function on_error(url) {\n      console.error(\"failed to load \" + url);\n    }\n\n    for (let i = 0; i < css_urls.length; i++) {\n      const url = css_urls[i];\n      const element = document.createElement(\"link\");\n      element.onload = on_load;\n      element.onerror = on_error.bind(null, url);\n      element.rel = \"stylesheet\";\n      element.type = \"text/css\";\n      element.href = url;\n      console.debug(\"Bokeh: injecting link tag for BokehJS stylesheet: \", url);\n      document.body.appendChild(element);\n    }\n\n    for (let i = 0; i < js_urls.length; i++) {\n      const url = js_urls[i];\n      const element = document.createElement('script');\n      element.onload = on_load;\n      element.onerror = on_error.bind(null, url);\n      element.async = false;\n      element.src = url;\n      console.debug(\"Bokeh: injecting script tag for BokehJS library: \", url);\n      document.head.appendChild(element);\n    }\n  };\n\n  function inject_raw_css(css) {\n    const element = document.createElement(\"style\");\n    element.appendChild(document.createTextNode(css));\n    document.body.appendChild(element);\n  }\n\n  const js_urls = [\"https://cdn.bokeh.org/bokeh/release/bokeh-2.4.3.min.js\", \"https://cdn.bokeh.org/bokeh/release/bokeh-gl-2.4.3.min.js\", \"https://cdn.bokeh.org/bokeh/release/bokeh-widgets-2.4.3.min.js\", \"https://cdn.bokeh.org/bokeh/release/bokeh-tables-2.4.3.min.js\", \"https://cdn.bokeh.org/bokeh/release/bokeh-mathjax-2.4.3.min.js\", \"https://unpkg.com/@holoviz/panel@0.14.3/dist/panel.min.js\"];\n  const css_urls = [];\n\n  const inline_js = [    function(Bokeh) {\n      Bokeh.set_log_level(\"info\");\n    },\nfunction(Bokeh) {\n    }\n  ];\n\n  function run_inline_js() {\n    if (root.Bokeh !== undefined || force === true) {\n          for (let i = 0; i < inline_js.length; i++) {\n      inline_js[i].call(root, root.Bokeh);\n    }\nif (force === true) {\n        display_loaded();\n      }} else if (Date.now() < root._bokeh_timeout) {\n      setTimeout(run_inline_js, 100);\n    } else if (!root._bokeh_failed_load) {\n      console.log(\"Bokeh: BokehJS failed to load within specified timeout.\");\n      root._bokeh_failed_load = true;\n    } else if (force !== true) {\n      const cell = $(document.getElementById(\"1002\")).parents('.cell').data().cell;\n      cell.output_area.append_execute_result(NB_LOAD_WARNING)\n    }\n  }\n\n  if (root._bokeh_is_loading === 0) {\n    console.debug(\"Bokeh: BokehJS loaded, going straight to plotting\");\n    run_inline_js();\n  } else {\n    load_libs(css_urls, js_urls, function() {\n      console.debug(\"Bokeh: BokehJS plotting callback run at\", now());\n      run_inline_js();\n    });\n  }\n}(window));",
            "application/vnd.bokehjs_load.v0+json": ""
          },
          "metadata": {},
          "output_type": "display_data"
        },
        {
          "data": {
            "application/javascript": "(function(root) {\n  function now() {\n    return new Date();\n  }\n\n  var force = true;\n\n  if (typeof root._bokeh_onload_callbacks === \"undefined\" || force === true) {\n    root._bokeh_onload_callbacks = [];\n    root._bokeh_is_loading = undefined;\n  }\n\n  if (typeof (root._bokeh_timeout) === \"undefined\" || force === true) {\n    root._bokeh_timeout = Date.now() + 5000;\n    root._bokeh_failed_load = false;\n  }\n\n  function run_callbacks() {\n    try {\n      root._bokeh_onload_callbacks.forEach(function(callback) {\n        if (callback != null)\n          callback();\n      });\n    } finally {\n      delete root._bokeh_onload_callbacks\n    }\n    console.debug(\"Bokeh: all callbacks have finished\");\n  }\n\n  function load_libs(css_urls, js_urls, js_modules, callback) {\n    if (css_urls == null) css_urls = [];\n    if (js_urls == null) js_urls = [];\n    if (js_modules == null) js_modules = [];\n\n    root._bokeh_onload_callbacks.push(callback);\n    if (root._bokeh_is_loading > 0) {\n      console.debug(\"Bokeh: BokehJS is being loaded, scheduling callback at\", now());\n      return null;\n    }\n    if (js_urls.length === 0 && js_modules.length === 0) {\n      run_callbacks();\n      return null;\n    }\n    console.debug(\"Bokeh: BokehJS not loaded, scheduling load and callback at\", now());\n\n    function on_load() {\n      root._bokeh_is_loading--;\n      if (root._bokeh_is_loading === 0) {\n        console.debug(\"Bokeh: all BokehJS libraries/stylesheets loaded\");\n        run_callbacks()\n      }\n    }\n\n    function on_error() {\n      console.error(\"failed to load \" + url);\n    }\n\n    for (var i = 0; i < css_urls.length; i++) {\n      var url = css_urls[i];\n      const element = document.createElement(\"link\");\n      element.onload = on_load;\n      element.onerror = on_error;\n      element.rel = \"stylesheet\";\n      element.type = \"text/css\";\n      element.href = url;\n      console.debug(\"Bokeh: injecting link tag for BokehJS stylesheet: \", url);\n      document.body.appendChild(element);\n    }\n\n    var skip = [];\n    if (window.requirejs) {\n      window.requirejs.config({'packages': {}, 'paths': {'ace': '//cdnjs.cloudflare.com/ajax/libs/ace/1.4.7', 'gridstack': 'https://cdn.jsdelivr.net/npm/gridstack@4.2.5/dist/gridstack-h5', 'notyf': 'https://cdn.jsdelivr.net/npm/notyf@3/notyf.min'}, 'shim': {'ace/ext-language_tools': {'deps': ['ace/ace']}, 'ace/ext-modelist': {'deps': ['ace/ace']}, 'gridstack': {'exports': 'GridStack'}}});\n      require([\"ace/ace\"], function(ace) {\n\twindow.ace = ace\n\ton_load()\n      })\n      require([\"ace/ext-language_tools\"], function() {\n\ton_load()\n      })\n      require([\"ace/ext-modelist\"], function() {\n\ton_load()\n      })\n      require([\"gridstack\"], function(GridStack) {\n\twindow.GridStack = GridStack\n\ton_load()\n      })\n      require([\"notyf\"], function() {\n\ton_load()\n      })\n      root._bokeh_is_loading = css_urls.length + 5;\n    } else {\n      root._bokeh_is_loading = css_urls.length + js_urls.length + js_modules.length;\n    }    if (((window['ace'] !== undefined) && (!(window['ace'] instanceof HTMLElement))) || window.requirejs) {\n      var urls = ['https://cdnjs.cloudflare.com/ajax/libs/ace/1.4.11/ace.js', 'https://cdnjs.cloudflare.com/ajax/libs/ace/1.4.11/ext-language_tools.js', 'https://cdnjs.cloudflare.com/ajax/libs/ace/1.4.11/ext-modelist.js'];\n      for (var i = 0; i < urls.length; i++) {\n        skip.push(urls[i])\n      }\n    }    if (((window['GridStack'] !== undefined) && (!(window['GridStack'] instanceof HTMLElement))) || window.requirejs) {\n      var urls = ['https://cdn.holoviz.org/panel/0.14.3/dist/bundled/gridstack/gridstack@4.2.5/dist/gridstack-h5.js'];\n      for (var i = 0; i < urls.length; i++) {\n        skip.push(urls[i])\n      }\n    }    if (((window['Notyf'] !== undefined) && (!(window['Notyf'] instanceof HTMLElement))) || window.requirejs) {\n      var urls = ['https://cdn.holoviz.org/panel/0.14.3/dist/bundled/notificationarea/notyf@3/notyf.min.js'];\n      for (var i = 0; i < urls.length; i++) {\n        skip.push(urls[i])\n      }\n    }    for (var i = 0; i < js_urls.length; i++) {\n      var url = js_urls[i];\n      if (skip.indexOf(url) >= 0) {\n\tif (!window.requirejs) {\n\t  on_load();\n\t}\n\tcontinue;\n      }\n      var element = document.createElement('script');\n      element.onload = on_load;\n      element.onerror = on_error;\n      element.async = false;\n      element.src = url;\n      console.debug(\"Bokeh: injecting script tag for BokehJS library: \", url);\n      document.head.appendChild(element);\n    }\n    for (var i = 0; i < js_modules.length; i++) {\n      var url = js_modules[i];\n      if (skip.indexOf(url) >= 0) {\n\tif (!window.requirejs) {\n\t  on_load();\n\t}\n\tcontinue;\n      }\n      var element = document.createElement('script');\n      element.onload = on_load;\n      element.onerror = on_error;\n      element.async = false;\n      element.src = url;\n      element.type = \"module\";\n      console.debug(\"Bokeh: injecting script tag for BokehJS library: \", url);\n      document.head.appendChild(element);\n    }\n    if (!js_urls.length && !js_modules.length) {\n      on_load()\n    }\n  };\n\n  function inject_raw_css(css) {\n    const element = document.createElement(\"style\");\n    element.appendChild(document.createTextNode(css));\n    document.body.appendChild(element);\n  }\n\n  var js_urls = [\"https://cdnjs.cloudflare.com/ajax/libs/ace/1.4.11/ace.js\", \"https://cdnjs.cloudflare.com/ajax/libs/ace/1.4.11/ext-language_tools.js\", \"https://cdnjs.cloudflare.com/ajax/libs/ace/1.4.11/ext-modelist.js\", \"https://cdn.bokeh.org/bokeh/release/bokeh-2.4.3.min.js\", \"https://cdn.bokeh.org/bokeh/release/bokeh-gl-2.4.3.min.js\", \"https://cdn.bokeh.org/bokeh/release/bokeh-widgets-2.4.3.min.js\", \"https://cdn.bokeh.org/bokeh/release/bokeh-tables-2.4.3.min.js\", \"https://cdn.bokeh.org/bokeh/release/bokeh-mathjax-2.4.3.min.js\", \"https://unpkg.com/@holoviz/panel@0.14.3/dist/panel.min.js\"];\n  var js_modules = [];\n  var css_urls = [\"https://cdn.holoviz.org/panel/0.14.3/dist/css/widgets.css\", \"https://cdn.holoviz.org/panel/0.14.3/dist/css/alerts.css\", \"https://cdn.holoviz.org/panel/0.14.3/dist/css/markdown.css\", \"https://cdn.holoviz.org/panel/0.14.3/dist/css/loading.css\", \"https://cdn.holoviz.org/panel/0.14.3/dist/css/card.css\", \"https://cdn.holoviz.org/panel/0.14.3/dist/css/debugger.css\", \"https://cdn.holoviz.org/panel/0.14.3/dist/css/dataframe.css\", \"https://cdn.holoviz.org/panel/0.14.3/dist/css/json.css\"];\n  var inline_js = [    function(Bokeh) {\n      inject_raw_css(\"/*\\n ~ CML // Creative Machine Learning ~\\n mml.css : CSS styling information for Panel and Bokeh\\n \\n This file defines the main CSS styling information for the CML course\\n \\n Author               :  Philippe Esling\\n                        <esling@ircam.fr>\\n*/\\n\\nbody {\\n  display: flex;\\n  height: 100vh;\\n  margin: 0px;\\n  overflow-x: hidden;\\n  overflow-y: hidden;\\n}\\n\\n.bk-root .bk, .bk-root .bk:before, .bk-root .bk:after {\\n  font-family: \\\"Josefin Sans\\\";\\n}\\n\\nimg {\\n  max-width: 100%;\\n}\\n\\n#container {\\n  padding:0px;\\n  height:100vh;\\n  width: 100vw;\\n  max-width: 100vw;\\n}\\n\\n#sidebar .mdc-list {\\n  padding-left: 5px;\\n  padding-right: 5px;\\n}\\n\\n.mdc-drawer-app-content {\\n  flex: auto;\\n  position: relative;\\n  overflow: hidden;\\n}\\n\\n.mdc-drawer {\\n  background: #FAFAFA; /* GRAY 50 */\\n}\\n\\n.mdc-drawer-app-content {\\n  margin-left: 0 !important;\\n}\\n\\n.title-bar {\\n  display: contents;\\n  justify-content: center;\\n  align-content: center;\\n  width: 100%;\\n}\\n\\n.mdc-top-app-bar .bk-menu {\\n  color: black\\n}\\n\\n.app-header {\\n  display: contents;\\n  padding-left: 10px;\\n  font-size: 1.25em;\\n}\\n\\nimg.app-logo {\\n  padding-right: 10px;\\n  font-size: 28px;\\n  height: 30px;\\n  max-width: inherit;\\n  padding-top: 12px;\\n  padding-bottom: 6px;\\n}\\n\\n#app-title {\\n  padding-right: 12px;\\n  padding-left: 12px;\\n}\\n\\n.title {\\n  font-family: \\\"Josefin Sans\\\";\\n  color: #fff;\\n  text-decoration: none;\\n  text-decoration-line: none;\\n  text-decoration-style: initial;\\n  text-decoration-color: initial;\\n  font-weight: 400;\\n  font-size: 2em;\\n  line-height: 2em;\\n  white-space: nowrap;\\n}\\n\\n.main-content {\\n  overflow-y: scroll;\\n  overflow-x: auto;\\n}\\n\\n#header {\\n  position: absolute;\\n  z-index: 7;\\n}\\n\\n#header-items {\\n  width: 100%;\\n  margin-left:15px;\\n}\\n\\n.pn-busy-container {\\n  align-items: center;\\n  justify-content: center;\\n  display: flex;\\n}\\n\\n.mdc-drawer__content {\\n  overflow-x: hidden;\\n}\\n.mdc-drawer__content, .main-content {\\n  padding: 12px;\\n}\\n\\n.main-content {\\n  height: calc(100vh - 88px);\\n  max-height: calc(100vh - 88px);\\n  padding-right: 32px;\\n}\\n\\nbutton.mdc-button.mdc-card-button {\\n  color: transparent;\\n  height: 50px;\\n}\\n\\np.bk.mdc-button {\\n  display: none;\\n}\\n\\ndiv.bk.mdc-card {\\n  border-radius: 0px\\n}\\n\\n.mdc-card .bk.card-header {\\n  display: flex;\\n}\\n\\n.bk.mdc-card-title {\\n  font-family: \\\"Josefin Sans\\\";\\n  font-weight: bold;\\n  align-items: center;\\n  display: flex !important;\\n  position: relative !important;\\n}\\n\\n.bk.mdc-card-title:nth-child(2) {\\n  margin-left: -1.4em;\\n}\\n\\n.pn-modal {\\n  overflow-y: scroll;\\n  width: 100%;\\n  display: none;\\n  position: absolute;\\n  top: 0;\\n  left: 0;\\n}\\n\\n.pn-modal-content {\\n  font-family: \\\"Josefin Sans\\\";\\n  background-color: #0e0e0e;\\n  margin: auto;\\n  margin-top: 25px;\\n  margin-bottom: 25px;\\n  padding: 15px 20px 20px 20px;\\n  border: 1px solid #888;\\n  width: 80% !important;\\n}\\n\\n.pn-modal-close {\\n  position: absolute;\\n  right: 25px;\\n  z-index: 100;\\n}\\n\\n.pn-modal-close:hover,\\n.pn-modal-close:focus {\\n  color: #000;\\n  text-decoration: none;\\n  cursor: pointer;\\n}\\n\\n.custom_button_bokeh button.bk.bk-btn.bk-btn-default {\\n    font-size:48pt;\\n    background-color: #05b7ff;\\n    border-color: #05b7ff;\\n}\");\n    },    function(Bokeh) {\n      inject_raw_css(\"\\n    .bk.pn-loading.arc:before {\\n      background-image: url(\\\"data:image/svg+xml;base64,PHN2ZyB4bWxucz0iaHR0cDovL3d3dy53My5vcmcvMjAwMC9zdmciIHN0eWxlPSJtYXJnaW46IGF1dG87IGJhY2tncm91bmQ6IG5vbmU7IGRpc3BsYXk6IGJsb2NrOyBzaGFwZS1yZW5kZXJpbmc6IGF1dG87IiB2aWV3Qm94PSIwIDAgMTAwIDEwMCIgcHJlc2VydmVBc3BlY3RSYXRpbz0ieE1pZFlNaWQiPiAgPGNpcmNsZSBjeD0iNTAiIGN5PSI1MCIgZmlsbD0ibm9uZSIgc3Ryb2tlPSIjYzNjM2MzIiBzdHJva2Utd2lkdGg9IjEwIiByPSIzNSIgc3Ryb2tlLWRhc2hhcnJheT0iMTY0LjkzMzYxNDMxMzQ2NDE1IDU2Ljk3Nzg3MTQzNzgyMTM4Ij4gICAgPGFuaW1hdGVUcmFuc2Zvcm0gYXR0cmlidXRlTmFtZT0idHJhbnNmb3JtIiB0eXBlPSJyb3RhdGUiIHJlcGVhdENvdW50PSJpbmRlZmluaXRlIiBkdXI9IjFzIiB2YWx1ZXM9IjAgNTAgNTA7MzYwIDUwIDUwIiBrZXlUaW1lcz0iMDsxIj48L2FuaW1hdGVUcmFuc2Zvcm0+ICA8L2NpcmNsZT48L3N2Zz4=\\\");\\n      background-size: auto calc(min(50%, 400px));\\n    }\\n    \");\n    },    function(Bokeh) {\n      Bokeh.set_log_level(\"info\");\n    },\nfunction(Bokeh) {} // ensure no trailing comma for IE\n  ];\n\n  function run_inline_js() {\n    if ((root.Bokeh !== undefined) || (force === true)) {\n      for (var i = 0; i < inline_js.length; i++) {\n        inline_js[i].call(root, root.Bokeh);\n      }} else if (Date.now() < root._bokeh_timeout) {\n      setTimeout(run_inline_js, 100);\n    } else if (!root._bokeh_failed_load) {\n      console.log(\"Bokeh: BokehJS failed to load within specified timeout.\");\n      root._bokeh_failed_load = true;\n    }\n  }\n\n  if (root._bokeh_is_loading === 0) {\n    console.debug(\"Bokeh: BokehJS loaded, going straight to plotting\");\n    run_inline_js();\n  } else {\n    load_libs(css_urls, js_urls, js_modules, function() {\n      console.debug(\"Bokeh: BokehJS plotting callback run at\", now());\n      run_inline_js();\n    });\n  }\n}(window));",
            "application/vnd.holoviews_load.v0+json": ""
          },
          "metadata": {},
          "output_type": "display_data"
        },
        {
          "data": {
            "application/javascript": "\nif ((window.PyViz === undefined) || (window.PyViz instanceof HTMLElement)) {\n  window.PyViz = {comms: {}, comm_status:{}, kernels:{}, receivers: {}, plot_index: []}\n}\n\n\n    function JupyterCommManager() {\n    }\n\n    JupyterCommManager.prototype.register_target = function(plot_id, comm_id, msg_handler) {\n      if (window.comm_manager || ((window.Jupyter !== undefined) && (Jupyter.notebook.kernel != null))) {\n        var comm_manager = window.comm_manager || Jupyter.notebook.kernel.comm_manager;\n        comm_manager.register_target(comm_id, function(comm) {\n          comm.on_msg(msg_handler);\n        });\n      } else if ((plot_id in window.PyViz.kernels) && (window.PyViz.kernels[plot_id])) {\n        window.PyViz.kernels[plot_id].registerCommTarget(comm_id, function(comm) {\n          comm.onMsg = msg_handler;\n        });\n      } else if (typeof google != 'undefined' && google.colab.kernel != null) {\n        google.colab.kernel.comms.registerTarget(comm_id, (comm) => {\n          var messages = comm.messages[Symbol.asyncIterator]();\n          function processIteratorResult(result) {\n            var message = result.value;\n            console.log(message)\n            var content = {data: message.data, comm_id};\n            var buffers = []\n            for (var buffer of message.buffers || []) {\n              buffers.push(new DataView(buffer))\n            }\n            var metadata = message.metadata || {};\n            var msg = {content, buffers, metadata}\n            msg_handler(msg);\n            return messages.next().then(processIteratorResult);\n          }\n          return messages.next().then(processIteratorResult);\n        })\n      }\n    }\n\n    JupyterCommManager.prototype.get_client_comm = function(plot_id, comm_id, msg_handler) {\n      if (comm_id in window.PyViz.comms) {\n        return window.PyViz.comms[comm_id];\n      } else if (window.comm_manager || ((window.Jupyter !== undefined) && (Jupyter.notebook.kernel != null))) {\n        var comm_manager = window.comm_manager || Jupyter.notebook.kernel.comm_manager;\n        var comm = comm_manager.new_comm(comm_id, {}, {}, {}, comm_id);\n        if (msg_handler) {\n          comm.on_msg(msg_handler);\n        }\n      } else if ((plot_id in window.PyViz.kernels) && (window.PyViz.kernels[plot_id])) {\n        var comm = window.PyViz.kernels[plot_id].connectToComm(comm_id);\n        comm.open();\n        if (msg_handler) {\n          comm.onMsg = msg_handler;\n        }\n      } else if (typeof google != 'undefined' && google.colab.kernel != null) {\n        var comm_promise = google.colab.kernel.comms.open(comm_id)\n        comm_promise.then((comm) => {\n          window.PyViz.comms[comm_id] = comm;\n          if (msg_handler) {\n            var messages = comm.messages[Symbol.asyncIterator]();\n            function processIteratorResult(result) {\n              var message = result.value;\n              var content = {data: message.data};\n              var metadata = message.metadata || {comm_id};\n              var msg = {content, metadata}\n              msg_handler(msg);\n              return messages.next().then(processIteratorResult);\n            }\n            return messages.next().then(processIteratorResult);\n          }\n        }) \n        var sendClosure = (data, metadata, buffers, disposeOnDone) => {\n          return comm_promise.then((comm) => {\n            comm.send(data, metadata, buffers, disposeOnDone);\n          });\n        };\n        var comm = {\n          send: sendClosure\n        };\n      }\n      window.PyViz.comms[comm_id] = comm;\n      return comm;\n    }\n    window.PyViz.comm_manager = new JupyterCommManager();\n    \n\n\nvar JS_MIME_TYPE = 'application/javascript';\nvar HTML_MIME_TYPE = 'text/html';\nvar EXEC_MIME_TYPE = 'application/vnd.holoviews_exec.v0+json';\nvar CLASS_NAME = 'output';\n\n/**\n * Render data to the DOM node\n */\nfunction render(props, node) {\n  var div = document.createElement(\"div\");\n  var script = document.createElement(\"script\");\n  node.appendChild(div);\n  node.appendChild(script);\n}\n\n/**\n * Handle when a new output is added\n */\nfunction handle_add_output(event, handle) {\n  var output_area = handle.output_area;\n  var output = handle.output;\n  if ((output.data == undefined) || (!output.data.hasOwnProperty(EXEC_MIME_TYPE))) {\n    return\n  }\n  var id = output.metadata[EXEC_MIME_TYPE][\"id\"];\n  var toinsert = output_area.element.find(\".\" + CLASS_NAME.split(' ')[0]);\n  if (id !== undefined) {\n    var nchildren = toinsert.length;\n    var html_node = toinsert[nchildren-1].children[0];\n    html_node.innerHTML = output.data[HTML_MIME_TYPE];\n    var scripts = [];\n    var nodelist = html_node.querySelectorAll(\"script\");\n    for (var i in nodelist) {\n      if (nodelist.hasOwnProperty(i)) {\n        scripts.push(nodelist[i])\n      }\n    }\n\n    scripts.forEach( function (oldScript) {\n      var newScript = document.createElement(\"script\");\n      var attrs = [];\n      var nodemap = oldScript.attributes;\n      for (var j in nodemap) {\n        if (nodemap.hasOwnProperty(j)) {\n          attrs.push(nodemap[j])\n        }\n      }\n      attrs.forEach(function(attr) { newScript.setAttribute(attr.name, attr.value) });\n      newScript.appendChild(document.createTextNode(oldScript.innerHTML));\n      oldScript.parentNode.replaceChild(newScript, oldScript);\n    });\n    if (JS_MIME_TYPE in output.data) {\n      toinsert[nchildren-1].children[1].textContent = output.data[JS_MIME_TYPE];\n    }\n    output_area._hv_plot_id = id;\n    if ((window.Bokeh !== undefined) && (id in Bokeh.index)) {\n      window.PyViz.plot_index[id] = Bokeh.index[id];\n    } else {\n      window.PyViz.plot_index[id] = null;\n    }\n  } else if (output.metadata[EXEC_MIME_TYPE][\"server_id\"] !== undefined) {\n    var bk_div = document.createElement(\"div\");\n    bk_div.innerHTML = output.data[HTML_MIME_TYPE];\n    var script_attrs = bk_div.children[0].attributes;\n    for (var i = 0; i < script_attrs.length; i++) {\n      toinsert[toinsert.length - 1].childNodes[1].setAttribute(script_attrs[i].name, script_attrs[i].value);\n    }\n    // store reference to server id on output_area\n    output_area._bokeh_server_id = output.metadata[EXEC_MIME_TYPE][\"server_id\"];\n  }\n}\n\n/**\n * Handle when an output is cleared or removed\n */\nfunction handle_clear_output(event, handle) {\n  var id = handle.cell.output_area._hv_plot_id;\n  var server_id = handle.cell.output_area._bokeh_server_id;\n  if (((id === undefined) || !(id in PyViz.plot_index)) && (server_id !== undefined)) { return; }\n  var comm = window.PyViz.comm_manager.get_client_comm(\"hv-extension-comm\", \"hv-extension-comm\", function () {});\n  if (server_id !== null) {\n    comm.send({event_type: 'server_delete', 'id': server_id});\n    return;\n  } else if (comm !== null) {\n    comm.send({event_type: 'delete', 'id': id});\n  }\n  delete PyViz.plot_index[id];\n  if ((window.Bokeh !== undefined) & (id in window.Bokeh.index)) {\n    var doc = window.Bokeh.index[id].model.document\n    doc.clear();\n    const i = window.Bokeh.documents.indexOf(doc);\n    if (i > -1) {\n      window.Bokeh.documents.splice(i, 1);\n    }\n  }\n}\n\n/**\n * Handle kernel restart event\n */\nfunction handle_kernel_cleanup(event, handle) {\n  delete PyViz.comms[\"hv-extension-comm\"];\n  window.PyViz.plot_index = {}\n}\n\n/**\n * Handle update_display_data messages\n */\nfunction handle_update_output(event, handle) {\n  handle_clear_output(event, {cell: {output_area: handle.output_area}})\n  handle_add_output(event, handle)\n}\n\nfunction register_renderer(events, OutputArea) {\n  function append_mime(data, metadata, element) {\n    // create a DOM node to render to\n    var toinsert = this.create_output_subarea(\n    metadata,\n    CLASS_NAME,\n    EXEC_MIME_TYPE\n    );\n    this.keyboard_manager.register_events(toinsert);\n    // Render to node\n    var props = {data: data, metadata: metadata[EXEC_MIME_TYPE]};\n    render(props, toinsert[0]);\n    element.append(toinsert);\n    return toinsert\n  }\n\n  events.on('output_added.OutputArea', handle_add_output);\n  events.on('output_updated.OutputArea', handle_update_output);\n  events.on('clear_output.CodeCell', handle_clear_output);\n  events.on('delete.Cell', handle_clear_output);\n  events.on('kernel_ready.Kernel', handle_kernel_cleanup);\n\n  OutputArea.prototype.register_mime_type(EXEC_MIME_TYPE, append_mime, {\n    safe: true,\n    index: 0\n  });\n}\n\nif (window.Jupyter !== undefined) {\n  try {\n    var events = require('base/js/events');\n    var OutputArea = require('notebook/js/outputarea').OutputArea;\n    if (OutputArea.prototype.mime_types().indexOf(EXEC_MIME_TYPE) == -1) {\n      register_renderer(events, OutputArea);\n    }\n  } catch(err) {\n  }\n}\n",
            "application/vnd.holoviews_load.v0+json": ""
          },
          "metadata": {},
          "output_type": "display_data"
        },
        {
          "data": {
            "text/html": [
              "<style>.bk-root, .bk-root .bk:before, .bk-root .bk:after {\n",
              "  font-family: var(--jp-ui-font-size1);\n",
              "  font-size: var(--jp-ui-font-size1);\n",
              "  color: var(--jp-ui-font-color1);\n",
              "}\n",
              "</style>"
            ]
          },
          "metadata": {},
          "output_type": "display_data"
        }
      ],
      "source": [
        "# Base imports\n",
        "import numpy as np\n",
        "import matplotlib.pyplot as plt\n",
        "from cml.plot import initialize_bokeh\n",
        "from cml.panel import initialize_panel\n",
        "from bokeh.io import show\n",
        "initialize_bokeh()\n",
        "initialize_panel()\n",
        "rng = np.random.RandomState(1)"
      ]
    },
    {
      "attachments": {},
      "cell_type": "markdown",
      "metadata": {
        "id": "sPsTI36Ef-pm"
      },
      "source": [
        "<a id=\"regression\"></a>\n",
        "## Simple learning problem\n",
        "\n",
        "Imagine that a certain process somewhere follows the form of a quadratic relationship\n",
        "\n",
        "$$\n",
        " y = a x^{2} + bx + c \n",
        "$$\n",
        "\n",
        "In this case, all the **unknown parameters** are that of a polynomial model, therefore we have $\\theta = \\{a, b, c\\}$. However, this is clearly an ideal (clean) case, whereas in natural observations, there might be some noise in our observations\n",
        "$$\n",
        " y = a x^{2} + bx + c +\\epsilon \\quad \\mbox{with} \\quad \\epsilon \\in [-0.1, 0.1]\n",
        "$$\n",
        "\n",
        "An example of such noisy observations for different parameters is given below"
      ]
    },
    {
      "cell_type": "code",
      "execution_count": 3,
      "metadata": {
        "id": "izNLSG2lf-pm"
      },
      "outputs": [],
      "source": [
        "# Parameters to our function\n",
        "eps = 0.1\n",
        "a, b, c = 3, 0, 1\n",
        "# Generating the corresponding data\n",
        "x = np.linspace(0, 1, 100)\n",
        "poly = np.poly1d([a, b, c])\n",
        "epsilon = np.random.uniform(-eps, eps, x.shape)\n",
        "y = poly(x) + epsilon"
      ]
    },
    {
      "cell_type": "code",
      "execution_count": 4,
      "metadata": {
        "colab": {
          "base_uri": "https://localhost:8080/",
          "height": 1000
        },
        "id": "gAbwL65gf-pn",
        "outputId": "c0116ed8-69d2-45e4-a3e6-27c3176658fb"
      },
      "outputs": [
        {
          "data": {},
          "metadata": {},
          "output_type": "display_data"
        },
        {
          "data": {
            "application/vnd.holoviews_exec.v0+json": "",
            "text/html": [
              "<div id='1061'>\n",
              "  <div class=\"bk-root\" id=\"a35dc453-ea41-4d60-af2b-bf8f01ebc257\" data-root-id=\"1061\"></div>\n",
              "</div>\n",
              "<script type=\"application/javascript\">(function(root) {\n",
              "  function embed_document(root) {\n",
              "    var docs_json = {\"522c10c7-a337-4821-b910-94d0c3a25a35\":{\"defs\":[{\"extends\":null,\"module\":null,\"name\":\"ReactiveHTML1\",\"overrides\":[],\"properties\":[]},{\"extends\":null,\"module\":null,\"name\":\"FlexBox1\",\"overrides\":[],\"properties\":[{\"default\":\"flex-start\",\"kind\":null,\"name\":\"align_content\"},{\"default\":\"flex-start\",\"kind\":null,\"name\":\"align_items\"},{\"default\":\"row\",\"kind\":null,\"name\":\"flex_direction\"},{\"default\":\"wrap\",\"kind\":null,\"name\":\"flex_wrap\"},{\"default\":\"flex-start\",\"kind\":null,\"name\":\"justify_content\"}]},{\"extends\":null,\"module\":null,\"name\":\"GridStack1\",\"overrides\":[],\"properties\":[{\"default\":\"warn\",\"kind\":null,\"name\":\"mode\"},{\"default\":null,\"kind\":null,\"name\":\"ncols\"},{\"default\":null,\"kind\":null,\"name\":\"nrows\"},{\"default\":true,\"kind\":null,\"name\":\"allow_resize\"},{\"default\":true,\"kind\":null,\"name\":\"allow_drag\"},{\"default\":[],\"kind\":null,\"name\":\"state\"}]},{\"extends\":null,\"module\":null,\"name\":\"click1\",\"overrides\":[],\"properties\":[{\"default\":\"\",\"kind\":null,\"name\":\"terminal_output\"},{\"default\":\"\",\"kind\":null,\"name\":\"debug_name\"},{\"default\":0,\"kind\":null,\"name\":\"clears\"}]},{\"extends\":null,\"module\":null,\"name\":\"NotificationAreaBase1\",\"overrides\":[],\"properties\":[{\"default\":\"bottom-right\",\"kind\":null,\"name\":\"position\"},{\"default\":0,\"kind\":null,\"name\":\"_clear\"}]},{\"extends\":null,\"module\":null,\"name\":\"NotificationArea1\",\"overrides\":[],\"properties\":[{\"default\":[],\"kind\":null,\"name\":\"notifications\"},{\"default\":\"bottom-right\",\"kind\":null,\"name\":\"position\"},{\"default\":0,\"kind\":null,\"name\":\"_clear\"},{\"default\":[{\"background\":\"#ffc107\",\"icon\":{\"className\":\"fas fa-exclamation-triangle\",\"color\":\"white\",\"tagName\":\"i\"},\"type\":\"warning\"},{\"background\":\"#007bff\",\"icon\":{\"className\":\"fas fa-info-circle\",\"color\":\"white\",\"tagName\":\"i\"},\"type\":\"info\"}],\"kind\":null,\"name\":\"types\"}]},{\"extends\":null,\"module\":null,\"name\":\"Notification\",\"overrides\":[],\"properties\":[{\"default\":null,\"kind\":null,\"name\":\"background\"},{\"default\":3000,\"kind\":null,\"name\":\"duration\"},{\"default\":null,\"kind\":null,\"name\":\"icon\"},{\"default\":\"\",\"kind\":null,\"name\":\"message\"},{\"default\":null,\"kind\":null,\"name\":\"notification_type\"},{\"default\":false,\"kind\":null,\"name\":\"_destroyed\"}]},{\"extends\":null,\"module\":null,\"name\":\"TemplateActions1\",\"overrides\":[],\"properties\":[{\"default\":0,\"kind\":null,\"name\":\"open_modal\"},{\"default\":0,\"kind\":null,\"name\":\"close_modal\"}]},{\"extends\":null,\"module\":null,\"name\":\"MaterialTemplateActions1\",\"overrides\":[],\"properties\":[{\"default\":0,\"kind\":null,\"name\":\"open_modal\"},{\"default\":0,\"kind\":null,\"name\":\"close_modal\"}]}],\"roots\":{\"references\":[{\"attributes\":{},\"id\":\"1010\",\"type\":\"LinearScale\"},{\"attributes\":{\"client_comm_id\":\"e9e594d5e06f42ff87d1b306dbe63650\",\"comm_id\":\"0ea102b569524fffbf92d3179ed8de17\",\"plot_id\":\"1061\"},\"id\":\"1119\",\"type\":\"panel.models.comm_manager.CommManager\"},{\"attributes\":{},\"id\":\"1008\",\"type\":\"DataRange1d\"},{\"attributes\":{\"axis_label\":\"x\",\"axis_label_standoff\":10,\"axis_label_text_color\":\"#FFFFFF\",\"axis_label_text_font\":\"Josefin Sans\",\"axis_label_text_font_size\":\"1.9em\",\"axis_label_text_font_style\":\"bold\",\"axis_line_alpha\":0.4,\"axis_line_color\":\"#E0E0E0\",\"coordinates\":null,\"formatter\":{\"id\":\"1048\"},\"group\":null,\"major_label_policy\":{\"id\":\"1049\"},\"major_label_text_color\":\"#E0E0E0\",\"major_label_text_font\":\"Josefin Sans\",\"major_label_text_font_size\":\"1.15em\",\"major_tick_line_alpha\":0.4,\"major_tick_line_color\":\"#E0E0E0\",\"minor_tick_line_alpha\":0.4,\"minor_tick_line_color\":\"#E0E0E0\",\"ticker\":{\"id\":\"1015\"}},\"id\":\"1014\",\"type\":\"LinearAxis\"},{\"attributes\":{\"axis_label\":\"y\",\"axis_label_standoff\":10,\"axis_label_text_color\":\"#FFFFFF\",\"axis_label_text_font\":\"Josefin Sans\",\"axis_label_text_font_size\":\"1.9em\",\"axis_label_text_font_style\":\"bold\",\"axis_line_alpha\":0.4,\"axis_line_color\":\"#E0E0E0\",\"coordinates\":null,\"formatter\":{\"id\":\"1045\"},\"group\":null,\"major_label_policy\":{\"id\":\"1046\"},\"major_label_text_color\":\"#E0E0E0\",\"major_label_text_font\":\"Josefin Sans\",\"major_label_text_font_size\":\"1.15em\",\"major_tick_line_alpha\":0.4,\"major_tick_line_color\":\"#E0E0E0\",\"minor_tick_line_alpha\":0.4,\"minor_tick_line_color\":\"#E0E0E0\",\"ticker\":{\"id\":\"1019\"}},\"id\":\"1018\",\"type\":\"LinearAxis\"},{\"attributes\":{\"background_fill_alpha\":0.9,\"background_fill_color\":\"#0f0f0f\",\"below\":[{\"id\":\"1014\"}],\"border_fill_alpha\":0.8,\"border_fill_color\":\"#111111\",\"center\":[{\"id\":\"1017\"},{\"id\":\"1021\"},{\"id\":\"1053\"}],\"height\":450,\"left\":[{\"id\":\"1018\"}],\"outline_line_alpha\":0.25,\"outline_line_color\":\"#E0E0E0\",\"outline_line_width\":3,\"renderers\":[{\"id\":\"1041\"}],\"title\":{\"id\":\"1004\"},\"toolbar\":{\"id\":\"1029\"},\"toolbar_location\":\"left\",\"x_range\":{\"id\":\"1006\"},\"x_scale\":{\"id\":\"1010\"},\"y_range\":{\"id\":\"1008\"},\"y_scale\":{\"id\":\"1012\"}},\"id\":\"1003\",\"subtype\":\"Figure\",\"type\":\"Plot\"},{\"attributes\":{\"reload\":false},\"id\":\"1153\",\"type\":\"panel.models.location.Location\"},{\"attributes\":{},\"id\":\"1015\",\"type\":\"BasicTicker\"},{\"attributes\":{\"coordinates\":null,\"group\":null,\"text\":\"Simple quadratic problem\",\"text_color\":\"#E0E0E0\",\"text_font\":\"Josefin Sans\",\"text_font_size\":\"2.1em\"},\"id\":\"1004\",\"type\":\"Title\"},{\"attributes\":{\"overlay\":{\"id\":\"1028\"}},\"id\":\"1024\",\"type\":\"BoxZoomTool\"},{\"attributes\":{},\"id\":\"1045\",\"type\":\"BasicTickFormatter\"},{\"attributes\":{},\"id\":\"1027\",\"type\":\"HelpTool\"},{\"attributes\":{},\"id\":\"1022\",\"type\":\"PanTool\"},{\"attributes\":{\"bottom_units\":\"screen\",\"coordinates\":null,\"fill_alpha\":0.5,\"fill_color\":\"lightgrey\",\"group\":null,\"left_units\":\"screen\",\"level\":\"overlay\",\"line_alpha\":1.0,\"line_color\":\"black\",\"line_dash\":[4,4],\"line_width\":2,\"right_units\":\"screen\",\"syncable\":false,\"top_units\":\"screen\"},\"id\":\"1073\",\"type\":\"BoxAnnotation\"},{\"attributes\":{\"coordinates\":null,\"data_source\":{\"id\":\"1036\"},\"glyph\":{\"id\":\"1037\"},\"group\":null,\"hover_glyph\":{\"id\":\"1039\"},\"muted_glyph\":{\"id\":\"1040\"},\"nonselection_glyph\":{\"id\":\"1058\"},\"selection_glyph\":{\"id\":\"1057\"},\"view\":{\"id\":\"1042\"}},\"id\":\"1041\",\"type\":\"GlyphRenderer\"},{\"attributes\":{},\"id\":\"1050\",\"type\":\"UnionRenderers\"},{\"attributes\":{},\"id\":\"1006\",\"type\":\"DataRange1d\"},{\"attributes\":{},\"id\":\"1046\",\"type\":\"AllLabels\"},{\"attributes\":{\"fill_alpha\":{\"value\":0.8},\"fill_color\":{\"value\":\"red\"},\"line_color\":{\"value\":\"white\"}},\"id\":\"1057\",\"type\":\"Circle\"},{\"attributes\":{},\"id\":\"1026\",\"type\":\"ResetTool\"},{\"attributes\":{\"label\":{\"value\":\"Observations\"},\"renderers\":[{\"id\":\"1041\"}]},\"id\":\"1054\",\"type\":\"LegendItem\"},{\"attributes\":{},\"id\":\"1051\",\"type\":\"Selection\"},{\"attributes\":{\"data\":{\"x\":{\"__ndarray__\":\"AAAAAAAAAABbv1Kg1q+EP1u/UqDWr5Q/CB988MEHnz9bv1Kg1q+kPzJvZ0jM26k/CB988MEHrz9wZ0jM2xmyP1u/UqDWr7Q/RhdddNFFtz8yb2dIzNu5Px3HcRzHcbw/CB988MEHvz96O0Ni3s7AP3BnSMzbGcI/ZZNNNtlkwz9bv1Kg1q/EP1HrVwrU+sU/RhdddNFFxz88Q2LezpDIPzJvZ0jM28k/J5tssskmyz8dx3Ecx3HMPxPzdobEvM0/CB988MEHzz9/pUCtXynQP3o7Q2LeztA/ddFFF1100T9wZ0jM2xnSP2r9SoFav9I/ZZNNNtlk0z9gKVDrVwrUP1u/UqDWr9Q/VlVVVVVV1T9R61cK1PrVP0yBWr9SoNY/RhdddNFF1z9BrV8pUOvXPzxDYt7OkNg/N9lkk0022T8yb2dIzNvZPy0Fav1Kgdo/J5tssskm2z8iMW9nSMzbPx3HcRzHcdw/GF100UUX3T8T83aGxLzdPw6JeTtDYt4/CB988MEH3z8DtX6lQK3fP3+lQK1fKeA/ffDBBx984D96O0Ni3s7gP3eGxLydIeE/ddFFF1104T9yHMdxHMfhP3BnSMzbGeI/bbLJJpts4j9q/UqBWr/iP2hIzNsZEuM/ZZNNNtlk4z9j3s6QmLfjP2ApUOtXCuQ/XnTRRRdd5D9bv1Kg1q/kP1gK1PqVAuU/VlVVVVVV5T9ToNavFKjlP1HrVwrU+uU/TjbZZJNN5j9MgVq/UqDmP0nM2xkS8+Y/RhdddNFF5z9EYt7OkJjnP0GtXylQ6+c/P/jggw8+6D88Q2LezpDoPzmO4ziO4+g/N9lkk0026T80JObtDInpPzJvZ0jM2+k/L7rooosu6j8tBWr9SoHqPypQ61cK1Oo/J5tssskm6z8l5u0MiXnrPyIxb2dIzOs/IHzwwQcf7D8dx3Ecx3HsPxsS83aGxOw/GF100UUX7T8VqPUrBWrtPxPzdobEvO0/ED744IMP7j8OiXk7Q2LuPwvU+pUCte4/CB988MEH7z8Gav1KgVrvPwO1fqVAre8/AAAAAAAA8D8=\",\"dtype\":\"float64\",\"order\":\"little\",\"shape\":[100]},\"y\":{\"__ndarray__\":\"pFUDRBIc8T/mIanwnGDwP9e/tus+/vA/hE5LsvYL7j8ixINxWwPxP4jq5L7YWe0/RXfiQwS+8T+0h3yN0mzxP4v9WR4C9fA/DaaPdUA38T9nwvKUCgfvP/OTHTCPivA/mJNaw9JY8T8sXg9/MQjwPxa6005u9/A/sXShqM068D+D0HithNnwP7AUjuXisPE/hYoch54D8D8efcGyPc/wP1VAWB8TifI/K5wvttmv8z+/ChYscyLzP1PCpYpzcvI/+OYkxEVS9D8Oyy9TXDzyP0crV96OCfQ/pyaPwvbU8j88LGD6XX3zPwErs81JjvI/GfzjavLt8j9/L+R5sP/zP0rq6pzFevU/PoOuj8MT9j/GhRYCdK32P/RX/MocA/Y/xG0L4Y519z/GsrG87Bz3P8VdBxP+yPU/ajP14VyX+D/J69+e+b/3P4fUs3SJC/g/mGJddXto+T9XIa9BOmf6PxKoUh9zPvg/CWLzDlDa+j+eKKpk+Hn7P/pSmRbmZ/s/YIALyOTR+j/b66P3EqP7PxERkf6kpv0/LS9aCHRF/j/2iPWUb2v8P/LP9X0RuP4/N9Pg/Yrt/j85y2jshI7+Pyn4st1rJv4/FJagUDuu/z8qQD98Es4AQKmGzvduBQFAtpHCYbaLAEAj4QP+QukAQB890VdbAwJATbO42EulAUCycOodCO8BQNXdzWxFIgNAUrOIXjhPAkAzSFiGybkCQKgGhIcnngNABaBJvrFUA0BTnvtrhU8EQBAYqhbTxARAx5emEh+/BEBLYTsJ42sEQC8U6cUmYQVAQDcI9WMkBkBhacIofOkFQPCcn+YzDAdAs2KIDtnTBkBG8DdVg9UHQGFn6ruU7gZANLypw8hxB0DUiHW7ecAIQAdV248BFAlAqxFzBcn7CUDA49RJ5b8JQBYWYIvVbAlAp4KYTyAWCkDFwwxjWpYLQOGS2SB9EwtApt2A+sxIC0DyIq1Yr8sMQEwI+BOGKAxAmDHcbuJaDUC0sGZamWENQNDh/iK4Vw5AAli08kcWD0B0RpRZ9cEPQB8OU7ga7w5AYeGzBcR3D0A=\",\"dtype\":\"float64\",\"order\":\"little\",\"shape\":[100]}},\"selected\":{\"id\":\"1051\"},\"selection_policy\":{\"id\":\"1050\"}},\"id\":\"1036\",\"type\":\"ColumnDataSource\"},{\"attributes\":{\"mode\":\"append\",\"overlay\":{\"id\":\"1073\"},\"renderers\":[{\"id\":\"1041\"}]},\"id\":\"1059\",\"type\":\"BoxSelectTool\"},{\"attributes\":{\"fill_alpha\":{\"value\":0.2},\"fill_color\":{\"value\":\"midnightblue\"},\"hatch_alpha\":{\"value\":0.2},\"line_alpha\":{\"value\":0.2},\"line_color\":{\"value\":\"white\"},\"size\":{\"value\":10},\"x\":{\"field\":\"x\"},\"y\":{\"field\":\"y\"}},\"id\":\"1040\",\"type\":\"Circle\"},{\"attributes\":{\"axis\":{\"id\":\"1018\"},\"coordinates\":null,\"dimension\":1,\"grid_line_alpha\":0.15,\"grid_line_color\":\"#E0E0E0\",\"group\":null,\"ticker\":null},\"id\":\"1021\",\"type\":\"Grid\"},{\"attributes\":{},\"id\":\"1023\",\"type\":\"WheelZoomTool\"},{\"attributes\":{\"callback\":null,\"mode\":\"vline\",\"renderers\":[{\"id\":\"1041\"}],\"tooltips\":null},\"id\":\"1055\",\"type\":\"HoverTool\"},{\"attributes\":{\"tools\":[{\"id\":\"1022\"},{\"id\":\"1023\"},{\"id\":\"1024\"},{\"id\":\"1025\"},{\"id\":\"1026\"},{\"id\":\"1027\"},{\"id\":\"1055\"},{\"id\":\"1059\"}]},\"id\":\"1029\",\"type\":\"Toolbar\"},{\"attributes\":{\"background_fill_alpha\":0.25,\"background_fill_color\":\"#505050\",\"border_line_alpha\":0.25,\"coordinates\":null,\"group\":null,\"items\":[{\"id\":\"1054\"}],\"label_standoff\":8,\"label_text_color\":\"#E0E0E0\",\"label_text_font\":\"Josefin Sans\",\"label_text_font_size\":\"1.15em\",\"spacing\":8},\"id\":\"1053\",\"type\":\"Legend\"},{\"attributes\":{\"fill_alpha\":{\"value\":0.25},\"fill_color\":{\"value\":\"midnightblue\"},\"hatch_alpha\":{\"value\":0.25},\"line_alpha\":{\"value\":0.25},\"line_color\":{\"value\":\"white\"},\"size\":{\"value\":10},\"x\":{\"field\":\"x\"},\"y\":{\"field\":\"y\"}},\"id\":\"1037\",\"type\":\"Circle\"},{\"attributes\":{},\"id\":\"1012\",\"type\":\"LinearScale\"},{\"attributes\":{},\"id\":\"1048\",\"type\":\"BasicTickFormatter\"},{\"attributes\":{\"fill_alpha\":{\"value\":0.5},\"fill_color\":{\"value\":\"midnightblue\"},\"line_color\":{\"value\":\"white\"}},\"id\":\"1058\",\"type\":\"Circle\"},{\"attributes\":{},\"id\":\"1019\",\"type\":\"BasicTicker\"},{\"attributes\":{\"source\":{\"id\":\"1036\"}},\"id\":\"1042\",\"type\":\"CDSView\"},{\"attributes\":{},\"id\":\"1049\",\"type\":\"AllLabels\"},{\"attributes\":{},\"id\":\"1025\",\"type\":\"SaveTool\"},{\"attributes\":{\"bottom_units\":\"screen\",\"coordinates\":null,\"fill_alpha\":0.5,\"fill_color\":\"lightgrey\",\"group\":null,\"left_units\":\"screen\",\"level\":\"overlay\",\"line_alpha\":1.0,\"line_color\":\"black\",\"line_dash\":[4,4],\"line_width\":2,\"right_units\":\"screen\",\"syncable\":false,\"top_units\":\"screen\"},\"id\":\"1028\",\"type\":\"BoxAnnotation\"},{\"attributes\":{\"children\":[{\"id\":\"1062\"},{\"id\":\"1003\"},{\"id\":\"1085\"}],\"margin\":[0,0,0,0],\"name\":\"Row00105\"},\"id\":\"1061\",\"type\":\"Row\"},{\"attributes\":{\"fill_alpha\":{\"value\":0.5},\"fill_color\":{\"value\":\"red\"},\"hatch_alpha\":{\"value\":0.5},\"line_alpha\":{\"value\":0.5},\"line_color\":{\"value\":\"white\"},\"size\":{\"value\":10},\"x\":{\"field\":\"x\"},\"y\":{\"field\":\"y\"}},\"id\":\"1039\",\"type\":\"Circle\"},{\"attributes\":{\"axis\":{\"id\":\"1014\"},\"coordinates\":null,\"grid_line_alpha\":0.15,\"grid_line_color\":\"#E0E0E0\",\"group\":null,\"ticker\":null},\"id\":\"1017\",\"type\":\"Grid\"},{\"attributes\":{\"margin\":[5,5,5,5],\"name\":\"HSpacer00102\",\"sizing_mode\":\"stretch_width\"},\"id\":\"1085\",\"type\":\"Spacer\"},{\"attributes\":{\"margin\":[5,5,5,5],\"name\":\"HSpacer00101\",\"sizing_mode\":\"stretch_width\"},\"id\":\"1062\",\"type\":\"Spacer\"}],\"root_ids\":[\"1061\",\"1119\",\"1153\"]},\"title\":\"Bokeh Application\",\"version\":\"2.4.3\"}};\n",
              "    var render_items = [{\"docid\":\"522c10c7-a337-4821-b910-94d0c3a25a35\",\"root_ids\":[\"1061\"],\"roots\":{\"1061\":\"a35dc453-ea41-4d60-af2b-bf8f01ebc257\"}}];\n",
              "    root.Bokeh.embed.embed_items_notebook(docs_json, render_items);\n",
              "    for (const render_item of render_items) {\n",
              "      for (const root_id of render_item.root_ids) {\n",
              "\tconst id_el = document.getElementById(root_id)\n",
              "\tif (id_el.children.length && (id_el.children[0].className === 'bk-root')) {\n",
              "\t  const root_el = id_el.children[0]\n",
              "\t  root_el.id = root_el.id + '-rendered'\n",
              "\t}\n",
              "      }\n",
              "    }\n",
              "  }\n",
              "  if (root.Bokeh !== undefined && root.Bokeh.Panel !== undefined) {\n",
              "    embed_document(root);\n",
              "  } else {\n",
              "    var attempts = 0;\n",
              "    var timer = setInterval(function(root) {\n",
              "      if (root.Bokeh !== undefined && root.Bokeh.Panel !== undefined) {\n",
              "        clearInterval(timer);\n",
              "        embed_document(root);\n",
              "      } else if (document.readyState == \"complete\") {\n",
              "        attempts++;\n",
              "        if (attempts > 200) {\n",
              "          clearInterval(timer);\n",
              "          console.log(\"Bokeh: ERROR: Unable to run BokehJS code because BokehJS library is missing\");\n",
              "        }\n",
              "      }\n",
              "    }, 25, root)\n",
              "  }\n",
              "})(window);</script>"
            ],
            "text/plain": [
              "Row\n",
              "    [0] HSpacer()\n",
              "    [1] Bokeh(Figure)\n",
              "    [2] HSpacer()"
            ]
          },
          "execution_count": 4,
          "metadata": {
            "application/vnd.holoviews_exec.v0+json": {
              "id": "1061"
            }
          },
          "output_type": "execute_result"
        }
      ],
      "source": [
        "from cml.plot import center_plot, scatter\n",
        "plot = (center_plot(scatter(x, y, title=\"Simple quadratic problem\", toolbar_location=\"left\")))\n",
        "plot"
      ]
    },
    {
      "attachments": {},
      "cell_type": "markdown",
      "metadata": {
        "id": "p6rs3S0Tf-pn"
      },
      "source": [
        "Now our main problem is that this function can follow different types of parameters"
      ]
    },
    {
      "cell_type": "code",
      "execution_count": 5,
      "metadata": {
        "id": "ejw48Aq_f-pn"
      },
      "outputs": [],
      "source": [
        "params = [[5, -5, 4], [-2, 1, 0], [0.1, 1, 1]]\n",
        "# Generating the x axis\n",
        "x = np.linspace(0, 1, 100)\n",
        "plots = []\n",
        "for p in range(len(params)):\n",
        "    poly = np.poly1d(params[p])\n",
        "    epsilon = np.random.uniform(-eps, eps, x.shape)\n",
        "    y = poly(x) + epsilon\n",
        "    plots.append(scatter(x, y, title=\"Problem \"+(str(p+1))))"
      ]
    },
    {
      "cell_type": "code",
      "execution_count": 6,
      "metadata": {
        "colab": {
          "base_uri": "https://localhost:8080/"
        },
        "id": "Oe-dCD2kljKA",
        "outputId": "e9f13fe7-2426-4941-cba6-a1bde719c7d8"
      },
      "outputs": [
        {
          "data": {
            "text/plain": [
              "3"
            ]
          },
          "execution_count": 6,
          "metadata": {},
          "output_type": "execute_result"
        }
      ],
      "source": [
        "len(plots)"
      ]
    },
    {
      "cell_type": "code",
      "execution_count": 7,
      "metadata": {
        "colab": {
          "base_uri": "https://localhost:8080/",
          "height": 1000
        },
        "id": "KGzEtu-If-po",
        "outputId": "148bdf88-2ee0-4661-e258-00aba73db6b8"
      },
      "outputs": [
        {
          "data": {},
          "metadata": {},
          "output_type": "display_data"
        },
        {
          "data": {
            "application/vnd.holoviews_exec.v0+json": "",
            "text/html": [
              "<div id='1364'>\n",
              "  <div class=\"bk-root\" id=\"d7eaeca0-4362-4f9a-b4ea-eaf6e24628b5\" data-root-id=\"1364\"></div>\n",
              "</div>\n",
              "<script type=\"application/javascript\">(function(root) {\n",
              "  function embed_document(root) {\n",
              "    var docs_json = {\"a8ad2a67-acb3-4f22-a36c-da953b579461\":{\"defs\":[{\"extends\":null,\"module\":null,\"name\":\"ReactiveHTML1\",\"overrides\":[],\"properties\":[]},{\"extends\":null,\"module\":null,\"name\":\"FlexBox1\",\"overrides\":[],\"properties\":[{\"default\":\"flex-start\",\"kind\":null,\"name\":\"align_content\"},{\"default\":\"flex-start\",\"kind\":null,\"name\":\"align_items\"},{\"default\":\"row\",\"kind\":null,\"name\":\"flex_direction\"},{\"default\":\"wrap\",\"kind\":null,\"name\":\"flex_wrap\"},{\"default\":\"flex-start\",\"kind\":null,\"name\":\"justify_content\"}]},{\"extends\":null,\"module\":null,\"name\":\"GridStack1\",\"overrides\":[],\"properties\":[{\"default\":\"warn\",\"kind\":null,\"name\":\"mode\"},{\"default\":null,\"kind\":null,\"name\":\"ncols\"},{\"default\":null,\"kind\":null,\"name\":\"nrows\"},{\"default\":true,\"kind\":null,\"name\":\"allow_resize\"},{\"default\":true,\"kind\":null,\"name\":\"allow_drag\"},{\"default\":[],\"kind\":null,\"name\":\"state\"}]},{\"extends\":null,\"module\":null,\"name\":\"click1\",\"overrides\":[],\"properties\":[{\"default\":\"\",\"kind\":null,\"name\":\"terminal_output\"},{\"default\":\"\",\"kind\":null,\"name\":\"debug_name\"},{\"default\":0,\"kind\":null,\"name\":\"clears\"}]},{\"extends\":null,\"module\":null,\"name\":\"NotificationAreaBase1\",\"overrides\":[],\"properties\":[{\"default\":\"bottom-right\",\"kind\":null,\"name\":\"position\"},{\"default\":0,\"kind\":null,\"name\":\"_clear\"}]},{\"extends\":null,\"module\":null,\"name\":\"NotificationArea1\",\"overrides\":[],\"properties\":[{\"default\":[],\"kind\":null,\"name\":\"notifications\"},{\"default\":\"bottom-right\",\"kind\":null,\"name\":\"position\"},{\"default\":0,\"kind\":null,\"name\":\"_clear\"},{\"default\":[{\"background\":\"#ffc107\",\"icon\":{\"className\":\"fas fa-exclamation-triangle\",\"color\":\"white\",\"tagName\":\"i\"},\"type\":\"warning\"},{\"background\":\"#007bff\",\"icon\":{\"className\":\"fas fa-info-circle\",\"color\":\"white\",\"tagName\":\"i\"},\"type\":\"info\"}],\"kind\":null,\"name\":\"types\"}]},{\"extends\":null,\"module\":null,\"name\":\"Notification\",\"overrides\":[],\"properties\":[{\"default\":null,\"kind\":null,\"name\":\"background\"},{\"default\":3000,\"kind\":null,\"name\":\"duration\"},{\"default\":null,\"kind\":null,\"name\":\"icon\"},{\"default\":\"\",\"kind\":null,\"name\":\"message\"},{\"default\":null,\"kind\":null,\"name\":\"notification_type\"},{\"default\":false,\"kind\":null,\"name\":\"_destroyed\"}]},{\"extends\":null,\"module\":null,\"name\":\"TemplateActions1\",\"overrides\":[],\"properties\":[{\"default\":0,\"kind\":null,\"name\":\"open_modal\"},{\"default\":0,\"kind\":null,\"name\":\"close_modal\"}]},{\"extends\":null,\"module\":null,\"name\":\"MaterialTemplateActions1\",\"overrides\":[],\"properties\":[{\"default\":0,\"kind\":null,\"name\":\"open_modal\"},{\"default\":0,\"kind\":null,\"name\":\"close_modal\"}]}],\"roots\":{\"references\":[{\"attributes\":{},\"id\":\"1350\",\"type\":\"UnionRenderers\"},{\"attributes\":{\"margin\":[5,5,5,5],\"name\":\"HSpacer00109\",\"sizing_mode\":\"stretch_width\"},\"id\":\"1365\",\"type\":\"Spacer\"},{\"attributes\":{},\"id\":\"1292\",\"type\":\"UnionRenderers\"},{\"attributes\":{\"axis_label\":\"y\",\"axis_label_standoff\":10,\"axis_label_text_color\":\"#FFFFFF\",\"axis_label_text_font\":\"Josefin Sans\",\"axis_label_text_font_size\":\"1.9em\",\"axis_label_text_font_style\":\"bold\",\"axis_line_alpha\":0.4,\"axis_line_color\":\"#E0E0E0\",\"coordinates\":null,\"formatter\":{\"id\":\"1345\"},\"group\":null,\"major_label_policy\":{\"id\":\"1346\"},\"major_label_text_color\":\"#E0E0E0\",\"major_label_text_font\":\"Josefin Sans\",\"major_label_text_font_size\":\"1.15em\",\"major_tick_line_alpha\":0.4,\"major_tick_line_color\":\"#E0E0E0\",\"minor_tick_line_alpha\":0.4,\"minor_tick_line_color\":\"#E0E0E0\",\"ticker\":{\"id\":\"1319\"}},\"id\":\"1318\",\"type\":\"LinearAxis\"},{\"attributes\":{},\"id\":\"1211\",\"type\":\"HelpTool\"},{\"attributes\":{},\"id\":\"1257\",\"type\":\"BasicTicker\"},{\"attributes\":{\"fill_alpha\":{\"value\":0.5},\"fill_color\":{\"value\":\"red\"},\"hatch_alpha\":{\"value\":0.5},\"line_alpha\":{\"value\":0.5},\"line_color\":{\"value\":\"white\"},\"size\":{\"value\":10},\"x\":{\"field\":\"x\"},\"y\":{\"field\":\"y\"}},\"id\":\"1339\",\"type\":\"Circle\"},{\"attributes\":{\"coordinates\":null,\"group\":null,\"text\":\"Problem 2\",\"text_color\":\"#E0E0E0\",\"text_font\":\"Josefin Sans\",\"text_font_size\":\"2.1em\"},\"id\":\"1246\",\"type\":\"Title\"},{\"attributes\":{},\"id\":\"1206\",\"type\":\"PanTool\"},{\"attributes\":{},\"id\":\"1210\",\"type\":\"ResetTool\"},{\"attributes\":{\"axis_label\":\"x\",\"axis_label_standoff\":10,\"axis_label_text_color\":\"#FFFFFF\",\"axis_label_text_font\":\"Josefin Sans\",\"axis_label_text_font_size\":\"1.9em\",\"axis_label_text_font_style\":\"bold\",\"axis_line_alpha\":0.4,\"axis_line_color\":\"#E0E0E0\",\"coordinates\":null,\"formatter\":{\"id\":\"1290\"},\"group\":null,\"major_label_policy\":{\"id\":\"1291\"},\"major_label_text_color\":\"#E0E0E0\",\"major_label_text_font\":\"Josefin Sans\",\"major_label_text_font_size\":\"1.15em\",\"major_tick_line_alpha\":0.4,\"major_tick_line_color\":\"#E0E0E0\",\"minor_tick_line_alpha\":0.4,\"minor_tick_line_color\":\"#E0E0E0\",\"ticker\":{\"id\":\"1257\"}},\"id\":\"1256\",\"type\":\"LinearAxis\"},{\"attributes\":{\"axis_label\":\"y\",\"axis_label_standoff\":10,\"axis_label_text_color\":\"#FFFFFF\",\"axis_label_text_font\":\"Josefin Sans\",\"axis_label_text_font_size\":\"1.9em\",\"axis_label_text_font_style\":\"bold\",\"axis_line_alpha\":0.4,\"axis_line_color\":\"#E0E0E0\",\"coordinates\":null,\"formatter\":{\"id\":\"1287\"},\"group\":null,\"major_label_policy\":{\"id\":\"1288\"},\"major_label_text_color\":\"#E0E0E0\",\"major_label_text_font\":\"Josefin Sans\",\"major_label_text_font_size\":\"1.15em\",\"major_tick_line_alpha\":0.4,\"major_tick_line_color\":\"#E0E0E0\",\"minor_tick_line_alpha\":0.4,\"minor_tick_line_color\":\"#E0E0E0\",\"ticker\":{\"id\":\"1261\"}},\"id\":\"1260\",\"type\":\"LinearAxis\"},{\"attributes\":{\"axis\":{\"id\":\"1318\"},\"coordinates\":null,\"dimension\":1,\"grid_line_alpha\":0.15,\"grid_line_color\":\"#E0E0E0\",\"group\":null,\"ticker\":null},\"id\":\"1321\",\"type\":\"Grid\"},{\"attributes\":{},\"id\":\"1254\",\"type\":\"LinearScale\"},{\"attributes\":{\"axis_label\":\"y\",\"axis_label_standoff\":10,\"axis_label_text_color\":\"#FFFFFF\",\"axis_label_text_font\":\"Josefin Sans\",\"axis_label_text_font_size\":\"1.9em\",\"axis_label_text_font_style\":\"bold\",\"axis_line_alpha\":0.4,\"axis_line_color\":\"#E0E0E0\",\"coordinates\":null,\"formatter\":{\"id\":\"1229\"},\"group\":null,\"major_label_policy\":{\"id\":\"1230\"},\"major_label_text_color\":\"#E0E0E0\",\"major_label_text_font\":\"Josefin Sans\",\"major_label_text_font_size\":\"1.15em\",\"major_tick_line_alpha\":0.4,\"major_tick_line_color\":\"#E0E0E0\",\"minor_tick_line_alpha\":0.4,\"minor_tick_line_color\":\"#E0E0E0\",\"ticker\":{\"id\":\"1203\"}},\"id\":\"1202\",\"type\":\"LinearAxis\"},{\"attributes\":{},\"id\":\"1319\",\"type\":\"BasicTicker\"},{\"attributes\":{\"axis\":{\"id\":\"1256\"},\"coordinates\":null,\"grid_line_alpha\":0.15,\"grid_line_color\":\"#E0E0E0\",\"group\":null,\"ticker\":null},\"id\":\"1259\",\"type\":\"Grid\"},{\"attributes\":{\"data\":{\"x\":{\"__ndarray__\":\"AAAAAAAAAABbv1Kg1q+EP1u/UqDWr5Q/CB988MEHnz9bv1Kg1q+kPzJvZ0jM26k/CB988MEHrz9wZ0jM2xmyP1u/UqDWr7Q/RhdddNFFtz8yb2dIzNu5Px3HcRzHcbw/CB988MEHvz96O0Ni3s7AP3BnSMzbGcI/ZZNNNtlkwz9bv1Kg1q/EP1HrVwrU+sU/RhdddNFFxz88Q2LezpDIPzJvZ0jM28k/J5tssskmyz8dx3Ecx3HMPxPzdobEvM0/CB988MEHzz9/pUCtXynQP3o7Q2LeztA/ddFFF1100T9wZ0jM2xnSP2r9SoFav9I/ZZNNNtlk0z9gKVDrVwrUP1u/UqDWr9Q/VlVVVVVV1T9R61cK1PrVP0yBWr9SoNY/RhdddNFF1z9BrV8pUOvXPzxDYt7OkNg/N9lkk0022T8yb2dIzNvZPy0Fav1Kgdo/J5tssskm2z8iMW9nSMzbPx3HcRzHcdw/GF100UUX3T8T83aGxLzdPw6JeTtDYt4/CB988MEH3z8DtX6lQK3fP3+lQK1fKeA/ffDBBx984D96O0Ni3s7gP3eGxLydIeE/ddFFF1104T9yHMdxHMfhP3BnSMzbGeI/bbLJJpts4j9q/UqBWr/iP2hIzNsZEuM/ZZNNNtlk4z9j3s6QmLfjP2ApUOtXCuQ/XnTRRRdd5D9bv1Kg1q/kP1gK1PqVAuU/VlVVVVVV5T9ToNavFKjlP1HrVwrU+uU/TjbZZJNN5j9MgVq/UqDmP0nM2xkS8+Y/RhdddNFF5z9EYt7OkJjnP0GtXylQ6+c/P/jggw8+6D88Q2LezpDoPzmO4ziO4+g/N9lkk0026T80JObtDInpPzJvZ0jM2+k/L7rooosu6j8tBWr9SoHqPypQ61cK1Oo/J5tssskm6z8l5u0MiXnrPyIxb2dIzOs/IHzwwQcf7D8dx3Ecx3HsPxsS83aGxOw/GF100UUX7T8VqPUrBWrtPxPzdobEvO0/ED744IMP7j8OiXk7Q2LuPwvU+pUCte4/CB988MEH7z8Gav1KgVrvPwO1fqVAre8/AAAAAAAA8D8=\",\"dtype\":\"float64\",\"order\":\"little\",\"shape\":[100]},\"y\":{\"__ndarray__\":\"E4+Is1F87z9+r7kBYgnwP7yocetH0u4/2WVOb5Hg7z/+FeOnC5bwPz5/C/PutvE/GkipDI8G8D+JBQ4jhgjxP1ykbiZWmfE/FMM2dmkB8D/PRqwgxZ/yPzOMvHxcG/E/1H7oddwV8T/QRSEAU1fzP8y1TLc6ePE/BWWC9+UF8z+lgV9wK5vzPyAh3J15q/M/O/rfb0yx8j/zvAD4XmXyP2u7bL/ekPM/ZDaHzJC18z910RpsxK70P25Y0VSxkfM/ZHOJX55K9D+BABC9cMLyP4YPXU2b5/M/6XUrQl2m9T97S9CWwxDzPxsSM+4fKvU/j1khXZd19j+FrWHLOOr1PwU2vA2u2/Y/350eZI4z9T8psRdG9wL2PwanosWb4vY/yFVMkrig9z/U5dRQ+mz2P1yJFFjf+fY/vcgDpCd39z/2bz9nC+j3P7DotOJNcfg/esZrAjTP9z/H9Cw3my72P9nqE9lR5fg/vRGLTjsq+T8OFak943T4Pw+BkqfGSvk/lD8r7uLD+D9jrwQyGqf3P2lVP/Coc/c/yjSlzOMm+j+v3VDX/w/4P443BPWtGvg/tEPPMHov+T+DJC3KVB/6Pzbc9jrjG/s/ur/I5Wf/+j9+LHTvvGP7P4guE40Us/o/NxpFPUTh+j9ltLmTmof6P349bnXYWPk/wAGsew5F+T8aGKWCrur6P2r4iG1d4Po/mi9V+jLA+z9H8OVBBGb6P+3l8FltdPo/biulWLlb+z/WmgHgWNj6P4BIme9Pivs/N6EkO0o8+z/2W6Ht1jH+P6I/Wo4R4Pw/szoP9slQ/j+2FqOXc+X9P24IXAAZ+fw/H1GsrE3O/D/dED4FJE/+P9VeEMIQv/4/rcuBcgRb/T9oGE20P+v/P7jn5g4gtf8/rkxrndV2/T+tMUVq/Xz9P5jJCkI/R/4/IojXubd+/j+zZS8ZDkYAQGejFxJ9EABAza2URfNWAED2FmeCoDz/PzlmFWJGWf8/uJiIgC8CAEBOPUq0nXr/PyDNSqou9QBAfVQ6oDvg/z9SCf1yVg8AQJ/HJdMa8ABAsEylAMwxAUA=\",\"dtype\":\"float64\",\"order\":\"little\",\"shape\":[100]}},\"selected\":{\"id\":\"1351\"},\"selection_policy\":{\"id\":\"1350\"}},\"id\":\"1336\",\"type\":\"ColumnDataSource\"},{\"attributes\":{\"bottom_units\":\"screen\",\"coordinates\":null,\"fill_alpha\":0.5,\"fill_color\":\"lightgrey\",\"group\":null,\"left_units\":\"screen\",\"level\":\"overlay\",\"line_alpha\":1.0,\"line_color\":\"black\",\"line_dash\":[4,4],\"line_width\":2,\"right_units\":\"screen\",\"syncable\":false,\"top_units\":\"screen\"},\"id\":\"1212\",\"type\":\"BoxAnnotation\"},{\"attributes\":{\"axis\":{\"id\":\"1260\"},\"coordinates\":null,\"dimension\":1,\"grid_line_alpha\":0.15,\"grid_line_color\":\"#E0E0E0\",\"group\":null,\"ticker\":null},\"id\":\"1263\",\"type\":\"Grid\"},{\"attributes\":{},\"id\":\"1308\",\"type\":\"DataRange1d\"},{\"attributes\":{},\"id\":\"1261\",\"type\":\"BasicTicker\"},{\"attributes\":{},\"id\":\"1323\",\"type\":\"WheelZoomTool\"},{\"attributes\":{},\"id\":\"1322\",\"type\":\"PanTool\"},{\"attributes\":{\"bottom_units\":\"screen\",\"coordinates\":null,\"fill_alpha\":0.5,\"fill_color\":\"lightgrey\",\"group\":null,\"left_units\":\"screen\",\"level\":\"overlay\",\"line_alpha\":1.0,\"line_color\":\"black\",\"line_dash\":[4,4],\"line_width\":2,\"right_units\":\"screen\",\"syncable\":false,\"top_units\":\"screen\"},\"id\":\"1394\",\"type\":\"BoxAnnotation\"},{\"attributes\":{\"overlay\":{\"id\":\"1328\"}},\"id\":\"1324\",\"type\":\"BoxZoomTool\"},{\"attributes\":{\"tools\":[{\"id\":\"1206\"},{\"id\":\"1207\"},{\"id\":\"1208\"},{\"id\":\"1209\"},{\"id\":\"1210\"},{\"id\":\"1211\"},{\"id\":\"1239\"},{\"id\":\"1243\"}]},\"id\":\"1213\",\"type\":\"Toolbar\"},{\"attributes\":{},\"id\":\"1265\",\"type\":\"WheelZoomTool\"},{\"attributes\":{},\"id\":\"1325\",\"type\":\"SaveTool\"},{\"attributes\":{},\"id\":\"1326\",\"type\":\"ResetTool\"},{\"attributes\":{},\"id\":\"1264\",\"type\":\"PanTool\"},{\"attributes\":{},\"id\":\"1194\",\"type\":\"LinearScale\"},{\"attributes\":{\"axis_label\":\"x\",\"axis_label_standoff\":10,\"axis_label_text_color\":\"#FFFFFF\",\"axis_label_text_font\":\"Josefin Sans\",\"axis_label_text_font_size\":\"1.9em\",\"axis_label_text_font_style\":\"bold\",\"axis_line_alpha\":0.4,\"axis_line_color\":\"#E0E0E0\",\"coordinates\":null,\"formatter\":{\"id\":\"1232\"},\"group\":null,\"major_label_policy\":{\"id\":\"1233\"},\"major_label_text_color\":\"#E0E0E0\",\"major_label_text_font\":\"Josefin Sans\",\"major_label_text_font_size\":\"1.15em\",\"major_tick_line_alpha\":0.4,\"major_tick_line_color\":\"#E0E0E0\",\"minor_tick_line_alpha\":0.4,\"minor_tick_line_color\":\"#E0E0E0\",\"ticker\":{\"id\":\"1199\"}},\"id\":\"1198\",\"type\":\"LinearAxis\"},{\"attributes\":{\"overlay\":{\"id\":\"1270\"}},\"id\":\"1266\",\"type\":\"BoxZoomTool\"},{\"attributes\":{},\"id\":\"1291\",\"type\":\"AllLabels\"},{\"attributes\":{\"axis\":{\"id\":\"1198\"},\"coordinates\":null,\"grid_line_alpha\":0.15,\"grid_line_color\":\"#E0E0E0\",\"group\":null,\"ticker\":null},\"id\":\"1201\",\"type\":\"Grid\"},{\"attributes\":{},\"id\":\"1267\",\"type\":\"SaveTool\"},{\"attributes\":{},\"id\":\"1207\",\"type\":\"WheelZoomTool\"},{\"attributes\":{\"coordinates\":null,\"data_source\":{\"id\":\"1336\"},\"glyph\":{\"id\":\"1337\"},\"group\":null,\"hover_glyph\":{\"id\":\"1339\"},\"muted_glyph\":{\"id\":\"1340\"},\"nonselection_glyph\":{\"id\":\"1358\"},\"selection_glyph\":{\"id\":\"1357\"},\"view\":{\"id\":\"1342\"}},\"id\":\"1341\",\"type\":\"GlyphRenderer\"},{\"attributes\":{\"bottom_units\":\"screen\",\"coordinates\":null,\"fill_alpha\":0.5,\"fill_color\":\"lightgrey\",\"group\":null,\"left_units\":\"screen\",\"level\":\"overlay\",\"line_alpha\":1.0,\"line_color\":\"black\",\"line_dash\":[4,4],\"line_width\":2,\"right_units\":\"screen\",\"syncable\":false,\"top_units\":\"screen\"},\"id\":\"1270\",\"type\":\"BoxAnnotation\"},{\"attributes\":{},\"id\":\"1196\",\"type\":\"LinearScale\"},{\"attributes\":{\"coordinates\":null,\"data_source\":{\"id\":\"1220\"},\"glyph\":{\"id\":\"1221\"},\"group\":null,\"hover_glyph\":{\"id\":\"1223\"},\"muted_glyph\":{\"id\":\"1224\"},\"nonselection_glyph\":{\"id\":\"1242\"},\"selection_glyph\":{\"id\":\"1241\"},\"view\":{\"id\":\"1226\"}},\"id\":\"1225\",\"type\":\"GlyphRenderer\"},{\"attributes\":{\"fill_alpha\":{\"value\":0.2},\"fill_color\":{\"value\":\"midnightblue\"},\"hatch_alpha\":{\"value\":0.2},\"line_alpha\":{\"value\":0.2},\"line_color\":{\"value\":\"white\"},\"size\":{\"value\":10},\"x\":{\"field\":\"x\"},\"y\":{\"field\":\"y\"}},\"id\":\"1224\",\"type\":\"Circle\"},{\"attributes\":{\"coordinates\":null,\"data_source\":{\"id\":\"1278\"},\"glyph\":{\"id\":\"1279\"},\"group\":null,\"hover_glyph\":{\"id\":\"1281\"},\"muted_glyph\":{\"id\":\"1282\"},\"nonselection_glyph\":{\"id\":\"1300\"},\"selection_glyph\":{\"id\":\"1299\"},\"view\":{\"id\":\"1284\"}},\"id\":\"1283\",\"type\":\"GlyphRenderer\"},{\"attributes\":{\"source\":{\"id\":\"1220\"}},\"id\":\"1226\",\"type\":\"CDSView\"},{\"attributes\":{\"source\":{\"id\":\"1336\"}},\"id\":\"1342\",\"type\":\"CDSView\"},{\"attributes\":{\"fill_alpha\":{\"value\":0.2},\"fill_color\":{\"value\":\"midnightblue\"},\"hatch_alpha\":{\"value\":0.2},\"line_alpha\":{\"value\":0.2},\"line_color\":{\"value\":\"white\"},\"size\":{\"value\":10},\"x\":{\"field\":\"x\"},\"y\":{\"field\":\"y\"}},\"id\":\"1282\",\"type\":\"Circle\"},{\"attributes\":{\"background_fill_alpha\":0.25,\"background_fill_color\":\"#505050\",\"border_line_alpha\":0.25,\"coordinates\":null,\"group\":null,\"items\":[{\"id\":\"1238\"}],\"label_standoff\":8,\"label_text_color\":\"#E0E0E0\",\"label_text_font\":\"Josefin Sans\",\"label_text_font_size\":\"1.15em\",\"spacing\":8},\"id\":\"1237\",\"type\":\"Legend\"},{\"attributes\":{\"background_fill_alpha\":0.25,\"background_fill_color\":\"#505050\",\"border_line_alpha\":0.25,\"coordinates\":null,\"group\":null,\"items\":[{\"id\":\"1354\"}],\"label_standoff\":8,\"label_text_color\":\"#E0E0E0\",\"label_text_font\":\"Josefin Sans\",\"label_text_font_size\":\"1.15em\",\"spacing\":8},\"id\":\"1353\",\"type\":\"Legend\"},{\"attributes\":{\"fill_alpha\":{\"value\":0.5},\"fill_color\":{\"value\":\"red\"},\"hatch_alpha\":{\"value\":0.5},\"line_alpha\":{\"value\":0.5},\"line_color\":{\"value\":\"white\"},\"size\":{\"value\":10},\"x\":{\"field\":\"x\"},\"y\":{\"field\":\"y\"}},\"id\":\"1281\",\"type\":\"Circle\"},{\"attributes\":{},\"id\":\"1268\",\"type\":\"ResetTool\"},{\"attributes\":{\"tools\":[{\"id\":\"1264\"},{\"id\":\"1265\"},{\"id\":\"1266\"},{\"id\":\"1267\"},{\"id\":\"1268\"},{\"id\":\"1269\"},{\"id\":\"1297\"},{\"id\":\"1301\"}]},\"id\":\"1271\",\"type\":\"Toolbar\"},{\"attributes\":{},\"id\":\"1269\",\"type\":\"HelpTool\"},{\"attributes\":{\"data\":{\"x\":{\"__ndarray__\":\"AAAAAAAAAABbv1Kg1q+EP1u/UqDWr5Q/CB988MEHnz9bv1Kg1q+kPzJvZ0jM26k/CB988MEHrz9wZ0jM2xmyP1u/UqDWr7Q/RhdddNFFtz8yb2dIzNu5Px3HcRzHcbw/CB988MEHvz96O0Ni3s7AP3BnSMzbGcI/ZZNNNtlkwz9bv1Kg1q/EP1HrVwrU+sU/RhdddNFFxz88Q2LezpDIPzJvZ0jM28k/J5tssskmyz8dx3Ecx3HMPxPzdobEvM0/CB988MEHzz9/pUCtXynQP3o7Q2LeztA/ddFFF1100T9wZ0jM2xnSP2r9SoFav9I/ZZNNNtlk0z9gKVDrVwrUP1u/UqDWr9Q/VlVVVVVV1T9R61cK1PrVP0yBWr9SoNY/RhdddNFF1z9BrV8pUOvXPzxDYt7OkNg/N9lkk0022T8yb2dIzNvZPy0Fav1Kgdo/J5tssskm2z8iMW9nSMzbPx3HcRzHcdw/GF100UUX3T8T83aGxLzdPw6JeTtDYt4/CB988MEH3z8DtX6lQK3fP3+lQK1fKeA/ffDBBx984D96O0Ni3s7gP3eGxLydIeE/ddFFF1104T9yHMdxHMfhP3BnSMzbGeI/bbLJJpts4j9q/UqBWr/iP2hIzNsZEuM/ZZNNNtlk4z9j3s6QmLfjP2ApUOtXCuQ/XnTRRRdd5D9bv1Kg1q/kP1gK1PqVAuU/VlVVVVVV5T9ToNavFKjlP1HrVwrU+uU/TjbZZJNN5j9MgVq/UqDmP0nM2xkS8+Y/RhdddNFF5z9EYt7OkJjnP0GtXylQ6+c/P/jggw8+6D88Q2LezpDoPzmO4ziO4+g/N9lkk0026T80JObtDInpPzJvZ0jM2+k/L7rooosu6j8tBWr9SoHqPypQ61cK1Oo/J5tssskm6z8l5u0MiXnrPyIxb2dIzOs/IHzwwQcf7D8dx3Ecx3HsPxsS83aGxOw/GF100UUX7T8VqPUrBWrtPxPzdobEvO0/ED744IMP7j8OiXk7Q2LuPwvU+pUCte4/CB988MEH7z8Gav1KgVrvPwO1fqVAre8/AAAAAAAA8D8=\",\"dtype\":\"float64\",\"order\":\"little\",\"shape\":[100]},\"y\":{\"__ndarray__\":\"gBZSaKlokT82wffmxTO2PwAwPfuZYW2/UqUjxpKLpr+WnfZI9Le0PzRSN/6bt8A/48BMvtFRor+G5VfcbY6wPzjCXjBkeb4/kNUPA5cJgr+YirQGEnvBPwiGot0J1sI/pV17GManvz+Q4gTvJFG9PyzFdIGax8Q/kb63qmyKtD8ADRGjuhbJP6B4VmvVFLs/+up2pXYntj/Vys1o6BvLP3AdqR3TkMg/iKoO+suUpD9cYNNR2dHAPxLlfJF/SME/lxtBjGNguj+6ysutLTvCP1U8i584b8A/nUG0BIcYwz+wFnXGY9jEP4lOxqz9KLQ/8BkR95StwD8wJgZBDJDHPzeU17AUzbM/R//0jRGywz97ACs57My7P2QzSSDWI8M/IAS9WtPbdz+z3rJFEGbAP45ZhR4d+cM/whA46CSOtD/IyTd3AfLFP3IX+VFZZqI/AMAiqYOwAj+EwbjTfAmWPz4kUJVA+5C/0vnBKzlfvT9czClCiA+eP9cbPXtBRbs/PJN2RcIJeD9gmbNnclihv4AkIO9F/ke/g8nr5ofbur++nXduUBq+v5x/GBJsg4W/UJeBtZwFgj8seV21HfLAv4D2ZRtOsmK/jmfB7F90w78piF8VBg/Iv7ESd+9mw7u/ABn1sXYxpL+APZunM76mv8SiJK7fVre/mxt/Sumrwb/qaL663NLQv3H9Rsk0RNK/rtdgRXAay7+xil8PGZ/Dv5j8LY03i9O/YnEtXuRby78swnw+cgHZv16mxgkTRdm/ga4KCCoA078Wy5/+gVjWv29b7FFHddW/P40NhaRy1r96E3I8qRHbv+zwSJNfhte/Cfm+Lh3Y4L+KznpHJGnbv+W6cA9hQuG/7BoFvDzR27+EqbyaAKrhv7yrzBg7leK/iPjoBnCa37882204YDbhv6zXuJspR+W/sqR9nXaz47+J5qeo1oHmv34tmf4S7+m/GbRX/tnI5b+H7dmDkp/pv9g8DILPf+i/dE2bQwKl7L9MNoqqnojpvz2Df3B19+y/vJVCX+Z77b800uRLCmzvv7W+iXZ2C++/c5n2wJiT778=\",\"dtype\":\"float64\",\"order\":\"little\",\"shape\":[100]}},\"selected\":{\"id\":\"1293\"},\"selection_policy\":{\"id\":\"1292\"}},\"id\":\"1278\",\"type\":\"ColumnDataSource\"},{\"attributes\":{},\"id\":\"1327\",\"type\":\"HelpTool\"},{\"attributes\":{\"source\":{\"id\":\"1278\"}},\"id\":\"1284\",\"type\":\"CDSView\"},{\"attributes\":{\"background_fill_alpha\":0.25,\"background_fill_color\":\"#505050\",\"border_line_alpha\":0.25,\"coordinates\":null,\"group\":null,\"items\":[{\"id\":\"1296\"}],\"label_standoff\":8,\"label_text_color\":\"#E0E0E0\",\"label_text_font\":\"Josefin Sans\",\"label_text_font_size\":\"1.15em\",\"spacing\":8},\"id\":\"1295\",\"type\":\"Legend\"},{\"attributes\":{\"bottom_units\":\"screen\",\"coordinates\":null,\"fill_alpha\":0.5,\"fill_color\":\"lightgrey\",\"group\":null,\"left_units\":\"screen\",\"level\":\"overlay\",\"line_alpha\":1.0,\"line_color\":\"black\",\"line_dash\":[4,4],\"line_width\":2,\"right_units\":\"screen\",\"syncable\":false,\"top_units\":\"screen\"},\"id\":\"1398\",\"type\":\"BoxAnnotation\"},{\"attributes\":{\"axis\":{\"id\":\"1202\"},\"coordinates\":null,\"dimension\":1,\"grid_line_alpha\":0.15,\"grid_line_color\":\"#E0E0E0\",\"group\":null,\"ticker\":null},\"id\":\"1205\",\"type\":\"Grid\"},{\"attributes\":{\"fill_alpha\":{\"value\":0.5},\"fill_color\":{\"value\":\"red\"},\"hatch_alpha\":{\"value\":0.5},\"line_alpha\":{\"value\":0.5},\"line_color\":{\"value\":\"white\"},\"size\":{\"value\":10},\"x\":{\"field\":\"x\"},\"y\":{\"field\":\"y\"}},\"id\":\"1223\",\"type\":\"Circle\"},{\"attributes\":{\"fill_alpha\":{\"value\":0.25},\"fill_color\":{\"value\":\"midnightblue\"},\"hatch_alpha\":{\"value\":0.25},\"line_alpha\":{\"value\":0.25},\"line_color\":{\"value\":\"white\"},\"size\":{\"value\":10},\"x\":{\"field\":\"x\"},\"y\":{\"field\":\"y\"}},\"id\":\"1337\",\"type\":\"Circle\"},{\"attributes\":{\"children\":[{\"id\":\"1365\"},{\"id\":\"1363\"},{\"id\":\"1432\"}],\"margin\":[0,0,0,0],\"name\":\"Row00113\"},\"id\":\"1364\",\"type\":\"Row\"},{\"attributes\":{\"children\":[{\"id\":\"1187\"},{\"id\":\"1245\"},{\"id\":\"1303\"}]},\"id\":\"1362\",\"type\":\"Row\"},{\"attributes\":{},\"id\":\"1199\",\"type\":\"BasicTicker\"},{\"attributes\":{\"background_fill_alpha\":0.9,\"background_fill_color\":\"#0f0f0f\",\"below\":[{\"id\":\"1314\"}],\"border_fill_alpha\":0.8,\"border_fill_color\":\"#111111\",\"center\":[{\"id\":\"1317\"},{\"id\":\"1321\"},{\"id\":\"1353\"}],\"height\":450,\"left\":[{\"id\":\"1318\"}],\"outline_line_alpha\":0.25,\"outline_line_color\":\"#E0E0E0\",\"outline_line_width\":3,\"renderers\":[{\"id\":\"1341\"}],\"title\":{\"id\":\"1304\"},\"toolbar\":{\"id\":\"1329\"},\"toolbar_location\":null,\"x_range\":{\"id\":\"1306\"},\"x_scale\":{\"id\":\"1310\"},\"y_range\":{\"id\":\"1308\"},\"y_scale\":{\"id\":\"1312\"}},\"id\":\"1303\",\"subtype\":\"Figure\",\"type\":\"Plot\"},{\"attributes\":{},\"id\":\"1310\",\"type\":\"LinearScale\"},{\"attributes\":{},\"id\":\"1345\",\"type\":\"BasicTickFormatter\"},{\"attributes\":{\"fill_alpha\":{\"value\":0.25},\"fill_color\":{\"value\":\"midnightblue\"},\"hatch_alpha\":{\"value\":0.25},\"line_alpha\":{\"value\":0.25},\"line_color\":{\"value\":\"white\"},\"size\":{\"value\":10},\"x\":{\"field\":\"x\"},\"y\":{\"field\":\"y\"}},\"id\":\"1279\",\"type\":\"Circle\"},{\"attributes\":{},\"id\":\"1229\",\"type\":\"BasicTickFormatter\"},{\"attributes\":{\"overlay\":{\"id\":\"1212\"}},\"id\":\"1208\",\"type\":\"BoxZoomTool\"},{\"attributes\":{},\"id\":\"1232\",\"type\":\"BasicTickFormatter\"},{\"attributes\":{\"background_fill_alpha\":0.9,\"background_fill_color\":\"#0f0f0f\",\"below\":[{\"id\":\"1198\"}],\"border_fill_alpha\":0.8,\"border_fill_color\":\"#111111\",\"center\":[{\"id\":\"1201\"},{\"id\":\"1205\"},{\"id\":\"1237\"}],\"height\":450,\"left\":[{\"id\":\"1202\"}],\"outline_line_alpha\":0.25,\"outline_line_color\":\"#E0E0E0\",\"outline_line_width\":3,\"renderers\":[{\"id\":\"1225\"}],\"title\":{\"id\":\"1188\"},\"toolbar\":{\"id\":\"1213\"},\"toolbar_location\":null,\"x_range\":{\"id\":\"1190\"},\"x_scale\":{\"id\":\"1194\"},\"y_range\":{\"id\":\"1192\"},\"y_scale\":{\"id\":\"1196\"}},\"id\":\"1187\",\"subtype\":\"Figure\",\"type\":\"Plot\"},{\"attributes\":{},\"id\":\"1349\",\"type\":\"AllLabels\"},{\"attributes\":{},\"id\":\"1190\",\"type\":\"DataRange1d\"},{\"attributes\":{},\"id\":\"1233\",\"type\":\"AllLabels\"},{\"attributes\":{\"data\":{\"x\":{\"__ndarray__\":\"AAAAAAAAAABbv1Kg1q+EP1u/UqDWr5Q/CB988MEHnz9bv1Kg1q+kPzJvZ0jM26k/CB988MEHrz9wZ0jM2xmyP1u/UqDWr7Q/RhdddNFFtz8yb2dIzNu5Px3HcRzHcbw/CB988MEHvz96O0Ni3s7AP3BnSMzbGcI/ZZNNNtlkwz9bv1Kg1q/EP1HrVwrU+sU/RhdddNFFxz88Q2LezpDIPzJvZ0jM28k/J5tssskmyz8dx3Ecx3HMPxPzdobEvM0/CB988MEHzz9/pUCtXynQP3o7Q2LeztA/ddFFF1100T9wZ0jM2xnSP2r9SoFav9I/ZZNNNtlk0z9gKVDrVwrUP1u/UqDWr9Q/VlVVVVVV1T9R61cK1PrVP0yBWr9SoNY/RhdddNFF1z9BrV8pUOvXPzxDYt7OkNg/N9lkk0022T8yb2dIzNvZPy0Fav1Kgdo/J5tssskm2z8iMW9nSMzbPx3HcRzHcdw/GF100UUX3T8T83aGxLzdPw6JeTtDYt4/CB988MEH3z8DtX6lQK3fP3+lQK1fKeA/ffDBBx984D96O0Ni3s7gP3eGxLydIeE/ddFFF1104T9yHMdxHMfhP3BnSMzbGeI/bbLJJpts4j9q/UqBWr/iP2hIzNsZEuM/ZZNNNtlk4z9j3s6QmLfjP2ApUOtXCuQ/XnTRRRdd5D9bv1Kg1q/kP1gK1PqVAuU/VlVVVVVV5T9ToNavFKjlP1HrVwrU+uU/TjbZZJNN5j9MgVq/UqDmP0nM2xkS8+Y/RhdddNFF5z9EYt7OkJjnP0GtXylQ6+c/P/jggw8+6D88Q2LezpDoPzmO4ziO4+g/N9lkk0026T80JObtDInpPzJvZ0jM2+k/L7rooosu6j8tBWr9SoHqPypQ61cK1Oo/J5tssskm6z8l5u0MiXnrPyIxb2dIzOs/IHzwwQcf7D8dx3Ecx3HsPxsS83aGxOw/GF100UUX7T8VqPUrBWrtPxPzdobEvO0/ED744IMP7j8OiXk7Q2LuPwvU+pUCte4/CB988MEH7z8Gav1KgVrvPwO1fqVAre8/AAAAAAAA8D8=\",\"dtype\":\"float64\",\"order\":\"little\",\"shape\":[100]},\"y\":{\"__ndarray__\":\"W79iI8o8EEBFzvI93AsQQJVE27f+5A9A5i4EArF6DkCdfVO5Jb0NQDZ3JlD34A5A4GZMSzOiDUDn+LDMkCUNQPRBVHDhyAxACc4psyJTDEADFzrbOMkLQD07fMrSqgtAJmkyyHn2CkAfNySCwtwKQPcD9kDnbgpACK0mT46MC0BaaGf1o9kKQNG7eHlCyApA/kjoIDG/CkC/TcH+ZdYJQDn+r21QvwlA7hhUCojZCECAQsFHA8IIQEmdo8or4ghAdtQAh45ICUCi34U/OO0IQPsNkZenfQdA/xwvgoewB0D8SmXEs5MIQEFnb+rOAgdAma3msU/kBkBy1ywoyRkIQHg+iD4LXQdAyhGNVpHhBkA3uZHHYs4GQIFdaFWabgZAtMgmVW08BkDLcKnobn0GQN5bFmsP6AVAvLSy3IOpBUDVZ/hUjugFQO3tjWGUfwZAU1qbrSVdBkDPYY3m7/AGQAh0wlNqjwVAEwJGqqHZBUAr+IE3BrQFQGEfs+GkjQVAHPhqI1CsBUAgNOc66IsFQAiMlLEnawZA82uxEC9OBUB4uKYGbrYGQKqJif31bAVAtnXxirekBUAdggdX5ugFQAu5uqu3yAZAKyKxMTvdBkBKpjUb6hUHQE5fDSvApgVAPzQ2a7QnBkDDbfaPluEFQO8SYxu5MwZA0ErZ2oAJB0DX1NGwsYwHQCG5aEZ/lwZAxD6Om9a3B0ClCa12SNMHQO/eJMzEqQZAkT+03vqMB0Ao4vXxnggHQOD+L5Ib2wdAc0jrDC5VB0AWFSk5sZAHQMchh6n76AdAKI7jodhMCUDNvmu+Tj4IQCTRx3Z3sAhAe5ECsP/gCEBuvET/zUwJQM4TMmuWsQlAaBenliYtCkDmxIgEUj4KQDiu4P+FWQtA7mJ2n0OZC0CG0wehsZoKQMLnLnyQxwpADMrNmuLnC0BjqhPGWHcMQLQ5ULwxFw1AtbOjXAN4DEAlaBXf+EIMQECfAY5lmg1AQB30okLVDUDvlkwo5I4OQKZU2kZehA5AfCfaORtHDkCBM3Px9qIOQH70lFwgSQ9AWhU5mN9dD0A=\",\"dtype\":\"float64\",\"order\":\"little\",\"shape\":[100]}},\"selected\":{\"id\":\"1235\"},\"selection_policy\":{\"id\":\"1234\"}},\"id\":\"1220\",\"type\":\"ColumnDataSource\"},{\"attributes\":{},\"id\":\"1192\",\"type\":\"DataRange1d\"},{\"attributes\":{},\"id\":\"1293\",\"type\":\"Selection\"},{\"attributes\":{\"bottom_units\":\"screen\",\"coordinates\":null,\"fill_alpha\":0.5,\"fill_color\":\"lightgrey\",\"group\":null,\"left_units\":\"screen\",\"level\":\"overlay\",\"line_alpha\":1.0,\"line_color\":\"black\",\"line_dash\":[4,4],\"line_width\":2,\"right_units\":\"screen\",\"syncable\":false,\"top_units\":\"screen\"},\"id\":\"1328\",\"type\":\"BoxAnnotation\"},{\"attributes\":{},\"id\":\"1346\",\"type\":\"AllLabels\"},{\"attributes\":{\"coordinates\":null,\"group\":null,\"text\":\"Problem 1\",\"text_color\":\"#E0E0E0\",\"text_font\":\"Josefin Sans\",\"text_font_size\":\"2.1em\"},\"id\":\"1188\",\"type\":\"Title\"},{\"attributes\":{\"fill_alpha\":{\"value\":0.8},\"fill_color\":{\"value\":\"red\"},\"line_color\":{\"value\":\"white\"}},\"id\":\"1357\",\"type\":\"Circle\"},{\"attributes\":{},\"id\":\"1288\",\"type\":\"AllLabels\"},{\"attributes\":{\"label\":{\"value\":\"Observations\"},\"renderers\":[{\"id\":\"1341\"}]},\"id\":\"1354\",\"type\":\"LegendItem\"},{\"attributes\":{\"fill_alpha\":{\"value\":0.8},\"fill_color\":{\"value\":\"red\"},\"line_color\":{\"value\":\"white\"}},\"id\":\"1241\",\"type\":\"Circle\"},{\"attributes\":{},\"id\":\"1230\",\"type\":\"AllLabels\"},{\"attributes\":{\"label\":{\"value\":\"Observations\"},\"renderers\":[{\"id\":\"1225\"}]},\"id\":\"1238\",\"type\":\"LegendItem\"},{\"attributes\":{\"mode\":\"append\",\"overlay\":{\"id\":\"1398\"},\"renderers\":[{\"id\":\"1341\"}]},\"id\":\"1359\",\"type\":\"BoxSelectTool\"},{\"attributes\":{},\"id\":\"1290\",\"type\":\"BasicTickFormatter\"},{\"attributes\":{},\"id\":\"1348\",\"type\":\"BasicTickFormatter\"},{\"attributes\":{\"fill_alpha\":{\"value\":0.5},\"fill_color\":{\"value\":\"midnightblue\"},\"line_color\":{\"value\":\"white\"}},\"id\":\"1300\",\"type\":\"Circle\"},{\"attributes\":{\"mode\":\"append\",\"overlay\":{\"id\":\"1390\"},\"renderers\":[{\"id\":\"1225\"}]},\"id\":\"1243\",\"type\":\"BoxSelectTool\"},{\"attributes\":{\"callback\":null,\"mode\":\"vline\",\"renderers\":[{\"id\":\"1341\"}],\"tooltips\":null},\"id\":\"1355\",\"type\":\"HoverTool\"},{\"attributes\":{},\"id\":\"1287\",\"type\":\"BasicTickFormatter\"},{\"attributes\":{\"callback\":null,\"mode\":\"vline\",\"renderers\":[{\"id\":\"1225\"}],\"tooltips\":null},\"id\":\"1239\",\"type\":\"HoverTool\"},{\"attributes\":{\"fill_alpha\":{\"value\":0.2},\"fill_color\":{\"value\":\"midnightblue\"},\"hatch_alpha\":{\"value\":0.2},\"line_alpha\":{\"value\":0.2},\"line_color\":{\"value\":\"white\"},\"size\":{\"value\":10},\"x\":{\"field\":\"x\"},\"y\":{\"field\":\"y\"}},\"id\":\"1340\",\"type\":\"Circle\"},{\"attributes\":{\"fill_alpha\":{\"value\":0.25},\"fill_color\":{\"value\":\"midnightblue\"},\"hatch_alpha\":{\"value\":0.25},\"line_alpha\":{\"value\":0.25},\"line_color\":{\"value\":\"white\"},\"size\":{\"value\":10},\"x\":{\"field\":\"x\"},\"y\":{\"field\":\"y\"}},\"id\":\"1221\",\"type\":\"Circle\"},{\"attributes\":{\"fill_alpha\":{\"value\":0.5},\"fill_color\":{\"value\":\"midnightblue\"},\"line_color\":{\"value\":\"white\"}},\"id\":\"1358\",\"type\":\"Circle\"},{\"attributes\":{},\"id\":\"1315\",\"type\":\"BasicTicker\"},{\"attributes\":{\"margin\":[5,5,5,5],\"name\":\"HSpacer00110\",\"sizing_mode\":\"stretch_width\"},\"id\":\"1432\",\"type\":\"Spacer\"},{\"attributes\":{\"fill_alpha\":{\"value\":0.5},\"fill_color\":{\"value\":\"midnightblue\"},\"line_color\":{\"value\":\"white\"}},\"id\":\"1242\",\"type\":\"Circle\"},{\"attributes\":{},\"id\":\"1235\",\"type\":\"Selection\"},{\"attributes\":{\"children\":[{\"id\":\"1361\"},{\"id\":\"1362\"}]},\"id\":\"1363\",\"type\":\"Column\"},{\"attributes\":{\"fill_alpha\":{\"value\":0.8},\"fill_color\":{\"value\":\"red\"},\"line_color\":{\"value\":\"white\"}},\"id\":\"1299\",\"type\":\"Circle\"},{\"attributes\":{\"label\":{\"value\":\"Observations\"},\"renderers\":[{\"id\":\"1283\"}]},\"id\":\"1296\",\"type\":\"LegendItem\"},{\"attributes\":{\"style\":{\"font-size\":\"250%\"},\"text\":\"Observing different problems\"},\"id\":\"1361\",\"type\":\"Div\"},{\"attributes\":{},\"id\":\"1312\",\"type\":\"LinearScale\"},{\"attributes\":{\"mode\":\"append\",\"overlay\":{\"id\":\"1394\"},\"renderers\":[{\"id\":\"1283\"}]},\"id\":\"1301\",\"type\":\"BoxSelectTool\"},{\"attributes\":{},\"id\":\"1248\",\"type\":\"DataRange1d\"},{\"attributes\":{\"axis\":{\"id\":\"1314\"},\"coordinates\":null,\"grid_line_alpha\":0.15,\"grid_line_color\":\"#E0E0E0\",\"group\":null,\"ticker\":null},\"id\":\"1317\",\"type\":\"Grid\"},{\"attributes\":{},\"id\":\"1351\",\"type\":\"Selection\"},{\"attributes\":{\"background_fill_alpha\":0.9,\"background_fill_color\":\"#0f0f0f\",\"below\":[{\"id\":\"1256\"}],\"border_fill_alpha\":0.8,\"border_fill_color\":\"#111111\",\"center\":[{\"id\":\"1259\"},{\"id\":\"1263\"},{\"id\":\"1295\"}],\"height\":450,\"left\":[{\"id\":\"1260\"}],\"outline_line_alpha\":0.25,\"outline_line_color\":\"#E0E0E0\",\"outline_line_width\":3,\"renderers\":[{\"id\":\"1283\"}],\"title\":{\"id\":\"1246\"},\"toolbar\":{\"id\":\"1271\"},\"toolbar_location\":null,\"x_range\":{\"id\":\"1248\"},\"x_scale\":{\"id\":\"1252\"},\"y_range\":{\"id\":\"1250\"},\"y_scale\":{\"id\":\"1254\"}},\"id\":\"1245\",\"subtype\":\"Figure\",\"type\":\"Plot\"},{\"attributes\":{},\"id\":\"1306\",\"type\":\"DataRange1d\"},{\"attributes\":{},\"id\":\"1203\",\"type\":\"BasicTicker\"},{\"attributes\":{\"callback\":null,\"mode\":\"vline\",\"renderers\":[{\"id\":\"1283\"}],\"tooltips\":null},\"id\":\"1297\",\"type\":\"HoverTool\"},{\"attributes\":{\"axis_label\":\"x\",\"axis_label_standoff\":10,\"axis_label_text_color\":\"#FFFFFF\",\"axis_label_text_font\":\"Josefin Sans\",\"axis_label_text_font_size\":\"1.9em\",\"axis_label_text_font_style\":\"bold\",\"axis_line_alpha\":0.4,\"axis_line_color\":\"#E0E0E0\",\"coordinates\":null,\"formatter\":{\"id\":\"1348\"},\"group\":null,\"major_label_policy\":{\"id\":\"1349\"},\"major_label_text_color\":\"#E0E0E0\",\"major_label_text_font\":\"Josefin Sans\",\"major_label_text_font_size\":\"1.15em\",\"major_tick_line_alpha\":0.4,\"major_tick_line_color\":\"#E0E0E0\",\"minor_tick_line_alpha\":0.4,\"minor_tick_line_color\":\"#E0E0E0\",\"ticker\":{\"id\":\"1315\"}},\"id\":\"1314\",\"type\":\"LinearAxis\"},{\"attributes\":{\"client_comm_id\":\"e2bf08c0c6954cceb6be16f61c5fb851\",\"comm_id\":\"72ebc8715c5f415383cf28c426912651\",\"plot_id\":\"1364\"},\"id\":\"1532\",\"type\":\"panel.models.comm_manager.CommManager\"},{\"attributes\":{\"bottom_units\":\"screen\",\"coordinates\":null,\"fill_alpha\":0.5,\"fill_color\":\"lightgrey\",\"group\":null,\"left_units\":\"screen\",\"level\":\"overlay\",\"line_alpha\":1.0,\"line_color\":\"black\",\"line_dash\":[4,4],\"line_width\":2,\"right_units\":\"screen\",\"syncable\":false,\"top_units\":\"screen\"},\"id\":\"1390\",\"type\":\"BoxAnnotation\"},{\"attributes\":{},\"id\":\"1250\",\"type\":\"DataRange1d\"},{\"attributes\":{\"coordinates\":null,\"group\":null,\"text\":\"Problem 3\",\"text_color\":\"#E0E0E0\",\"text_font\":\"Josefin Sans\",\"text_font_size\":\"2.1em\"},\"id\":\"1304\",\"type\":\"Title\"},{\"attributes\":{},\"id\":\"1209\",\"type\":\"SaveTool\"},{\"attributes\":{},\"id\":\"1252\",\"type\":\"LinearScale\"},{\"attributes\":{},\"id\":\"1234\",\"type\":\"UnionRenderers\"},{\"attributes\":{\"tools\":[{\"id\":\"1322\"},{\"id\":\"1323\"},{\"id\":\"1324\"},{\"id\":\"1325\"},{\"id\":\"1326\"},{\"id\":\"1327\"},{\"id\":\"1355\"},{\"id\":\"1359\"}]},\"id\":\"1329\",\"type\":\"Toolbar\"}],\"root_ids\":[\"1364\",\"1532\"]},\"title\":\"Bokeh Application\",\"version\":\"2.4.3\"}};\n",
              "    var render_items = [{\"docid\":\"a8ad2a67-acb3-4f22-a36c-da953b579461\",\"root_ids\":[\"1364\"],\"roots\":{\"1364\":\"d7eaeca0-4362-4f9a-b4ea-eaf6e24628b5\"}}];\n",
              "    root.Bokeh.embed.embed_items_notebook(docs_json, render_items);\n",
              "    for (const render_item of render_items) {\n",
              "      for (const root_id of render_item.root_ids) {\n",
              "\tconst id_el = document.getElementById(root_id)\n",
              "\tif (id_el.children.length && (id_el.children[0].className === 'bk-root')) {\n",
              "\t  const root_el = id_el.children[0]\n",
              "\t  root_el.id = root_el.id + '-rendered'\n",
              "\t}\n",
              "      }\n",
              "    }\n",
              "  }\n",
              "  if (root.Bokeh !== undefined && root.Bokeh.Panel !== undefined) {\n",
              "    embed_document(root);\n",
              "  } else {\n",
              "    var attempts = 0;\n",
              "    var timer = setInterval(function(root) {\n",
              "      if (root.Bokeh !== undefined && root.Bokeh.Panel !== undefined) {\n",
              "        clearInterval(timer);\n",
              "        embed_document(root);\n",
              "      } else if (document.readyState == \"complete\") {\n",
              "        attempts++;\n",
              "        if (attempts > 200) {\n",
              "          clearInterval(timer);\n",
              "          console.log(\"Bokeh: ERROR: Unable to run BokehJS code because BokehJS library is missing\");\n",
              "        }\n",
              "      }\n",
              "    }, 25, root)\n",
              "  }\n",
              "})(window);</script>"
            ],
            "text/plain": [
              "Row\n",
              "    [0] HSpacer()\n",
              "    [1] Bokeh(Column)\n",
              "    [2] HSpacer()"
            ]
          },
          "execution_count": 7,
          "metadata": {
            "application/vnd.holoviews_exec.v0+json": {
              "id": "1364"
            }
          },
          "output_type": "execute_result"
        }
      ],
      "source": [
        "from bokeh.models import Div\n",
        "from bokeh.layouts import column, row\n",
        "plot = center_plot(column(Div(text = \"Observing different problems\", style={'font-size': '250%'}), row(*plots)))\n",
        "plot"
      ]
    },
    {
      "attachments": {},
      "cell_type": "markdown",
      "metadata": {
        "id": "A12bt_SHf-po"
      },
      "source": [
        "In real-life settings, this function can also have different levels of noise, as exemplified in the following code."
      ]
    },
    {
      "cell_type": "code",
      "execution_count": 8,
      "metadata": {
        "id": "gj06gQxCf-po"
      },
      "outputs": [],
      "source": [
        "params = [3, 0, 1]\n",
        "noise_levels = [0.1, 1.0, 8.0]\n",
        "# Generating the x axis\n",
        "x = np.linspace(0, 1, 100)\n",
        "plots = []\n",
        "for p in range(len(noise_levels)):\n",
        "    poly = np.poly1d(params)\n",
        "    epsilon = np.random.uniform(-noise_levels[p],noise_levels[p],x.shape)\n",
        "    y = poly(x) + epsilon\n",
        "    plots.append(scatter(x, y, title=\"Problem \"+(str(p+1))))"
      ]
    },
    {
      "cell_type": "code",
      "execution_count": 9,
      "metadata": {
        "colab": {
          "base_uri": "https://localhost:8080/",
          "height": 1000
        },
        "id": "IHbb09O3f-po",
        "outputId": "78f890e0-af6e-44d8-977f-238d75157e67"
      },
      "outputs": [
        {
          "data": {},
          "metadata": {},
          "output_type": "display_data"
        },
        {
          "data": {
            "application/vnd.holoviews_exec.v0+json": "",
            "text/html": [
              "<div id='1875'>\n",
              "  <div class=\"bk-root\" id=\"ac56491e-95b7-4af6-ae82-b8bfa162bebb\" data-root-id=\"1875\"></div>\n",
              "</div>\n",
              "<script type=\"application/javascript\">(function(root) {\n",
              "  function embed_document(root) {\n",
              "    var docs_json = {\"a05d95b4-0ad7-4369-b682-ab300e271c4f\":{\"defs\":[{\"extends\":null,\"module\":null,\"name\":\"ReactiveHTML1\",\"overrides\":[],\"properties\":[]},{\"extends\":null,\"module\":null,\"name\":\"FlexBox1\",\"overrides\":[],\"properties\":[{\"default\":\"flex-start\",\"kind\":null,\"name\":\"align_content\"},{\"default\":\"flex-start\",\"kind\":null,\"name\":\"align_items\"},{\"default\":\"row\",\"kind\":null,\"name\":\"flex_direction\"},{\"default\":\"wrap\",\"kind\":null,\"name\":\"flex_wrap\"},{\"default\":\"flex-start\",\"kind\":null,\"name\":\"justify_content\"}]},{\"extends\":null,\"module\":null,\"name\":\"GridStack1\",\"overrides\":[],\"properties\":[{\"default\":\"warn\",\"kind\":null,\"name\":\"mode\"},{\"default\":null,\"kind\":null,\"name\":\"ncols\"},{\"default\":null,\"kind\":null,\"name\":\"nrows\"},{\"default\":true,\"kind\":null,\"name\":\"allow_resize\"},{\"default\":true,\"kind\":null,\"name\":\"allow_drag\"},{\"default\":[],\"kind\":null,\"name\":\"state\"}]},{\"extends\":null,\"module\":null,\"name\":\"click1\",\"overrides\":[],\"properties\":[{\"default\":\"\",\"kind\":null,\"name\":\"terminal_output\"},{\"default\":\"\",\"kind\":null,\"name\":\"debug_name\"},{\"default\":0,\"kind\":null,\"name\":\"clears\"}]},{\"extends\":null,\"module\":null,\"name\":\"NotificationAreaBase1\",\"overrides\":[],\"properties\":[{\"default\":\"bottom-right\",\"kind\":null,\"name\":\"position\"},{\"default\":0,\"kind\":null,\"name\":\"_clear\"}]},{\"extends\":null,\"module\":null,\"name\":\"NotificationArea1\",\"overrides\":[],\"properties\":[{\"default\":[],\"kind\":null,\"name\":\"notifications\"},{\"default\":\"bottom-right\",\"kind\":null,\"name\":\"position\"},{\"default\":0,\"kind\":null,\"name\":\"_clear\"},{\"default\":[{\"background\":\"#ffc107\",\"icon\":{\"className\":\"fas fa-exclamation-triangle\",\"color\":\"white\",\"tagName\":\"i\"},\"type\":\"warning\"},{\"background\":\"#007bff\",\"icon\":{\"className\":\"fas fa-info-circle\",\"color\":\"white\",\"tagName\":\"i\"},\"type\":\"info\"}],\"kind\":null,\"name\":\"types\"}]},{\"extends\":null,\"module\":null,\"name\":\"Notification\",\"overrides\":[],\"properties\":[{\"default\":null,\"kind\":null,\"name\":\"background\"},{\"default\":3000,\"kind\":null,\"name\":\"duration\"},{\"default\":null,\"kind\":null,\"name\":\"icon\"},{\"default\":\"\",\"kind\":null,\"name\":\"message\"},{\"default\":null,\"kind\":null,\"name\":\"notification_type\"},{\"default\":false,\"kind\":null,\"name\":\"_destroyed\"}]},{\"extends\":null,\"module\":null,\"name\":\"TemplateActions1\",\"overrides\":[],\"properties\":[{\"default\":0,\"kind\":null,\"name\":\"open_modal\"},{\"default\":0,\"kind\":null,\"name\":\"close_modal\"}]},{\"extends\":null,\"module\":null,\"name\":\"MaterialTemplateActions1\",\"overrides\":[],\"properties\":[{\"default\":0,\"kind\":null,\"name\":\"open_modal\"},{\"default\":0,\"kind\":null,\"name\":\"close_modal\"}]}],\"roots\":{\"references\":[{\"attributes\":{\"background_fill_alpha\":0.25,\"background_fill_color\":\"#505050\",\"border_line_alpha\":0.25,\"coordinates\":null,\"group\":null,\"items\":[{\"id\":\"1865\"}],\"label_standoff\":8,\"label_text_color\":\"#E0E0E0\",\"label_text_font\":\"Josefin Sans\",\"label_text_font_size\":\"1.15em\",\"spacing\":8},\"id\":\"1864\",\"type\":\"Legend\"},{\"attributes\":{\"overlay\":{\"id\":\"1723\"}},\"id\":\"1719\",\"type\":\"BoxZoomTool\"},{\"attributes\":{},\"id\":\"1817\",\"type\":\"DataRange1d\"},{\"attributes\":{\"bottom_units\":\"screen\",\"coordinates\":null,\"fill_alpha\":0.5,\"fill_color\":\"lightgrey\",\"group\":null,\"left_units\":\"screen\",\"level\":\"overlay\",\"line_alpha\":1.0,\"line_color\":\"black\",\"line_dash\":[4,4],\"line_width\":2,\"right_units\":\"screen\",\"syncable\":false,\"top_units\":\"screen\"},\"id\":\"1723\",\"type\":\"BoxAnnotation\"},{\"attributes\":{\"source\":{\"id\":\"1731\"}},\"id\":\"1737\",\"type\":\"CDSView\"},{\"attributes\":{\"fill_alpha\":{\"value\":0.25},\"fill_color\":{\"value\":\"midnightblue\"},\"hatch_alpha\":{\"value\":0.25},\"line_alpha\":{\"value\":0.25},\"line_color\":{\"value\":\"white\"},\"size\":{\"value\":10},\"x\":{\"field\":\"x\"},\"y\":{\"field\":\"y\"}},\"id\":\"1790\",\"type\":\"Circle\"},{\"attributes\":{\"coordinates\":null,\"data_source\":{\"id\":\"1847\"},\"glyph\":{\"id\":\"1848\"},\"group\":null,\"hover_glyph\":{\"id\":\"1850\"},\"muted_glyph\":{\"id\":\"1851\"},\"nonselection_glyph\":{\"id\":\"1869\"},\"selection_glyph\":{\"id\":\"1868\"},\"view\":{\"id\":\"1853\"}},\"id\":\"1852\",\"type\":\"GlyphRenderer\"},{\"attributes\":{},\"id\":\"1721\",\"type\":\"ResetTool\"},{\"attributes\":{\"bottom_units\":\"screen\",\"coordinates\":null,\"fill_alpha\":0.5,\"fill_color\":\"lightgrey\",\"group\":null,\"left_units\":\"screen\",\"level\":\"overlay\",\"line_alpha\":1.0,\"line_color\":\"black\",\"line_dash\":[4,4],\"line_width\":2,\"right_units\":\"screen\",\"syncable\":false,\"top_units\":\"screen\"},\"id\":\"1909\",\"type\":\"BoxAnnotation\"},{\"attributes\":{\"background_fill_alpha\":0.25,\"background_fill_color\":\"#505050\",\"border_line_alpha\":0.25,\"coordinates\":null,\"group\":null,\"items\":[{\"id\":\"1749\"}],\"label_standoff\":8,\"label_text_color\":\"#E0E0E0\",\"label_text_font\":\"Josefin Sans\",\"label_text_font_size\":\"1.15em\",\"spacing\":8},\"id\":\"1748\",\"type\":\"Legend\"},{\"attributes\":{},\"id\":\"1718\",\"type\":\"WheelZoomTool\"},{\"attributes\":{},\"id\":\"1710\",\"type\":\"BasicTicker\"},{\"attributes\":{\"coordinates\":null,\"group\":null,\"text\":\"Problem 1\",\"text_color\":\"#E0E0E0\",\"text_font\":\"Josefin Sans\",\"text_font_size\":\"2.1em\"},\"id\":\"1699\",\"type\":\"Title\"},{\"attributes\":{},\"id\":\"1819\",\"type\":\"DataRange1d\"},{\"attributes\":{},\"id\":\"1717\",\"type\":\"PanTool\"},{\"attributes\":{},\"id\":\"1856\",\"type\":\"BasicTickFormatter\"},{\"attributes\":{\"style\":{\"font-size\":\"250%\"},\"text\":\"Different amounts of noise\"},\"id\":\"1872\",\"type\":\"Div\"},{\"attributes\":{\"axis_label\":\"x\",\"axis_label_standoff\":10,\"axis_label_text_color\":\"#FFFFFF\",\"axis_label_text_font\":\"Josefin Sans\",\"axis_label_text_font_size\":\"1.9em\",\"axis_label_text_font_style\":\"bold\",\"axis_line_alpha\":0.4,\"axis_line_color\":\"#E0E0E0\",\"coordinates\":null,\"formatter\":{\"id\":\"1859\"},\"group\":null,\"major_label_policy\":{\"id\":\"1860\"},\"major_label_text_color\":\"#E0E0E0\",\"major_label_text_font\":\"Josefin Sans\",\"major_label_text_font_size\":\"1.15em\",\"major_tick_line_alpha\":0.4,\"major_tick_line_color\":\"#E0E0E0\",\"minor_tick_line_alpha\":0.4,\"minor_tick_line_color\":\"#E0E0E0\",\"ticker\":{\"id\":\"1826\"}},\"id\":\"1825\",\"type\":\"LinearAxis\"},{\"attributes\":{},\"id\":\"1857\",\"type\":\"AllLabels\"},{\"attributes\":{},\"id\":\"1722\",\"type\":\"HelpTool\"},{\"attributes\":{},\"id\":\"1798\",\"type\":\"BasicTickFormatter\"},{\"attributes\":{\"source\":{\"id\":\"1847\"}},\"id\":\"1853\",\"type\":\"CDSView\"},{\"attributes\":{},\"id\":\"1799\",\"type\":\"AllLabels\"},{\"attributes\":{\"fill_alpha\":{\"value\":0.8},\"fill_color\":{\"value\":\"red\"},\"line_color\":{\"value\":\"white\"}},\"id\":\"1868\",\"type\":\"Circle\"},{\"attributes\":{\"label\":{\"value\":\"Observations\"},\"renderers\":[{\"id\":\"1852\"}]},\"id\":\"1865\",\"type\":\"LegendItem\"},{\"attributes\":{\"background_fill_alpha\":0.9,\"background_fill_color\":\"#0f0f0f\",\"below\":[{\"id\":\"1709\"}],\"border_fill_alpha\":0.8,\"border_fill_color\":\"#111111\",\"center\":[{\"id\":\"1712\"},{\"id\":\"1716\"},{\"id\":\"1748\"}],\"height\":450,\"left\":[{\"id\":\"1713\"}],\"outline_line_alpha\":0.25,\"outline_line_color\":\"#E0E0E0\",\"outline_line_width\":3,\"renderers\":[{\"id\":\"1736\"}],\"title\":{\"id\":\"1699\"},\"toolbar\":{\"id\":\"1724\"},\"toolbar_location\":null,\"x_range\":{\"id\":\"1701\"},\"x_scale\":{\"id\":\"1705\"},\"y_range\":{\"id\":\"1703\"},\"y_scale\":{\"id\":\"1707\"}},\"id\":\"1698\",\"subtype\":\"Figure\",\"type\":\"Plot\"},{\"attributes\":{\"fill_alpha\":{\"value\":0.8},\"fill_color\":{\"value\":\"red\"},\"line_color\":{\"value\":\"white\"}},\"id\":\"1752\",\"type\":\"Circle\"},{\"attributes\":{\"label\":{\"value\":\"Observations\"},\"renderers\":[{\"id\":\"1736\"}]},\"id\":\"1749\",\"type\":\"LegendItem\"},{\"attributes\":{},\"id\":\"1859\",\"type\":\"BasicTickFormatter\"},{\"attributes\":{},\"id\":\"1802\",\"type\":\"AllLabels\"},{\"attributes\":{\"mode\":\"append\",\"overlay\":{\"id\":\"1909\"},\"renderers\":[{\"id\":\"1852\"}]},\"id\":\"1870\",\"type\":\"BoxSelectTool\"},{\"attributes\":{\"mode\":\"append\",\"overlay\":{\"id\":\"1901\"},\"renderers\":[{\"id\":\"1736\"}]},\"id\":\"1754\",\"type\":\"BoxSelectTool\"},{\"attributes\":{},\"id\":\"1701\",\"type\":\"DataRange1d\"},{\"attributes\":{\"callback\":null,\"mode\":\"vline\",\"renderers\":[{\"id\":\"1852\"}],\"tooltips\":null},\"id\":\"1866\",\"type\":\"HoverTool\"},{\"attributes\":{},\"id\":\"1860\",\"type\":\"AllLabels\"},{\"attributes\":{},\"id\":\"1703\",\"type\":\"DataRange1d\"},{\"attributes\":{\"callback\":null,\"mode\":\"vline\",\"renderers\":[{\"id\":\"1736\"}],\"tooltips\":null},\"id\":\"1750\",\"type\":\"HoverTool\"},{\"attributes\":{},\"id\":\"1705\",\"type\":\"LinearScale\"},{\"attributes\":{\"background_fill_alpha\":0.9,\"background_fill_color\":\"#0f0f0f\",\"below\":[{\"id\":\"1825\"}],\"border_fill_alpha\":0.8,\"border_fill_color\":\"#111111\",\"center\":[{\"id\":\"1828\"},{\"id\":\"1832\"},{\"id\":\"1864\"}],\"height\":450,\"left\":[{\"id\":\"1829\"}],\"outline_line_alpha\":0.25,\"outline_line_color\":\"#E0E0E0\",\"outline_line_width\":3,\"renderers\":[{\"id\":\"1852\"}],\"title\":{\"id\":\"1815\"},\"toolbar\":{\"id\":\"1840\"},\"toolbar_location\":null,\"x_range\":{\"id\":\"1817\"},\"x_scale\":{\"id\":\"1821\"},\"y_range\":{\"id\":\"1819\"},\"y_scale\":{\"id\":\"1823\"}},\"id\":\"1814\",\"subtype\":\"Figure\",\"type\":\"Plot\"},{\"attributes\":{\"background_fill_alpha\":0.9,\"background_fill_color\":\"#0f0f0f\",\"below\":[{\"id\":\"1767\"}],\"border_fill_alpha\":0.8,\"border_fill_color\":\"#111111\",\"center\":[{\"id\":\"1770\"},{\"id\":\"1774\"},{\"id\":\"1806\"}],\"height\":450,\"left\":[{\"id\":\"1771\"}],\"outline_line_alpha\":0.25,\"outline_line_color\":\"#E0E0E0\",\"outline_line_width\":3,\"renderers\":[{\"id\":\"1794\"}],\"title\":{\"id\":\"1757\"},\"toolbar\":{\"id\":\"1782\"},\"toolbar_location\":null,\"x_range\":{\"id\":\"1759\"},\"x_scale\":{\"id\":\"1763\"},\"y_range\":{\"id\":\"1761\"},\"y_scale\":{\"id\":\"1765\"}},\"id\":\"1756\",\"subtype\":\"Figure\",\"type\":\"Plot\"},{\"attributes\":{\"data\":{\"x\":{\"__ndarray__\":\"AAAAAAAAAABbv1Kg1q+EP1u/UqDWr5Q/CB988MEHnz9bv1Kg1q+kPzJvZ0jM26k/CB988MEHrz9wZ0jM2xmyP1u/UqDWr7Q/RhdddNFFtz8yb2dIzNu5Px3HcRzHcbw/CB988MEHvz96O0Ni3s7AP3BnSMzbGcI/ZZNNNtlkwz9bv1Kg1q/EP1HrVwrU+sU/RhdddNFFxz88Q2LezpDIPzJvZ0jM28k/J5tssskmyz8dx3Ecx3HMPxPzdobEvM0/CB988MEHzz9/pUCtXynQP3o7Q2LeztA/ddFFF1100T9wZ0jM2xnSP2r9SoFav9I/ZZNNNtlk0z9gKVDrVwrUP1u/UqDWr9Q/VlVVVVVV1T9R61cK1PrVP0yBWr9SoNY/RhdddNFF1z9BrV8pUOvXPzxDYt7OkNg/N9lkk0022T8yb2dIzNvZPy0Fav1Kgdo/J5tssskm2z8iMW9nSMzbPx3HcRzHcdw/GF100UUX3T8T83aGxLzdPw6JeTtDYt4/CB988MEH3z8DtX6lQK3fP3+lQK1fKeA/ffDBBx984D96O0Ni3s7gP3eGxLydIeE/ddFFF1104T9yHMdxHMfhP3BnSMzbGeI/bbLJJpts4j9q/UqBWr/iP2hIzNsZEuM/ZZNNNtlk4z9j3s6QmLfjP2ApUOtXCuQ/XnTRRRdd5D9bv1Kg1q/kP1gK1PqVAuU/VlVVVVVV5T9ToNavFKjlP1HrVwrU+uU/TjbZZJNN5j9MgVq/UqDmP0nM2xkS8+Y/RhdddNFF5z9EYt7OkJjnP0GtXylQ6+c/P/jggw8+6D88Q2LezpDoPzmO4ziO4+g/N9lkk0026T80JObtDInpPzJvZ0jM2+k/L7rooosu6j8tBWr9SoHqPypQ61cK1Oo/J5tssskm6z8l5u0MiXnrPyIxb2dIzOs/IHzwwQcf7D8dx3Ecx3HsPxsS83aGxOw/GF100UUX7T8VqPUrBWrtPxPzdobEvO0/ED744IMP7j8OiXk7Q2LuPwvU+pUCte4/CB988MEH7z8Gav1KgVrvPwO1fqVAre8/AAAAAAAA8D8=\",\"dtype\":\"float64\",\"order\":\"little\",\"shape\":[100]},\"y\":{\"__ndarray__\":\"X5t9se637j/MVpUm/hHwPxlyx5LCp+0/5dM7yEaL8T/Niuh9AZDtP8IUx07esu8/CQo0t+G/8D+BVx63AYfxPyZMKMM3aO4/MTOck+UC8D8VBob3qUXuPwt588nOd/A/MBY9D70c8D/SNkJ9g+LwP7kIQVq4GPI/MlL5AZiD8j/PnVA9drDxPxbSEbcF5fI/Z80YsT1a8T//Zf+mG7fxP5/vk2UZN/M/tvJk23fA8T+t4h9GByPxP0LppKKkLfM/5hqlbb1w8z8nxrroYCXzPzB/o5rmevM/kmJmVWMB8z+sneGs5Qr0PxiZSQrWqPU/sKHeTLmo8z/KT6D9WmLzP7Ilr3sjh/M/FdVnR/BV9D+65KsEsiz2P1w1EDh7Uvc/SSgm42bR9z9qp1cc0SH3PwlXouHaevg/4S+EZEwb9z+BY29ag3b4P3ugkMflxfk/8CCjCOtQ9z9UVJG4HBX6P0j6MDRiTfk/mWJlkh3h+D/Iijy/PpH7PwyqLSjzd/s/iDKIApNv+j8cCcaNUyf7PxFHf1Y+9fs/cAkSgCWS/D++72YWQ3f+P/3yjDvUBP0/7YvUd0Mt/j9Rx3+hcWX+P9DnnlrIaABA4PeyO1E4AEDfxbXPfuL+PxdnN/uH2wBAMrZAJIkLAEAWlf5d2jwBQHVL4CHUiQFABTZO5MGCAkBByAbZkl8CQKSvlgVkOQJAw5KuWhGEAkAKK0qRU2QCQEAg2izWOgNAwlCN+LizA0DJ0i8oe2gDQB/NvGi1FQVActHZDeMgBUDNWocaOFMEQJ13E7++6gVAJqTNAD+PBUDUn+PW10QGQOYI2pbuSwdAJN85jvz7BkASgTLR3N8GQLGhXIN7NwhAVSNvcWlDCECXfp3zWtoHQGzvnDMW+whArDexFUuWCEB+eP6bzwgKQHZoZPFxUglAbQvXEhQbCkC8/6awn2ELQDFEptfjzQpA79PiPdfjC0AgYAWNztsMQO+0gFa4eQxAVoyM85nSDED4aG5gY/MMQFAhiarztQ1A45MBwpxKDkA1uFtWX48OQD+QqKwduQ9A8c9tfBTuD0A=\",\"dtype\":\"float64\",\"order\":\"little\",\"shape\":[100]}},\"selected\":{\"id\":\"1746\"},\"selection_policy\":{\"id\":\"1745\"}},\"id\":\"1731\",\"type\":\"ColumnDataSource\"},{\"attributes\":{\"axis\":{\"id\":\"1825\"},\"coordinates\":null,\"grid_line_alpha\":0.15,\"grid_line_color\":\"#E0E0E0\",\"group\":null,\"ticker\":null},\"id\":\"1828\",\"type\":\"Grid\"},{\"attributes\":{\"fill_alpha\":{\"value\":0.8},\"fill_color\":{\"value\":\"red\"},\"line_color\":{\"value\":\"white\"}},\"id\":\"1810\",\"type\":\"Circle\"},{\"attributes\":{},\"id\":\"1801\",\"type\":\"BasicTickFormatter\"},{\"attributes\":{\"fill_alpha\":{\"value\":0.5},\"fill_color\":{\"value\":\"midnightblue\"},\"line_color\":{\"value\":\"white\"}},\"id\":\"1869\",\"type\":\"Circle\"},{\"attributes\":{},\"id\":\"1740\",\"type\":\"BasicTickFormatter\"},{\"attributes\":{},\"id\":\"1838\",\"type\":\"HelpTool\"},{\"attributes\":{\"label\":{\"value\":\"Observations\"},\"renderers\":[{\"id\":\"1794\"}]},\"id\":\"1807\",\"type\":\"LegendItem\"},{\"attributes\":{\"fill_alpha\":{\"value\":0.5},\"fill_color\":{\"value\":\"midnightblue\"},\"line_color\":{\"value\":\"white\"}},\"id\":\"1753\",\"type\":\"Circle\"},{\"attributes\":{},\"id\":\"1826\",\"type\":\"BasicTicker\"},{\"attributes\":{\"mode\":\"append\",\"overlay\":{\"id\":\"1905\"},\"renderers\":[{\"id\":\"1794\"}]},\"id\":\"1812\",\"type\":\"BoxSelectTool\"},{\"attributes\":{},\"id\":\"1741\",\"type\":\"AllLabels\"},{\"attributes\":{\"coordinates\":null,\"group\":null,\"text\":\"Problem 3\",\"text_color\":\"#E0E0E0\",\"text_font\":\"Josefin Sans\",\"text_font_size\":\"2.1em\"},\"id\":\"1815\",\"type\":\"Title\"},{\"attributes\":{},\"id\":\"1761\",\"type\":\"DataRange1d\"},{\"attributes\":{\"callback\":null,\"mode\":\"vline\",\"renderers\":[{\"id\":\"1794\"}],\"tooltips\":null},\"id\":\"1808\",\"type\":\"HoverTool\"},{\"attributes\":{},\"id\":\"1743\",\"type\":\"BasicTickFormatter\"},{\"attributes\":{},\"id\":\"1720\",\"type\":\"SaveTool\"},{\"attributes\":{},\"id\":\"1759\",\"type\":\"DataRange1d\"},{\"attributes\":{\"axis\":{\"id\":\"1829\"},\"coordinates\":null,\"dimension\":1,\"grid_line_alpha\":0.15,\"grid_line_color\":\"#E0E0E0\",\"group\":null,\"ticker\":null},\"id\":\"1832\",\"type\":\"Grid\"},{\"attributes\":{\"fill_alpha\":{\"value\":0.2},\"fill_color\":{\"value\":\"midnightblue\"},\"hatch_alpha\":{\"value\":0.2},\"line_alpha\":{\"value\":0.2},\"line_color\":{\"value\":\"white\"},\"size\":{\"value\":10},\"x\":{\"field\":\"x\"},\"y\":{\"field\":\"y\"}},\"id\":\"1735\",\"type\":\"Circle\"},{\"attributes\":{\"fill_alpha\":{\"value\":0.5},\"fill_color\":{\"value\":\"red\"},\"hatch_alpha\":{\"value\":0.5},\"line_alpha\":{\"value\":0.5},\"line_color\":{\"value\":\"white\"},\"size\":{\"value\":10},\"x\":{\"field\":\"x\"},\"y\":{\"field\":\"y\"}},\"id\":\"1734\",\"type\":\"Circle\"},{\"attributes\":{},\"id\":\"1744\",\"type\":\"AllLabels\"},{\"attributes\":{\"tools\":[{\"id\":\"1833\"},{\"id\":\"1834\"},{\"id\":\"1835\"},{\"id\":\"1836\"},{\"id\":\"1837\"},{\"id\":\"1838\"},{\"id\":\"1866\"},{\"id\":\"1870\"}]},\"id\":\"1840\",\"type\":\"Toolbar\"},{\"attributes\":{\"fill_alpha\":{\"value\":0.5},\"fill_color\":{\"value\":\"midnightblue\"},\"line_color\":{\"value\":\"white\"}},\"id\":\"1811\",\"type\":\"Circle\"},{\"attributes\":{},\"id\":\"1763\",\"type\":\"LinearScale\"},{\"attributes\":{},\"id\":\"1780\",\"type\":\"HelpTool\"},{\"attributes\":{\"axis_label\":\"y\",\"axis_label_standoff\":10,\"axis_label_text_color\":\"#FFFFFF\",\"axis_label_text_font\":\"Josefin Sans\",\"axis_label_text_font_size\":\"1.9em\",\"axis_label_text_font_style\":\"bold\",\"axis_line_alpha\":0.4,\"axis_line_color\":\"#E0E0E0\",\"coordinates\":null,\"formatter\":{\"id\":\"1856\"},\"group\":null,\"major_label_policy\":{\"id\":\"1857\"},\"major_label_text_color\":\"#E0E0E0\",\"major_label_text_font\":\"Josefin Sans\",\"major_label_text_font_size\":\"1.15em\",\"major_tick_line_alpha\":0.4,\"major_tick_line_color\":\"#E0E0E0\",\"minor_tick_line_alpha\":0.4,\"minor_tick_line_color\":\"#E0E0E0\",\"ticker\":{\"id\":\"1830\"}},\"id\":\"1829\",\"type\":\"LinearAxis\"},{\"attributes\":{\"fill_alpha\":{\"value\":0.25},\"fill_color\":{\"value\":\"midnightblue\"},\"hatch_alpha\":{\"value\":0.25},\"line_alpha\":{\"value\":0.25},\"line_color\":{\"value\":\"white\"},\"size\":{\"value\":10},\"x\":{\"field\":\"x\"},\"y\":{\"field\":\"y\"}},\"id\":\"1848\",\"type\":\"Circle\"},{\"attributes\":{},\"id\":\"1830\",\"type\":\"BasicTicker\"},{\"attributes\":{\"coordinates\":null,\"data_source\":{\"id\":\"1731\"},\"glyph\":{\"id\":\"1732\"},\"group\":null,\"hover_glyph\":{\"id\":\"1734\"},\"muted_glyph\":{\"id\":\"1735\"},\"nonselection_glyph\":{\"id\":\"1753\"},\"selection_glyph\":{\"id\":\"1752\"},\"view\":{\"id\":\"1737\"}},\"id\":\"1736\",\"type\":\"GlyphRenderer\"},{\"attributes\":{},\"id\":\"1768\",\"type\":\"BasicTicker\"},{\"attributes\":{\"fill_alpha\":{\"value\":0.5},\"fill_color\":{\"value\":\"red\"},\"hatch_alpha\":{\"value\":0.5},\"line_alpha\":{\"value\":0.5},\"line_color\":{\"value\":\"white\"},\"size\":{\"value\":10},\"x\":{\"field\":\"x\"},\"y\":{\"field\":\"y\"}},\"id\":\"1850\",\"type\":\"Circle\"},{\"attributes\":{\"coordinates\":null,\"group\":null,\"text\":\"Problem 2\",\"text_color\":\"#E0E0E0\",\"text_font\":\"Josefin Sans\",\"text_font_size\":\"2.1em\"},\"id\":\"1757\",\"type\":\"Title\"},{\"attributes\":{\"axis_label\":\"x\",\"axis_label_standoff\":10,\"axis_label_text_color\":\"#FFFFFF\",\"axis_label_text_font\":\"Josefin Sans\",\"axis_label_text_font_size\":\"1.9em\",\"axis_label_text_font_style\":\"bold\",\"axis_line_alpha\":0.4,\"axis_line_color\":\"#E0E0E0\",\"coordinates\":null,\"formatter\":{\"id\":\"1743\"},\"group\":null,\"major_label_policy\":{\"id\":\"1744\"},\"major_label_text_color\":\"#E0E0E0\",\"major_label_text_font\":\"Josefin Sans\",\"major_label_text_font_size\":\"1.15em\",\"major_tick_line_alpha\":0.4,\"major_tick_line_color\":\"#E0E0E0\",\"minor_tick_line_alpha\":0.4,\"minor_tick_line_color\":\"#E0E0E0\",\"ticker\":{\"id\":\"1710\"}},\"id\":\"1709\",\"type\":\"LinearAxis\"},{\"attributes\":{\"background_fill_alpha\":0.25,\"background_fill_color\":\"#505050\",\"border_line_alpha\":0.25,\"coordinates\":null,\"group\":null,\"items\":[{\"id\":\"1807\"}],\"label_standoff\":8,\"label_text_color\":\"#E0E0E0\",\"label_text_font\":\"Josefin Sans\",\"label_text_font_size\":\"1.15em\",\"spacing\":8},\"id\":\"1806\",\"type\":\"Legend\"},{\"attributes\":{\"axis_label\":\"x\",\"axis_label_standoff\":10,\"axis_label_text_color\":\"#FFFFFF\",\"axis_label_text_font\":\"Josefin Sans\",\"axis_label_text_font_size\":\"1.9em\",\"axis_label_text_font_style\":\"bold\",\"axis_line_alpha\":0.4,\"axis_line_color\":\"#E0E0E0\",\"coordinates\":null,\"formatter\":{\"id\":\"1801\"},\"group\":null,\"major_label_policy\":{\"id\":\"1802\"},\"major_label_text_color\":\"#E0E0E0\",\"major_label_text_font\":\"Josefin Sans\",\"major_label_text_font_size\":\"1.15em\",\"major_tick_line_alpha\":0.4,\"major_tick_line_color\":\"#E0E0E0\",\"minor_tick_line_alpha\":0.4,\"minor_tick_line_color\":\"#E0E0E0\",\"ticker\":{\"id\":\"1768\"}},\"id\":\"1767\",\"type\":\"LinearAxis\"},{\"attributes\":{\"axis_label\":\"y\",\"axis_label_standoff\":10,\"axis_label_text_color\":\"#FFFFFF\",\"axis_label_text_font\":\"Josefin Sans\",\"axis_label_text_font_size\":\"1.9em\",\"axis_label_text_font_style\":\"bold\",\"axis_line_alpha\":0.4,\"axis_line_color\":\"#E0E0E0\",\"coordinates\":null,\"formatter\":{\"id\":\"1740\"},\"group\":null,\"major_label_policy\":{\"id\":\"1741\"},\"major_label_text_color\":\"#E0E0E0\",\"major_label_text_font\":\"Josefin Sans\",\"major_label_text_font_size\":\"1.15em\",\"major_tick_line_alpha\":0.4,\"major_tick_line_color\":\"#E0E0E0\",\"minor_tick_line_alpha\":0.4,\"minor_tick_line_color\":\"#E0E0E0\",\"ticker\":{\"id\":\"1714\"}},\"id\":\"1713\",\"type\":\"LinearAxis\"},{\"attributes\":{\"source\":{\"id\":\"1789\"}},\"id\":\"1795\",\"type\":\"CDSView\"},{\"attributes\":{},\"id\":\"1834\",\"type\":\"WheelZoomTool\"},{\"attributes\":{\"axis_label\":\"y\",\"axis_label_standoff\":10,\"axis_label_text_color\":\"#FFFFFF\",\"axis_label_text_font\":\"Josefin Sans\",\"axis_label_text_font_size\":\"1.9em\",\"axis_label_text_font_style\":\"bold\",\"axis_line_alpha\":0.4,\"axis_line_color\":\"#E0E0E0\",\"coordinates\":null,\"formatter\":{\"id\":\"1798\"},\"group\":null,\"major_label_policy\":{\"id\":\"1799\"},\"major_label_text_color\":\"#E0E0E0\",\"major_label_text_font\":\"Josefin Sans\",\"major_label_text_font_size\":\"1.15em\",\"major_tick_line_alpha\":0.4,\"major_tick_line_color\":\"#E0E0E0\",\"minor_tick_line_alpha\":0.4,\"minor_tick_line_color\":\"#E0E0E0\",\"ticker\":{\"id\":\"1772\"}},\"id\":\"1771\",\"type\":\"LinearAxis\"},{\"attributes\":{},\"id\":\"1707\",\"type\":\"LinearScale\"},{\"attributes\":{},\"id\":\"1833\",\"type\":\"PanTool\"},{\"attributes\":{},\"id\":\"1765\",\"type\":\"LinearScale\"},{\"attributes\":{\"axis\":{\"id\":\"1709\"},\"coordinates\":null,\"grid_line_alpha\":0.15,\"grid_line_color\":\"#E0E0E0\",\"group\":null,\"ticker\":null},\"id\":\"1712\",\"type\":\"Grid\"},{\"attributes\":{\"overlay\":{\"id\":\"1839\"}},\"id\":\"1835\",\"type\":\"BoxZoomTool\"},{\"attributes\":{\"axis\":{\"id\":\"1767\"},\"coordinates\":null,\"grid_line_alpha\":0.15,\"grid_line_color\":\"#E0E0E0\",\"group\":null,\"ticker\":null},\"id\":\"1770\",\"type\":\"Grid\"},{\"attributes\":{\"children\":[{\"id\":\"1876\"},{\"id\":\"1874\"},{\"id\":\"1943\"}],\"margin\":[0,0,0,0],\"name\":\"Row00120\"},\"id\":\"1875\",\"type\":\"Row\"},{\"attributes\":{},\"id\":\"1836\",\"type\":\"SaveTool\"},{\"attributes\":{},\"id\":\"1745\",\"type\":\"UnionRenderers\"},{\"attributes\":{\"bottom_units\":\"screen\",\"coordinates\":null,\"fill_alpha\":0.5,\"fill_color\":\"lightgrey\",\"group\":null,\"left_units\":\"screen\",\"level\":\"overlay\",\"line_alpha\":1.0,\"line_color\":\"black\",\"line_dash\":[4,4],\"line_width\":2,\"right_units\":\"screen\",\"syncable\":false,\"top_units\":\"screen\"},\"id\":\"1901\",\"type\":\"BoxAnnotation\"},{\"attributes\":{\"margin\":[5,5,5,5],\"name\":\"HSpacer00117\",\"sizing_mode\":\"stretch_width\"},\"id\":\"1943\",\"type\":\"Spacer\"},{\"attributes\":{},\"id\":\"1837\",\"type\":\"ResetTool\"},{\"attributes\":{\"axis\":{\"id\":\"1771\"},\"coordinates\":null,\"dimension\":1,\"grid_line_alpha\":0.15,\"grid_line_color\":\"#E0E0E0\",\"group\":null,\"ticker\":null},\"id\":\"1774\",\"type\":\"Grid\"},{\"attributes\":{},\"id\":\"1772\",\"type\":\"BasicTicker\"},{\"attributes\":{\"margin\":[5,5,5,5],\"name\":\"HSpacer00116\",\"sizing_mode\":\"stretch_width\"},\"id\":\"1876\",\"type\":\"Spacer\"},{\"attributes\":{\"data\":{\"x\":{\"__ndarray__\":\"AAAAAAAAAABbv1Kg1q+EP1u/UqDWr5Q/CB988MEHnz9bv1Kg1q+kPzJvZ0jM26k/CB988MEHrz9wZ0jM2xmyP1u/UqDWr7Q/RhdddNFFtz8yb2dIzNu5Px3HcRzHcbw/CB988MEHvz96O0Ni3s7AP3BnSMzbGcI/ZZNNNtlkwz9bv1Kg1q/EP1HrVwrU+sU/RhdddNFFxz88Q2LezpDIPzJvZ0jM28k/J5tssskmyz8dx3Ecx3HMPxPzdobEvM0/CB988MEHzz9/pUCtXynQP3o7Q2LeztA/ddFFF1100T9wZ0jM2xnSP2r9SoFav9I/ZZNNNtlk0z9gKVDrVwrUP1u/UqDWr9Q/VlVVVVVV1T9R61cK1PrVP0yBWr9SoNY/RhdddNFF1z9BrV8pUOvXPzxDYt7OkNg/N9lkk0022T8yb2dIzNvZPy0Fav1Kgdo/J5tssskm2z8iMW9nSMzbPx3HcRzHcdw/GF100UUX3T8T83aGxLzdPw6JeTtDYt4/CB988MEH3z8DtX6lQK3fP3+lQK1fKeA/ffDBBx984D96O0Ni3s7gP3eGxLydIeE/ddFFF1104T9yHMdxHMfhP3BnSMzbGeI/bbLJJpts4j9q/UqBWr/iP2hIzNsZEuM/ZZNNNtlk4z9j3s6QmLfjP2ApUOtXCuQ/XnTRRRdd5D9bv1Kg1q/kP1gK1PqVAuU/VlVVVVVV5T9ToNavFKjlP1HrVwrU+uU/TjbZZJNN5j9MgVq/UqDmP0nM2xkS8+Y/RhdddNFF5z9EYt7OkJjnP0GtXylQ6+c/P/jggw8+6D88Q2LezpDoPzmO4ziO4+g/N9lkk0026T80JObtDInpPzJvZ0jM2+k/L7rooosu6j8tBWr9SoHqPypQ61cK1Oo/J5tssskm6z8l5u0MiXnrPyIxb2dIzOs/IHzwwQcf7D8dx3Ecx3HsPxsS83aGxOw/GF100UUX7T8VqPUrBWrtPxPzdobEvO0/ED744IMP7j8OiXk7Q2LuPwvU+pUCte4/CB988MEH7z8Gav1KgVrvPwO1fqVAre8/AAAAAAAA8D8=\",\"dtype\":\"float64\",\"order\":\"little\",\"shape\":[100]},\"y\":{\"__ndarray__\":\"iFtoUdcU6T9kS0jdZYb+P055OaQJaOk/E+rr2m1F9T9PMlmTeGb/P4CgUF1wG8w/MDsOKQLL0j84QsjT6W7fP0N8eVNTQ/E/Hk8i1W0fAEB0EgJwcl7TP0RVW5SAqd4/Utr0Qtcm+j9sQEtCFhTTP4BTo6SfrO8/i9HRqo0k+T8Q8WuvqX/NP0iatCD/eOU/WAnKZE3C7j9AmpsdHs3jP/qmI028Oe8/jQRSuIa8+z8aBGI/YgPpP3E4nGUesPg/ZIhDNsQU0j8oNgZw+CbyP5Dq3Cz2dOM/Ty2q0F189T9lFfh/PJb1PyAPIdYqmvw/PS1fNcQe+j8U2q/fyxjTP0l4JAjStvw/qboUlhmT/T95WC6B8PMAQBfN1ElLvfw/qoyUYeA48T/Cj5dIS4j/Pyo+uW0Z3wBAw/wuMosd8D8Ovfp/SN4DQGrx/ErPPgBAbtoJLNRk7z9MRwoyv0UAQIz1HTpL4gJAlThITQj9/T8RTfw1nHYBQDmmY8Z1Zv0/xDc5zGiN+D9Sj5RcgXDrPxSXkDaGywBAkFb8s2+ABEDtLXPSZuL8P1NwkdnDfgBA3+kqjkWA/z/M2YFnWykDQMpu/YQ44gRAM1ssM4IYBEABWctZCD4GQFTHXNC7NQhAYDUek03b9z9+dKwByZsFQKpcP0wDwvo/LvaCu98U9z+JmW1upeL+Pwi3ZYjUNvg/xPqqy8p/AUCnGXR/pWX+Py6eH0UgAgNA9fOT/0g//z/pc4vUdtYIQGTL9Zl5t/k/XEUPy68kA0DM/nQle2gIQIh131mVhAlAxYF+AY5qAkAIB0LqqZAKQOJECUiJOP8/L97Qn4ZAAkBYtdX8F6sNQNqEfOF9KQNAh2snYBzEDUBuRs15i18NQGoZD+bpYwVAgVCFmHyGEEAYERk29TkDQBRDwrhrnwVAjtChXEqCA0ASKuwcSdUIQOwrkLFEZQxAzLd6Km1xBkDl934Z/iUQQHwwb8RD8RBABmKKxajFCkD4+j2drNcNQIdTvUFcLQ1ATkLy0XZ4DEAZ0rbD9BUTQBqPviKDnhNAxO/mGDlSCUA=\",\"dtype\":\"float64\",\"order\":\"little\",\"shape\":[100]}},\"selected\":{\"id\":\"1804\"},\"selection_policy\":{\"id\":\"1803\"}},\"id\":\"1789\",\"type\":\"ColumnDataSource\"},{\"attributes\":{},\"id\":\"1746\",\"type\":\"Selection\"},{\"attributes\":{},\"id\":\"1776\",\"type\":\"WheelZoomTool\"},{\"attributes\":{\"bottom_units\":\"screen\",\"coordinates\":null,\"fill_alpha\":0.5,\"fill_color\":\"lightgrey\",\"group\":null,\"left_units\":\"screen\",\"level\":\"overlay\",\"line_alpha\":1.0,\"line_color\":\"black\",\"line_dash\":[4,4],\"line_width\":2,\"right_units\":\"screen\",\"syncable\":false,\"top_units\":\"screen\"},\"id\":\"1839\",\"type\":\"BoxAnnotation\"},{\"attributes\":{},\"id\":\"1804\",\"type\":\"Selection\"},{\"attributes\":{},\"id\":\"1775\",\"type\":\"PanTool\"},{\"attributes\":{},\"id\":\"1861\",\"type\":\"UnionRenderers\"},{\"attributes\":{},\"id\":\"1821\",\"type\":\"LinearScale\"},{\"attributes\":{\"overlay\":{\"id\":\"1781\"}},\"id\":\"1777\",\"type\":\"BoxZoomTool\"},{\"attributes\":{\"data\":{\"x\":{\"__ndarray__\":\"AAAAAAAAAABbv1Kg1q+EP1u/UqDWr5Q/CB988MEHnz9bv1Kg1q+kPzJvZ0jM26k/CB988MEHrz9wZ0jM2xmyP1u/UqDWr7Q/RhdddNFFtz8yb2dIzNu5Px3HcRzHcbw/CB988MEHvz96O0Ni3s7AP3BnSMzbGcI/ZZNNNtlkwz9bv1Kg1q/EP1HrVwrU+sU/RhdddNFFxz88Q2LezpDIPzJvZ0jM28k/J5tssskmyz8dx3Ecx3HMPxPzdobEvM0/CB988MEHzz9/pUCtXynQP3o7Q2LeztA/ddFFF1100T9wZ0jM2xnSP2r9SoFav9I/ZZNNNtlk0z9gKVDrVwrUP1u/UqDWr9Q/VlVVVVVV1T9R61cK1PrVP0yBWr9SoNY/RhdddNFF1z9BrV8pUOvXPzxDYt7OkNg/N9lkk0022T8yb2dIzNvZPy0Fav1Kgdo/J5tssskm2z8iMW9nSMzbPx3HcRzHcdw/GF100UUX3T8T83aGxLzdPw6JeTtDYt4/CB988MEH3z8DtX6lQK3fP3+lQK1fKeA/ffDBBx984D96O0Ni3s7gP3eGxLydIeE/ddFFF1104T9yHMdxHMfhP3BnSMzbGeI/bbLJJpts4j9q/UqBWr/iP2hIzNsZEuM/ZZNNNtlk4z9j3s6QmLfjP2ApUOtXCuQ/XnTRRRdd5D9bv1Kg1q/kP1gK1PqVAuU/VlVVVVVV5T9ToNavFKjlP1HrVwrU+uU/TjbZZJNN5j9MgVq/UqDmP0nM2xkS8+Y/RhdddNFF5z9EYt7OkJjnP0GtXylQ6+c/P/jggw8+6D88Q2LezpDoPzmO4ziO4+g/N9lkk0026T80JObtDInpPzJvZ0jM2+k/L7rooosu6j8tBWr9SoHqPypQ61cK1Oo/J5tssskm6z8l5u0MiXnrPyIxb2dIzOs/IHzwwQcf7D8dx3Ecx3HsPxsS83aGxOw/GF100UUX7T8VqPUrBWrtPxPzdobEvO0/ED744IMP7j8OiXk7Q2LuPwvU+pUCte4/CB988MEH7z8Gav1KgVrvPwO1fqVAre8/AAAAAAAA8D8=\",\"dtype\":\"float64\",\"order\":\"little\",\"shape\":[100]},\"y\":{\"__ndarray__\":\"IqINGbEVHEDAk960wJa1P4642ZSHXfw/Tqk+R+DHF8Aba0BMOaQBwEpzdYPDRP0/1G8+isjAF0BIuLxYvnkUwB2iDQgpyQPAeieewyEXDMDAFPRNimndP0lTETUmUx5AEOWorWfYGcB0CEyTp/UKwBypAGpk+RpAxoMBFG3REsBIdQvVte4cQLgg6LWYB/6/BehC377oGUCGRrjMHysDwIy8FFgZEARA8p3Wb/ZyF8D5AzTIpkkiQMLTYh7uuBhA3M7K3WRaFcCy0YGbLf4RwADEdKvFKue/yJlGoEq3IEBACFr8jUa6v0zazA0slglA+v8JFDb6EECOWec/mw8UQP2Zr2COYhdACDAGXBNjIEBy1h/U5Q0fQPidukCyMgNA8y12vuaJAUDXSYPGyPATwBHOGTI8xRRAWOKTQjNn878nNoKQ7QsTQATOAe0ZQhFAmL0KjYTrGkBWEfCxIfMBQNkH1WnLphPAmvFf/doDCUA0Dtnckuv9P9Rpgxw8vuY/DAhbZVPLC8CmAUwWiTvrv/JuDbsqIhjARzcXxzJdCECcVfGQbKgLQISSDAm2iQzAytxx+m4AFECwQZfQ447Iv15kMvdTWCJAkDNqfCAo7j8uxm0NUFIiQAzQPTV3lSJAjW/pLIQHBsCtxjGeI5cJQKrFNxjdMQXAaCYMTq/D9j9AxmaI2tMKwNqpqKUutxtAvBWcvnvQGUDkNgUoMyokQB+lPhdUexTAMssUJr+U/L9IPsJw3fjgvzZrwRKdWBBALGi76SFMGkBwKiR9qFzRv3EmZTKHsBdA85Gl31h1EEB/hNgYiVkSQFwSzXCJ+Q5APPV+QePmD8DV8nzcZzYUwPxF5u47kxJAVyZ0MMtoBMDEd7GAPYkZQLxU8lG1BgtA00sG4OczDUCYABIVSj8KQAd9dAXfmwFA9WBLSMX5AMCqex+eBMoWQIAeHUYF6/4/gsU9Y+UOB0BAxiSJ/j4QQBLzjuF5BxVAP4prRXWoJkA9weZ9cYgLQICb80bKmSFAsolJ/JG6FkBgaUZd+9zQv4J9zK2PFgTAIYJu2Q+PJkA=\",\"dtype\":\"float64\",\"order\":\"little\",\"shape\":[100]}},\"selected\":{\"id\":\"1862\"},\"selection_policy\":{\"id\":\"1861\"}},\"id\":\"1847\",\"type\":\"ColumnDataSource\"},{\"attributes\":{\"client_comm_id\":\"25f63fb7c0494ac2831623e270474c27\",\"comm_id\":\"71de4941c6aa49b1a9e6c46db4fe7f71\",\"plot_id\":\"1875\"},\"id\":\"2043\",\"type\":\"panel.models.comm_manager.CommManager\"},{\"attributes\":{},\"id\":\"1778\",\"type\":\"SaveTool\"},{\"attributes\":{},\"id\":\"1779\",\"type\":\"ResetTool\"},{\"attributes\":{},\"id\":\"1862\",\"type\":\"Selection\"},{\"attributes\":{\"children\":[{\"id\":\"1698\"},{\"id\":\"1756\"},{\"id\":\"1814\"}]},\"id\":\"1873\",\"type\":\"Row\"},{\"attributes\":{},\"id\":\"1823\",\"type\":\"LinearScale\"},{\"attributes\":{\"bottom_units\":\"screen\",\"coordinates\":null,\"fill_alpha\":0.5,\"fill_color\":\"lightgrey\",\"group\":null,\"left_units\":\"screen\",\"level\":\"overlay\",\"line_alpha\":1.0,\"line_color\":\"black\",\"line_dash\":[4,4],\"line_width\":2,\"right_units\":\"screen\",\"syncable\":false,\"top_units\":\"screen\"},\"id\":\"1781\",\"type\":\"BoxAnnotation\"},{\"attributes\":{\"coordinates\":null,\"data_source\":{\"id\":\"1789\"},\"glyph\":{\"id\":\"1790\"},\"group\":null,\"hover_glyph\":{\"id\":\"1792\"},\"muted_glyph\":{\"id\":\"1793\"},\"nonselection_glyph\":{\"id\":\"1811\"},\"selection_glyph\":{\"id\":\"1810\"},\"view\":{\"id\":\"1795\"}},\"id\":\"1794\",\"type\":\"GlyphRenderer\"},{\"attributes\":{\"axis\":{\"id\":\"1713\"},\"coordinates\":null,\"dimension\":1,\"grid_line_alpha\":0.15,\"grid_line_color\":\"#E0E0E0\",\"group\":null,\"ticker\":null},\"id\":\"1716\",\"type\":\"Grid\"},{\"attributes\":{\"fill_alpha\":{\"value\":0.2},\"fill_color\":{\"value\":\"midnightblue\"},\"hatch_alpha\":{\"value\":0.2},\"line_alpha\":{\"value\":0.2},\"line_color\":{\"value\":\"white\"},\"size\":{\"value\":10},\"x\":{\"field\":\"x\"},\"y\":{\"field\":\"y\"}},\"id\":\"1793\",\"type\":\"Circle\"},{\"attributes\":{},\"id\":\"1714\",\"type\":\"BasicTicker\"},{\"attributes\":{\"fill_alpha\":{\"value\":0.2},\"fill_color\":{\"value\":\"midnightblue\"},\"hatch_alpha\":{\"value\":0.2},\"line_alpha\":{\"value\":0.2},\"line_color\":{\"value\":\"white\"},\"size\":{\"value\":10},\"x\":{\"field\":\"x\"},\"y\":{\"field\":\"y\"}},\"id\":\"1851\",\"type\":\"Circle\"},{\"attributes\":{\"bottom_units\":\"screen\",\"coordinates\":null,\"fill_alpha\":0.5,\"fill_color\":\"lightgrey\",\"group\":null,\"left_units\":\"screen\",\"level\":\"overlay\",\"line_alpha\":1.0,\"line_color\":\"black\",\"line_dash\":[4,4],\"line_width\":2,\"right_units\":\"screen\",\"syncable\":false,\"top_units\":\"screen\"},\"id\":\"1905\",\"type\":\"BoxAnnotation\"},{\"attributes\":{\"fill_alpha\":{\"value\":0.5},\"fill_color\":{\"value\":\"red\"},\"hatch_alpha\":{\"value\":0.5},\"line_alpha\":{\"value\":0.5},\"line_color\":{\"value\":\"white\"},\"size\":{\"value\":10},\"x\":{\"field\":\"x\"},\"y\":{\"field\":\"y\"}},\"id\":\"1792\",\"type\":\"Circle\"},{\"attributes\":{},\"id\":\"1803\",\"type\":\"UnionRenderers\"},{\"attributes\":{\"tools\":[{\"id\":\"1717\"},{\"id\":\"1718\"},{\"id\":\"1719\"},{\"id\":\"1720\"},{\"id\":\"1721\"},{\"id\":\"1722\"},{\"id\":\"1750\"},{\"id\":\"1754\"}]},\"id\":\"1724\",\"type\":\"Toolbar\"},{\"attributes\":{\"children\":[{\"id\":\"1872\"},{\"id\":\"1873\"}]},\"id\":\"1874\",\"type\":\"Column\"},{\"attributes\":{\"fill_alpha\":{\"value\":0.25},\"fill_color\":{\"value\":\"midnightblue\"},\"hatch_alpha\":{\"value\":0.25},\"line_alpha\":{\"value\":0.25},\"line_color\":{\"value\":\"white\"},\"size\":{\"value\":10},\"x\":{\"field\":\"x\"},\"y\":{\"field\":\"y\"}},\"id\":\"1732\",\"type\":\"Circle\"},{\"attributes\":{\"tools\":[{\"id\":\"1775\"},{\"id\":\"1776\"},{\"id\":\"1777\"},{\"id\":\"1778\"},{\"id\":\"1779\"},{\"id\":\"1780\"},{\"id\":\"1808\"},{\"id\":\"1812\"}]},\"id\":\"1782\",\"type\":\"Toolbar\"}],\"root_ids\":[\"1875\",\"2043\"]},\"title\":\"Bokeh Application\",\"version\":\"2.4.3\"}};\n",
              "    var render_items = [{\"docid\":\"a05d95b4-0ad7-4369-b682-ab300e271c4f\",\"root_ids\":[\"1875\"],\"roots\":{\"1875\":\"ac56491e-95b7-4af6-ae82-b8bfa162bebb\"}}];\n",
              "    root.Bokeh.embed.embed_items_notebook(docs_json, render_items);\n",
              "    for (const render_item of render_items) {\n",
              "      for (const root_id of render_item.root_ids) {\n",
              "\tconst id_el = document.getElementById(root_id)\n",
              "\tif (id_el.children.length && (id_el.children[0].className === 'bk-root')) {\n",
              "\t  const root_el = id_el.children[0]\n",
              "\t  root_el.id = root_el.id + '-rendered'\n",
              "\t}\n",
              "      }\n",
              "    }\n",
              "  }\n",
              "  if (root.Bokeh !== undefined && root.Bokeh.Panel !== undefined) {\n",
              "    embed_document(root);\n",
              "  } else {\n",
              "    var attempts = 0;\n",
              "    var timer = setInterval(function(root) {\n",
              "      if (root.Bokeh !== undefined && root.Bokeh.Panel !== undefined) {\n",
              "        clearInterval(timer);\n",
              "        embed_document(root);\n",
              "      } else if (document.readyState == \"complete\") {\n",
              "        attempts++;\n",
              "        if (attempts > 200) {\n",
              "          clearInterval(timer);\n",
              "          console.log(\"Bokeh: ERROR: Unable to run BokehJS code because BokehJS library is missing\");\n",
              "        }\n",
              "      }\n",
              "    }, 25, root)\n",
              "  }\n",
              "})(window);</script>"
            ],
            "text/plain": [
              "Row\n",
              "    [0] HSpacer()\n",
              "    [1] Bokeh(Column)\n",
              "    [2] HSpacer()"
            ]
          },
          "execution_count": 9,
          "metadata": {
            "application/vnd.holoviews_exec.v0+json": {
              "id": "1875"
            }
          },
          "output_type": "execute_result"
        }
      ],
      "source": [
        "plot = center_plot(column(Div(text = \"Different amounts of noise\", style={'font-size': '250%'}), row(*plots)))\n",
        "plot"
      ]
    },
    {
      "attachments": {},
      "cell_type": "markdown",
      "metadata": {
        "id": "XGCG2py8f-pp"
      },
      "source": [
        "To summarize, we will have some observations of a function, and we would like to optimize a function that gets as close as possible to the real function that generated this data. Here, we plot the real function and also _subsample_ our number of observations (having only a few points to find the corresponding function)"
      ]
    },
    {
      "cell_type": "code",
      "execution_count": 10,
      "metadata": {
        "colab": {
          "base_uri": "https://localhost:8080/",
          "height": 1000
        },
        "id": "h9FY-tymf-pp",
        "outputId": "8bba3f1c-4c9c-4134-bcff-761bc895cda6"
      },
      "outputs": [
        {
          "data": {},
          "metadata": {},
          "output_type": "display_data"
        },
        {
          "data": {
            "application/vnd.holoviews_exec.v0+json": "",
            "text/html": [
              "<div id='2287'>\n",
              "  <div class=\"bk-root\" id=\"a76c15f0-f5a6-490a-b735-192476ef0873\" data-root-id=\"2287\"></div>\n",
              "</div>\n",
              "<script type=\"application/javascript\">(function(root) {\n",
              "  function embed_document(root) {\n",
              "    var docs_json = {\"5b4f6a6f-d427-4807-aab3-062d65e7cea1\":{\"defs\":[{\"extends\":null,\"module\":null,\"name\":\"ReactiveHTML1\",\"overrides\":[],\"properties\":[]},{\"extends\":null,\"module\":null,\"name\":\"FlexBox1\",\"overrides\":[],\"properties\":[{\"default\":\"flex-start\",\"kind\":null,\"name\":\"align_content\"},{\"default\":\"flex-start\",\"kind\":null,\"name\":\"align_items\"},{\"default\":\"row\",\"kind\":null,\"name\":\"flex_direction\"},{\"default\":\"wrap\",\"kind\":null,\"name\":\"flex_wrap\"},{\"default\":\"flex-start\",\"kind\":null,\"name\":\"justify_content\"}]},{\"extends\":null,\"module\":null,\"name\":\"GridStack1\",\"overrides\":[],\"properties\":[{\"default\":\"warn\",\"kind\":null,\"name\":\"mode\"},{\"default\":null,\"kind\":null,\"name\":\"ncols\"},{\"default\":null,\"kind\":null,\"name\":\"nrows\"},{\"default\":true,\"kind\":null,\"name\":\"allow_resize\"},{\"default\":true,\"kind\":null,\"name\":\"allow_drag\"},{\"default\":[],\"kind\":null,\"name\":\"state\"}]},{\"extends\":null,\"module\":null,\"name\":\"click1\",\"overrides\":[],\"properties\":[{\"default\":\"\",\"kind\":null,\"name\":\"terminal_output\"},{\"default\":\"\",\"kind\":null,\"name\":\"debug_name\"},{\"default\":0,\"kind\":null,\"name\":\"clears\"}]},{\"extends\":null,\"module\":null,\"name\":\"NotificationAreaBase1\",\"overrides\":[],\"properties\":[{\"default\":\"bottom-right\",\"kind\":null,\"name\":\"position\"},{\"default\":0,\"kind\":null,\"name\":\"_clear\"}]},{\"extends\":null,\"module\":null,\"name\":\"NotificationArea1\",\"overrides\":[],\"properties\":[{\"default\":[],\"kind\":null,\"name\":\"notifications\"},{\"default\":\"bottom-right\",\"kind\":null,\"name\":\"position\"},{\"default\":0,\"kind\":null,\"name\":\"_clear\"},{\"default\":[{\"background\":\"#ffc107\",\"icon\":{\"className\":\"fas fa-exclamation-triangle\",\"color\":\"white\",\"tagName\":\"i\"},\"type\":\"warning\"},{\"background\":\"#007bff\",\"icon\":{\"className\":\"fas fa-info-circle\",\"color\":\"white\",\"tagName\":\"i\"},\"type\":\"info\"}],\"kind\":null,\"name\":\"types\"}]},{\"extends\":null,\"module\":null,\"name\":\"Notification\",\"overrides\":[],\"properties\":[{\"default\":null,\"kind\":null,\"name\":\"background\"},{\"default\":3000,\"kind\":null,\"name\":\"duration\"},{\"default\":null,\"kind\":null,\"name\":\"icon\"},{\"default\":\"\",\"kind\":null,\"name\":\"message\"},{\"default\":null,\"kind\":null,\"name\":\"notification_type\"},{\"default\":false,\"kind\":null,\"name\":\"_destroyed\"}]},{\"extends\":null,\"module\":null,\"name\":\"TemplateActions1\",\"overrides\":[],\"properties\":[{\"default\":0,\"kind\":null,\"name\":\"open_modal\"},{\"default\":0,\"kind\":null,\"name\":\"close_modal\"}]},{\"extends\":null,\"module\":null,\"name\":\"MaterialTemplateActions1\",\"overrides\":[],\"properties\":[{\"default\":0,\"kind\":null,\"name\":\"open_modal\"},{\"default\":0,\"kind\":null,\"name\":\"close_modal\"}]}],\"roots\":{\"references\":[{\"attributes\":{\"tools\":[{\"id\":\"2228\"},{\"id\":\"2229\"},{\"id\":\"2230\"},{\"id\":\"2231\"},{\"id\":\"2232\"},{\"id\":\"2233\"},{\"id\":\"2261\"},{\"id\":\"2265\"}]},\"id\":\"2235\",\"type\":\"Toolbar\"},{\"attributes\":{\"background_fill_alpha\":0.9,\"background_fill_color\":\"#0f0f0f\",\"below\":[{\"id\":\"2220\"}],\"border_fill_alpha\":0.8,\"border_fill_color\":\"#111111\",\"center\":[{\"id\":\"2223\"},{\"id\":\"2227\"},{\"id\":\"2259\"}],\"height\":450,\"left\":[{\"id\":\"2224\"}],\"outline_line_alpha\":0.25,\"outline_line_color\":\"#E0E0E0\",\"outline_line_width\":3,\"renderers\":[{\"id\":\"2247\"},{\"id\":\"2271\"}],\"title\":{\"id\":\"2210\"},\"toolbar\":{\"id\":\"2235\"},\"toolbar_location\":null,\"x_range\":{\"id\":\"2212\"},\"x_scale\":{\"id\":\"2216\"},\"y_range\":{\"id\":\"2214\"},\"y_scale\":{\"id\":\"2218\"}},\"id\":\"2209\",\"subtype\":\"Figure\",\"type\":\"Plot\"},{\"attributes\":{\"callback\":null,\"mode\":\"vline\",\"renderers\":[{\"id\":\"2247\"}],\"tooltips\":null},\"id\":\"2261\",\"type\":\"HoverTool\"},{\"attributes\":{\"fill_alpha\":{\"value\":0.5},\"fill_color\":{\"value\":\"red\"},\"hatch_alpha\":{\"value\":0.5},\"line_alpha\":{\"value\":0.5},\"line_color\":{\"value\":\"white\"},\"size\":{\"value\":10},\"x\":{\"field\":\"x\"},\"y\":{\"field\":\"y\"}},\"id\":\"2245\",\"type\":\"Circle\"},{\"attributes\":{\"data\":{\"x\":{\"__ndarray__\":\"AAAAAAAAAABbv1Kg1q+EP1u/UqDWr5Q/CB988MEHnz9bv1Kg1q+kPzJvZ0jM26k/CB988MEHrz9wZ0jM2xmyP1u/UqDWr7Q/RhdddNFFtz8yb2dIzNu5Px3HcRzHcbw/CB988MEHvz96O0Ni3s7AP3BnSMzbGcI/ZZNNNtlkwz9bv1Kg1q/EP1HrVwrU+sU/RhdddNFFxz88Q2LezpDIPzJvZ0jM28k/J5tssskmyz8dx3Ecx3HMPxPzdobEvM0/CB988MEHzz9/pUCtXynQP3o7Q2LeztA/ddFFF1100T9wZ0jM2xnSP2r9SoFav9I/ZZNNNtlk0z9gKVDrVwrUP1u/UqDWr9Q/VlVVVVVV1T9R61cK1PrVP0yBWr9SoNY/RhdddNFF1z9BrV8pUOvXPzxDYt7OkNg/N9lkk0022T8yb2dIzNvZPy0Fav1Kgdo/J5tssskm2z8iMW9nSMzbPx3HcRzHcdw/GF100UUX3T8T83aGxLzdPw6JeTtDYt4/CB988MEH3z8DtX6lQK3fP3+lQK1fKeA/ffDBBx984D96O0Ni3s7gP3eGxLydIeE/ddFFF1104T9yHMdxHMfhP3BnSMzbGeI/bbLJJpts4j9q/UqBWr/iP2hIzNsZEuM/ZZNNNtlk4z9j3s6QmLfjP2ApUOtXCuQ/XnTRRRdd5D9bv1Kg1q/kP1gK1PqVAuU/VlVVVVVV5T9ToNavFKjlP1HrVwrU+uU/TjbZZJNN5j9MgVq/UqDmP0nM2xkS8+Y/RhdddNFF5z9EYt7OkJjnP0GtXylQ6+c/P/jggw8+6D88Q2LezpDoPzmO4ziO4+g/N9lkk0026T80JObtDInpPzJvZ0jM2+k/L7rooosu6j8tBWr9SoHqPypQ61cK1Oo/J5tssskm6z8l5u0MiXnrPyIxb2dIzOs/IHzwwQcf7D8dx3Ecx3HsPxsS83aGxOw/GF100UUX7T8VqPUrBWrtPxPzdobEvO0/ED744IMP7j8OiXk7Q2LuPwvU+pUCte4/CB988MEH7z8Gav1KgVrvPwO1fqVAre8/AAAAAAAA8D8=\",\"dtype\":\"float64\",\"order\":\"little\",\"shape\":[100]},\"y\":{\"__ndarray__\":\"AAAAAAAA8D8MJLz1QAHwPy6Q8NYDBfA/aESdo0gL8D+6QMJbDxTwPyKFX/9XH/A/ohF1jiIt8D845gIJbz3wP+YCCW89UPA/q2eHwI1l8D+IFH79X33wP3sJ7SW0l/A/hkbUOYq08D+oyzM54tPwP+GYCyS89fA/Ma5b+hca8T+ZCyS89UDxPxixZGlVavE/rZ4dAjeW8T9b1E6GmsTxPx9S+PV/9fE/+hcaUeco8j/tJbSX0F7yP/d7xsk7l/I/GBpR5yjS8j9QAFTwlw/zP6Auz+SIT/M/B6XCxPuR8z+EYy6Q8NbzPxlqEkdnHvQ/xrhu6V9o9D+JT0N32rT0P2QukPDWA/U/VlVVVVVV9T9fxJKlVan1P397SOHX//U/tnp2CNxY9j8FwhwbYrT2P2tROxlqEvc/6CjSAvRy9z98SOHX/9X3PyiwaJiNO/g/6l9oRJ2j+D/EV+DbLg75P7SX0F5Ce/k/vR85zdfq+T/c7xkn71z6PxIIc2yI0fo/YGhEnaNI+z/FEI65QML7P0EBUMFfPvw/1jmKtAC9/D+AujyTIz79P0CDZ13Iwf0/GpQKE+9H/j8K7SW0l9D+PxKOuUDCW/8/MHfFuG7p/z8y1CSOzjwAQNoQo7UmhgBAi3Hd0r/QAEBJ9tPlmRwBQBKfhu60aQFA6Gv17BC4AUDIXCDhrQcCQLNxB8uLWAJAq6qqqqqqAkCuBwqACv4CQL6IJUurUgNA1y39C42oA0D+9pDCr/8DQDDk4G4TWARAbPXsELixBEC2KrWonQwFQAqEOTbEaAVAagF6uSvGBUDWonYy1CQGQExoL6G9hAZA0FGkBejlBkBeX9VfU0gHQPiQwq//qwdAneZr9ewQCEBPYNEwG3cIQAz+8mGK3ghA07/QiDpHCUCopWqlK7EJQIevwLddHApAc93Sv9CICkBpL6G9hPYKQGylK7F5ZQtAej9ymq/VC0CT/XR5JkcMQLjfM07euQxA6eWuGNctDUAlEObYEKMNQG1e2Y6LGQ5AwNCIOkeRDkAgZ/TbQwoPQIohHHOBhA9AAAAAAAAAEEA=\",\"dtype\":\"float64\",\"order\":\"little\",\"shape\":[100]}},\"selected\":{\"id\":\"2283\"},\"selection_policy\":{\"id\":\"2282\"}},\"id\":\"2267\",\"type\":\"ColumnDataSource\"},{\"attributes\":{},\"id\":\"2254\",\"type\":\"BasicTickFormatter\"},{\"attributes\":{\"fill_alpha\":{\"value\":0.5},\"fill_color\":{\"value\":\"midnightblue\"},\"line_color\":{\"value\":\"white\"}},\"id\":\"2264\",\"type\":\"Circle\"},{\"attributes\":{\"fill_alpha\":{\"value\":0.25},\"fill_color\":{\"value\":\"midnightblue\"},\"hatch_alpha\":{\"value\":0.25},\"line_alpha\":{\"value\":0.25},\"line_color\":{\"value\":\"white\"},\"size\":{\"value\":10},\"x\":{\"field\":\"x\"},\"y\":{\"field\":\"y\"}},\"id\":\"2243\",\"type\":\"Circle\"},{\"attributes\":{},\"id\":\"2228\",\"type\":\"PanTool\"},{\"attributes\":{\"coordinates\":null,\"data_source\":{\"id\":\"2267\"},\"glyph\":{\"id\":\"2268\"},\"group\":null,\"hover_glyph\":null,\"muted_glyph\":{\"id\":\"2270\"},\"nonselection_glyph\":{\"id\":\"2269\"},\"view\":{\"id\":\"2272\"}},\"id\":\"2271\",\"type\":\"GlyphRenderer\"},{\"attributes\":{\"line_alpha\":0.6,\"line_color\":\"green\",\"line_width\":6,\"x\":{\"field\":\"x\"},\"y\":{\"field\":\"y\"}},\"id\":\"2268\",\"type\":\"Line\"},{\"attributes\":{},\"id\":\"2232\",\"type\":\"ResetTool\"},{\"attributes\":{},\"id\":\"2225\",\"type\":\"BasicTicker\"},{\"attributes\":{},\"id\":\"2221\",\"type\":\"BasicTicker\"},{\"attributes\":{\"bottom_units\":\"screen\",\"coordinates\":null,\"fill_alpha\":0.5,\"fill_color\":\"lightgrey\",\"group\":null,\"left_units\":\"screen\",\"level\":\"overlay\",\"line_alpha\":1.0,\"line_color\":\"black\",\"line_dash\":[4,4],\"line_width\":2,\"right_units\":\"screen\",\"syncable\":false,\"top_units\":\"screen\"},\"id\":\"2285\",\"type\":\"BoxAnnotation\"},{\"attributes\":{\"source\":{\"id\":\"2267\"}},\"id\":\"2272\",\"type\":\"CDSView\"},{\"attributes\":{\"coordinates\":null,\"group\":null,\"text\":\"Learning problem with groundtruth\",\"text_color\":\"#E0E0E0\",\"text_font\":\"Josefin Sans\",\"text_font_size\":\"2.1em\"},\"id\":\"2210\",\"type\":\"Title\"},{\"attributes\":{\"line_alpha\":0.1,\"line_color\":\"green\",\"line_width\":6,\"x\":{\"field\":\"x\"},\"y\":{\"field\":\"y\"}},\"id\":\"2269\",\"type\":\"Line\"},{\"attributes\":{\"axis_label\":\"x\",\"axis_label_standoff\":10,\"axis_label_text_color\":\"#FFFFFF\",\"axis_label_text_font\":\"Josefin Sans\",\"axis_label_text_font_size\":\"1.9em\",\"axis_label_text_font_style\":\"bold\",\"axis_line_alpha\":0.4,\"axis_line_color\":\"#E0E0E0\",\"coordinates\":null,\"formatter\":{\"id\":\"2254\"},\"group\":null,\"major_label_policy\":{\"id\":\"2255\"},\"major_label_text_color\":\"#E0E0E0\",\"major_label_text_font\":\"Josefin Sans\",\"major_label_text_font_size\":\"1.15em\",\"major_tick_line_alpha\":0.4,\"major_tick_line_color\":\"#E0E0E0\",\"minor_tick_line_alpha\":0.4,\"minor_tick_line_color\":\"#E0E0E0\",\"ticker\":{\"id\":\"2221\"}},\"id\":\"2220\",\"type\":\"LinearAxis\"},{\"attributes\":{\"axis_label\":\"y\",\"axis_label_standoff\":10,\"axis_label_text_color\":\"#FFFFFF\",\"axis_label_text_font\":\"Josefin Sans\",\"axis_label_text_font_size\":\"1.9em\",\"axis_label_text_font_style\":\"bold\",\"axis_line_alpha\":0.4,\"axis_line_color\":\"#E0E0E0\",\"coordinates\":null,\"formatter\":{\"id\":\"2251\"},\"group\":null,\"major_label_policy\":{\"id\":\"2252\"},\"major_label_text_color\":\"#E0E0E0\",\"major_label_text_font\":\"Josefin Sans\",\"major_label_text_font_size\":\"1.15em\",\"major_tick_line_alpha\":0.4,\"major_tick_line_color\":\"#E0E0E0\",\"minor_tick_line_alpha\":0.4,\"minor_tick_line_color\":\"#E0E0E0\",\"ticker\":{\"id\":\"2225\"}},\"id\":\"2224\",\"type\":\"LinearAxis\"},{\"attributes\":{\"children\":[{\"id\":\"2288\"},{\"id\":\"2209\"},{\"id\":\"2315\"}],\"margin\":[0,0,0,0],\"name\":\"Row00127\"},\"id\":\"2287\",\"type\":\"Row\"},{\"attributes\":{},\"id\":\"2214\",\"type\":\"DataRange1d\"},{\"attributes\":{\"margin\":[5,5,5,5],\"name\":\"HSpacer00123\",\"sizing_mode\":\"stretch_width\"},\"id\":\"2288\",\"type\":\"Spacer\"},{\"attributes\":{},\"id\":\"2216\",\"type\":\"LinearScale\"},{\"attributes\":{\"data\":{\"x\":{\"__ndarray__\":\"W79SoNavlD8yb2dIzNu5P2WTTTbZZMM/UetXCtT6xT88Q2LezpDIPxPzdobEvM0/ejtDYt7O0D910UUXXXTRP2ApUOtXCtQ/W79SoNav1D9WVVVVVVXVP1HrVwrU+tU/TIFav1Kg1j9GF1100UXXPzxDYt7OkNg/N9lkk0022T8yb2dIzNvZPy0Fav1Kgdo/HcdxHMdx3D8YXXTRRRfdPxPzdobEvN0/CB988MEH3z998MEHH3zgP3o7Q2LezuA/d4bEvJ0h4T910UUXXXThP3BnSMzbGeI/aEjM2xkS4z9gKVDrVwrkP1gK1PqVAuU/U6DWrxSo5T9ONtlkk03mP0Ri3s6QmOc/OY7jOI7j6D832WSTTTbpPzJvZ0jM2+k/L7rooosu6j8tBWr9SoHqPypQ61cK1Oo/J5tssskm6z8iMW9nSMzrPx3HcRzHcew/Faj1KwVq7T8T83aGxLztPxA++OCDD+4/Dol5O0Ni7j8L1PqVArXuPwZq/UqBWu8/A7V+pUCt7z8AAAAAAADwPw==\",\"dtype\":\"float64\",\"order\":\"little\",\"shape\":[50]},\"y\":{\"__ndarray__\":\"V/i4oLIH8z/v9t3FcEXvP66HH9H+b+w/R719Ajzd8j/sS5C9YYTwP22UEK/RVfA/2qSiwnea9D9SJiqPg5j0P1wPdz94gfQ/kUytEEIM8z+PKBRJfx33PwsqSmQRY/Y/Tgc1O+ym+D/weeAfaBz1PxJYVXq27fQ/MxQGubfQ9D/jTySUKPP1PwbBcB9iy/c/yKKlss+x9j/gE0/JxW/8P709HGjCpvs/VHfp1oAZ/D/goCNLPuj9P+YhksRCj/s/x0CSsSR9/j/Ak8fpgZ39P0GNyqNR9f4/ngvzeSWpAUChULhtIogAQOtXHt9d6gJAH3LshqnhAkCb19UlHKQCQFohxmeqOAZAdJYQQOXtBkATMGeOY7gGQJy093e68gZAuFng9W1eCUBICdTe5+MIQFGNW3B4TghA7X0c7SpZCkDuUHsGFRQLQA6oGALMnAtAfU1kW/IQDUD0Bqz7x3YLQHHDAMBUbQ5AfGXL6JUCDkBYdXvVcbYOQKq7FSqmtg9AFuPABlEODkBztQxOjT0PQA==\",\"dtype\":\"float64\",\"order\":\"little\",\"shape\":[50]}},\"selected\":{\"id\":\"2257\"},\"selection_policy\":{\"id\":\"2256\"}},\"id\":\"2242\",\"type\":\"ColumnDataSource\"},{\"attributes\":{},\"id\":\"2212\",\"type\":\"DataRange1d\"},{\"attributes\":{},\"id\":\"2257\",\"type\":\"Selection\"},{\"attributes\":{\"bottom_units\":\"screen\",\"coordinates\":null,\"fill_alpha\":0.5,\"fill_color\":\"lightgrey\",\"group\":null,\"left_units\":\"screen\",\"level\":\"overlay\",\"line_alpha\":1.0,\"line_color\":\"black\",\"line_dash\":[4,4],\"line_width\":2,\"right_units\":\"screen\",\"syncable\":false,\"top_units\":\"screen\"},\"id\":\"2234\",\"type\":\"BoxAnnotation\"},{\"attributes\":{},\"id\":\"2256\",\"type\":\"UnionRenderers\"},{\"attributes\":{},\"id\":\"2282\",\"type\":\"UnionRenderers\"},{\"attributes\":{\"overlay\":{\"id\":\"2234\"}},\"id\":\"2230\",\"type\":\"BoxZoomTool\"},{\"attributes\":{\"client_comm_id\":\"2dc935f15df44a0583a11e7a064da04e\",\"comm_id\":\"c5b4f5fe1d2849e2bcf495e20babd1f5\",\"plot_id\":\"2287\"},\"id\":\"2355\",\"type\":\"panel.models.comm_manager.CommManager\"},{\"attributes\":{},\"id\":\"2283\",\"type\":\"Selection\"},{\"attributes\":{},\"id\":\"2233\",\"type\":\"HelpTool\"},{\"attributes\":{},\"id\":\"2218\",\"type\":\"LinearScale\"},{\"attributes\":{},\"id\":\"2231\",\"type\":\"SaveTool\"},{\"attributes\":{\"axis\":{\"id\":\"2220\"},\"coordinates\":null,\"grid_line_alpha\":0.15,\"grid_line_color\":\"#E0E0E0\",\"group\":null,\"ticker\":null},\"id\":\"2223\",\"type\":\"Grid\"},{\"attributes\":{\"label\":{\"value\":\"True function\"},\"renderers\":[{\"id\":\"2271\"}]},\"id\":\"2286\",\"type\":\"LegendItem\"},{\"attributes\":{\"fill_alpha\":{\"value\":0.2},\"fill_color\":{\"value\":\"midnightblue\"},\"hatch_alpha\":{\"value\":0.2},\"line_alpha\":{\"value\":0.2},\"line_color\":{\"value\":\"white\"},\"size\":{\"value\":10},\"x\":{\"field\":\"x\"},\"y\":{\"field\":\"y\"}},\"id\":\"2246\",\"type\":\"Circle\"},{\"attributes\":{},\"id\":\"2255\",\"type\":\"AllLabels\"},{\"attributes\":{\"coordinates\":null,\"data_source\":{\"id\":\"2242\"},\"glyph\":{\"id\":\"2243\"},\"group\":null,\"hover_glyph\":{\"id\":\"2245\"},\"muted_glyph\":{\"id\":\"2246\"},\"nonselection_glyph\":{\"id\":\"2264\"},\"selection_glyph\":{\"id\":\"2263\"},\"view\":{\"id\":\"2248\"}},\"id\":\"2247\",\"type\":\"GlyphRenderer\"},{\"attributes\":{\"axis\":{\"id\":\"2224\"},\"coordinates\":null,\"dimension\":1,\"grid_line_alpha\":0.15,\"grid_line_color\":\"#E0E0E0\",\"group\":null,\"ticker\":null},\"id\":\"2227\",\"type\":\"Grid\"},{\"attributes\":{\"margin\":[5,5,5,5],\"name\":\"HSpacer00124\",\"sizing_mode\":\"stretch_width\"},\"id\":\"2315\",\"type\":\"Spacer\"},{\"attributes\":{},\"id\":\"2251\",\"type\":\"BasicTickFormatter\"},{\"attributes\":{\"fill_alpha\":{\"value\":0.8},\"fill_color\":{\"value\":\"red\"},\"line_color\":{\"value\":\"white\"}},\"id\":\"2263\",\"type\":\"Circle\"},{\"attributes\":{\"source\":{\"id\":\"2242\"}},\"id\":\"2248\",\"type\":\"CDSView\"},{\"attributes\":{\"label\":{\"value\":\"Observations\"},\"renderers\":[{\"id\":\"2247\"}]},\"id\":\"2260\",\"type\":\"LegendItem\"},{\"attributes\":{\"background_fill_alpha\":0.25,\"background_fill_color\":\"#505050\",\"border_line_alpha\":0.25,\"coordinates\":null,\"group\":null,\"items\":[{\"id\":\"2260\"},{\"id\":\"2286\"}],\"label_standoff\":8,\"label_text_color\":\"#E0E0E0\",\"label_text_font\":\"Josefin Sans\",\"label_text_font_size\":\"1.15em\",\"spacing\":8},\"id\":\"2259\",\"type\":\"Legend\"},{\"attributes\":{\"line_alpha\":0.2,\"line_color\":\"green\",\"line_width\":6,\"x\":{\"field\":\"x\"},\"y\":{\"field\":\"y\"}},\"id\":\"2270\",\"type\":\"Line\"},{\"attributes\":{},\"id\":\"2252\",\"type\":\"AllLabels\"},{\"attributes\":{},\"id\":\"2229\",\"type\":\"WheelZoomTool\"},{\"attributes\":{\"mode\":\"append\",\"overlay\":{\"id\":\"2285\"},\"renderers\":[{\"id\":\"2247\"}]},\"id\":\"2265\",\"type\":\"BoxSelectTool\"}],\"root_ids\":[\"2287\",\"2355\"]},\"title\":\"Bokeh Application\",\"version\":\"2.4.3\"}};\n",
              "    var render_items = [{\"docid\":\"5b4f6a6f-d427-4807-aab3-062d65e7cea1\",\"root_ids\":[\"2287\"],\"roots\":{\"2287\":\"a76c15f0-f5a6-490a-b735-192476ef0873\"}}];\n",
              "    root.Bokeh.embed.embed_items_notebook(docs_json, render_items);\n",
              "    for (const render_item of render_items) {\n",
              "      for (const root_id of render_item.root_ids) {\n",
              "\tconst id_el = document.getElementById(root_id)\n",
              "\tif (id_el.children.length && (id_el.children[0].className === 'bk-root')) {\n",
              "\t  const root_el = id_el.children[0]\n",
              "\t  root_el.id = root_el.id + '-rendered'\n",
              "\t}\n",
              "      }\n",
              "    }\n",
              "  }\n",
              "  if (root.Bokeh !== undefined && root.Bokeh.Panel !== undefined) {\n",
              "    embed_document(root);\n",
              "  } else {\n",
              "    var attempts = 0;\n",
              "    var timer = setInterval(function(root) {\n",
              "      if (root.Bokeh !== undefined && root.Bokeh.Panel !== undefined) {\n",
              "        clearInterval(timer);\n",
              "        embed_document(root);\n",
              "      } else if (document.readyState == \"complete\") {\n",
              "        attempts++;\n",
              "        if (attempts > 200) {\n",
              "          clearInterval(timer);\n",
              "          console.log(\"Bokeh: ERROR: Unable to run BokehJS code because BokehJS library is missing\");\n",
              "        }\n",
              "      }\n",
              "    }, 25, root)\n",
              "  }\n",
              "})(window);</script>"
            ],
            "text/plain": [
              "Row\n",
              "    [0] HSpacer()\n",
              "    [1] Bokeh(Figure)\n",
              "    [2] HSpacer()"
            ]
          },
          "execution_count": 10,
          "metadata": {
            "application/vnd.holoviews_exec.v0+json": {
              "id": "2287"
            }
          },
          "output_type": "execute_result"
        }
      ],
      "source": [
        "# Generating the data and subsampling\n",
        "x_all = np.linspace(0, 1, 100); x_plot = np.linspace(0, 1, 100)\n",
        "rng.shuffle(x_all); x = np.sort(x_all[:50])\n",
        "poly = np.poly1d([3,0,1])\n",
        "# Adding some external noise\n",
        "epsilon = np.random.uniform(-0.2,0.2,x.shape)\n",
        "y = poly(x)+ epsilon\n",
        "p = scatter(x, y, title=\"Learning problem with groundtruth\")\n",
        "p.line(x_plot, poly(x_plot), line_width=6, line_alpha=0.6, color=\"green\", legend_label=r\"True function\")\n",
        "plot = (center_plot(p))\n",
        "plot"
      ]
    },
    {
      "attachments": {},
      "cell_type": "markdown",
      "metadata": {
        "id": "Jllu6PPef-pp"
      },
      "source": [
        "### Summarizing our observations (interactive)\n",
        "\n"
      ]
    },
    {
      "cell_type": "code",
      "execution_count": 11,
      "metadata": {
        "colab": {
          "base_uri": "https://localhost:8080/",
          "height": 1000
        },
        "id": "rsGpzu1df-pp",
        "outputId": "0d4f5e0f-60c5-4573-e8e7-acfe151d996f"
      },
      "outputs": [
        {
          "name": "stdout",
          "output_type": "stream",
          "text": [
            "Creating the object\n"
          ]
        },
        {
          "data": {},
          "metadata": {},
          "output_type": "display_data"
        },
        {
          "data": {
            "application/vnd.holoviews_exec.v0+json": "",
            "text/html": [
              "<div id='2479'>\n",
              "  <div class=\"bk-root\" id=\"250ed9fc-a9bd-41be-aeb1-cfc130811e18\" data-root-id=\"2479\"></div>\n",
              "</div>\n",
              "<script type=\"application/javascript\">(function(root) {\n",
              "  function embed_document(root) {\n",
              "    var docs_json = {\"5e7778ba-7655-4565-9320-b1d182ea719a\":{\"defs\":[{\"extends\":null,\"module\":null,\"name\":\"ReactiveHTML1\",\"overrides\":[],\"properties\":[]},{\"extends\":null,\"module\":null,\"name\":\"FlexBox1\",\"overrides\":[],\"properties\":[{\"default\":\"flex-start\",\"kind\":null,\"name\":\"align_content\"},{\"default\":\"flex-start\",\"kind\":null,\"name\":\"align_items\"},{\"default\":\"row\",\"kind\":null,\"name\":\"flex_direction\"},{\"default\":\"wrap\",\"kind\":null,\"name\":\"flex_wrap\"},{\"default\":\"flex-start\",\"kind\":null,\"name\":\"justify_content\"}]},{\"extends\":null,\"module\":null,\"name\":\"GridStack1\",\"overrides\":[],\"properties\":[{\"default\":\"warn\",\"kind\":null,\"name\":\"mode\"},{\"default\":null,\"kind\":null,\"name\":\"ncols\"},{\"default\":null,\"kind\":null,\"name\":\"nrows\"},{\"default\":true,\"kind\":null,\"name\":\"allow_resize\"},{\"default\":true,\"kind\":null,\"name\":\"allow_drag\"},{\"default\":[],\"kind\":null,\"name\":\"state\"}]},{\"extends\":null,\"module\":null,\"name\":\"click1\",\"overrides\":[],\"properties\":[{\"default\":\"\",\"kind\":null,\"name\":\"terminal_output\"},{\"default\":\"\",\"kind\":null,\"name\":\"debug_name\"},{\"default\":0,\"kind\":null,\"name\":\"clears\"}]},{\"extends\":null,\"module\":null,\"name\":\"NotificationAreaBase1\",\"overrides\":[],\"properties\":[{\"default\":\"bottom-right\",\"kind\":null,\"name\":\"position\"},{\"default\":0,\"kind\":null,\"name\":\"_clear\"}]},{\"extends\":null,\"module\":null,\"name\":\"NotificationArea1\",\"overrides\":[],\"properties\":[{\"default\":[],\"kind\":null,\"name\":\"notifications\"},{\"default\":\"bottom-right\",\"kind\":null,\"name\":\"position\"},{\"default\":0,\"kind\":null,\"name\":\"_clear\"},{\"default\":[{\"background\":\"#ffc107\",\"icon\":{\"className\":\"fas fa-exclamation-triangle\",\"color\":\"white\",\"tagName\":\"i\"},\"type\":\"warning\"},{\"background\":\"#007bff\",\"icon\":{\"className\":\"fas fa-info-circle\",\"color\":\"white\",\"tagName\":\"i\"},\"type\":\"info\"}],\"kind\":null,\"name\":\"types\"}]},{\"extends\":null,\"module\":null,\"name\":\"Notification\",\"overrides\":[],\"properties\":[{\"default\":null,\"kind\":null,\"name\":\"background\"},{\"default\":3000,\"kind\":null,\"name\":\"duration\"},{\"default\":null,\"kind\":null,\"name\":\"icon\"},{\"default\":\"\",\"kind\":null,\"name\":\"message\"},{\"default\":null,\"kind\":null,\"name\":\"notification_type\"},{\"default\":false,\"kind\":null,\"name\":\"_destroyed\"}]},{\"extends\":null,\"module\":null,\"name\":\"TemplateActions1\",\"overrides\":[],\"properties\":[{\"default\":0,\"kind\":null,\"name\":\"open_modal\"},{\"default\":0,\"kind\":null,\"name\":\"close_modal\"}]},{\"extends\":null,\"module\":null,\"name\":\"MaterialTemplateActions1\",\"overrides\":[],\"properties\":[{\"default\":0,\"kind\":null,\"name\":\"open_modal\"},{\"default\":0,\"kind\":null,\"name\":\"close_modal\"}]}],\"roots\":{\"references\":[{\"attributes\":{},\"id\":\"2468\",\"type\":\"UnionRenderers\"},{\"attributes\":{\"coordinates\":null,\"data_source\":{\"id\":\"2454\"},\"glyph\":{\"id\":\"2455\"},\"group\":null,\"hover_glyph\":{\"id\":\"2457\"},\"muted_glyph\":{\"id\":\"2458\"},\"nonselection_glyph\":{\"id\":\"2476\"},\"selection_glyph\":{\"id\":\"2475\"},\"view\":{\"id\":\"2460\"}},\"id\":\"2459\",\"type\":\"GlyphRenderer\"},{\"attributes\":{\"data\":{\"x\":{\"__ndarray__\":\"AAAAALV+JTy1fqU8ED74PLV+JT1i3k49ED54Pd7OkD21fqU9jC66PWLezj05juM9ED74PfN2Bj7ezhA+yiYbPrV+JT6g1i8+jC46PneGRD5i3k4+TjZZPjmOYz4k5m0+ED54Pv1KgT7zdoY+6aKLPt7OkD7U+pU+yiabPr9SoD61fqU+q6qqPqDWrz6WArU+jC66PoFavz53hsQ+bbLJPmLezj5YCtQ+TjbZPkNi3j45juM+L7roPiTm7T4aEvM+ED74PgVq/T79SgE/+OADP/N2Bj/uDAk/6aILP+Q4Dj/ezhA/2WQTP9T6FT/PkBg/yiYbP8W8HT+/UiA/uugiP7V+JT+wFCg/q6oqP6VALT+g1i8/m2wyP5YCNT+RmDc/jC46P4bEPD+BWj8/fPBBP3eGRD9yHEc/bbJJP2dITD9i3k4/XXRRP1gKVD9ToFY/TjZZP0jMWz9DYl4/PvhgPzmOYz80JGY/L7poPylQaz8k5m0/H3xwPxoScz8VqHU/ED54PwrUej8Fan0/AACAPw==\",\"dtype\":\"float32\",\"order\":\"little\",\"shape\":[100]},\"y\":{\"__ndarray__\":\"ki1uPx9TiT8UHoA/KL2KP9L1ij8FfHg/j02KP4J+iz+OAWc/8EiKP+36aD+Uq24/O3V9P4ckgT9ZE4A/erlcP4O2Xz8H9HI/dix4P2m1WT8cCYA/BBV9PzAeZD+wj1E/e4B4Py12cD+O418/MNdsPxx5Vj+HkTo/PUBRP9jNRz/MKjc/NiZXP98eST/k1ig//Eo4Pz1wPD9dT0c/UUsbPzfZFj9nKB8/ExktP6dtHD8kvx4//RskPwtcGz/0AQ8/aVP6PvePCz8y/wk/7HvwPjHoAj/45ds+kKb8Pu/Zsj5fadI+xBLYPogAxj5I3sM+FNFPPrgFqT5KvlU+1T5CPgRDej6S6zs+l2hLPen1Dz1iq/U9OeAyPSJgWjwm0HQ90AEyOyBkwzsEu/O8sk4avs6D0b0fp/q9GiMnvijpZb4c63K+06y+vucAsb48dt++FNvovhDTDr9JMAy/hZsevwYMCL8dGBC/8rIdvw9GG79AkD2/ofYtv+9MOr9l1kK/4mlxvxL3Vr8PD4C//ciIvw==\",\"dtype\":\"float32\",\"order\":\"little\",\"shape\":[100]}},\"selected\":{\"id\":\"2469\"},\"selection_policy\":{\"id\":\"2468\"}},\"id\":\"2454\",\"type\":\"ColumnDataSource\"},{\"attributes\":{\"tools\":[{\"id\":\"2440\"},{\"id\":\"2441\"},{\"id\":\"2442\"},{\"id\":\"2443\"},{\"id\":\"2444\"},{\"id\":\"2445\"},{\"id\":\"2473\"},{\"id\":\"2477\"}]},\"id\":\"2447\",\"type\":\"Toolbar\"},{\"attributes\":{\"background_fill_alpha\":0.9,\"background_fill_color\":\"#0f0f0f\",\"below\":[{\"id\":\"2432\"}],\"border_fill_alpha\":0.8,\"border_fill_color\":\"#111111\",\"center\":[{\"id\":\"2435\"},{\"id\":\"2439\"},{\"id\":\"2471\"}],\"height\":450,\"left\":[{\"id\":\"2436\"}],\"outline_line_alpha\":0.25,\"outline_line_color\":\"#E0E0E0\",\"outline_line_width\":3,\"renderers\":[{\"id\":\"2459\"}],\"title\":{\"id\":\"2422\"},\"toolbar\":{\"id\":\"2447\"},\"toolbar_location\":null,\"x_range\":{\"id\":\"2424\"},\"x_scale\":{\"id\":\"2428\"},\"y_range\":{\"id\":\"2426\"},\"y_scale\":{\"id\":\"2430\"}},\"id\":\"2421\",\"subtype\":\"Figure\",\"type\":\"Plot\"},{\"attributes\":{\"children\":[{\"id\":\"2480\"},{\"id\":\"2481\"},{\"id\":\"2516\"}],\"margin\":[0,0,0,0],\"name\":\"Row00162\"},\"id\":\"2479\",\"type\":\"Row\"},{\"attributes\":{},\"id\":\"2469\",\"type\":\"Selection\"},{\"attributes\":{\"bottom_units\":\"screen\",\"coordinates\":null,\"fill_alpha\":0.5,\"fill_color\":\"lightgrey\",\"group\":null,\"left_units\":\"screen\",\"level\":\"overlay\",\"line_alpha\":1.0,\"line_color\":\"black\",\"line_dash\":[4,4],\"line_width\":2,\"right_units\":\"screen\",\"syncable\":false,\"top_units\":\"screen\"},\"id\":\"2503\",\"type\":\"BoxAnnotation\"},{\"attributes\":{},\"id\":\"2428\",\"type\":\"LinearScale\"},{\"attributes\":{\"margin\":[5,5,5,5],\"name\":\"HSpacer00131\",\"sizing_mode\":\"stretch_width\"},\"id\":\"2480\",\"type\":\"Spacer\"},{\"attributes\":{\"coordinates\":null,\"group\":null,\"text\":\"Polynomial regression problem\",\"text_color\":\"#E0E0E0\",\"text_font\":\"Josefin Sans\",\"text_font_size\":\"2.1em\"},\"id\":\"2422\",\"type\":\"Title\"},{\"attributes\":{\"source\":{\"id\":\"2454\"}},\"id\":\"2460\",\"type\":\"CDSView\"},{\"attributes\":{\"client_comm_id\":\"dd56b05a95a145948c117280c619ba19\",\"comm_id\":\"d54d0bf9b3c049eb97f4e4ac01bde0e8\",\"plot_id\":\"2479\"},\"id\":\"2552\",\"type\":\"panel.models.comm_manager.CommManager\"},{\"attributes\":{\"children\":[{\"id\":\"2482\"},{\"id\":\"2515\"}],\"margin\":[0,0,0,0],\"name\":\"Column00160\"},\"id\":\"2481\",\"type\":\"Column\"},{\"attributes\":{},\"id\":\"2463\",\"type\":\"BasicTickFormatter\"},{\"attributes\":{},\"id\":\"2433\",\"type\":\"BasicTicker\"},{\"attributes\":{\"children\":[{\"id\":\"2484\"},{\"id\":\"2485\"},{\"id\":\"2486\"},{\"id\":\"2487\"},{\"id\":\"2488\"},{\"id\":\"2489\"},{\"id\":\"2490\"},{\"id\":\"2491\"}],\"margin\":[5,5,5,5],\"min_width\":300,\"name\":\"Problem parameters\",\"width\":300},\"id\":\"2483\",\"type\":\"Column\"},{\"attributes\":{\"children\":[{\"id\":\"2483\"},{\"id\":\"2492\"}],\"margin\":[0,0,0,0],\"name\":\"Row00157\"},\"id\":\"2482\",\"type\":\"Row\"},{\"attributes\":{\"margin\":[5,10,5,10],\"name\":\"\",\"text\":\"<b>Problem parameters</b>\"},\"id\":\"2484\",\"type\":\"Div\"},{\"attributes\":{\"bottom_units\":\"screen\",\"coordinates\":null,\"fill_alpha\":0.5,\"fill_color\":\"lightgrey\",\"group\":null,\"left_units\":\"screen\",\"level\":\"overlay\",\"line_alpha\":1.0,\"line_color\":\"black\",\"line_dash\":[4,4],\"line_width\":2,\"right_units\":\"screen\",\"syncable\":false,\"top_units\":\"screen\"},\"id\":\"2446\",\"type\":\"BoxAnnotation\"},{\"attributes\":{\"labels\":[\"Ground truth\"],\"margin\":[5,10,5,10]},\"id\":\"2487\",\"type\":\"CheckboxGroup\"},{\"attributes\":{\"labels\":[\"Error\"],\"margin\":[5,10,5,10]},\"id\":\"2488\",\"type\":\"CheckboxGroup\"},{\"attributes\":{},\"id\":\"2445\",\"type\":\"HelpTool\"},{\"attributes\":{\"fill_alpha\":{\"value\":0.8},\"fill_color\":{\"value\":\"red\"},\"line_color\":{\"value\":\"white\"}},\"id\":\"2475\",\"type\":\"Circle\"},{\"attributes\":{},\"id\":\"2464\",\"type\":\"AllLabels\"},{\"attributes\":{\"end\":1000,\"margin\":[5,10,5,10],\"start\":10,\"title\":\"Number observations\",\"value\":100},\"id\":\"2485\",\"type\":\"Slider\"},{\"attributes\":{},\"id\":\"2440\",\"type\":\"PanTool\"},{\"attributes\":{\"end\":5.0,\"margin\":[5,10,5,10],\"start\":-5.0,\"step\":0.1,\"title\":\"X 2\",\"value\":-2.0},\"id\":\"2489\",\"type\":\"Slider\"},{\"attributes\":{\"fill_alpha\":{\"value\":0.2},\"fill_color\":{\"value\":\"midnightblue\"},\"hatch_alpha\":{\"value\":0.2},\"line_alpha\":{\"value\":0.2},\"line_color\":{\"value\":\"white\"},\"size\":{\"value\":10},\"x\":{\"field\":\"x\"},\"y\":{\"field\":\"y\"}},\"id\":\"2458\",\"type\":\"Circle\"},{\"attributes\":{\"mode\":\"append\",\"overlay\":{\"id\":\"2503\"},\"renderers\":[{\"id\":\"2459\"}]},\"id\":\"2477\",\"type\":\"BoxSelectTool\"},{\"attributes\":{\"end\":5.0,\"margin\":[5,10,5,10],\"start\":0.0,\"step\":0.1,\"title\":\"Noise level\",\"value\":0.1},\"id\":\"2486\",\"type\":\"Slider\"},{\"attributes\":{\"margin\":[5,5,5,5],\"name\":\"HSpacer00161\",\"sizing_mode\":\"stretch_width\"},\"id\":\"2516\",\"type\":\"Spacer\"},{\"attributes\":{},\"id\":\"2430\",\"type\":\"LinearScale\"},{\"attributes\":{\"end\":5.0,\"margin\":[5,10,5,10],\"start\":-5.0,\"step\":0.1,\"title\":\"X 0\",\"value\":1.0},\"id\":\"2491\",\"type\":\"Slider\"},{\"attributes\":{\"fill_alpha\":{\"value\":0.25},\"fill_color\":{\"value\":\"midnightblue\"},\"hatch_alpha\":{\"value\":0.25},\"line_alpha\":{\"value\":0.25},\"line_color\":{\"value\":\"white\"},\"size\":{\"value\":10},\"x\":{\"field\":\"x\"},\"y\":{\"field\":\"y\"}},\"id\":\"2455\",\"type\":\"Circle\"},{\"attributes\":{},\"id\":\"2466\",\"type\":\"BasicTickFormatter\"},{\"attributes\":{\"background_fill_alpha\":0.25,\"background_fill_color\":\"#505050\",\"border_line_alpha\":0.25,\"coordinates\":null,\"group\":null,\"items\":[{\"id\":\"2472\"}],\"label_standoff\":8,\"label_text_color\":\"#E0E0E0\",\"label_text_font\":\"Josefin Sans\",\"label_text_font_size\":\"1.15em\",\"spacing\":8},\"id\":\"2471\",\"type\":\"Legend\"},{\"attributes\":{},\"id\":\"2467\",\"type\":\"AllLabels\"},{\"attributes\":{},\"id\":\"2437\",\"type\":\"BasicTicker\"},{\"attributes\":{\"callback\":null,\"mode\":\"vline\",\"renderers\":[{\"id\":\"2459\"}],\"tooltips\":null},\"id\":\"2473\",\"type\":\"HoverTool\"},{\"attributes\":{\"axis\":{\"id\":\"2432\"},\"coordinates\":null,\"grid_line_alpha\":0.15,\"grid_line_color\":\"#E0E0E0\",\"group\":null,\"ticker\":null},\"id\":\"2435\",\"type\":\"Grid\"},{\"attributes\":{\"axis_label\":\"$$\\\\color{white} x$$\",\"axis_label_standoff\":10,\"axis_label_text_color\":\"#FFFFFF\",\"axis_label_text_font\":\"Josefin Sans\",\"axis_label_text_font_size\":\"1.9em\",\"axis_label_text_font_style\":\"bold\",\"axis_line_alpha\":0.4,\"axis_line_color\":\"#E0E0E0\",\"coordinates\":null,\"formatter\":{\"id\":\"2466\"},\"group\":null,\"major_label_policy\":{\"id\":\"2467\"},\"major_label_text_color\":\"#E0E0E0\",\"major_label_text_font\":\"Josefin Sans\",\"major_label_text_font_size\":\"1.15em\",\"major_tick_line_alpha\":0.4,\"major_tick_line_color\":\"#E0E0E0\",\"minor_tick_line_alpha\":0.4,\"minor_tick_line_color\":\"#E0E0E0\",\"ticker\":{\"id\":\"2433\"}},\"id\":\"2432\",\"type\":\"LinearAxis\"},{\"attributes\":{\"end\":5.0,\"margin\":[5,10,5,10],\"start\":-5.0,\"step\":0.1,\"title\":\"X 1\",\"value\":0.0},\"id\":\"2490\",\"type\":\"Slider\"},{\"attributes\":{\"fill_alpha\":{\"value\":0.5},\"fill_color\":{\"value\":\"midnightblue\"},\"line_color\":{\"value\":\"white\"}},\"id\":\"2476\",\"type\":\"Circle\"},{\"attributes\":{\"label\":{\"value\":\"Observations\"},\"renderers\":[{\"id\":\"2459\"}]},\"id\":\"2472\",\"type\":\"LegendItem\"},{\"attributes\":{\"code\":\"def polynomial(\\n        coefficients: jnp.ndarray,\\n        n_observations: int = 100) -> [jnp.ndarray, jnp.ndarray]:\\n    x = jnp.linspace(0, 1, n_observations)\\n    y = jnp.polyval(coefficients, x)\\n    return x, \",\"filename\":\"\",\"height\":150,\"js_property_callbacks\":{\"change:disabled\":[{\"id\":\"2529\"}],\"change:readonly\":[{\"id\":\"2528\"}]},\"language\":\"python\",\"margin\":[5,10,5,10],\"sizing_mode\":\"stretch_both\",\"theme\":\"chaos\"},\"id\":\"2515\",\"type\":\"panel.models.ace.AcePlot\"},{\"attributes\":{\"args\":{\"bidirectional\":true,\"properties\":{\"readonly\":\"disabled\"},\"source\":{\"id\":\"2515\"},\"target\":{\"id\":\"2515\"}},\"code\":\"\\n    var value = source['readonly'];\\n    value = value;\\n    value = value;\\n    try {\\n      var property = target.properties['disabled'];\\n      if (property !== undefined) { property.validate(value); }\\n    } catch(err) {\\n      console.log('WARNING: Could not set disabled on target, raised error: ' + err);\\n      return;\\n    }\\n    try {\\n      target['disabled'] = value;\\n    } catch(err) {\\n      console.log(err)\\n    }\\n    \",\"tags\":[[140542608160944,[null,\"readonly\"],[null,\"disabled\"]]]},\"id\":\"2528\",\"type\":\"CustomJS\"},{\"attributes\":{},\"id\":\"2426\",\"type\":\"DataRange1d\"},{\"attributes\":{},\"id\":\"2441\",\"type\":\"WheelZoomTool\"},{\"attributes\":{\"children\":[{\"id\":\"2421\"}],\"margin\":[0,0,0,0],\"name\":\"Row00154\"},\"id\":\"2492\",\"type\":\"Row\"},{\"attributes\":{},\"id\":\"2443\",\"type\":\"SaveTool\"},{\"attributes\":{\"fill_alpha\":{\"value\":0.5},\"fill_color\":{\"value\":\"red\"},\"hatch_alpha\":{\"value\":0.5},\"line_alpha\":{\"value\":0.5},\"line_color\":{\"value\":\"white\"},\"size\":{\"value\":10},\"x\":{\"field\":\"x\"},\"y\":{\"field\":\"y\"}},\"id\":\"2457\",\"type\":\"Circle\"},{\"attributes\":{\"overlay\":{\"id\":\"2446\"}},\"id\":\"2442\",\"type\":\"BoxZoomTool\"},{\"attributes\":{\"args\":{\"bidirectional\":true,\"properties\":{\"readonly\":\"disabled\"},\"source\":{\"id\":\"2515\"},\"target\":{\"id\":\"2515\"}},\"code\":\"\\n    var value = source['disabled'];\\n    value = value;\\n    value = value;\\n    try {\\n      var property = target.properties['readonly'];\\n      if (property !== undefined) { property.validate(value); }\\n    } catch(err) {\\n      console.log('WARNING: Could not set readonly on target, raised error: ' + err);\\n      return;\\n    }\\n    try {\\n      target['readonly'] = value;\\n    } catch(err) {\\n      console.log(err)\\n    }\\n    \",\"tags\":[[140542608160944,[null,\"readonly\"],[null,\"disabled\"]]]},\"id\":\"2529\",\"type\":\"CustomJS\"},{\"attributes\":{},\"id\":\"2424\",\"type\":\"DataRange1d\"},{\"attributes\":{\"axis\":{\"id\":\"2436\"},\"coordinates\":null,\"dimension\":1,\"grid_line_alpha\":0.15,\"grid_line_color\":\"#E0E0E0\",\"group\":null,\"ticker\":null},\"id\":\"2439\",\"type\":\"Grid\"},{\"attributes\":{},\"id\":\"2444\",\"type\":\"ResetTool\"},{\"attributes\":{\"axis_label\":\"$$\\\\color{white} -2.0x^2 + 0.0x^1 + 1.0x^0$$\",\"axis_label_standoff\":10,\"axis_label_text_color\":\"#FFFFFF\",\"axis_label_text_font\":\"Josefin Sans\",\"axis_label_text_font_size\":\"1.9em\",\"axis_label_text_font_style\":\"bold\",\"axis_line_alpha\":0.4,\"axis_line_color\":\"#E0E0E0\",\"coordinates\":null,\"formatter\":{\"id\":\"2463\"},\"group\":null,\"major_label_policy\":{\"id\":\"2464\"},\"major_label_text_color\":\"#E0E0E0\",\"major_label_text_font\":\"Josefin Sans\",\"major_label_text_font_size\":\"1.15em\",\"major_tick_line_alpha\":0.4,\"major_tick_line_color\":\"#E0E0E0\",\"minor_tick_line_alpha\":0.4,\"minor_tick_line_color\":\"#E0E0E0\",\"ticker\":{\"id\":\"2437\"}},\"id\":\"2436\",\"type\":\"LinearAxis\"}],\"root_ids\":[\"2479\",\"2552\"]},\"title\":\"Bokeh Application\",\"version\":\"2.4.3\"}};\n",
              "    var render_items = [{\"docid\":\"5e7778ba-7655-4565-9320-b1d182ea719a\",\"root_ids\":[\"2479\"],\"roots\":{\"2479\":\"250ed9fc-a9bd-41be-aeb1-cfc130811e18\"}}];\n",
              "    root.Bokeh.embed.embed_items_notebook(docs_json, render_items);\n",
              "    for (const render_item of render_items) {\n",
              "      for (const root_id of render_item.root_ids) {\n",
              "\tconst id_el = document.getElementById(root_id)\n",
              "\tif (id_el.children.length && (id_el.children[0].className === 'bk-root')) {\n",
              "\t  const root_el = id_el.children[0]\n",
              "\t  root_el.id = root_el.id + '-rendered'\n",
              "\t}\n",
              "      }\n",
              "    }\n",
              "  }\n",
              "  if (root.Bokeh !== undefined && root.Bokeh.Panel !== undefined) {\n",
              "    embed_document(root);\n",
              "  } else {\n",
              "    var attempts = 0;\n",
              "    var timer = setInterval(function(root) {\n",
              "      if (root.Bokeh !== undefined && root.Bokeh.Panel !== undefined) {\n",
              "        clearInterval(timer);\n",
              "        embed_document(root);\n",
              "      } else if (document.readyState == \"complete\") {\n",
              "        attempts++;\n",
              "        if (attempts > 200) {\n",
              "          clearInterval(timer);\n",
              "          console.log(\"Bokeh: ERROR: Unable to run BokehJS code because BokehJS library is missing\");\n",
              "        }\n",
              "      }\n",
              "    }, 25, root)\n",
              "  }\n",
              "})(window);</script>"
            ],
            "text/plain": [
              "Row\n",
              "    [0] HSpacer()\n",
              "    [1] Column\n",
              "        [0] Row\n",
              "            [0] Param(RegressionPolynomial, name='Problem parameters', widgets={})\n",
              "            [1] ParamMethod(method, _pane=Bokeh)\n",
              "        [1] Ace(height=150, language='python', sizing_mode='stretch_both', theme='chaos', value='def polynomial(\\n        ...)\n",
              "    [2] HSpacer()"
            ]
          },
          "execution_count": 11,
          "metadata": {
            "application/vnd.holoviews_exec.v0+json": {
              "id": "2479"
            }
          },
          "output_type": "execute_result"
        }
      ],
      "source": [
        "from cml.tasks import RegressionPolynomial\n",
        "explorer = RegressionPolynomial()\n",
        "explorer.render()"
      ]
    },
    {
      "attachments": {},
      "cell_type": "markdown",
      "metadata": {
        "id": "YGFOprgGf-pp"
      },
      "source": [
        "## Using learning libraries (`scikit-learn`)"
      ]
    },
    {
      "attachments": {},
      "cell_type": "markdown",
      "metadata": {
        "id": "ts7q9odpf-pp"
      },
      "source": [
        "To get a first grip on what machine learning does, we will rely on the `scikit-learn` library. This contains already coded models and learning procedure, that will allow us to _learn_ the parameters of this unknown function.\n",
        "\n",
        "Here we already know that we want to use a `PolynomialFeatures` model to perfom `LinearRegression` and that this polynomial should be of degree 2."
      ]
    },
    {
      "cell_type": "code",
      "execution_count": 12,
      "metadata": {
        "id": "uuELPMTrf-pp"
      },
      "outputs": [],
      "source": [
        "from sklearn.linear_model import LinearRegression\n",
        "from sklearn.preprocessing import PolynomialFeatures\n",
        "from sklearn.pipeline import make_pipeline\n",
        "# Our data to fit\n",
        "X = x[:, np.newaxis]\n",
        "# Degree of our polynomial\n",
        "degree = 2;\n",
        "# Create our polynomial model for regression\n",
        "model = make_pipeline(PolynomialFeatures(degree), LinearRegression())\n",
        "# Fit the parameters of this model\n",
        "model.fit(X, y);"
      ]
    },
    {
      "attachments": {},
      "cell_type": "markdown",
      "metadata": {
        "id": "6CRiLwP8f-pq"
      },
      "source": [
        "Now that we have trained the model, we can perform _predictions_ from it, meaning that we can infer the output of the function at values that we did not observe originally."
      ]
    },
    {
      "cell_type": "code",
      "execution_count": 13,
      "metadata": {
        "colab": {
          "base_uri": "https://localhost:8080/",
          "height": 1000
        },
        "id": "kNIuWMyif-pq",
        "outputId": "b6cba114-6648-4dd3-aa5d-dc62f1bc284c"
      },
      "outputs": [
        {
          "name": "stdout",
          "output_type": "stream",
          "text": [
            "Model error : 0.10855594149932848\n"
          ]
        },
        {
          "data": {},
          "metadata": {},
          "output_type": "display_data"
        },
        {
          "data": {
            "application/vnd.holoviews_exec.v0+json": "",
            "text/html": [
              "<div id='2686'>\n",
              "  <div class=\"bk-root\" id=\"a560a084-38d7-4b81-b593-879cee525b30\" data-root-id=\"2686\"></div>\n",
              "</div>\n",
              "<script type=\"application/javascript\">(function(root) {\n",
              "  function embed_document(root) {\n",
              "    var docs_json = {\"5a83993b-12e7-4e79-8aeb-456f1b0e4612\":{\"defs\":[{\"extends\":null,\"module\":null,\"name\":\"ReactiveHTML1\",\"overrides\":[],\"properties\":[]},{\"extends\":null,\"module\":null,\"name\":\"FlexBox1\",\"overrides\":[],\"properties\":[{\"default\":\"flex-start\",\"kind\":null,\"name\":\"align_content\"},{\"default\":\"flex-start\",\"kind\":null,\"name\":\"align_items\"},{\"default\":\"row\",\"kind\":null,\"name\":\"flex_direction\"},{\"default\":\"wrap\",\"kind\":null,\"name\":\"flex_wrap\"},{\"default\":\"flex-start\",\"kind\":null,\"name\":\"justify_content\"}]},{\"extends\":null,\"module\":null,\"name\":\"GridStack1\",\"overrides\":[],\"properties\":[{\"default\":\"warn\",\"kind\":null,\"name\":\"mode\"},{\"default\":null,\"kind\":null,\"name\":\"ncols\"},{\"default\":null,\"kind\":null,\"name\":\"nrows\"},{\"default\":true,\"kind\":null,\"name\":\"allow_resize\"},{\"default\":true,\"kind\":null,\"name\":\"allow_drag\"},{\"default\":[],\"kind\":null,\"name\":\"state\"}]},{\"extends\":null,\"module\":null,\"name\":\"click1\",\"overrides\":[],\"properties\":[{\"default\":\"\",\"kind\":null,\"name\":\"terminal_output\"},{\"default\":\"\",\"kind\":null,\"name\":\"debug_name\"},{\"default\":0,\"kind\":null,\"name\":\"clears\"}]},{\"extends\":null,\"module\":null,\"name\":\"NotificationAreaBase1\",\"overrides\":[],\"properties\":[{\"default\":\"bottom-right\",\"kind\":null,\"name\":\"position\"},{\"default\":0,\"kind\":null,\"name\":\"_clear\"}]},{\"extends\":null,\"module\":null,\"name\":\"NotificationArea1\",\"overrides\":[],\"properties\":[{\"default\":[],\"kind\":null,\"name\":\"notifications\"},{\"default\":\"bottom-right\",\"kind\":null,\"name\":\"position\"},{\"default\":0,\"kind\":null,\"name\":\"_clear\"},{\"default\":[{\"background\":\"#ffc107\",\"icon\":{\"className\":\"fas fa-exclamation-triangle\",\"color\":\"white\",\"tagName\":\"i\"},\"type\":\"warning\"},{\"background\":\"#007bff\",\"icon\":{\"className\":\"fas fa-info-circle\",\"color\":\"white\",\"tagName\":\"i\"},\"type\":\"info\"}],\"kind\":null,\"name\":\"types\"}]},{\"extends\":null,\"module\":null,\"name\":\"Notification\",\"overrides\":[],\"properties\":[{\"default\":null,\"kind\":null,\"name\":\"background\"},{\"default\":3000,\"kind\":null,\"name\":\"duration\"},{\"default\":null,\"kind\":null,\"name\":\"icon\"},{\"default\":\"\",\"kind\":null,\"name\":\"message\"},{\"default\":null,\"kind\":null,\"name\":\"notification_type\"},{\"default\":false,\"kind\":null,\"name\":\"_destroyed\"}]},{\"extends\":null,\"module\":null,\"name\":\"TemplateActions1\",\"overrides\":[],\"properties\":[{\"default\":0,\"kind\":null,\"name\":\"open_modal\"},{\"default\":0,\"kind\":null,\"name\":\"close_modal\"}]},{\"extends\":null,\"module\":null,\"name\":\"MaterialTemplateActions1\",\"overrides\":[],\"properties\":[{\"default\":0,\"kind\":null,\"name\":\"open_modal\"},{\"default\":0,\"kind\":null,\"name\":\"close_modal\"}]}],\"roots\":{\"references\":[{\"attributes\":{},\"id\":\"2653\",\"type\":\"BasicTickFormatter\"},{\"attributes\":{},\"id\":\"2615\",\"type\":\"LinearScale\"},{\"attributes\":{\"bottom_units\":\"screen\",\"coordinates\":null,\"fill_alpha\":0.5,\"fill_color\":\"lightgrey\",\"group\":null,\"left_units\":\"screen\",\"level\":\"overlay\",\"line_alpha\":1.0,\"line_color\":\"black\",\"line_dash\":[4,4],\"line_width\":2,\"right_units\":\"screen\",\"syncable\":false,\"top_units\":\"screen\"},\"id\":\"2633\",\"type\":\"BoxAnnotation\"},{\"attributes\":{},\"id\":\"2650\",\"type\":\"BasicTickFormatter\"},{\"attributes\":{\"tools\":[{\"id\":\"2627\"},{\"id\":\"2628\"},{\"id\":\"2629\"},{\"id\":\"2630\"},{\"id\":\"2631\"},{\"id\":\"2632\"},{\"id\":\"2660\"},{\"id\":\"2664\"}]},\"id\":\"2634\",\"type\":\"Toolbar\"},{\"attributes\":{\"fill_alpha\":{\"value\":0.25},\"fill_color\":{\"value\":\"midnightblue\"},\"hatch_alpha\":{\"value\":0.25},\"line_alpha\":{\"value\":0.25},\"line_color\":{\"value\":\"white\"},\"size\":{\"value\":10},\"x\":{\"field\":\"x\"},\"y\":{\"field\":\"y\"}},\"id\":\"2642\",\"type\":\"Circle\"},{\"attributes\":{\"coordinates\":null,\"data_source\":{\"id\":\"2641\"},\"glyph\":{\"id\":\"2642\"},\"group\":null,\"hover_glyph\":{\"id\":\"2644\"},\"muted_glyph\":{\"id\":\"2645\"},\"nonselection_glyph\":{\"id\":\"2663\"},\"selection_glyph\":{\"id\":\"2662\"},\"view\":{\"id\":\"2647\"}},\"id\":\"2646\",\"type\":\"GlyphRenderer\"},{\"attributes\":{},\"id\":\"2632\",\"type\":\"HelpTool\"},{\"attributes\":{},\"id\":\"2613\",\"type\":\"DataRange1d\"},{\"attributes\":{\"client_comm_id\":\"b55c9c732d894ea7a863e1ef1b43a22b\",\"comm_id\":\"aec42e3ec81f4c2fbed80d2074b34432\",\"plot_id\":\"2686\"},\"id\":\"2754\",\"type\":\"panel.models.comm_manager.CommManager\"},{\"attributes\":{},\"id\":\"2681\",\"type\":\"UnionRenderers\"},{\"attributes\":{},\"id\":\"2624\",\"type\":\"BasicTicker\"},{\"attributes\":{},\"id\":\"2656\",\"type\":\"Selection\"},{\"attributes\":{},\"id\":\"2682\",\"type\":\"Selection\"},{\"attributes\":{},\"id\":\"2611\",\"type\":\"DataRange1d\"},{\"attributes\":{},\"id\":\"2620\",\"type\":\"BasicTicker\"},{\"attributes\":{\"coordinates\":null,\"group\":null,\"text\":\"Training a scikit-learn model\",\"text_color\":\"#E0E0E0\",\"text_font\":\"Josefin Sans\",\"text_font_size\":\"2.1em\"},\"id\":\"2609\",\"type\":\"Title\"},{\"attributes\":{},\"id\":\"2655\",\"type\":\"UnionRenderers\"},{\"attributes\":{\"axis_label\":\"x\",\"axis_label_standoff\":10,\"axis_label_text_color\":\"#FFFFFF\",\"axis_label_text_font\":\"Josefin Sans\",\"axis_label_text_font_size\":\"1.9em\",\"axis_label_text_font_style\":\"bold\",\"axis_line_alpha\":0.4,\"axis_line_color\":\"#E0E0E0\",\"coordinates\":null,\"formatter\":{\"id\":\"2653\"},\"group\":null,\"major_label_policy\":{\"id\":\"2654\"},\"major_label_text_color\":\"#E0E0E0\",\"major_label_text_font\":\"Josefin Sans\",\"major_label_text_font_size\":\"1.15em\",\"major_tick_line_alpha\":0.4,\"major_tick_line_color\":\"#E0E0E0\",\"minor_tick_line_alpha\":0.4,\"minor_tick_line_color\":\"#E0E0E0\",\"ticker\":{\"id\":\"2620\"}},\"id\":\"2619\",\"type\":\"LinearAxis\"},{\"attributes\":{},\"id\":\"2628\",\"type\":\"WheelZoomTool\"},{\"attributes\":{},\"id\":\"2627\",\"type\":\"PanTool\"},{\"attributes\":{\"fill_alpha\":{\"value\":0.8},\"fill_color\":{\"value\":\"red\"},\"line_color\":{\"value\":\"white\"}},\"id\":\"2662\",\"type\":\"Circle\"},{\"attributes\":{\"overlay\":{\"id\":\"2633\"}},\"id\":\"2629\",\"type\":\"BoxZoomTool\"},{\"attributes\":{},\"id\":\"2631\",\"type\":\"ResetTool\"},{\"attributes\":{\"label\":{\"value\":\"Observations\"},\"renderers\":[{\"id\":\"2646\"}]},\"id\":\"2659\",\"type\":\"LegendItem\"},{\"attributes\":{\"data\":{\"x\":{\"__ndarray__\":\"W79SoNavlD8yb2dIzNu5P2WTTTbZZMM/UetXCtT6xT88Q2LezpDIPxPzdobEvM0/ejtDYt7O0D910UUXXXTRP2ApUOtXCtQ/W79SoNav1D9WVVVVVVXVP1HrVwrU+tU/TIFav1Kg1j9GF1100UXXPzxDYt7OkNg/N9lkk0022T8yb2dIzNvZPy0Fav1Kgdo/HcdxHMdx3D8YXXTRRRfdPxPzdobEvN0/CB988MEH3z998MEHH3zgP3o7Q2LezuA/d4bEvJ0h4T910UUXXXThP3BnSMzbGeI/aEjM2xkS4z9gKVDrVwrkP1gK1PqVAuU/U6DWrxSo5T9ONtlkk03mP0Ri3s6QmOc/OY7jOI7j6D832WSTTTbpPzJvZ0jM2+k/L7rooosu6j8tBWr9SoHqPypQ61cK1Oo/J5tssskm6z8iMW9nSMzrPx3HcRzHcew/Faj1KwVq7T8T83aGxLztPxA++OCDD+4/Dol5O0Ni7j8L1PqVArXuPwZq/UqBWu8/A7V+pUCt7z8AAAAAAADwPw==\",\"dtype\":\"float64\",\"order\":\"little\",\"shape\":[50]},\"y\":{\"__ndarray__\":\"V/i4oLIH8z/v9t3FcEXvP66HH9H+b+w/R719Ajzd8j/sS5C9YYTwP22UEK/RVfA/2qSiwnea9D9SJiqPg5j0P1wPdz94gfQ/kUytEEIM8z+PKBRJfx33PwsqSmQRY/Y/Tgc1O+ym+D/weeAfaBz1PxJYVXq27fQ/MxQGubfQ9D/jTySUKPP1PwbBcB9iy/c/yKKlss+x9j/gE0/JxW/8P709HGjCpvs/VHfp1oAZ/D/goCNLPuj9P+YhksRCj/s/x0CSsSR9/j/Ak8fpgZ39P0GNyqNR9f4/ngvzeSWpAUChULhtIogAQOtXHt9d6gJAH3LshqnhAkCb19UlHKQCQFohxmeqOAZAdJYQQOXtBkATMGeOY7gGQJy093e68gZAuFng9W1eCUBICdTe5+MIQFGNW3B4TghA7X0c7SpZCkDuUHsGFRQLQA6oGALMnAtAfU1kW/IQDUD0Bqz7x3YLQHHDAMBUbQ5AfGXL6JUCDkBYdXvVcbYOQKq7FSqmtg9AFuPABlEODkBztQxOjT0PQA==\",\"dtype\":\"float64\",\"order\":\"little\",\"shape\":[50]}},\"selected\":{\"id\":\"2656\"},\"selection_policy\":{\"id\":\"2655\"}},\"id\":\"2641\",\"type\":\"ColumnDataSource\"},{\"attributes\":{\"mode\":\"append\",\"overlay\":{\"id\":\"2684\"},\"renderers\":[{\"id\":\"2646\"}]},\"id\":\"2664\",\"type\":\"BoxSelectTool\"},{\"attributes\":{\"source\":{\"id\":\"2641\"}},\"id\":\"2647\",\"type\":\"CDSView\"},{\"attributes\":{\"fill_alpha\":{\"value\":0.2},\"fill_color\":{\"value\":\"midnightblue\"},\"hatch_alpha\":{\"value\":0.2},\"line_alpha\":{\"value\":0.2},\"line_color\":{\"value\":\"white\"},\"size\":{\"value\":10},\"x\":{\"field\":\"x\"},\"y\":{\"field\":\"y\"}},\"id\":\"2645\",\"type\":\"Circle\"},{\"attributes\":{\"background_fill_alpha\":0.25,\"background_fill_color\":\"#505050\",\"border_line_alpha\":0.25,\"coordinates\":null,\"group\":null,\"items\":[{\"id\":\"2659\"},{\"id\":\"2685\"}],\"label_standoff\":8,\"label_text_color\":\"#E0E0E0\",\"label_text_font\":\"Josefin Sans\",\"label_text_font_size\":\"1.15em\",\"spacing\":8},\"id\":\"2658\",\"type\":\"Legend\"},{\"attributes\":{\"callback\":null,\"mode\":\"vline\",\"renderers\":[{\"id\":\"2646\"}],\"tooltips\":null},\"id\":\"2660\",\"type\":\"HoverTool\"},{\"attributes\":{},\"id\":\"2654\",\"type\":\"AllLabels\"},{\"attributes\":{\"axis_label\":\"y\",\"axis_label_standoff\":10,\"axis_label_text_color\":\"#FFFFFF\",\"axis_label_text_font\":\"Josefin Sans\",\"axis_label_text_font_size\":\"1.9em\",\"axis_label_text_font_style\":\"bold\",\"axis_line_alpha\":0.4,\"axis_line_color\":\"#E0E0E0\",\"coordinates\":null,\"formatter\":{\"id\":\"2650\"},\"group\":null,\"major_label_policy\":{\"id\":\"2651\"},\"major_label_text_color\":\"#E0E0E0\",\"major_label_text_font\":\"Josefin Sans\",\"major_label_text_font_size\":\"1.15em\",\"major_tick_line_alpha\":0.4,\"major_tick_line_color\":\"#E0E0E0\",\"minor_tick_line_alpha\":0.4,\"minor_tick_line_color\":\"#E0E0E0\",\"ticker\":{\"id\":\"2624\"}},\"id\":\"2623\",\"type\":\"LinearAxis\"},{\"attributes\":{\"axis\":{\"id\":\"2619\"},\"coordinates\":null,\"grid_line_alpha\":0.15,\"grid_line_color\":\"#E0E0E0\",\"group\":null,\"ticker\":null},\"id\":\"2622\",\"type\":\"Grid\"},{\"attributes\":{\"children\":[{\"id\":\"2687\"},{\"id\":\"2608\"},{\"id\":\"2714\"}],\"margin\":[0,0,0,0],\"name\":\"Row00169\"},\"id\":\"2686\",\"type\":\"Row\"},{\"attributes\":{\"axis\":{\"id\":\"2623\"},\"coordinates\":null,\"dimension\":1,\"grid_line_alpha\":0.15,\"grid_line_color\":\"#E0E0E0\",\"group\":null,\"ticker\":null},\"id\":\"2626\",\"type\":\"Grid\"},{\"attributes\":{},\"id\":\"2617\",\"type\":\"LinearScale\"},{\"attributes\":{\"margin\":[5,5,5,5],\"name\":\"HSpacer00166\",\"sizing_mode\":\"stretch_width\"},\"id\":\"2714\",\"type\":\"Spacer\"},{\"attributes\":{\"data\":{\"x\":{\"__ndarray__\":\"AAAAAAAAAABbv1Kg1q+EP1u/UqDWr5Q/CB988MEHnz9bv1Kg1q+kPzJvZ0jM26k/CB988MEHrz9wZ0jM2xmyP1u/UqDWr7Q/RhdddNFFtz8yb2dIzNu5Px3HcRzHcbw/CB988MEHvz96O0Ni3s7AP3BnSMzbGcI/ZZNNNtlkwz9bv1Kg1q/EP1HrVwrU+sU/RhdddNFFxz88Q2LezpDIPzJvZ0jM28k/J5tssskmyz8dx3Ecx3HMPxPzdobEvM0/CB988MEHzz9/pUCtXynQP3o7Q2LeztA/ddFFF1100T9wZ0jM2xnSP2r9SoFav9I/ZZNNNtlk0z9gKVDrVwrUP1u/UqDWr9Q/VlVVVVVV1T9R61cK1PrVP0yBWr9SoNY/RhdddNFF1z9BrV8pUOvXPzxDYt7OkNg/N9lkk0022T8yb2dIzNvZPy0Fav1Kgdo/J5tssskm2z8iMW9nSMzbPx3HcRzHcdw/GF100UUX3T8T83aGxLzdPw6JeTtDYt4/CB988MEH3z8DtX6lQK3fP3+lQK1fKeA/ffDBBx984D96O0Ni3s7gP3eGxLydIeE/ddFFF1104T9yHMdxHMfhP3BnSMzbGeI/bbLJJpts4j9q/UqBWr/iP2hIzNsZEuM/ZZNNNtlk4z9j3s6QmLfjP2ApUOtXCuQ/XnTRRRdd5D9bv1Kg1q/kP1gK1PqVAuU/VlVVVVVV5T9ToNavFKjlP1HrVwrU+uU/TjbZZJNN5j9MgVq/UqDmP0nM2xkS8+Y/RhdddNFF5z9EYt7OkJjnP0GtXylQ6+c/P/jggw8+6D88Q2LezpDoPzmO4ziO4+g/N9lkk0026T80JObtDInpPzJvZ0jM2+k/L7rooosu6j8tBWr9SoHqPypQ61cK1Oo/J5tssskm6z8l5u0MiXnrPyIxb2dIzOs/IHzwwQcf7D8dx3Ecx3HsPxsS83aGxOw/GF100UUX7T8VqPUrBWrtPxPzdobEvO0/ED744IMP7j8OiXk7Q2LuPwvU+pUCte4/CB988MEH7z8Gav1KgVrvPwO1fqVAre8/AAAAAAAA8D8=\",\"dtype\":\"float64\",\"order\":\"little\",\"shape\":[100]},\"y\":{\"__ndarray__\":\"AAAAAAAA8D8MJLz1QAHwPy6Q8NYDBfA/aESdo0gL8D+6QMJbDxTwPyKFX/9XH/A/ohF1jiIt8D845gIJbz3wP+YCCW89UPA/q2eHwI1l8D+IFH79X33wP3sJ7SW0l/A/hkbUOYq08D+oyzM54tPwP+GYCyS89fA/Ma5b+hca8T+ZCyS89UDxPxixZGlVavE/rZ4dAjeW8T9b1E6GmsTxPx9S+PV/9fE/+hcaUeco8j/tJbSX0F7yP/d7xsk7l/I/GBpR5yjS8j9QAFTwlw/zP6Auz+SIT/M/B6XCxPuR8z+EYy6Q8NbzPxlqEkdnHvQ/xrhu6V9o9D+JT0N32rT0P2QukPDWA/U/VlVVVVVV9T9fxJKlVan1P397SOHX//U/tnp2CNxY9j8FwhwbYrT2P2tROxlqEvc/6CjSAvRy9z98SOHX/9X3PyiwaJiNO/g/6l9oRJ2j+D/EV+DbLg75P7SX0F5Ce/k/vR85zdfq+T/c7xkn71z6PxIIc2yI0fo/YGhEnaNI+z/FEI65QML7P0EBUMFfPvw/1jmKtAC9/D+AujyTIz79P0CDZ13Iwf0/GpQKE+9H/j8K7SW0l9D+PxKOuUDCW/8/MHfFuG7p/z8y1CSOzjwAQNoQo7UmhgBAi3Hd0r/QAEBJ9tPlmRwBQBKfhu60aQFA6Gv17BC4AUDIXCDhrQcCQLNxB8uLWAJAq6qqqqqqAkCuBwqACv4CQL6IJUurUgNA1y39C42oA0D+9pDCr/8DQDDk4G4TWARAbPXsELixBEC2KrWonQwFQAqEOTbEaAVAagF6uSvGBUDWonYy1CQGQExoL6G9hAZA0FGkBejlBkBeX9VfU0gHQPiQwq//qwdAneZr9ewQCEBPYNEwG3cIQAz+8mGK3ghA07/QiDpHCUCopWqlK7EJQIevwLddHApAc93Sv9CICkBpL6G9hPYKQGylK7F5ZQtAej9ymq/VC0CT/XR5JkcMQLjfM07euQxA6eWuGNctDUAlEObYEKMNQG1e2Y6LGQ5AwNCIOkeRDkAgZ/TbQwoPQIohHHOBhA9AAAAAAAAAEEA=\",\"dtype\":\"float64\",\"order\":\"little\",\"shape\":[100]}},\"selected\":{\"id\":\"2682\"},\"selection_policy\":{\"id\":\"2681\"}},\"id\":\"2666\",\"type\":\"ColumnDataSource\"},{\"attributes\":{\"source\":{\"id\":\"2666\"}},\"id\":\"2671\",\"type\":\"CDSView\"},{\"attributes\":{\"margin\":[5,5,5,5],\"name\":\"HSpacer00165\",\"sizing_mode\":\"stretch_width\"},\"id\":\"2687\",\"type\":\"Spacer\"},{\"attributes\":{\"fill_alpha\":{\"value\":0.5},\"fill_color\":{\"value\":\"midnightblue\"},\"line_color\":{\"value\":\"white\"}},\"id\":\"2663\",\"type\":\"Circle\"},{\"attributes\":{\"line_alpha\":0.6,\"line_color\":\"red\",\"line_width\":6,\"x\":{\"field\":\"x\"},\"y\":{\"field\":\"y\"}},\"id\":\"2667\",\"type\":\"Line\"},{\"attributes\":{\"bottom_units\":\"screen\",\"coordinates\":null,\"fill_alpha\":0.5,\"fill_color\":\"lightgrey\",\"group\":null,\"left_units\":\"screen\",\"level\":\"overlay\",\"line_alpha\":1.0,\"line_color\":\"black\",\"line_dash\":[4,4],\"line_width\":2,\"right_units\":\"screen\",\"syncable\":false,\"top_units\":\"screen\"},\"id\":\"2684\",\"type\":\"BoxAnnotation\"},{\"attributes\":{\"coordinates\":null,\"data_source\":{\"id\":\"2666\"},\"glyph\":{\"id\":\"2667\"},\"group\":null,\"hover_glyph\":null,\"muted_glyph\":{\"id\":\"2669\"},\"nonselection_glyph\":{\"id\":\"2668\"},\"view\":{\"id\":\"2671\"}},\"id\":\"2670\",\"type\":\"GlyphRenderer\"},{\"attributes\":{},\"id\":\"2630\",\"type\":\"SaveTool\"},{\"attributes\":{\"label\":{\"value\":\"Trained model\"},\"renderers\":[{\"id\":\"2670\"}]},\"id\":\"2685\",\"type\":\"LegendItem\"},{\"attributes\":{\"background_fill_alpha\":0.9,\"background_fill_color\":\"#0f0f0f\",\"below\":[{\"id\":\"2619\"}],\"border_fill_alpha\":0.8,\"border_fill_color\":\"#111111\",\"center\":[{\"id\":\"2622\"},{\"id\":\"2626\"},{\"id\":\"2658\"}],\"height\":450,\"left\":[{\"id\":\"2623\"}],\"outline_line_alpha\":0.25,\"outline_line_color\":\"#E0E0E0\",\"outline_line_width\":3,\"renderers\":[{\"id\":\"2646\"},{\"id\":\"2670\"}],\"title\":{\"id\":\"2609\"},\"toolbar\":{\"id\":\"2634\"},\"toolbar_location\":null,\"x_range\":{\"id\":\"2611\"},\"x_scale\":{\"id\":\"2615\"},\"y_range\":{\"id\":\"2613\"},\"y_scale\":{\"id\":\"2617\"}},\"id\":\"2608\",\"subtype\":\"Figure\",\"type\":\"Plot\"},{\"attributes\":{\"line_alpha\":0.2,\"line_color\":\"red\",\"line_width\":6,\"x\":{\"field\":\"x\"},\"y\":{\"field\":\"y\"}},\"id\":\"2669\",\"type\":\"Line\"},{\"attributes\":{},\"id\":\"2651\",\"type\":\"AllLabels\"},{\"attributes\":{\"line_alpha\":0.1,\"line_color\":\"red\",\"line_width\":6,\"x\":{\"field\":\"x\"},\"y\":{\"field\":\"y\"}},\"id\":\"2668\",\"type\":\"Line\"},{\"attributes\":{\"fill_alpha\":{\"value\":0.5},\"fill_color\":{\"value\":\"red\"},\"hatch_alpha\":{\"value\":0.5},\"line_alpha\":{\"value\":0.5},\"line_color\":{\"value\":\"white\"},\"size\":{\"value\":10},\"x\":{\"field\":\"x\"},\"y\":{\"field\":\"y\"}},\"id\":\"2644\",\"type\":\"Circle\"}],\"root_ids\":[\"2686\",\"2754\"]},\"title\":\"Bokeh Application\",\"version\":\"2.4.3\"}};\n",
              "    var render_items = [{\"docid\":\"5a83993b-12e7-4e79-8aeb-456f1b0e4612\",\"root_ids\":[\"2686\"],\"roots\":{\"2686\":\"a560a084-38d7-4b81-b593-879cee525b30\"}}];\n",
              "    root.Bokeh.embed.embed_items_notebook(docs_json, render_items);\n",
              "    for (const render_item of render_items) {\n",
              "      for (const root_id of render_item.root_ids) {\n",
              "\tconst id_el = document.getElementById(root_id)\n",
              "\tif (id_el.children.length && (id_el.children[0].className === 'bk-root')) {\n",
              "\t  const root_el = id_el.children[0]\n",
              "\t  root_el.id = root_el.id + '-rendered'\n",
              "\t}\n",
              "      }\n",
              "    }\n",
              "  }\n",
              "  if (root.Bokeh !== undefined && root.Bokeh.Panel !== undefined) {\n",
              "    embed_document(root);\n",
              "  } else {\n",
              "    var attempts = 0;\n",
              "    var timer = setInterval(function(root) {\n",
              "      if (root.Bokeh !== undefined && root.Bokeh.Panel !== undefined) {\n",
              "        clearInterval(timer);\n",
              "        embed_document(root);\n",
              "      } else if (document.readyState == \"complete\") {\n",
              "        attempts++;\n",
              "        if (attempts > 200) {\n",
              "          clearInterval(timer);\n",
              "          console.log(\"Bokeh: ERROR: Unable to run BokehJS code because BokehJS library is missing\");\n",
              "        }\n",
              "      }\n",
              "    }, 25, root)\n",
              "  }\n",
              "})(window);</script>"
            ],
            "text/plain": [
              "Row\n",
              "    [0] HSpacer()\n",
              "    [1] Bokeh(Figure)\n",
              "    [2] HSpacer()"
            ]
          },
          "execution_count": 13,
          "metadata": {
            "application/vnd.holoviews_exec.v0+json": {
              "id": "2686"
            }
          },
          "output_type": "execute_result"
        }
      ],
      "source": [
        "# Inference points (not observed)\n",
        "X_plot = x_plot[:, np.newaxis]\n",
        "# Predict the values\n",
        "y_plot = model.predict(X_plot)\n",
        "# Compute the error of our model at observed points\n",
        "Y_model_err = np.sqrt(np.mean(np.square(y-model.predict(X))))\n",
        "print(f'Model error : {Y_model_err}')\n",
        "# Plot the result\n",
        "p = scatter(x, y, title=\"Training a scikit-learn model\")\n",
        "p.line(x_plot, poly(x_plot), line_width=6, line_alpha=0.6, color=\"red\", legend_label=r\"Trained model\")\n",
        "plot = (center_plot(p))\n",
        "plot"
      ]
    },
    {
      "cell_type": "code",
      "execution_count": 14,
      "metadata": {
        "id": "rVYKs1KLf-pq"
      },
      "outputs": [],
      "source": [
        "from cml.tasks import RegressionPolynomialSolver\n",
        "explorer = RegressionPolynomialSolver()"
      ]
    },
    {
      "cell_type": "code",
      "execution_count": 15,
      "metadata": {
        "colab": {
          "base_uri": "https://localhost:8080/",
          "height": 1000
        },
        "id": "vHnvfLFJf-pq",
        "outputId": "19f9e01f-944d-49ba-a27b-1e7a04be5d11"
      },
      "outputs": [
        {
          "data": {},
          "metadata": {},
          "output_type": "display_data"
        },
        {
          "data": {
            "application/vnd.holoviews_exec.v0+json": "",
            "text/html": [
              "<div id='2884'>\n",
              "  <div class=\"bk-root\" id=\"8ab27422-9dda-49ff-9072-523d041275a1\" data-root-id=\"2884\"></div>\n",
              "</div>\n",
              "<script type=\"application/javascript\">(function(root) {\n",
              "  function embed_document(root) {\n",
              "    var docs_json = {\"71124009-68ad-44b5-a5bf-1f7135abaef2\":{\"defs\":[{\"extends\":null,\"module\":null,\"name\":\"ReactiveHTML1\",\"overrides\":[],\"properties\":[]},{\"extends\":null,\"module\":null,\"name\":\"FlexBox1\",\"overrides\":[],\"properties\":[{\"default\":\"flex-start\",\"kind\":null,\"name\":\"align_content\"},{\"default\":\"flex-start\",\"kind\":null,\"name\":\"align_items\"},{\"default\":\"row\",\"kind\":null,\"name\":\"flex_direction\"},{\"default\":\"wrap\",\"kind\":null,\"name\":\"flex_wrap\"},{\"default\":\"flex-start\",\"kind\":null,\"name\":\"justify_content\"}]},{\"extends\":null,\"module\":null,\"name\":\"GridStack1\",\"overrides\":[],\"properties\":[{\"default\":\"warn\",\"kind\":null,\"name\":\"mode\"},{\"default\":null,\"kind\":null,\"name\":\"ncols\"},{\"default\":null,\"kind\":null,\"name\":\"nrows\"},{\"default\":true,\"kind\":null,\"name\":\"allow_resize\"},{\"default\":true,\"kind\":null,\"name\":\"allow_drag\"},{\"default\":[],\"kind\":null,\"name\":\"state\"}]},{\"extends\":null,\"module\":null,\"name\":\"click1\",\"overrides\":[],\"properties\":[{\"default\":\"\",\"kind\":null,\"name\":\"terminal_output\"},{\"default\":\"\",\"kind\":null,\"name\":\"debug_name\"},{\"default\":0,\"kind\":null,\"name\":\"clears\"}]},{\"extends\":null,\"module\":null,\"name\":\"NotificationAreaBase1\",\"overrides\":[],\"properties\":[{\"default\":\"bottom-right\",\"kind\":null,\"name\":\"position\"},{\"default\":0,\"kind\":null,\"name\":\"_clear\"}]},{\"extends\":null,\"module\":null,\"name\":\"NotificationArea1\",\"overrides\":[],\"properties\":[{\"default\":[],\"kind\":null,\"name\":\"notifications\"},{\"default\":\"bottom-right\",\"kind\":null,\"name\":\"position\"},{\"default\":0,\"kind\":null,\"name\":\"_clear\"},{\"default\":[{\"background\":\"#ffc107\",\"icon\":{\"className\":\"fas fa-exclamation-triangle\",\"color\":\"white\",\"tagName\":\"i\"},\"type\":\"warning\"},{\"background\":\"#007bff\",\"icon\":{\"className\":\"fas fa-info-circle\",\"color\":\"white\",\"tagName\":\"i\"},\"type\":\"info\"}],\"kind\":null,\"name\":\"types\"}]},{\"extends\":null,\"module\":null,\"name\":\"Notification\",\"overrides\":[],\"properties\":[{\"default\":null,\"kind\":null,\"name\":\"background\"},{\"default\":3000,\"kind\":null,\"name\":\"duration\"},{\"default\":null,\"kind\":null,\"name\":\"icon\"},{\"default\":\"\",\"kind\":null,\"name\":\"message\"},{\"default\":null,\"kind\":null,\"name\":\"notification_type\"},{\"default\":false,\"kind\":null,\"name\":\"_destroyed\"}]},{\"extends\":null,\"module\":null,\"name\":\"TemplateActions1\",\"overrides\":[],\"properties\":[{\"default\":0,\"kind\":null,\"name\":\"open_modal\"},{\"default\":0,\"kind\":null,\"name\":\"close_modal\"}]},{\"extends\":null,\"module\":null,\"name\":\"MaterialTemplateActions1\",\"overrides\":[],\"properties\":[{\"default\":0,\"kind\":null,\"name\":\"open_modal\"},{\"default\":0,\"kind\":null,\"name\":\"close_modal\"}]}],\"roots\":{\"references\":[{\"attributes\":{\"coordinates\":null,\"data_source\":{\"id\":\"2878\"},\"glyph\":{\"id\":\"2879\"},\"group\":null,\"hover_glyph\":null,\"muted_glyph\":{\"id\":\"2881\"},\"nonselection_glyph\":{\"id\":\"2880\"},\"view\":{\"id\":\"2883\"}},\"id\":\"2882\",\"type\":\"GlyphRenderer\"},{\"attributes\":{\"bottom_units\":\"screen\",\"coordinates\":null,\"fill_alpha\":0.5,\"fill_color\":\"lightgrey\",\"group\":null,\"left_units\":\"screen\",\"level\":\"overlay\",\"line_alpha\":1.0,\"line_color\":\"black\",\"line_dash\":[4,4],\"line_width\":2,\"right_units\":\"screen\",\"syncable\":false,\"top_units\":\"screen\"},\"id\":\"2911\",\"type\":\"BoxAnnotation\"},{\"attributes\":{},\"id\":\"2836\",\"type\":\"BasicTicker\"},{\"attributes\":{\"fill_alpha\":{\"value\":0.2},\"fill_color\":{\"value\":\"midnightblue\"},\"hatch_alpha\":{\"value\":0.2},\"line_alpha\":{\"value\":0.2},\"line_color\":{\"value\":\"white\"},\"size\":{\"value\":10},\"x\":{\"field\":\"x\"},\"y\":{\"field\":\"y\"}},\"id\":\"2857\",\"type\":\"Circle\"},{\"attributes\":{},\"id\":\"2832\",\"type\":\"BasicTicker\"},{\"attributes\":{},\"id\":\"2839\",\"type\":\"PanTool\"},{\"attributes\":{\"overlay\":{\"id\":\"2845\"}},\"id\":\"2841\",\"type\":\"BoxZoomTool\"},{\"attributes\":{\"children\":[{\"id\":\"2885\"},{\"id\":\"2886\"},{\"id\":\"2926\"}],\"margin\":[0,0,0,0],\"name\":\"Row00206\"},\"id\":\"2884\",\"type\":\"Row\"},{\"attributes\":{},\"id\":\"2868\",\"type\":\"Selection\"},{\"attributes\":{},\"id\":\"2842\",\"type\":\"SaveTool\"},{\"attributes\":{},\"id\":\"2843\",\"type\":\"ResetTool\"},{\"attributes\":{},\"id\":\"2840\",\"type\":\"WheelZoomTool\"},{\"attributes\":{\"margin\":[5,5,5,5],\"name\":\"HSpacer00205\",\"sizing_mode\":\"stretch_width\"},\"id\":\"2926\",\"type\":\"Spacer\"},{\"attributes\":{\"client_comm_id\":\"65fcbc2150df4b18a5095c504d39083d\",\"comm_id\":\"3024488ae6ad4d88ae27b6d81c0c65df\",\"plot_id\":\"2884\"},\"id\":\"2968\",\"type\":\"panel.models.comm_manager.CommManager\"},{\"attributes\":{\"coordinates\":null,\"group\":null,\"text\":\"Polynomial regression problem\",\"text_color\":\"#E0E0E0\",\"text_font\":\"Josefin Sans\",\"text_font_size\":\"2.1em\"},\"id\":\"2821\",\"type\":\"Title\"},{\"attributes\":{\"margin\":[5,5,5,5],\"name\":\"HSpacer00173\",\"sizing_mode\":\"stretch_width\"},\"id\":\"2885\",\"type\":\"Spacer\"},{\"attributes\":{\"axis\":{\"id\":\"2835\"},\"coordinates\":null,\"dimension\":1,\"grid_line_alpha\":0.15,\"grid_line_color\":\"#E0E0E0\",\"group\":null,\"ticker\":null},\"id\":\"2838\",\"type\":\"Grid\"},{\"attributes\":{},\"id\":\"2867\",\"type\":\"UnionRenderers\"},{\"attributes\":{\"bottom_units\":\"screen\",\"coordinates\":null,\"fill_alpha\":0.5,\"fill_color\":\"lightgrey\",\"group\":null,\"left_units\":\"screen\",\"level\":\"overlay\",\"line_alpha\":1.0,\"line_color\":\"black\",\"line_dash\":[4,4],\"line_width\":2,\"right_units\":\"screen\",\"syncable\":false,\"top_units\":\"screen\"},\"id\":\"2845\",\"type\":\"BoxAnnotation\"},{\"attributes\":{\"children\":[{\"id\":\"2887\"},{\"id\":\"2925\"}],\"margin\":[0,0,0,0],\"name\":\"Column00204\"},\"id\":\"2886\",\"type\":\"Column\"},{\"attributes\":{\"coordinates\":null,\"data_source\":{\"id\":\"2853\"},\"glyph\":{\"id\":\"2854\"},\"group\":null,\"hover_glyph\":{\"id\":\"2856\"},\"muted_glyph\":{\"id\":\"2857\"},\"nonselection_glyph\":{\"id\":\"2875\"},\"selection_glyph\":{\"id\":\"2874\"},\"view\":{\"id\":\"2859\"}},\"id\":\"2858\",\"type\":\"GlyphRenderer\"},{\"attributes\":{},\"id\":\"2844\",\"type\":\"HelpTool\"},{\"attributes\":{\"line_alpha\":0.2,\"line_color\":\"red\",\"line_width\":4,\"x\":{\"field\":\"x\"},\"y\":{\"field\":\"y\"}},\"id\":\"2881\",\"type\":\"Line\"},{\"attributes\":{\"tools\":[{\"id\":\"2839\"},{\"id\":\"2840\"},{\"id\":\"2841\"},{\"id\":\"2842\"},{\"id\":\"2843\"},{\"id\":\"2844\"},{\"id\":\"2872\"},{\"id\":\"2876\"}]},\"id\":\"2846\",\"type\":\"Toolbar\"},{\"attributes\":{\"children\":[{\"id\":\"2889\"},{\"id\":\"2890\"},{\"id\":\"2891\"},{\"id\":\"2892\"},{\"id\":\"2893\"},{\"id\":\"2894\"},{\"id\":\"2895\"},{\"id\":\"2896\"},{\"id\":\"2897\"}],\"margin\":[5,5,5,5],\"min_width\":300,\"name\":\"Problem parameters\",\"width\":300},\"id\":\"2888\",\"type\":\"Column\"},{\"attributes\":{\"children\":[{\"id\":\"2888\"},{\"id\":\"2898\"}],\"margin\":[0,0,0,0],\"name\":\"Row00201\"},\"id\":\"2887\",\"type\":\"Row\"},{\"attributes\":{\"margin\":[5,10,5,10],\"name\":\"\",\"text\":\"<b>Problem parameters</b>\"},\"id\":\"2889\",\"type\":\"Div\"},{\"attributes\":{\"labels\":[\"Ground truth\"],\"margin\":[5,10,5,10]},\"id\":\"2892\",\"type\":\"CheckboxGroup\"},{\"attributes\":{\"labels\":[\"Error\"],\"margin\":[5,10,5,10]},\"id\":\"2893\",\"type\":\"CheckboxGroup\"},{\"attributes\":{\"fill_alpha\":{\"value\":0.5},\"fill_color\":{\"value\":\"red\"},\"hatch_alpha\":{\"value\":0.5},\"line_alpha\":{\"value\":0.5},\"line_color\":{\"value\":\"white\"},\"size\":{\"value\":10},\"x\":{\"field\":\"x\"},\"y\":{\"field\":\"y\"}},\"id\":\"2856\",\"type\":\"Circle\"},{\"attributes\":{\"source\":{\"id\":\"2853\"}},\"id\":\"2859\",\"type\":\"CDSView\"},{\"attributes\":{\"background_fill_alpha\":0.25,\"background_fill_color\":\"#505050\",\"border_line_alpha\":0.25,\"coordinates\":null,\"group\":null,\"items\":[{\"id\":\"2871\"}],\"label_standoff\":8,\"label_text_color\":\"#E0E0E0\",\"label_text_font\":\"Josefin Sans\",\"label_text_font_size\":\"1.15em\",\"spacing\":8},\"id\":\"2870\",\"type\":\"Legend\"},{\"attributes\":{\"end\":1000,\"margin\":[5,10,5,10],\"start\":10,\"title\":\"Number observations\",\"value\":100},\"id\":\"2890\",\"type\":\"Slider\"},{\"attributes\":{\"fill_alpha\":{\"value\":0.25},\"fill_color\":{\"value\":\"midnightblue\"},\"hatch_alpha\":{\"value\":0.25},\"line_alpha\":{\"value\":0.25},\"line_color\":{\"value\":\"white\"},\"size\":{\"value\":10},\"x\":{\"field\":\"x\"},\"y\":{\"field\":\"y\"}},\"id\":\"2854\",\"type\":\"Circle\"},{\"attributes\":{},\"id\":\"2825\",\"type\":\"DataRange1d\"},{\"attributes\":{\"end\":5.0,\"margin\":[5,10,5,10],\"start\":-5.0,\"step\":0.1,\"title\":\"X 2\",\"value\":-2.0},\"id\":\"2894\",\"type\":\"Slider\"},{\"attributes\":{\"end\":5.0,\"margin\":[5,10,5,10],\"start\":0.0,\"step\":0.1,\"title\":\"Noise level\",\"value\":0.1},\"id\":\"2891\",\"type\":\"Slider\"},{\"attributes\":{\"end\":5.0,\"margin\":[5,10,5,10],\"start\":-5.0,\"step\":0.1,\"title\":\"X 0\",\"value\":1.0},\"id\":\"2896\",\"type\":\"Slider\"},{\"attributes\":{\"data\":{\"x\":{\"__ndarray__\":\"AAAAALV+JTy1fqU8ED74PLV+JT1i3k49ED54Pd7OkD21fqU9jC66PWLezj05juM9ED74PfN2Bj7ezhA+yiYbPrV+JT6g1i8+jC46PneGRD5i3k4+TjZZPjmOYz4k5m0+ED54Pv1KgT7zdoY+6aKLPt7OkD7U+pU+yiabPr9SoD61fqU+q6qqPqDWrz6WArU+jC66PoFavz53hsQ+bbLJPmLezj5YCtQ+TjbZPkNi3j45juM+L7roPiTm7T4aEvM+ED74PgVq/T79SgE/+OADP/N2Bj/uDAk/6aILP+Q4Dj/ezhA/2WQTP9T6FT/PkBg/yiYbP8W8HT+/UiA/uugiP7V+JT+wFCg/q6oqP6VALT+g1i8/m2wyP5YCNT+RmDc/jC46P4bEPD+BWj8/fPBBP3eGRD9yHEc/bbJJP2dITD9i3k4/XXRRP1gKVD9ToFY/TjZZP0jMWz9DYl4/PvhgPzmOYz80JGY/L7poPylQaz8k5m0/H3xwPxoScz8VqHU/ED54PwrUej8Fan0/AACAPw==\",\"dtype\":\"float32\",\"order\":\"little\",\"shape\":[100]},\"y\":{\"__ndarray__\":\"IDeMP+jsbz+WJYM/l/uKP8uxfD8FqmU/PvZrP7IOgD8tbYY/x62CP2aJdT9BXoA/bD5kP4LkXj94Vns/cRZkP5Zjgj94L2w/oMl2P8LMcT9h1GM/rzt+Pwojdj8q3Gg/Lk9gPyZ6VT8ewVQ/3QpvP8PtRT8ANkw/lPFhPyK3ZT9bOEc/oQ83P3bXOT8nVjY/mm5HP60+Ij9kwEs/KNcrP1O0Kj84JRE/p8MdP54yEj8i2TE/Wd0MP7eLBz/fyxg/rf4XPxtK2j7sLuU+WWfCPtzztz7ISeA+TIP3PoRXuj7Osao+EkKcPguepD7g5ZQ+RuSKPk7ZNT5ElWI+rdgoPuQbaD6RKR0+wUcyPiLLGz765ws+fab3PfDJt7sxGIK9BsiEPL40s73X3S6+H1oSvpyODL7GUx6+q4WOvhqpnb4rA8K+6szHvjh6kL5ufKS+14T6vm8E/b4i+wG/WJUcv+11I7+2mS+/2JIcv2vUN7+t+jS/Fl03vz9pZr/lBFq/Md9Hv2DCbL9Wn4C/dJJ4vw==\",\"dtype\":\"float32\",\"order\":\"little\",\"shape\":[100]}},\"selected\":{\"id\":\"2868\"},\"selection_policy\":{\"id\":\"2867\"}},\"id\":\"2853\",\"type\":\"ColumnDataSource\"},{\"attributes\":{\"code\":\"def polynomial(\\n        coefficients: jnp.ndarray,\\n        n_observations: int = 100) -> [jnp.ndarray, jnp.ndarray]:\\n    x = jnp.linspace(0, 1, n_observations)\\n    y = jnp.polyval(coefficients, x)\\n    return x, \",\"filename\":\"\",\"height\":150,\"js_property_callbacks\":{\"change:disabled\":[{\"id\":\"2941\"}],\"change:readonly\":[{\"id\":\"2940\"}]},\"language\":\"python\",\"margin\":[5,10,5,10],\"sizing_mode\":\"stretch_both\",\"theme\":\"chaos\"},\"id\":\"2925\",\"type\":\"panel.models.ace.AcePlot\"},{\"attributes\":{},\"id\":\"2829\",\"type\":\"LinearScale\"},{\"attributes\":{\"end\":30,\"margin\":[5,10,5,10],\"start\":1,\"title\":\"Degree\",\"value\":1},\"id\":\"2897\",\"type\":\"Slider\"},{\"attributes\":{\"end\":5.0,\"margin\":[5,10,5,10],\"start\":-5.0,\"step\":0.1,\"title\":\"X 1\",\"value\":0.0},\"id\":\"2895\",\"type\":\"Slider\"},{\"attributes\":{},\"id\":\"2827\",\"type\":\"LinearScale\"},{\"attributes\":{\"children\":[{\"id\":\"2820\"}],\"margin\":[0,0,0,0],\"name\":\"Row00198\"},\"id\":\"2898\",\"type\":\"Row\"},{\"attributes\":{\"background_fill_alpha\":0.9,\"background_fill_color\":\"#0f0f0f\",\"below\":[{\"id\":\"2831\"}],\"border_fill_alpha\":0.8,\"border_fill_color\":\"#111111\",\"center\":[{\"id\":\"2834\"},{\"id\":\"2838\"},{\"id\":\"2870\"}],\"height\":450,\"left\":[{\"id\":\"2835\"}],\"outline_line_alpha\":0.25,\"outline_line_color\":\"#E0E0E0\",\"outline_line_width\":3,\"renderers\":[{\"id\":\"2858\"},{\"id\":\"2882\"}],\"title\":{\"id\":\"2821\"},\"toolbar\":{\"id\":\"2846\"},\"toolbar_location\":null,\"x_range\":{\"id\":\"2823\"},\"x_scale\":{\"id\":\"2827\"},\"y_range\":{\"id\":\"2825\"},\"y_scale\":{\"id\":\"2829\"}},\"id\":\"2820\",\"subtype\":\"Figure\",\"type\":\"Plot\"},{\"attributes\":{},\"id\":\"2862\",\"type\":\"BasicTickFormatter\"},{\"attributes\":{},\"id\":\"2863\",\"type\":\"AllLabels\"},{\"attributes\":{\"axis_label\":\"$$\\\\color{white} x$$\",\"axis_label_standoff\":10,\"axis_label_text_color\":\"#FFFFFF\",\"axis_label_text_font\":\"Josefin Sans\",\"axis_label_text_font_size\":\"1.9em\",\"axis_label_text_font_style\":\"bold\",\"axis_line_alpha\":0.4,\"axis_line_color\":\"#E0E0E0\",\"coordinates\":null,\"formatter\":{\"id\":\"2865\"},\"group\":null,\"major_label_policy\":{\"id\":\"2866\"},\"major_label_text_color\":\"#E0E0E0\",\"major_label_text_font\":\"Josefin Sans\",\"major_label_text_font_size\":\"1.15em\",\"major_tick_line_alpha\":0.4,\"major_tick_line_color\":\"#E0E0E0\",\"minor_tick_line_alpha\":0.4,\"minor_tick_line_color\":\"#E0E0E0\",\"ticker\":{\"id\":\"2832\"}},\"id\":\"2831\",\"type\":\"LinearAxis\"},{\"attributes\":{},\"id\":\"2865\",\"type\":\"BasicTickFormatter\"},{\"attributes\":{\"axis\":{\"id\":\"2831\"},\"coordinates\":null,\"grid_line_alpha\":0.15,\"grid_line_color\":\"#E0E0E0\",\"group\":null,\"ticker\":null},\"id\":\"2834\",\"type\":\"Grid\"},{\"attributes\":{},\"id\":\"2908\",\"type\":\"UnionRenderers\"},{\"attributes\":{},\"id\":\"2909\",\"type\":\"Selection\"},{\"attributes\":{\"fill_alpha\":{\"value\":0.8},\"fill_color\":{\"value\":\"red\"},\"line_color\":{\"value\":\"white\"}},\"id\":\"2874\",\"type\":\"Circle\"},{\"attributes\":{\"label\":{\"value\":\"Observations\"},\"renderers\":[{\"id\":\"2858\"}]},\"id\":\"2871\",\"type\":\"LegendItem\"},{\"attributes\":{\"mode\":\"append\",\"overlay\":{\"id\":\"2911\"},\"renderers\":[{\"id\":\"2858\"}]},\"id\":\"2876\",\"type\":\"BoxSelectTool\"},{\"attributes\":{\"args\":{\"bidirectional\":true,\"properties\":{\"readonly\":\"disabled\"},\"source\":{\"id\":\"2925\"},\"target\":{\"id\":\"2925\"}},\"code\":\"\\n    var value = source['readonly'];\\n    value = value;\\n    value = value;\\n    try {\\n      var property = target.properties['disabled'];\\n      if (property !== undefined) { property.validate(value); }\\n    } catch(err) {\\n      console.log('WARNING: Could not set disabled on target, raised error: ' + err);\\n      return;\\n    }\\n    try {\\n      target['disabled'] = value;\\n    } catch(err) {\\n      console.log(err)\\n    }\\n    \",\"tags\":[[140542151167040,[null,\"readonly\"],[null,\"disabled\"]]]},\"id\":\"2940\",\"type\":\"CustomJS\"},{\"attributes\":{\"callback\":null,\"mode\":\"vline\",\"renderers\":[{\"id\":\"2858\"}],\"tooltips\":null},\"id\":\"2872\",\"type\":\"HoverTool\"},{\"attributes\":{},\"id\":\"2866\",\"type\":\"AllLabels\"},{\"attributes\":{\"data\":{\"x\":{\"__ndarray__\":\"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\",\"dtype\":\"float64\",\"order\":\"little\",\"shape\":[200]},\"y\":{\"__ndarray__\":\"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\",\"dtype\":\"float64\",\"order\":\"little\",\"shape\":[200]}},\"selected\":{\"id\":\"2909\"},\"selection_policy\":{\"id\":\"2908\"}},\"id\":\"2878\",\"type\":\"ColumnDataSource\"},{\"attributes\":{\"axis_label\":\"$$\\\\color{white} -2.0x^2 + 0.0x^1 + 1.0x^0$$\",\"axis_label_standoff\":10,\"axis_label_text_color\":\"#FFFFFF\",\"axis_label_text_font\":\"Josefin Sans\",\"axis_label_text_font_size\":\"1.9em\",\"axis_label_text_font_style\":\"bold\",\"axis_line_alpha\":0.4,\"axis_line_color\":\"#E0E0E0\",\"coordinates\":null,\"formatter\":{\"id\":\"2862\"},\"group\":null,\"major_label_policy\":{\"id\":\"2863\"},\"major_label_text_color\":\"#E0E0E0\",\"major_label_text_font\":\"Josefin Sans\",\"major_label_text_font_size\":\"1.15em\",\"major_tick_line_alpha\":0.4,\"major_tick_line_color\":\"#E0E0E0\",\"minor_tick_line_alpha\":0.4,\"minor_tick_line_color\":\"#E0E0E0\",\"ticker\":{\"id\":\"2836\"}},\"id\":\"2835\",\"type\":\"LinearAxis\"},{\"attributes\":{\"fill_alpha\":{\"value\":0.5},\"fill_color\":{\"value\":\"midnightblue\"},\"line_color\":{\"value\":\"white\"}},\"id\":\"2875\",\"type\":\"Circle\"},{\"attributes\":{\"source\":{\"id\":\"2878\"}},\"id\":\"2883\",\"type\":\"CDSView\"},{\"attributes\":{},\"id\":\"2823\",\"type\":\"DataRange1d\"},{\"attributes\":{\"line_alpha\":0.1,\"line_color\":\"red\",\"line_width\":4,\"x\":{\"field\":\"x\"},\"y\":{\"field\":\"y\"}},\"id\":\"2880\",\"type\":\"Line\"},{\"attributes\":{\"args\":{\"bidirectional\":true,\"properties\":{\"readonly\":\"disabled\"},\"source\":{\"id\":\"2925\"},\"target\":{\"id\":\"2925\"}},\"code\":\"\\n    var value = source['disabled'];\\n    value = value;\\n    value = value;\\n    try {\\n      var property = target.properties['readonly'];\\n      if (property !== undefined) { property.validate(value); }\\n    } catch(err) {\\n      console.log('WARNING: Could not set readonly on target, raised error: ' + err);\\n      return;\\n    }\\n    try {\\n      target['readonly'] = value;\\n    } catch(err) {\\n      console.log(err)\\n    }\\n    \",\"tags\":[[140542151167040,[null,\"readonly\"],[null,\"disabled\"]]]},\"id\":\"2941\",\"type\":\"CustomJS\"},{\"attributes\":{\"line_alpha\":0.7,\"line_color\":\"red\",\"line_width\":4,\"x\":{\"field\":\"x\"},\"y\":{\"field\":\"y\"}},\"id\":\"2879\",\"type\":\"Line\"}],\"root_ids\":[\"2884\",\"2968\"]},\"title\":\"Bokeh Application\",\"version\":\"2.4.3\"}};\n",
              "    var render_items = [{\"docid\":\"71124009-68ad-44b5-a5bf-1f7135abaef2\",\"root_ids\":[\"2884\"],\"roots\":{\"2884\":\"8ab27422-9dda-49ff-9072-523d041275a1\"}}];\n",
              "    root.Bokeh.embed.embed_items_notebook(docs_json, render_items);\n",
              "    for (const render_item of render_items) {\n",
              "      for (const root_id of render_item.root_ids) {\n",
              "\tconst id_el = document.getElementById(root_id)\n",
              "\tif (id_el.children.length && (id_el.children[0].className === 'bk-root')) {\n",
              "\t  const root_el = id_el.children[0]\n",
              "\t  root_el.id = root_el.id + '-rendered'\n",
              "\t}\n",
              "      }\n",
              "    }\n",
              "  }\n",
              "  if (root.Bokeh !== undefined && root.Bokeh.Panel !== undefined) {\n",
              "    embed_document(root);\n",
              "  } else {\n",
              "    var attempts = 0;\n",
              "    var timer = setInterval(function(root) {\n",
              "      if (root.Bokeh !== undefined && root.Bokeh.Panel !== undefined) {\n",
              "        clearInterval(timer);\n",
              "        embed_document(root);\n",
              "      } else if (document.readyState == \"complete\") {\n",
              "        attempts++;\n",
              "        if (attempts > 200) {\n",
              "          clearInterval(timer);\n",
              "          console.log(\"Bokeh: ERROR: Unable to run BokehJS code because BokehJS library is missing\");\n",
              "        }\n",
              "      }\n",
              "    }, 25, root)\n",
              "  }\n",
              "})(window);</script>"
            ],
            "text/plain": [
              "Row\n",
              "    [0] HSpacer()\n",
              "    [1] Column\n",
              "        [0] Row\n",
              "            [0] Param(RegressionPolynomialSolver, name='Problem parameters', widgets={})\n",
              "            [1] ParamMethod(method, _pane=Bokeh)\n",
              "        [1] Ace(height=150, language='python', sizing_mode='stretch_both', theme='chaos', value='def polynomial(\\n        ...)\n",
              "    [2] HSpacer()"
            ]
          },
          "execution_count": 15,
          "metadata": {
            "application/vnd.holoviews_exec.v0+json": {
              "id": "2884"
            }
          },
          "output_type": "execute_result"
        }
      ],
      "source": [
        "def solve(x, y, degree):\n",
        "    X = x[:, np.newaxis]\n",
        "    # Create our polynomial model for regression\n",
        "    model = make_pipeline(PolynomialFeatures(degree), LinearRegression())\n",
        "    # Fit the parameters of this model\n",
        "    model.fit(X, y)\n",
        "    # Predict the values\n",
        "    x_predict = np.linspace(np.min(x), np.max(x), 200)[:, np.newaxis]\n",
        "    y_model = model.predict(x_predict)\n",
        "    return x_predict[:, 0], y_model #np.array(jnp.zeros(y_model.shape))\n",
        "\n",
        "explorer.solve = solve\n",
        "explorer.render()"
      ]
    },
    {
      "attachments": {},
      "cell_type": "markdown",
      "metadata": {
        "id": "SNjVBorzf-pq"
      },
      "source": [
        "<a id=\"linear\"></a>\n",
        "# Simple linear regression \n",
        "\n",
        "As discussed previously, regression allows to model the relationships that exist between inputs $\\mathbf{x}\\in\\mathbb{R}^{n}$ and a continuous output $y\\in\\mathbb{R}$. In the case of **linear** regression, we assume that the data that we observe comes from a linear relationship in the input, so that\n",
        "$$y = w_0 + w_1x_1 + w_2x_2 + ... + w_nx_n + \\epsilon$$\n",
        "with $\\epsilon$ exhibiting the *observation noise* (also called *residual error*) that is always present in measurements.\n",
        "\n",
        "To understand how we could learn a model approximating this relationship, we start with the case of *simple* linear regression, where $\\mathbf{x}\\in\\mathbb{R}$. This implies that our model will follow\n",
        "$$\\bar{y} = w_0 + w_1 x$$\n",
        "\n",
        "We will measure the errors made by our model by using the Mean Squared Error (MSE) loss, defined as \n",
        "$${L}_{MSE}\\left( \\bar{\\mathbf{y}},\\theta \\right) = \\sum_{i=1}^{n} \\left| y_{i} - \\bar{y}_{i} \\right|^{2} = \\sum_{i=1}^{n} \\left| y_{i} - (w_{0} + w_{1} x_{i}) \\right|^{2}$$\n",
        "\n",
        "Then our goal is to find the most adequate set of parameters $\\theta = \\{w_{0}, w_{1}\\}$, which are those that minimize the MSE loss defined previously. Therefore, we aim to obtain\n",
        "$$\\theta^{*}= \\underset{\\theta}{\\text{argmin }} {L}\\left( \\bar{\\mathbf{y}}, \\mathbf{y} \\mid f_{\\theta}, \\theta \\right)$$\n",
        "\n",
        "To do so, we will implement the **gradient descent** algorithm discussed in the course.\n",
        "\n",
        "## Manual implementation - `NumPy`\n",
        "\n",
        "We start by performing a *full manual implementation*, in the sense that we need to manually derive the gradient in order to apply the gradient descent updates. To do so, we will rely on [NumPy](https://numpy.org/), which is a fundamental library for numerical computing offering support for N-dimensional arrays and scientific computing tasks, such as linear algebra, statistical analysis, and matrix manipulation. We strongly encourage you to learn NumPy through the set of [tutorials](https://numpy.org/learn/). For the sake of this introductory tutorial, we will provide the explanation for all of the functions that we will use in this first exercise. After that exercise, we will assume for the rest of the course that knowledge of Numpy should be found online. \n",
        "\n",
        "We start by import libraries (`NumPy`) and set a random seed to ensure that the random number generator produces always a reproducible series of random numbers.\n",
        "\n",
        "**Used functions**\n",
        "- `np.random.seed`: sets the seed for the NumPy random number generator. [Documentation](https://numpy.org/doc/stable/reference/random/generated/numpy.random.seed.html)"
      ]
    },
    {
      "cell_type": "code",
      "execution_count": 16,
      "metadata": {
        "id": "D6I_Fp7Kf-pq"
      },
      "outputs": [],
      "source": [
        "import numpy as np\n",
        "np.random.seed(42)"
      ]
    },
    {
      "attachments": {},
      "cell_type": "markdown",
      "metadata": {
        "id": "bfUA7-Kaf-pr"
      },
      "source": [
        "### Generate a synthetic dataset.\n",
        "\n",
        "For the sake of this exercise, we will generate the data ourselves, so that we know the true values that we are looking for in advance. Hence, we define a linear relationship following\n",
        "$$y = w^{t}_0 + w^{t}_1 x + \\epsilon$$\n",
        "\n",
        "**Used functions**\n",
        "- `np.random.rand`: generates an array of random numbers uniformly distributed over [0, 1). [Documentation](https://numpy.org/doc/stable/reference/random/generated/numpy.random.rand.html)\n",
        "- `np.random.randn`: generates an array of random numbers from the standard normal distribution (mean 0, variance 1). [Documentation](https://numpy.org/doc/stable/reference/random/generated/numpy.random.randn.html)\n",
        "- `np.ones`: generates an array of ones with a specified shape. [Documentation](https://numpy.org/doc/stable/reference/generated/numpy.ones.html)\n",
        "- `np.c_`: concatenates arrays along the second axis. [Documentation](https://numpy.org/doc/stable/reference/generated/numpy.c_.html)"
      ]
    },
    {
      "cell_type": "code",
      "execution_count": 17,
      "metadata": {
        "id": "yyDtS9_yf-pr"
      },
      "outputs": [],
      "source": [
        "true_w0 = 2\n",
        "true_w1 = 3\n",
        "x = np.random.rand(100)\n",
        "y = true_w0 + true_w1 * x + np.random.randn(100)"
      ]
    },
    {
      "attachments": {},
      "cell_type": "markdown",
      "metadata": {
        "id": "svD1s-wIf-pr"
      },
      "source": [
        "### Computing the MSE loss\n",
        "\n",
        "We will measure the errors made by our model by using the Mean Squared Error (MSE) loss, defined as \n",
        "$${L}_{MSE}\\left( \\bar{\\mathbf{y}},\\theta \\right) = \\sum_{i=1}^{n} \\left| y_{i} - \\bar{y}_{i} \\right|^{2} = \\sum_{i=1}^{n} \\left| y_{i} - (w_{0} + w_{1} x_{i}) \\right|^{2}$$\n",
        "\n",
        "This will allow us to evaluate the performances of our model, but is also the basis for the following gradient descent algorithm.\n",
        "\n",
        "**Used functions**\n",
        "- `np.sum`: computes the sum of the provided array (optionally across a provided `axis`). [Documentation](https://numpy.org/doc/stable/reference/generated/numpy.mean.html)"
      ]
    },
    {
      "cell_type": "code",
      "execution_count": 18,
      "metadata": {
        "id": "t8E4gh-xf-pr"
      },
      "outputs": [],
      "source": [
        "def mse_loss(y, y_bar):\n",
        "    return np.sum((y - y_bar) ** 2)"
      ]
    },
    {
      "attachments": {},
      "cell_type": "markdown",
      "metadata": {
        "id": "VpMEh1grf-pr"
      },
      "source": [
        "### Implement the gradient descent algorithm.\n",
        "\n",
        "As seen in the course Initialize the weight $w_1$ and bias $w_0$ to small random values\n",
        "1. Evaluate the predictions made by our model \n",
        "$$\\hat{y} = w_{1}x + w_0$$\n",
        "2. Compute the mean squared error (MSE) loss between the predicted values and the ground truth labels: \n",
        "$${L}_{MSE} = \\frac{1}{n} \\sum_{i=1}^n (\\bar{y_i} - y_i)^2$$\n",
        "3. Compute the gradients of the loss with respect to the weight and bias (see derivation in the course)\n",
        "$$\\frac{\\partial {L}}{\\partial w_1} = \\sum_{i} 2 * (\\bar{y}_{i} - y_{i})*x_{i}$$\n",
        "$$\\frac{\\partial {L}}{\\partial w_0} = \\sum_{i} 2 * (\\bar{y}_{i} - y_{i})$$\n",
        "4. Update the weights and bias using the gradients and a learning rate $\\eta$: \n",
        "$$w_1 \\leftarrow w_1 - \\eta \\frac{\\partial {L}}{\\partial w_1}$$ \n",
        "$$w_0 \\leftarrow w_0 - \\eta \\frac{\\partial {L}}{\\partial w_0}$$"
      ]
    },
    {
      "cell_type": "code",
      "execution_count": 19,
      "metadata": {
        "id": "0uyAdRdAf-pr"
      },
      "outputs": [],
      "source": [
        "# Parameters\n",
        "n_iter = 1000\n",
        "lr = 0.001\n",
        "def gradient_descent(x, y, n_iter, lr):\n",
        "    # Initialize the parameters\n",
        "    w_1 = np.random.randn()\n",
        "    w_0 = np.random.randn()\n",
        "    # Perform gradient descent\n",
        "    for i in range(n_iter):\n",
        "        # 1. Calculate the predictions\n",
        "        y_bar = w_1 * x + w_0\n",
        "        # 2. Compute the loss\n",
        "        loss = mse_loss(y, y_bar)\n",
        "        # 3. Calculate the gradients\n",
        "        dw_1 = 2 * np.sum((y_bar - y) * x)\n",
        "        dw_0 = 2 * np.sum((y_bar - y))\n",
        "        # 4. Update the parameters\n",
        "        w_1 -= lr * dw_1\n",
        "        w_0 -= lr * dw_0\n",
        "    return w_1, w_0\n",
        "w_1, w_0 = gradient_descent(x, y, n_iter, lr)"
      ]
    },
    {
      "attachments": {},
      "cell_type": "markdown",
      "metadata": {
        "id": "dui-c0Q_f-pr"
      },
      "source": [
        "### Visualize the results.\n",
        "\n",
        "We can see how well our model fits to the observed data by plotting it against the observed samples."
      ]
    },
    {
      "cell_type": "code",
      "execution_count": 20,
      "metadata": {
        "colab": {
          "base_uri": "https://localhost:8080/",
          "height": 1000
        },
        "id": "lnHH73vff-pr",
        "outputId": "dbec40b5-1d78-4007-e6c7-2c1d02694731"
      },
      "outputs": [
        {
          "data": {},
          "metadata": {},
          "output_type": "display_data"
        },
        {
          "data": {
            "application/vnd.holoviews_exec.v0+json": "",
            "text/html": [
              "<div id='3112'>\n",
              "  <div class=\"bk-root\" id=\"10c39315-9685-45b9-9098-dbe9b0f662cb\" data-root-id=\"3112\"></div>\n",
              "</div>\n",
              "<script type=\"application/javascript\">(function(root) {\n",
              "  function embed_document(root) {\n",
              "    var docs_json = {\"2e3c3f99-7d3d-42f8-becc-1c10cda18dbd\":{\"defs\":[{\"extends\":null,\"module\":null,\"name\":\"ReactiveHTML1\",\"overrides\":[],\"properties\":[]},{\"extends\":null,\"module\":null,\"name\":\"FlexBox1\",\"overrides\":[],\"properties\":[{\"default\":\"flex-start\",\"kind\":null,\"name\":\"align_content\"},{\"default\":\"flex-start\",\"kind\":null,\"name\":\"align_items\"},{\"default\":\"row\",\"kind\":null,\"name\":\"flex_direction\"},{\"default\":\"wrap\",\"kind\":null,\"name\":\"flex_wrap\"},{\"default\":\"flex-start\",\"kind\":null,\"name\":\"justify_content\"}]},{\"extends\":null,\"module\":null,\"name\":\"GridStack1\",\"overrides\":[],\"properties\":[{\"default\":\"warn\",\"kind\":null,\"name\":\"mode\"},{\"default\":null,\"kind\":null,\"name\":\"ncols\"},{\"default\":null,\"kind\":null,\"name\":\"nrows\"},{\"default\":true,\"kind\":null,\"name\":\"allow_resize\"},{\"default\":true,\"kind\":null,\"name\":\"allow_drag\"},{\"default\":[],\"kind\":null,\"name\":\"state\"}]},{\"extends\":null,\"module\":null,\"name\":\"click1\",\"overrides\":[],\"properties\":[{\"default\":\"\",\"kind\":null,\"name\":\"terminal_output\"},{\"default\":\"\",\"kind\":null,\"name\":\"debug_name\"},{\"default\":0,\"kind\":null,\"name\":\"clears\"}]},{\"extends\":null,\"module\":null,\"name\":\"NotificationAreaBase1\",\"overrides\":[],\"properties\":[{\"default\":\"bottom-right\",\"kind\":null,\"name\":\"position\"},{\"default\":0,\"kind\":null,\"name\":\"_clear\"}]},{\"extends\":null,\"module\":null,\"name\":\"NotificationArea1\",\"overrides\":[],\"properties\":[{\"default\":[],\"kind\":null,\"name\":\"notifications\"},{\"default\":\"bottom-right\",\"kind\":null,\"name\":\"position\"},{\"default\":0,\"kind\":null,\"name\":\"_clear\"},{\"default\":[{\"background\":\"#ffc107\",\"icon\":{\"className\":\"fas fa-exclamation-triangle\",\"color\":\"white\",\"tagName\":\"i\"},\"type\":\"warning\"},{\"background\":\"#007bff\",\"icon\":{\"className\":\"fas fa-info-circle\",\"color\":\"white\",\"tagName\":\"i\"},\"type\":\"info\"}],\"kind\":null,\"name\":\"types\"}]},{\"extends\":null,\"module\":null,\"name\":\"Notification\",\"overrides\":[],\"properties\":[{\"default\":null,\"kind\":null,\"name\":\"background\"},{\"default\":3000,\"kind\":null,\"name\":\"duration\"},{\"default\":null,\"kind\":null,\"name\":\"icon\"},{\"default\":\"\",\"kind\":null,\"name\":\"message\"},{\"default\":null,\"kind\":null,\"name\":\"notification_type\"},{\"default\":false,\"kind\":null,\"name\":\"_destroyed\"}]},{\"extends\":null,\"module\":null,\"name\":\"TemplateActions1\",\"overrides\":[],\"properties\":[{\"default\":0,\"kind\":null,\"name\":\"open_modal\"},{\"default\":0,\"kind\":null,\"name\":\"close_modal\"}]},{\"extends\":null,\"module\":null,\"name\":\"MaterialTemplateActions1\",\"overrides\":[],\"properties\":[{\"default\":0,\"kind\":null,\"name\":\"open_modal\"},{\"default\":0,\"kind\":null,\"name\":\"close_modal\"}]}],\"roots\":{\"references\":[{\"attributes\":{\"fill_alpha\":{\"value\":0.5},\"fill_color\":{\"value\":\"midnightblue\"},\"line_color\":{\"value\":\"white\"}},\"id\":\"3089\",\"type\":\"Circle\"},{\"attributes\":{\"coordinates\":null,\"data_source\":{\"id\":\"3067\"},\"glyph\":{\"id\":\"3068\"},\"group\":null,\"hover_glyph\":{\"id\":\"3070\"},\"muted_glyph\":{\"id\":\"3071\"},\"nonselection_glyph\":{\"id\":\"3089\"},\"selection_glyph\":{\"id\":\"3088\"},\"view\":{\"id\":\"3073\"}},\"id\":\"3072\",\"type\":\"GlyphRenderer\"},{\"attributes\":{\"source\":{\"id\":\"3092\"}},\"id\":\"3097\",\"type\":\"CDSView\"},{\"attributes\":{\"bottom_units\":\"screen\",\"coordinates\":null,\"fill_alpha\":0.5,\"fill_color\":\"lightgrey\",\"group\":null,\"left_units\":\"screen\",\"level\":\"overlay\",\"line_alpha\":1.0,\"line_color\":\"black\",\"line_dash\":[4,4],\"line_width\":2,\"right_units\":\"screen\",\"syncable\":false,\"top_units\":\"screen\"},\"id\":\"3110\",\"type\":\"BoxAnnotation\"},{\"attributes\":{},\"id\":\"3082\",\"type\":\"Selection\"},{\"attributes\":{\"callback\":null,\"mode\":\"vline\",\"renderers\":[{\"id\":\"3072\"}],\"tooltips\":null},\"id\":\"3086\",\"type\":\"HoverTool\"},{\"attributes\":{\"fill_alpha\":{\"value\":0.2},\"fill_color\":{\"value\":\"midnightblue\"},\"hatch_alpha\":{\"value\":0.2},\"line_alpha\":{\"value\":0.2},\"line_color\":{\"value\":\"white\"},\"size\":{\"value\":10},\"x\":{\"field\":\"x\"},\"y\":{\"field\":\"y\"}},\"id\":\"3071\",\"type\":\"Circle\"},{\"attributes\":{},\"id\":\"3037\",\"type\":\"DataRange1d\"},{\"attributes\":{\"children\":[{\"id\":\"3113\"},{\"id\":\"3034\"},{\"id\":\"3140\"}],\"margin\":[0,0,0,0],\"name\":\"Row00213\"},\"id\":\"3112\",\"type\":\"Row\"},{\"attributes\":{\"margin\":[5,5,5,5],\"name\":\"HSpacer00210\",\"sizing_mode\":\"stretch_width\"},\"id\":\"3140\",\"type\":\"Spacer\"},{\"attributes\":{\"line_alpha\":0.6,\"line_color\":\"red\",\"line_width\":6,\"x\":{\"field\":\"x\"},\"y\":{\"field\":\"y\"}},\"id\":\"3093\",\"type\":\"Line\"},{\"attributes\":{\"mode\":\"append\",\"overlay\":{\"id\":\"3110\"},\"renderers\":[{\"id\":\"3072\"}]},\"id\":\"3090\",\"type\":\"BoxSelectTool\"},{\"attributes\":{\"margin\":[5,5,5,5],\"name\":\"HSpacer00209\",\"sizing_mode\":\"stretch_width\"},\"id\":\"3113\",\"type\":\"Spacer\"},{\"attributes\":{\"line_alpha\":0.1,\"line_color\":\"red\",\"line_width\":6,\"x\":{\"field\":\"x\"},\"y\":{\"field\":\"y\"}},\"id\":\"3094\",\"type\":\"Line\"},{\"attributes\":{},\"id\":\"3056\",\"type\":\"SaveTool\"},{\"attributes\":{\"label\":{\"value\":\"Observations\"},\"renderers\":[{\"id\":\"3072\"}]},\"id\":\"3085\",\"type\":\"LegendItem\"},{\"attributes\":{\"fill_alpha\":{\"value\":0.8},\"fill_color\":{\"value\":\"red\"},\"line_color\":{\"value\":\"white\"}},\"id\":\"3088\",\"type\":\"Circle\"},{\"attributes\":{\"bottom_units\":\"screen\",\"coordinates\":null,\"fill_alpha\":0.5,\"fill_color\":\"lightgrey\",\"group\":null,\"left_units\":\"screen\",\"level\":\"overlay\",\"line_alpha\":1.0,\"line_color\":\"black\",\"line_dash\":[4,4],\"line_width\":2,\"right_units\":\"screen\",\"syncable\":false,\"top_units\":\"screen\"},\"id\":\"3059\",\"type\":\"BoxAnnotation\"},{\"attributes\":{\"data\":{\"x\":{\"__ndarray__\":\"7FFfHnf41z9U1rtoQGzuP1FnHo9+bOc/sCxj1jUo4z+EISI3a/jDP0x/meGg98M/cFVknSK9rT+1t1UJt7frP61LkoxVPOM/goKa0oeo5j+AfjgHGhSVP6VT42KACe8/9hPBv16j6j+YMAOQ7S3LPzgZ4F8KRsc/SDThicx5xz9oquR0tHjTP2M8BwDOyuA/WjsvuPyk2z8OvTKMf6PSPyd1mYVMlOM/fCS/UO/awT9UQMp3f7LSPzi33PF4ctc/3I+5KEAw3T8uOnlWKSDpP3SQHhbpjsk/E9Tux5t04D8X991lD/XiP3BDCTdZyKc/iqK45gFx4z+0PjUHvNPFP6CqbKA4p7A/idDEM0Vd7j+gzkAmdebuP5+qih1k3uk/6rIgwMp+0z9we2MnCgG5P2HP9qg85eU/3FJ3XXUr3D+wF4XT5T2/Pxhiqn76sN8/AGgYS1+boT8xcpAZJxntPzA4denZj9A/dn0F72Ez5T8euGYDE/PTP6ju1LBlpOA/PFNFjqZ+4T9cQoCQT6nHP+Z/XlfWBu8/WIzMWePN6D9DopQVYBDuPw/mtPdsouw//bnoIv8h4z+0YE5l/n/tP7gTQdJxp7Y/TFZVaPcVyT+g14P9ByinP/aawU420tQ/9oL6tRbg2D8aSlFUyF3RP0zVWIYEheo/xte45wvV1j/ENNu81PrRP4efGi3EXeE/SIm9FM4Jwj+8O6kAmavpP+gXgEDAFbM/KJCx6ZOU7z/SW5SpOrboP6ggsvSDb8k/AHg1B1yedj9XncuQQhjqPwZq2EqTnuY/xiMp1wZU5z/FgGwmP67oP7hBpB2X9LI/3mc1PRrx1j+AWUc9mKm9P4NwZhOLnus/zDzM6Q7y4z9gZsPobi3VPzi+3StcRbA/cMlZZSLn0z8Yz1O1zc/UPyp9XQ7vWOc/q1AZ7d5m5D+Ytj76C2TsP/Y7EPPEON4/8EMYf7qdvj+qSWW75tLmPxAN4+JZWOg/B6bxmPv14T/GNgZdw6voP9jOUthYmt8/A7jXMjq64D+6GuMA1VzbP6AtPLh4B5o/0Ht0xsWeuz8=\",\"dtype\":\"float64\",\"order\":\"little\",\"shape\":[100]},\"y\":{\"__ndarray__\":\"KRweZ3KvCUCEYagraTYSQOeAJP+lJhFAJqaosTvv/D99f6XEsPwBQBjZSQDMmQZAnKVJvJc3DUBePeg1L1IQQC8c8qp09QdAOgSOq8z6DECbFJ30NtEHQLZLl0Y09BRAO5jhJJS9D0AdMLt/yDMJQBQGF4ryIwVA42i4S58mDEDJraOoda8BQPc6JysN+QlAnyGgK9U6B0C6Ga8CEZD2P/E+gNnWhhBA+oanBLFvBUA9PHS5aA0HQM1/oyJ+6gZA4AX+U9Q+/z/U+la1o3oPQJX0YpjqDAJArxKmfWTsBUAVIp9ie+0MQK/ykzLjWARAe72kB9XVFkA7vr9OPH0FQHP/U+MjnwNA3qiTZr4WE0CC4Z4jM9MHQLY4BBc/mBFAe6/7AebKB0AlrsWdaAYTQBoDE/P44Q5AIOU4qt35DEBwHfeUtqYCQOLbhhDqiAJAjtwwwcj3CUC92jZlaesVQAYWQUb6iQxAmTo2hRygCECSM0WtCVoRQPFA+5NORAFAIDA/hm/oEEDtyzxC5voSQFJid3KCWA9AFd61aKMSDkBN8/8JL6wTQLjKsL1ZuRBAkUmSH73xAUDTbFfFNFYTQAY8nikzQPM/1LCZNwl+CEBwajGQynXzP4BI9i+MGhJA5GTlNu4PA0BRQaMilu8DQLKnrlrsMhVAw0a8JSpu/T8PZ3RK5o8IQIdePTKtvRNAiEVk4dkW6j8S/L8Ial0SQLi6PHRH3gNAksdopE34FkDyYh+VZaMIQDoOs146afQ/UcsgPd1OBECTJ1i2NfkSQPCfsW74exFA0Z114kUiEkAUK7SP/hENQBPaVP6VogNAuG51OKDyCkCI/NjK0CH6Pym5Mr8B0hlAGu24DPpfEUBfBBHtftL8P1gDxtEfxwZA6iVp/Q1V/z/+f0En4BkOQPiQh4bAYxVAiS2lTWW8CEBX7HrDA4AWQCvtUvGpog5AGHHewl1yCUBeG5VsZyUYQBfoYK/aJRBAyGk339VwB0CvKgDIGGMLQI63McYZUwVATJjeJcTtC0Avl0vDff0MQAE5w37W0gJAuDDuyvQ0CUA=\",\"dtype\":\"float64\",\"order\":\"little\",\"shape\":[100]}},\"selected\":{\"id\":\"3082\"},\"selection_policy\":{\"id\":\"3081\"}},\"id\":\"3067\",\"type\":\"ColumnDataSource\"},{\"attributes\":{},\"id\":\"3058\",\"type\":\"HelpTool\"},{\"attributes\":{\"background_fill_alpha\":0.25,\"background_fill_color\":\"#505050\",\"border_line_alpha\":0.25,\"coordinates\":null,\"group\":null,\"items\":[{\"id\":\"3085\"},{\"id\":\"3111\"}],\"label_standoff\":8,\"label_text_color\":\"#E0E0E0\",\"label_text_font\":\"Josefin Sans\",\"label_text_font_size\":\"1.15em\",\"spacing\":8},\"id\":\"3084\",\"type\":\"Legend\"},{\"attributes\":{},\"id\":\"3054\",\"type\":\"WheelZoomTool\"},{\"attributes\":{\"overlay\":{\"id\":\"3059\"}},\"id\":\"3055\",\"type\":\"BoxZoomTool\"},{\"attributes\":{\"tools\":[{\"id\":\"3053\"},{\"id\":\"3054\"},{\"id\":\"3055\"},{\"id\":\"3056\"},{\"id\":\"3057\"},{\"id\":\"3058\"},{\"id\":\"3086\"},{\"id\":\"3090\"}]},\"id\":\"3060\",\"type\":\"Toolbar\"},{\"attributes\":{},\"id\":\"3039\",\"type\":\"DataRange1d\"},{\"attributes\":{},\"id\":\"3077\",\"type\":\"AllLabels\"},{\"attributes\":{\"data\":{\"x\":{\"__ndarray__\":\"7FFfHnf41z9U1rtoQGzuP1FnHo9+bOc/sCxj1jUo4z+EISI3a/jDP0x/meGg98M/cFVknSK9rT+1t1UJt7frP61LkoxVPOM/goKa0oeo5j+AfjgHGhSVP6VT42KACe8/9hPBv16j6j+YMAOQ7S3LPzgZ4F8KRsc/SDThicx5xz9oquR0tHjTP2M8BwDOyuA/WjsvuPyk2z8OvTKMf6PSPyd1mYVMlOM/fCS/UO/awT9UQMp3f7LSPzi33PF4ctc/3I+5KEAw3T8uOnlWKSDpP3SQHhbpjsk/E9Tux5t04D8X991lD/XiP3BDCTdZyKc/iqK45gFx4z+0PjUHvNPFP6CqbKA4p7A/idDEM0Vd7j+gzkAmdebuP5+qih1k3uk/6rIgwMp+0z9we2MnCgG5P2HP9qg85eU/3FJ3XXUr3D+wF4XT5T2/Pxhiqn76sN8/AGgYS1+boT8xcpAZJxntPzA4denZj9A/dn0F72Ez5T8euGYDE/PTP6ju1LBlpOA/PFNFjqZ+4T9cQoCQT6nHP+Z/XlfWBu8/WIzMWePN6D9DopQVYBDuPw/mtPdsouw//bnoIv8h4z+0YE5l/n/tP7gTQdJxp7Y/TFZVaPcVyT+g14P9ByinP/aawU420tQ/9oL6tRbg2D8aSlFUyF3RP0zVWIYEheo/xte45wvV1j/ENNu81PrRP4efGi3EXeE/SIm9FM4Jwj+8O6kAmavpP+gXgEDAFbM/KJCx6ZOU7z/SW5SpOrboP6ggsvSDb8k/AHg1B1yedj9XncuQQhjqPwZq2EqTnuY/xiMp1wZU5z/FgGwmP67oP7hBpB2X9LI/3mc1PRrx1j+AWUc9mKm9P4NwZhOLnus/zDzM6Q7y4z9gZsPobi3VPzi+3StcRbA/cMlZZSLn0z8Yz1O1zc/UPyp9XQ7vWOc/q1AZ7d5m5D+Ytj76C2TsP/Y7EPPEON4/8EMYf7qdvj+qSWW75tLmPxAN4+JZWOg/B6bxmPv14T/GNgZdw6voP9jOUthYmt8/A7jXMjq64D+6GuMA1VzbP6AtPLh4B5o/0Ht0xsWeuz8=\",\"dtype\":\"float64\",\"order\":\"little\",\"shape\":[100]},\"y\":{\"__ndarray__\":\"knU51wRVCUA9yXelP4USQKuH+K1QTBBA53SC4vfiDUCuLybJL+QEQHNij6kP5ARAEkaV87DmAkCmK/FEWakRQET1KYO/7w1AjiFaUxcOEECmQeJBmyMCQOJbAQ4utxJA7ixf9plREUCA/C/xLwkGQPia1+dwagVAna5ajqhyBUBmcx1wTecHQFRCcWeAYgxAPIpGQKl/CkD69at1mqMHQDynn1ScJw5AbpTi6zeOBECbYR++XagHQKOu0O54KglATr4aHiv9CkDmVxnZptYQQJVZDCJMxwVAwnQnHMMrDEDAAkstfMINQON89L0rqgJAhO401jIRDkCuVL9Upi8FQIKSFvrwCgNAELcn3H2AEkA6PRZvDawSQEhgbRUOExFA5dJ+PTzpB0DzMclOpbQDQE+J+OYooA9ASf8SDFyqCkCyBeRYaDMEQHLqNBueyAtA77CZmGtrAkDlW+g9kxkSQEjj2FnK+gZAumZ8UjYvD0Bur96AKA4IQA7jOFUcSgxAZS4kwbbUDEBLzKSbM3oFQARtdnxVthJA2HGxEoe8EECYppxHE2gSQLzLVz/g8xFAFn4qswXfDUBbN6TmOjoSQC7Ba8/jhANAnnmfhxi0BUBDaxDGzqMCQD4EwsICVQhAYHMr3ZCeCUCSEIfvLTwHQJ1ubrL2RxFAft5GN3z4CEC6/S34C24HQCiPxZvUvwxAm1oL5aiVBEBqnIM67QIRQPoU9edbPANAs+LCLVfjEkBaCFPnA7UQQFmsCiBQwgVA45MFCT/VAUDJtewWbiURQCuCZxjuChBAbJ+wxYtEEECvi+IHe7IQQOJUYgW6OQNAyjU/z2QBCUAAc8gtUBMEQBQvSCFboRFA470KNCdjDkC91tve+XEIQAtu90IsAwNANmLv8F0KCEDogRz5PlQIQCsi+KcaRhBAf/9J8FWtDkC+woGkEeARQJwa2hspUQtAzqsza7EmBEB10HmGixsQQG5NudE0lxBAZAOWHn8gDUBzlowmsbEQQKp3g3VuwQtAD3rGWflXDECLis31v2gKQDIRhBHCPAJAu39Ffc/pA0A=\",\"dtype\":\"float64\",\"order\":\"little\",\"shape\":[100]}},\"selected\":{\"id\":\"3108\"},\"selection_policy\":{\"id\":\"3107\"}},\"id\":\"3092\",\"type\":\"ColumnDataSource\"},{\"attributes\":{\"axis_label\":\"y\",\"axis_label_standoff\":10,\"axis_label_text_color\":\"#FFFFFF\",\"axis_label_text_font\":\"Josefin Sans\",\"axis_label_text_font_size\":\"1.9em\",\"axis_label_text_font_style\":\"bold\",\"axis_line_alpha\":0.4,\"axis_line_color\":\"#E0E0E0\",\"coordinates\":null,\"formatter\":{\"id\":\"3076\"},\"group\":null,\"major_label_policy\":{\"id\":\"3077\"},\"major_label_text_color\":\"#E0E0E0\",\"major_label_text_font\":\"Josefin Sans\",\"major_label_text_font_size\":\"1.15em\",\"major_tick_line_alpha\":0.4,\"major_tick_line_color\":\"#E0E0E0\",\"minor_tick_line_alpha\":0.4,\"minor_tick_line_color\":\"#E0E0E0\",\"ticker\":{\"id\":\"3050\"}},\"id\":\"3049\",\"type\":\"LinearAxis\"},{\"attributes\":{\"axis\":{\"id\":\"3049\"},\"coordinates\":null,\"dimension\":1,\"grid_line_alpha\":0.15,\"grid_line_color\":\"#E0E0E0\",\"group\":null,\"ticker\":null},\"id\":\"3052\",\"type\":\"Grid\"},{\"attributes\":{},\"id\":\"3057\",\"type\":\"ResetTool\"},{\"attributes\":{},\"id\":\"3076\",\"type\":\"BasicTickFormatter\"},{\"attributes\":{\"axis\":{\"id\":\"3045\"},\"coordinates\":null,\"grid_line_alpha\":0.15,\"grid_line_color\":\"#E0E0E0\",\"group\":null,\"ticker\":null},\"id\":\"3048\",\"type\":\"Grid\"},{\"attributes\":{},\"id\":\"3053\",\"type\":\"PanTool\"},{\"attributes\":{},\"id\":\"3108\",\"type\":\"Selection\"},{\"attributes\":{\"fill_alpha\":{\"value\":0.5},\"fill_color\":{\"value\":\"red\"},\"hatch_alpha\":{\"value\":0.5},\"line_alpha\":{\"value\":0.5},\"line_color\":{\"value\":\"white\"},\"size\":{\"value\":10},\"x\":{\"field\":\"x\"},\"y\":{\"field\":\"y\"}},\"id\":\"3070\",\"type\":\"Circle\"},{\"attributes\":{},\"id\":\"3041\",\"type\":\"LinearScale\"},{\"attributes\":{},\"id\":\"3107\",\"type\":\"UnionRenderers\"},{\"attributes\":{\"client_comm_id\":\"7740e99587d9452c98bd79f931c133cc\",\"comm_id\":\"54a786d2915a4123900a06b12d417f3b\",\"plot_id\":\"3112\"},\"id\":\"3180\",\"type\":\"panel.models.comm_manager.CommManager\"},{\"attributes\":{\"fill_alpha\":{\"value\":0.25},\"fill_color\":{\"value\":\"midnightblue\"},\"hatch_alpha\":{\"value\":0.25},\"line_alpha\":{\"value\":0.25},\"line_color\":{\"value\":\"white\"},\"size\":{\"value\":10},\"x\":{\"field\":\"x\"},\"y\":{\"field\":\"y\"}},\"id\":\"3068\",\"type\":\"Circle\"},{\"attributes\":{},\"id\":\"3043\",\"type\":\"LinearScale\"},{\"attributes\":{\"axis_label\":\"x\",\"axis_label_standoff\":10,\"axis_label_text_color\":\"#FFFFFF\",\"axis_label_text_font\":\"Josefin Sans\",\"axis_label_text_font_size\":\"1.9em\",\"axis_label_text_font_style\":\"bold\",\"axis_line_alpha\":0.4,\"axis_line_color\":\"#E0E0E0\",\"coordinates\":null,\"formatter\":{\"id\":\"3079\"},\"group\":null,\"major_label_policy\":{\"id\":\"3080\"},\"major_label_text_color\":\"#E0E0E0\",\"major_label_text_font\":\"Josefin Sans\",\"major_label_text_font_size\":\"1.15em\",\"major_tick_line_alpha\":0.4,\"major_tick_line_color\":\"#E0E0E0\",\"minor_tick_line_alpha\":0.4,\"minor_tick_line_color\":\"#E0E0E0\",\"ticker\":{\"id\":\"3046\"}},\"id\":\"3045\",\"type\":\"LinearAxis\"},{\"attributes\":{},\"id\":\"3079\",\"type\":\"BasicTickFormatter\"},{\"attributes\":{},\"id\":\"3081\",\"type\":\"UnionRenderers\"},{\"attributes\":{\"background_fill_alpha\":0.9,\"background_fill_color\":\"#0f0f0f\",\"below\":[{\"id\":\"3045\"}],\"border_fill_alpha\":0.8,\"border_fill_color\":\"#111111\",\"center\":[{\"id\":\"3048\"},{\"id\":\"3052\"},{\"id\":\"3084\"}],\"height\":450,\"left\":[{\"id\":\"3049\"}],\"outline_line_alpha\":0.25,\"outline_line_color\":\"#E0E0E0\",\"outline_line_width\":3,\"renderers\":[{\"id\":\"3072\"},{\"id\":\"3096\"}],\"title\":{\"id\":\"3035\"},\"toolbar\":{\"id\":\"3060\"},\"toolbar_location\":null,\"x_range\":{\"id\":\"3037\"},\"x_scale\":{\"id\":\"3041\"},\"y_range\":{\"id\":\"3039\"},\"y_scale\":{\"id\":\"3043\"}},\"id\":\"3034\",\"subtype\":\"Figure\",\"type\":\"Plot\"},{\"attributes\":{},\"id\":\"3050\",\"type\":\"BasicTicker\"},{\"attributes\":{},\"id\":\"3046\",\"type\":\"BasicTicker\"},{\"attributes\":{\"coordinates\":null,\"group\":null,\"text\":\"Simple linear regression\",\"text_color\":\"#E0E0E0\",\"text_font\":\"Josefin Sans\",\"text_font_size\":\"2.1em\"},\"id\":\"3035\",\"type\":\"Title\"},{\"attributes\":{},\"id\":\"3080\",\"type\":\"AllLabels\"},{\"attributes\":{\"label\":{\"value\":\"Learned model\"},\"renderers\":[{\"id\":\"3096\"}]},\"id\":\"3111\",\"type\":\"LegendItem\"},{\"attributes\":{\"coordinates\":null,\"data_source\":{\"id\":\"3092\"},\"glyph\":{\"id\":\"3093\"},\"group\":null,\"hover_glyph\":null,\"muted_glyph\":{\"id\":\"3095\"},\"nonselection_glyph\":{\"id\":\"3094\"},\"view\":{\"id\":\"3097\"}},\"id\":\"3096\",\"type\":\"GlyphRenderer\"},{\"attributes\":{\"source\":{\"id\":\"3067\"}},\"id\":\"3073\",\"type\":\"CDSView\"},{\"attributes\":{\"line_alpha\":0.2,\"line_color\":\"red\",\"line_width\":6,\"x\":{\"field\":\"x\"},\"y\":{\"field\":\"y\"}},\"id\":\"3095\",\"type\":\"Line\"}],\"root_ids\":[\"3112\",\"3180\"]},\"title\":\"Bokeh Application\",\"version\":\"2.4.3\"}};\n",
              "    var render_items = [{\"docid\":\"2e3c3f99-7d3d-42f8-becc-1c10cda18dbd\",\"root_ids\":[\"3112\"],\"roots\":{\"3112\":\"10c39315-9685-45b9-9098-dbe9b0f662cb\"}}];\n",
              "    root.Bokeh.embed.embed_items_notebook(docs_json, render_items);\n",
              "    for (const render_item of render_items) {\n",
              "      for (const root_id of render_item.root_ids) {\n",
              "\tconst id_el = document.getElementById(root_id)\n",
              "\tif (id_el.children.length && (id_el.children[0].className === 'bk-root')) {\n",
              "\t  const root_el = id_el.children[0]\n",
              "\t  root_el.id = root_el.id + '-rendered'\n",
              "\t}\n",
              "      }\n",
              "    }\n",
              "  }\n",
              "  if (root.Bokeh !== undefined && root.Bokeh.Panel !== undefined) {\n",
              "    embed_document(root);\n",
              "  } else {\n",
              "    var attempts = 0;\n",
              "    var timer = setInterval(function(root) {\n",
              "      if (root.Bokeh !== undefined && root.Bokeh.Panel !== undefined) {\n",
              "        clearInterval(timer);\n",
              "        embed_document(root);\n",
              "      } else if (document.readyState == \"complete\") {\n",
              "        attempts++;\n",
              "        if (attempts > 200) {\n",
              "          clearInterval(timer);\n",
              "          console.log(\"Bokeh: ERROR: Unable to run BokehJS code because BokehJS library is missing\");\n",
              "        }\n",
              "      }\n",
              "    }, 25, root)\n",
              "  }\n",
              "})(window);</script>"
            ],
            "text/plain": [
              "Row\n",
              "    [0] HSpacer()\n",
              "    [1] Bokeh(Figure)\n",
              "    [2] HSpacer()"
            ]
          },
          "execution_count": 20,
          "metadata": {
            "application/vnd.holoviews_exec.v0+json": {
              "id": "3112"
            }
          },
          "output_type": "execute_result"
        }
      ],
      "source": [
        "p = scatter(x, y, title=\"Simple linear regression\")\n",
        "p.line(x, w_1 * x + w_0, line_width=6, line_alpha=0.6, color=\"red\", legend_label=r\"Learned model\")\n",
        "plot = (center_plot(p))\n",
        "plot"
      ]
    },
    {
      "attachments": {},
      "cell_type": "markdown",
      "metadata": {
        "id": "nVuklrxjf-pr"
      },
      "source": [
        "### Observing our solution interactively\n",
        "\n",
        "In the following code, you can observe the behavior of the model by playing interactively with the properties of the original problem. \n",
        "\n",
        "<div class=\"alert alert-success\" markdown=\"1\" style=\"color:white; background-color: #192841; border-color: #779ecb\">\n",
        "\n",
        "> Note that each change in the properties of the original problem requires to run the gradient descent algorithm entirely each time.\n",
        "\n",
        "</div>"
      ]
    },
    {
      "cell_type": "code",
      "execution_count": 21,
      "metadata": {
        "colab": {
          "base_uri": "https://localhost:8080/",
          "height": 1000
        },
        "id": "dWXzPvayf-pr",
        "outputId": "757fc153-0486-4a56-c057-c154048286b2"
      },
      "outputs": [
        {
          "data": {},
          "metadata": {},
          "output_type": "display_data"
        },
        {
          "data": {
            "application/vnd.holoviews_exec.v0+json": "",
            "text/html": [
              "<div id='3324'>\n",
              "  <div class=\"bk-root\" id=\"f0f45dbd-9081-40fb-8ef9-863c84c7d7c7\" data-root-id=\"3324\"></div>\n",
              "</div>\n",
              "<script type=\"application/javascript\">(function(root) {\n",
              "  function embed_document(root) {\n",
              "    var docs_json = {\"27c53e16-eb91-439a-86b3-e9b128d07d41\":{\"defs\":[{\"extends\":null,\"module\":null,\"name\":\"ReactiveHTML1\",\"overrides\":[],\"properties\":[]},{\"extends\":null,\"module\":null,\"name\":\"FlexBox1\",\"overrides\":[],\"properties\":[{\"default\":\"flex-start\",\"kind\":null,\"name\":\"align_content\"},{\"default\":\"flex-start\",\"kind\":null,\"name\":\"align_items\"},{\"default\":\"row\",\"kind\":null,\"name\":\"flex_direction\"},{\"default\":\"wrap\",\"kind\":null,\"name\":\"flex_wrap\"},{\"default\":\"flex-start\",\"kind\":null,\"name\":\"justify_content\"}]},{\"extends\":null,\"module\":null,\"name\":\"GridStack1\",\"overrides\":[],\"properties\":[{\"default\":\"warn\",\"kind\":null,\"name\":\"mode\"},{\"default\":null,\"kind\":null,\"name\":\"ncols\"},{\"default\":null,\"kind\":null,\"name\":\"nrows\"},{\"default\":true,\"kind\":null,\"name\":\"allow_resize\"},{\"default\":true,\"kind\":null,\"name\":\"allow_drag\"},{\"default\":[],\"kind\":null,\"name\":\"state\"}]},{\"extends\":null,\"module\":null,\"name\":\"click1\",\"overrides\":[],\"properties\":[{\"default\":\"\",\"kind\":null,\"name\":\"terminal_output\"},{\"default\":\"\",\"kind\":null,\"name\":\"debug_name\"},{\"default\":0,\"kind\":null,\"name\":\"clears\"}]},{\"extends\":null,\"module\":null,\"name\":\"NotificationAreaBase1\",\"overrides\":[],\"properties\":[{\"default\":\"bottom-right\",\"kind\":null,\"name\":\"position\"},{\"default\":0,\"kind\":null,\"name\":\"_clear\"}]},{\"extends\":null,\"module\":null,\"name\":\"NotificationArea1\",\"overrides\":[],\"properties\":[{\"default\":[],\"kind\":null,\"name\":\"notifications\"},{\"default\":\"bottom-right\",\"kind\":null,\"name\":\"position\"},{\"default\":0,\"kind\":null,\"name\":\"_clear\"},{\"default\":[{\"background\":\"#ffc107\",\"icon\":{\"className\":\"fas fa-exclamation-triangle\",\"color\":\"white\",\"tagName\":\"i\"},\"type\":\"warning\"},{\"background\":\"#007bff\",\"icon\":{\"className\":\"fas fa-info-circle\",\"color\":\"white\",\"tagName\":\"i\"},\"type\":\"info\"}],\"kind\":null,\"name\":\"types\"}]},{\"extends\":null,\"module\":null,\"name\":\"Notification\",\"overrides\":[],\"properties\":[{\"default\":null,\"kind\":null,\"name\":\"background\"},{\"default\":3000,\"kind\":null,\"name\":\"duration\"},{\"default\":null,\"kind\":null,\"name\":\"icon\"},{\"default\":\"\",\"kind\":null,\"name\":\"message\"},{\"default\":null,\"kind\":null,\"name\":\"notification_type\"},{\"default\":false,\"kind\":null,\"name\":\"_destroyed\"}]},{\"extends\":null,\"module\":null,\"name\":\"TemplateActions1\",\"overrides\":[],\"properties\":[{\"default\":0,\"kind\":null,\"name\":\"open_modal\"},{\"default\":0,\"kind\":null,\"name\":\"close_modal\"}]},{\"extends\":null,\"module\":null,\"name\":\"MaterialTemplateActions1\",\"overrides\":[],\"properties\":[{\"default\":0,\"kind\":null,\"name\":\"open_modal\"},{\"default\":0,\"kind\":null,\"name\":\"close_modal\"}]}],\"roots\":{\"references\":[{\"attributes\":{\"coordinates\":null,\"data_source\":{\"id\":\"3279\"},\"glyph\":{\"id\":\"3280\"},\"group\":null,\"hover_glyph\":{\"id\":\"3282\"},\"muted_glyph\":{\"id\":\"3283\"},\"nonselection_glyph\":{\"id\":\"3301\"},\"selection_glyph\":{\"id\":\"3300\"},\"view\":{\"id\":\"3285\"}},\"id\":\"3284\",\"type\":\"GlyphRenderer\"},{\"attributes\":{\"bottom_units\":\"screen\",\"coordinates\":null,\"fill_alpha\":0.5,\"fill_color\":\"lightgrey\",\"group\":null,\"left_units\":\"screen\",\"level\":\"overlay\",\"line_alpha\":1.0,\"line_color\":\"black\",\"line_dash\":[4,4],\"line_width\":2,\"right_units\":\"screen\",\"syncable\":false,\"top_units\":\"screen\"},\"id\":\"3322\",\"type\":\"BoxAnnotation\"},{\"attributes\":{\"fill_alpha\":{\"value\":0.2},\"fill_color\":{\"value\":\"midnightblue\"},\"hatch_alpha\":{\"value\":0.2},\"line_alpha\":{\"value\":0.2},\"line_color\":{\"value\":\"white\"},\"size\":{\"value\":10},\"x\":{\"field\":\"x\"},\"y\":{\"field\":\"y\"}},\"id\":\"3283\",\"type\":\"Circle\"},{\"attributes\":{\"tools\":[{\"id\":\"3265\"},{\"id\":\"3266\"},{\"id\":\"3267\"},{\"id\":\"3268\"},{\"id\":\"3269\"},{\"id\":\"3270\"},{\"id\":\"3298\"},{\"id\":\"3302\"}]},\"id\":\"3272\",\"type\":\"Toolbar\"},{\"attributes\":{\"data\":{\"x\":{\"__ndarray__\":\"AAAAALV+JTy1fqU8ED74PLV+JT1i3k49ED54Pd7OkD21fqU9jC66PWLezj05juM9ED74PfN2Bj7ezhA+yiYbPrV+JT6g1i8+jC46PneGRD5i3k4+TjZZPjmOYz4k5m0+ED54Pv1KgT7zdoY+6aKLPt7OkD7U+pU+yiabPr9SoD61fqU+q6qqPqDWrz6WArU+jC66PoFavz53hsQ+bbLJPmLezj5YCtQ+TjbZPkNi3j45juM+L7roPiTm7T4aEvM+ED74PgVq/T79SgE/+OADP/N2Bj/uDAk/6aILP+Q4Dj/ezhA/2WQTP9T6FT/PkBg/yiYbP8W8HT+/UiA/uugiP7V+JT+wFCg/q6oqP6VALT+g1i8/m2wyP5YCNT+RmDc/jC46P4bEPD+BWj8/fPBBP3eGRD9yHEc/bbJJP2dITD9i3k4/XXRRP1gKVD9ToFY/TjZZP0jMWz9DYl4/PvhgPzmOYz80JGY/L7poPylQaz8k5m0/H3xwPxoScz8VqHU/ED54PwrUej8Fan0/AACAPw==\",\"dtype\":\"float32\",\"order\":\"little\",\"shape\":[100]},\"y\":{\"__ndarray__\":\"UNy+vW3jfD3NFZ69MtBkvW6jfz0roPw9kOwWvHyk0byyUbE93J23Pd11YT2YWMw8MFHSPfPbVz4cv989qqvLPS0beT6Dm28+76MmPoc0TD7qdhg+1VXxPf/HjD5B55M+y699PvrXmT7RFLQ+QaK2PhX9hz5rG5o+gBHDPp5eij4VUcI+ul6YPhCkgD5HLso+CdOnPt1f8D5T+NU+pzLYPhPFtD4eZ7M+qNDYPu8Q1T7YTd8+TKrMPj4i3j589g4/qu/dPjxKBj9JW+4+d88EP5h0Cj9WIA8/wEznPvoDBz8c6w4/deENPxZ5Hj9H/SQ/MtoTP0Z/ND8TWx0/KcIhPyJEFD8yySk/J9USP5X5Kz8T1Ds/sz4gP02FIz8n4D4/j0RAPyWIKj/vBio/PIk5Pz0xRz8zwFk/y3ddP0dDWj8sTjo/5RNWP3sAQD//ekA/IClKP3vwSj9ti2w/P4poPy1QYz9wBX0/zSFiP1q7XT8A1Xc/8bNaP8cohj8gxGM/Wx6IP6Blcz9HQII/f/9pPw==\",\"dtype\":\"float32\",\"order\":\"little\",\"shape\":[100]}},\"selected\":{\"id\":\"3294\"},\"selection_policy\":{\"id\":\"3293\"}},\"id\":\"3279\",\"type\":\"ColumnDataSource\"},{\"attributes\":{\"fill_alpha\":{\"value\":0.5},\"fill_color\":{\"value\":\"red\"},\"hatch_alpha\":{\"value\":0.5},\"line_alpha\":{\"value\":0.5},\"line_color\":{\"value\":\"white\"},\"size\":{\"value\":10},\"x\":{\"field\":\"x\"},\"y\":{\"field\":\"y\"}},\"id\":\"3282\",\"type\":\"Circle\"},{\"attributes\":{\"source\":{\"id\":\"3279\"}},\"id\":\"3285\",\"type\":\"CDSView\"},{\"attributes\":{\"background_fill_alpha\":0.25,\"background_fill_color\":\"#505050\",\"border_line_alpha\":0.25,\"coordinates\":null,\"group\":null,\"items\":[{\"id\":\"3297\"},{\"id\":\"3323\"}],\"label_standoff\":8,\"label_text_color\":\"#E0E0E0\",\"label_text_font\":\"Josefin Sans\",\"label_text_font_size\":\"1.15em\",\"spacing\":8},\"id\":\"3296\",\"type\":\"Legend\"},{\"attributes\":{\"coordinates\":null,\"data_source\":{\"id\":\"3304\"},\"glyph\":{\"id\":\"3305\"},\"group\":null,\"hover_glyph\":null,\"muted_glyph\":{\"id\":\"3307\"},\"nonselection_glyph\":{\"id\":\"3306\"},\"view\":{\"id\":\"3309\"}},\"id\":\"3308\",\"type\":\"GlyphRenderer\"},{\"attributes\":{\"source\":{\"id\":\"3304\"}},\"id\":\"3309\",\"type\":\"CDSView\"},{\"attributes\":{},\"id\":\"3288\",\"type\":\"BasicTickFormatter\"},{\"attributes\":{},\"id\":\"3258\",\"type\":\"BasicTicker\"},{\"attributes\":{\"fill_alpha\":{\"value\":0.25},\"fill_color\":{\"value\":\"midnightblue\"},\"hatch_alpha\":{\"value\":0.25},\"line_alpha\":{\"value\":0.25},\"line_color\":{\"value\":\"white\"},\"size\":{\"value\":10},\"x\":{\"field\":\"x\"},\"y\":{\"field\":\"y\"}},\"id\":\"3280\",\"type\":\"Circle\"},{\"attributes\":{\"args\":{\"bidirectional\":true,\"properties\":{\"readonly\":\"disabled\"},\"source\":{\"id\":\"3363\"},\"target\":{\"id\":\"3363\"}},\"code\":\"\\n    var value = source['readonly'];\\n    value = value;\\n    value = value;\\n    try {\\n      var property = target.properties['disabled'];\\n      if (property !== undefined) { property.validate(value); }\\n    } catch(err) {\\n      console.log('WARNING: Could not set disabled on target, raised error: ' + err);\\n      return;\\n    }\\n    try {\\n      target['disabled'] = value;\\n    } catch(err) {\\n      console.log(err)\\n    }\\n    \",\"tags\":[[140542149818496,[null,\"readonly\"],[null,\"disabled\"]]]},\"id\":\"3378\",\"type\":\"CustomJS\"},{\"attributes\":{\"line_alpha\":0.1,\"line_color\":\"red\",\"line_width\":4,\"x\":{\"field\":\"x\"},\"y\":{\"field\":\"y\"}},\"id\":\"3306\",\"type\":\"Line\"},{\"attributes\":{\"children\":[{\"id\":\"3325\"},{\"id\":\"3326\"},{\"id\":\"3364\"}],\"margin\":[0,0,0,0],\"name\":\"Row00246\"},\"id\":\"3324\",\"type\":\"Row\"},{\"attributes\":{},\"id\":\"3291\",\"type\":\"BasicTickFormatter\"},{\"attributes\":{\"data\":{\"x\":{\"__ndarray__\":\"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\",\"dtype\":\"float64\",\"order\":\"little\",\"shape\":[200]},\"y\":{\"__ndarray__\":\"uOvbu9iO3LqYSFs7KDYJPCiaWzwV/5Y8FjHAPBZj6TyLSgk9jOMdPYx8Mj2NFUc9ja5bPY1HcD1GcII9xryMPUYJlz3IVaE9SKKrPcjutT1IO8A9yIfKPUjU1D3IIN89SG3pPci58z1IBv49ZCkEPqRPCT7ldQ4+JJwTPmXCGD6k6B0+5Q4jPiU1KD5lWy0+pYEyPuSnNz4lzjw+ZfRBPqUaRz7lQEw+JmdRPmWNVj6ms1s+5dlgPiYAZj5mJms+pkxwPuZydT4mmXo+Zr9/PtNygj70BYU+E5mHPjMsij5Tv4w+c1KPPpTlkT6zeJQ+0wuXPvOemT4UMpw+NMWePlNYoT5z66M+lH6mPrQRqT7UpKs+8zeuPhTLsD40XrM+VPG1PnSEuD6TF7s+tKq9PtQ9wD700MI+FGTFPjX3xz5Uiso+dB3NPpSwzz61Q9I+1dbUPvRp1z4U/dk+NZDcPlUj3z51tuE+lEnkPrTc5j7Vb+k+9QLsPhWW7j40KfE+VbzzPnVP9j6V4vg+tXX7PtUI/j77TQA/i5cBPxvhAj+rKgQ/O3QFP8y9Bj9bBwg/61AJP3uaCj8L5As/nC0NPyt3Dj+7wA8/SwoRP9tTEj9snRM/++YUP4swFj8cehc/q8MYPzwNGj/LVhs/W6AcP+zpHT97Mx8/DH0gP5vGIT8rECM/vFkkP0ujJT/c7CY/bDYoP/t/KT+MySo/GxMsP6xcLT88pi4/y+8vP1w5MT/sgjI/fMwzPwwWNT+bXzY/LKk3P7zyOD9MPDo/3IU7P2vPPD/8GD4/jGI/PxysQD+s9UE/PT9DP8yIRD9c0kU/7BtHP3xlSD8Nr0k/nPhKPyxCTD+9i00/TNVOP90eUD9saFE//LFSP437Uz8cRVU/rY5WPzzYVz/MIVk/XWtaP+y0Wz99/lw/DUheP5yRXz8t22A/vCRiP01uYz/dt2Q/bAFmP/1KZz+MlGg/Hd5pP60naz88cWw/zbptP10Ebz/tTXA/fZdxPwzhcj+dKnQ/LXR1P729dj9NB3g/3VB5P22aej/943s/jS19Px13fj8=\",\"dtype\":\"float32\",\"order\":\"little\",\"shape\":[200]}},\"selected\":{\"id\":\"3320\"},\"selection_policy\":{\"id\":\"3319\"}},\"id\":\"3304\",\"type\":\"ColumnDataSource\"},{\"attributes\":{\"margin\":[5,5,5,5],\"name\":\"HSpacer00217\",\"sizing_mode\":\"stretch_width\"},\"id\":\"3325\",\"type\":\"Spacer\"},{\"attributes\":{},\"id\":\"3292\",\"type\":\"AllLabels\"},{\"attributes\":{\"args\":{\"bidirectional\":true,\"properties\":{\"readonly\":\"disabled\"},\"source\":{\"id\":\"3363\"},\"target\":{\"id\":\"3363\"}},\"code\":\"\\n    var value = source['disabled'];\\n    value = value;\\n    value = value;\\n    try {\\n      var property = target.properties['readonly'];\\n      if (property !== undefined) { property.validate(value); }\\n    } catch(err) {\\n      console.log('WARNING: Could not set readonly on target, raised error: ' + err);\\n      return;\\n    }\\n    try {\\n      target['readonly'] = value;\\n    } catch(err) {\\n      console.log(err)\\n    }\\n    \",\"tags\":[[140542149818496,[null,\"readonly\"],[null,\"disabled\"]]]},\"id\":\"3379\",\"type\":\"CustomJS\"},{\"attributes\":{\"children\":[{\"id\":\"3327\"},{\"id\":\"3363\"}],\"margin\":[0,0,0,0],\"name\":\"Column00244\"},\"id\":\"3326\",\"type\":\"Column\"},{\"attributes\":{\"axis_label\":\"$$\\\\color{white} 1.0x^1 + 0.0$$\",\"axis_label_standoff\":10,\"axis_label_text_color\":\"#FFFFFF\",\"axis_label_text_font\":\"Josefin Sans\",\"axis_label_text_font_size\":\"1.9em\",\"axis_label_text_font_style\":\"bold\",\"axis_line_alpha\":0.4,\"axis_line_color\":\"#E0E0E0\",\"coordinates\":null,\"formatter\":{\"id\":\"3288\"},\"group\":null,\"major_label_policy\":{\"id\":\"3289\"},\"major_label_text_color\":\"#E0E0E0\",\"major_label_text_font\":\"Josefin Sans\",\"major_label_text_font_size\":\"1.15em\",\"major_tick_line_alpha\":0.4,\"major_tick_line_color\":\"#E0E0E0\",\"minor_tick_line_alpha\":0.4,\"minor_tick_line_color\":\"#E0E0E0\",\"ticker\":{\"id\":\"3262\"}},\"id\":\"3261\",\"type\":\"LinearAxis\"},{\"attributes\":{\"label\":{\"value\":\"Learned model\"},\"renderers\":[{\"id\":\"3308\"}]},\"id\":\"3323\",\"type\":\"LegendItem\"},{\"attributes\":{\"background_fill_alpha\":0.9,\"background_fill_color\":\"#0f0f0f\",\"below\":[{\"id\":\"3257\"}],\"border_fill_alpha\":0.8,\"border_fill_color\":\"#111111\",\"center\":[{\"id\":\"3260\"},{\"id\":\"3264\"},{\"id\":\"3296\"}],\"height\":450,\"left\":[{\"id\":\"3261\"}],\"outline_line_alpha\":0.25,\"outline_line_color\":\"#E0E0E0\",\"outline_line_width\":3,\"renderers\":[{\"id\":\"3284\"},{\"id\":\"3308\"}],\"title\":{\"id\":\"3247\"},\"toolbar\":{\"id\":\"3272\"},\"toolbar_location\":null,\"x_range\":{\"id\":\"3249\"},\"x_scale\":{\"id\":\"3253\"},\"y_range\":{\"id\":\"3251\"},\"y_scale\":{\"id\":\"3255\"}},\"id\":\"3246\",\"subtype\":\"Figure\",\"type\":\"Plot\"},{\"attributes\":{\"children\":[{\"id\":\"3329\"},{\"id\":\"3330\"},{\"id\":\"3331\"},{\"id\":\"3332\"},{\"id\":\"3333\"},{\"id\":\"3334\"},{\"id\":\"3335\"}],\"margin\":[5,5,5,5],\"min_width\":300,\"name\":\"Problem parameters\",\"width\":300},\"id\":\"3328\",\"type\":\"Column\"},{\"attributes\":{},\"id\":\"3289\",\"type\":\"AllLabels\"},{\"attributes\":{\"children\":[{\"id\":\"3328\"},{\"id\":\"3336\"}],\"margin\":[0,0,0,0],\"name\":\"Row00241\"},\"id\":\"3327\",\"type\":\"Row\"},{\"attributes\":{\"fill_alpha\":{\"value\":0.8},\"fill_color\":{\"value\":\"red\"},\"line_color\":{\"value\":\"white\"}},\"id\":\"3300\",\"type\":\"Circle\"},{\"attributes\":{\"line_alpha\":0.2,\"line_color\":\"red\",\"line_width\":4,\"x\":{\"field\":\"x\"},\"y\":{\"field\":\"y\"}},\"id\":\"3307\",\"type\":\"Line\"},{\"attributes\":{\"margin\":[5,10,5,10],\"name\":\"\",\"text\":\"<b>Problem parameters</b>\"},\"id\":\"3329\",\"type\":\"Div\"},{\"attributes\":{\"label\":{\"value\":\"Observations\"},\"renderers\":[{\"id\":\"3284\"}]},\"id\":\"3297\",\"type\":\"LegendItem\"},{\"attributes\":{\"labels\":[\"Ground truth\"],\"margin\":[5,10,5,10]},\"id\":\"3332\",\"type\":\"CheckboxGroup\"},{\"attributes\":{\"labels\":[\"Error\"],\"margin\":[5,10,5,10]},\"id\":\"3333\",\"type\":\"CheckboxGroup\"},{\"attributes\":{\"mode\":\"append\",\"overlay\":{\"id\":\"3322\"},\"renderers\":[{\"id\":\"3284\"}]},\"id\":\"3302\",\"type\":\"BoxSelectTool\"},{\"attributes\":{\"coordinates\":null,\"group\":null,\"text\":\"Linear regression problem\",\"text_color\":\"#E0E0E0\",\"text_font\":\"Josefin Sans\",\"text_font_size\":\"2.1em\"},\"id\":\"3247\",\"type\":\"Title\"},{\"attributes\":{\"axis\":{\"id\":\"3257\"},\"coordinates\":null,\"grid_line_alpha\":0.15,\"grid_line_color\":\"#E0E0E0\",\"group\":null,\"ticker\":null},\"id\":\"3260\",\"type\":\"Grid\"},{\"attributes\":{\"end\":1000,\"margin\":[5,10,5,10],\"start\":10,\"title\":\"Number observations\",\"value\":100},\"id\":\"3330\",\"type\":\"Slider\"},{\"attributes\":{},\"id\":\"3249\",\"type\":\"DataRange1d\"},{\"attributes\":{\"end\":5.0,\"margin\":[5,10,5,10],\"start\":-5.0,\"step\":0.1,\"title\":\"X 1\",\"value\":1.0},\"id\":\"3334\",\"type\":\"Slider\"},{\"attributes\":{\"callback\":null,\"mode\":\"vline\",\"renderers\":[{\"id\":\"3284\"}],\"tooltips\":null},\"id\":\"3298\",\"type\":\"HoverTool\"},{\"attributes\":{\"end\":5.0,\"margin\":[5,10,5,10],\"start\":0.0,\"step\":0.1,\"title\":\"Noise level\",\"value\":0.1},\"id\":\"3331\",\"type\":\"Slider\"},{\"attributes\":{},\"id\":\"3251\",\"type\":\"DataRange1d\"},{\"attributes\":{\"line_alpha\":0.7,\"line_color\":\"red\",\"line_width\":4,\"x\":{\"field\":\"x\"},\"y\":{\"field\":\"y\"}},\"id\":\"3305\",\"type\":\"Line\"},{\"attributes\":{},\"id\":\"3255\",\"type\":\"LinearScale\"},{\"attributes\":{},\"id\":\"3320\",\"type\":\"Selection\"},{\"attributes\":{\"axis_label\":\"$$\\\\color{white} x$$\",\"axis_label_standoff\":10,\"axis_label_text_color\":\"#FFFFFF\",\"axis_label_text_font\":\"Josefin Sans\",\"axis_label_text_font_size\":\"1.9em\",\"axis_label_text_font_style\":\"bold\",\"axis_line_alpha\":0.4,\"axis_line_color\":\"#E0E0E0\",\"coordinates\":null,\"formatter\":{\"id\":\"3291\"},\"group\":null,\"major_label_policy\":{\"id\":\"3292\"},\"major_label_text_color\":\"#E0E0E0\",\"major_label_text_font\":\"Josefin Sans\",\"major_label_text_font_size\":\"1.15em\",\"major_tick_line_alpha\":0.4,\"major_tick_line_color\":\"#E0E0E0\",\"minor_tick_line_alpha\":0.4,\"minor_tick_line_color\":\"#E0E0E0\",\"ticker\":{\"id\":\"3258\"}},\"id\":\"3257\",\"type\":\"LinearAxis\"},{\"attributes\":{\"fill_alpha\":{\"value\":0.5},\"fill_color\":{\"value\":\"midnightblue\"},\"line_color\":{\"value\":\"white\"}},\"id\":\"3301\",\"type\":\"Circle\"},{\"attributes\":{},\"id\":\"3262\",\"type\":\"BasicTicker\"},{\"attributes\":{},\"id\":\"3319\",\"type\":\"UnionRenderers\"},{\"attributes\":{\"code\":\"def linear(\\n        coefficients: jnp.ndarray,\\n        n_observations: int = 100) -> [jnp.ndarray, jnp.ndarray]:\\n    x = jnp.linspace(0, 1, n_observations)\\n    y = coefficients[0] * x + coefficients[1]\\n    return x, \",\"filename\":\"\",\"height\":150,\"js_property_callbacks\":{\"change:disabled\":[{\"id\":\"3379\"}],\"change:readonly\":[{\"id\":\"3378\"}]},\"language\":\"python\",\"margin\":[5,10,5,10],\"sizing_mode\":\"stretch_both\",\"theme\":\"chaos\"},\"id\":\"3363\",\"type\":\"panel.models.ace.AcePlot\"},{\"attributes\":{},\"id\":\"3270\",\"type\":\"HelpTool\"},{\"attributes\":{\"end\":5.0,\"margin\":[5,10,5,10],\"start\":-5.0,\"step\":0.1,\"title\":\"X 0\",\"value\":0.0},\"id\":\"3335\",\"type\":\"Slider\"},{\"attributes\":{},\"id\":\"3294\",\"type\":\"Selection\"},{\"attributes\":{},\"id\":\"3253\",\"type\":\"LinearScale\"},{\"attributes\":{\"children\":[{\"id\":\"3246\"}],\"margin\":[0,0,0,0],\"name\":\"Row00238\"},\"id\":\"3336\",\"type\":\"Row\"},{\"attributes\":{\"axis\":{\"id\":\"3261\"},\"coordinates\":null,\"dimension\":1,\"grid_line_alpha\":0.15,\"grid_line_color\":\"#E0E0E0\",\"group\":null,\"ticker\":null},\"id\":\"3264\",\"type\":\"Grid\"},{\"attributes\":{},\"id\":\"3293\",\"type\":\"UnionRenderers\"},{\"attributes\":{},\"id\":\"3266\",\"type\":\"WheelZoomTool\"},{\"attributes\":{\"client_comm_id\":\"64bba177041546b1a91a498c37583c17\",\"comm_id\":\"e3aea72031524dbc98face6e200eae3d\",\"plot_id\":\"3324\"},\"id\":\"3406\",\"type\":\"panel.models.comm_manager.CommManager\"},{\"attributes\":{},\"id\":\"3265\",\"type\":\"PanTool\"},{\"attributes\":{\"overlay\":{\"id\":\"3271\"}},\"id\":\"3267\",\"type\":\"BoxZoomTool\"},{\"attributes\":{\"margin\":[5,5,5,5],\"name\":\"HSpacer00245\",\"sizing_mode\":\"stretch_width\"},\"id\":\"3364\",\"type\":\"Spacer\"},{\"attributes\":{},\"id\":\"3268\",\"type\":\"SaveTool\"},{\"attributes\":{},\"id\":\"3269\",\"type\":\"ResetTool\"},{\"attributes\":{\"bottom_units\":\"screen\",\"coordinates\":null,\"fill_alpha\":0.5,\"fill_color\":\"lightgrey\",\"group\":null,\"left_units\":\"screen\",\"level\":\"overlay\",\"line_alpha\":1.0,\"line_color\":\"black\",\"line_dash\":[4,4],\"line_width\":2,\"right_units\":\"screen\",\"syncable\":false,\"top_units\":\"screen\"},\"id\":\"3271\",\"type\":\"BoxAnnotation\"}],\"root_ids\":[\"3324\",\"3406\"]},\"title\":\"Bokeh Application\",\"version\":\"2.4.3\"}};\n",
              "    var render_items = [{\"docid\":\"27c53e16-eb91-439a-86b3-e9b128d07d41\",\"root_ids\":[\"3324\"],\"roots\":{\"3324\":\"f0f45dbd-9081-40fb-8ef9-863c84c7d7c7\"}}];\n",
              "    root.Bokeh.embed.embed_items_notebook(docs_json, render_items);\n",
              "    for (const render_item of render_items) {\n",
              "      for (const root_id of render_item.root_ids) {\n",
              "\tconst id_el = document.getElementById(root_id)\n",
              "\tif (id_el.children.length && (id_el.children[0].className === 'bk-root')) {\n",
              "\t  const root_el = id_el.children[0]\n",
              "\t  root_el.id = root_el.id + '-rendered'\n",
              "\t}\n",
              "      }\n",
              "    }\n",
              "  }\n",
              "  if (root.Bokeh !== undefined && root.Bokeh.Panel !== undefined) {\n",
              "    embed_document(root);\n",
              "  } else {\n",
              "    var attempts = 0;\n",
              "    var timer = setInterval(function(root) {\n",
              "      if (root.Bokeh !== undefined && root.Bokeh.Panel !== undefined) {\n",
              "        clearInterval(timer);\n",
              "        embed_document(root);\n",
              "      } else if (document.readyState == \"complete\") {\n",
              "        attempts++;\n",
              "        if (attempts > 200) {\n",
              "          clearInterval(timer);\n",
              "          console.log(\"Bokeh: ERROR: Unable to run BokehJS code because BokehJS library is missing\");\n",
              "        }\n",
              "      }\n",
              "    }, 25, root)\n",
              "  }\n",
              "})(window);</script>"
            ],
            "text/plain": [
              "Row\n",
              "    [0] HSpacer()\n",
              "    [1] Column\n",
              "        [0] Row\n",
              "            [0] Param(RegressionLinearSolver, name='Problem parameters', widgets={})\n",
              "            [1] ParamMethod(method, _pane=Bokeh)\n",
              "        [1] Ace(height=150, language='python', sizing_mode='stretch_both', theme='chaos', value='def linear(\\n        coef...)\n",
              "    [2] HSpacer()"
            ]
          },
          "execution_count": 21,
          "metadata": {
            "application/vnd.holoviews_exec.v0+json": {
              "id": "3324"
            }
          },
          "output_type": "execute_result"
        }
      ],
      "source": [
        "from cml.tasks import RegressionLinearSolver\n",
        "explorer = RegressionLinearSolver()\n",
        "def solve(x, y):\n",
        "    w_1, w_0 = gradient_descent(x, y, n_iter, lr)\n",
        "    x_predict = np.linspace(np.min(x), np.max(x), 200)\n",
        "    y_model = w_1 * x_predict + w_0\n",
        "    return np.array(x_predict), np.array(y_model) #np.array(jnp.zeros(y_model.shape))\n",
        "\n",
        "explorer.solve = solve\n",
        "explorer.render()"
      ]
    },
    {
      "attachments": {},
      "cell_type": "markdown",
      "metadata": {
        "id": "D0AWzCfBf-ps"
      },
      "source": [
        "<div class=\"alert alert-success\" markdown=\"1\" style=\"color:white; background-color: #192841; border-color: #779ecb\">\n",
        "\n",
        "> ### Going further\n",
        "> **Exercise 1 \\[Learning rate\\]**: Experiment with different learning rates (e.g., 0.001, 0.01, 0.1, 1) and observe how they affect the convergence of the gradient descent algorithm. Plot the convergence history (cost function value vs. iteration) for each learning rate.\n",
        "\n",
        "> **Exercise 2 \\[Initialization\\]**: Experiment with different initializations of the coefficients (zeros, random values, etc.) and observe their impact on the convergence of the gradient descent algorithm.\n",
        "\n",
        "> **Exercise 3 \\[Variants\\]**: Implement and compare different variants of gradient descent, such as stochastic gradient descent (SGD) and mini-batch gradient descent. Analyze their convergence properties and computational efficiency.\n",
        "\n",
        "> **Exercise 4 \\[Regularization\\]**: Implement Lasso and Ridge regression with gradient descent by incorporating the regularization terms into the cost function and gradient calculations. Compare their performance with the standard linear regression implementation and analyze their impact on the learned coefficients.\n",
        "\n",
        "\n",
        "</div>"
      ]
    },
    {
      "attachments": {},
      "cell_type": "markdown",
      "metadata": {
        "id": "U-7vD_n6f-ps",
        "tags": []
      },
      "source": [
        "## Discovering automatic differentiation - `JAX`\n",
        "\n",
        "The previous implementation required us to perform manual differentiation of our loss function to understand how to update the parameters. However, large developments have been made in the field of **automatic differentiation**. \n",
        "\n",
        "The recent library [JAX](https://github.com/google/jax) extends NumPy with this automatic differentiation feature (*autograd*), while providing a functional approach to numerical computing, allowing for easy gradient computation and just-in-time (JIT) compilation. Its ability to handle complex and custom gradients makes JAX particularly well-suited for advanced research projects. Similar to NumPy, we strongly encourage you to learn JAX through the set of [tutorials](https://jax.readthedocs.io/en/latest/), but we will also provide here the explanation for all of the functions that we will use in this first exercise. After that, we will assume that knowledge of JAX should be found online. \n",
        "\n",
        "Note that `JAX` has been thought as an extension of `NumPy`, therefore an extremely large portion of its API simply mirrors the `NumPy` functions by adding automatic differentiation features to it.\n",
        "\n",
        "**Used functions**\n",
        "- `random.PRNGKey`: function to generate a key for the pseudorandom number generator. [Documentation](https://jax.readthedocs.io/en/latest/_autosummary/jax.random.PRNGKey.html)"
      ]
    },
    {
      "cell_type": "code",
      "execution_count": 22,
      "metadata": {
        "id": "gTH0sK-Xf-ps"
      },
      "outputs": [],
      "source": [
        "import jax.numpy as jnp\n",
        "from jax import grad, jit, random\n",
        "key = random.PRNGKey(42)"
      ]
    },
    {
      "attachments": {},
      "cell_type": "markdown",
      "metadata": {
        "id": "JpE0QV8Yf-ps"
      },
      "source": [
        "### Dataset.\n",
        "\n",
        "We can simply keep our previous approach to generating the dataset but we will rely on `jnp.ndarray` instead of `np.ndarray`. We also provide the code for splitting the dataset between a `training` and `validation` dataset, as discussed in the course\n",
        "\n",
        "**Used functions**\n",
        "- `random.split`: function to split a PRNGKey into a list of subkeys [Documentation](https://jax.readthedocs.io/en/latest/_autosummary/jax.random.split.html)\n",
        "- `random.uniform`: function to generate an array of uniformly distributed random numbers [Documentation](https://jax.readthedocs.io/en/latest/_autosummary/jax.random.uniform.html)\n",
        "- `random.normal`: function to generate an array of normally distributed random numbers [Documentation](https://jax.readthedocs.io/en/latest/_autosummary/jax.random.normal.html)"
      ]
    },
    {
      "cell_type": "code",
      "execution_count": 23,
      "metadata": {
        "id": "J8AwulwEf-ps"
      },
      "outputs": [],
      "source": [
        "true_w0 = 2\n",
        "true_w1 = 3\n",
        "key_0, key_1, key = random.split(key, 3)\n",
        "x = random.uniform(key_0, (100,))\n",
        "y = true_w0 + true_w1 * x + (random.normal(key_1, (100,)) * 0.2)"
      ]
    },
    {
      "cell_type": "code",
      "execution_count": 24,
      "metadata": {
        "id": "dhTaRcB5f-ps"
      },
      "outputs": [],
      "source": [
        "# Splitting our dataset\n",
        "train_size = int(0.8 * len(x))\n",
        "x_train, x_valid = x[:train_size], x[train_size:]\n",
        "y_train, y_valid = y[:train_size], y[train_size:]"
      ]
    },
    {
      "attachments": {},
      "cell_type": "markdown",
      "metadata": {
        "id": "tRfuDUeFf-ps"
      },
      "source": [
        "### Loss function\n",
        "\n",
        "Similarly Define the cost function and its gradient.\n",
        "\n",
        "**Used functions**\n",
        "- `jnp.mean`: function to compute the mean of an array [Documentation](https://jax.readthedocs.io/en/latest/_autosummary/jax.numpy.mean.html)"
      ]
    },
    {
      "cell_type": "code",
      "execution_count": 25,
      "metadata": {
        "id": "Ne1s9odMf-ps"
      },
      "outputs": [],
      "source": [
        "def loss_function(x, y, w_1, w_0):\n",
        "    y_pred = x * w_1 + w_0\n",
        "    residuals = y_pred - y\n",
        "    return jnp.mean(residuals**2)"
      ]
    },
    {
      "attachments": {},
      "cell_type": "markdown",
      "metadata": {
        "id": "d5ZQNFD9f-ps"
      },
      "source": [
        "\n",
        "**Used functions**\n",
        "- `jit`: function to compile a function for faster execution [Documentation](https://jax.readthedocs.io/en/latest/jit.html)\n",
        "- `grad`: function to compute the gradient of a function [Documentation](https://jax.readthedocs.io/en/latest/jax.html#jax.grad)"
      ]
    },
    {
      "cell_type": "code",
      "execution_count": 26,
      "metadata": {
        "id": "_74wg48Sf-ps"
      },
      "outputs": [],
      "source": [
        "grad_loss_function = jit(grad(loss_function, argnums=[2, 3]))"
      ]
    },
    {
      "attachments": {},
      "cell_type": "markdown",
      "metadata": {
        "id": "9pL2FrlNf-ps"
      },
      "source": [
        "### Implement the gradient descent algorithm.\n",
        "\n",
        "Note that nowhere in the code do we need to explicitly define the gradients of the different variables. Yet, the optimization will be performed adequately."
      ]
    },
    {
      "cell_type": "code",
      "execution_count": 27,
      "metadata": {
        "colab": {
          "base_uri": "https://localhost:8080/"
        },
        "id": "T4ji9Ao3f-ps",
        "outputId": "e8cde9de-a351-4959-f11b-1f6cdb553e5b"
      },
      "outputs": [
        {
          "name": "stdout",
          "output_type": "stream",
          "text": [
            "Gradient Descent coefficients: [3.0750291] [1.9604049]\n"
          ]
        }
      ],
      "source": [
        "def gradient_descent(key, x, y, lr=0.05, n_iter=10000):\n",
        "    m = x.shape\n",
        "    k_0, k_1 = random.split(key, 2)\n",
        "    w_0 = random.normal(k_0, (1,))\n",
        "    w_1 = random.normal(k_1, (1,))\n",
        "    loss_history = []\n",
        "    for _ in range(n_iter):\n",
        "        gradients = grad_loss_function(x, y, w_1, w_0)\n",
        "        #print(gradients[0])\n",
        "        w_1 -= lr * gradients[0]\n",
        "        w_0 -= lr * gradients[1]\n",
        "        loss_history.append(loss_function(x, y, w_1, w_0))\n",
        "    return w_1, w_0, loss_history\n",
        "\n",
        "key_gd, key = random.split(key, 2)\n",
        "w_1, w_0, loss_history = gradient_descent(key_gd, x_train, y_train)\n",
        "print(\"Gradient Descent coefficients:\", w_1, w_0)"
      ]
    },
    {
      "attachments": {},
      "cell_type": "markdown",
      "metadata": {
        "id": "hoyEZUWhf-ps"
      },
      "source": [
        "### Evaluate our performances\n",
        "\n",
        "Thanks to our previous split of the dataset, we are now able to evaluate the performances of our model on *unseen data*, which is the overarching goal of building such machine learning models."
      ]
    },
    {
      "cell_type": "code",
      "execution_count": 28,
      "metadata": {
        "colab": {
          "base_uri": "https://localhost:8080/"
        },
        "id": "oHmnNcX5f-pt",
        "outputId": "bfe4bb52-dc0b-468f-8c66-7b5717aac9b7"
      },
      "outputs": [
        {
          "name": "stdout",
          "output_type": "stream",
          "text": [
            "MSE for Gradient Descent: 0.038889583\n"
          ]
        }
      ],
      "source": [
        "def mean_squared_error(y_true, y_pred):\n",
        "    return np.mean((y_true - y_pred)**2)\n",
        "\n",
        "y_valid_gd = w_1 * x_valid + w_0\n",
        "mse_gd = mean_squared_error(y_valid, y_valid_gd)\n",
        "print(\"MSE for Gradient Descent:\", mse_gd)"
      ]
    },
    {
      "attachments": {},
      "cell_type": "markdown",
      "metadata": {
        "id": "WhWXRuqZf-pt"
      },
      "source": [
        "### Visualize the results.\n",
        "\n",
        "As previously we can witness our results, and also evaluate our solution with our interactive solver."
      ]
    },
    {
      "cell_type": "code",
      "execution_count": 29,
      "metadata": {
        "colab": {
          "base_uri": "https://localhost:8080/",
          "height": 1000
        },
        "id": "lrA0AMEUf-pt",
        "outputId": "a7c095f8-e6fe-488c-f4cb-d842300ca155"
      },
      "outputs": [
        {
          "data": {},
          "metadata": {},
          "output_type": "display_data"
        },
        {
          "data": {
            "application/vnd.holoviews_exec.v0+json": "",
            "text/html": [
              "<div id='3550'>\n",
              "  <div class=\"bk-root\" id=\"a3850a4d-a61f-459e-95fd-c5f3e9b83769\" data-root-id=\"3550\"></div>\n",
              "</div>\n",
              "<script type=\"application/javascript\">(function(root) {\n",
              "  function embed_document(root) {\n",
              "    var docs_json = {\"e6e1fd86-c6b6-44cc-b811-254b33bc1efd\":{\"defs\":[{\"extends\":null,\"module\":null,\"name\":\"ReactiveHTML1\",\"overrides\":[],\"properties\":[]},{\"extends\":null,\"module\":null,\"name\":\"FlexBox1\",\"overrides\":[],\"properties\":[{\"default\":\"flex-start\",\"kind\":null,\"name\":\"align_content\"},{\"default\":\"flex-start\",\"kind\":null,\"name\":\"align_items\"},{\"default\":\"row\",\"kind\":null,\"name\":\"flex_direction\"},{\"default\":\"wrap\",\"kind\":null,\"name\":\"flex_wrap\"},{\"default\":\"flex-start\",\"kind\":null,\"name\":\"justify_content\"}]},{\"extends\":null,\"module\":null,\"name\":\"GridStack1\",\"overrides\":[],\"properties\":[{\"default\":\"warn\",\"kind\":null,\"name\":\"mode\"},{\"default\":null,\"kind\":null,\"name\":\"ncols\"},{\"default\":null,\"kind\":null,\"name\":\"nrows\"},{\"default\":true,\"kind\":null,\"name\":\"allow_resize\"},{\"default\":true,\"kind\":null,\"name\":\"allow_drag\"},{\"default\":[],\"kind\":null,\"name\":\"state\"}]},{\"extends\":null,\"module\":null,\"name\":\"click1\",\"overrides\":[],\"properties\":[{\"default\":\"\",\"kind\":null,\"name\":\"terminal_output\"},{\"default\":\"\",\"kind\":null,\"name\":\"debug_name\"},{\"default\":0,\"kind\":null,\"name\":\"clears\"}]},{\"extends\":null,\"module\":null,\"name\":\"NotificationAreaBase1\",\"overrides\":[],\"properties\":[{\"default\":\"bottom-right\",\"kind\":null,\"name\":\"position\"},{\"default\":0,\"kind\":null,\"name\":\"_clear\"}]},{\"extends\":null,\"module\":null,\"name\":\"NotificationArea1\",\"overrides\":[],\"properties\":[{\"default\":[],\"kind\":null,\"name\":\"notifications\"},{\"default\":\"bottom-right\",\"kind\":null,\"name\":\"position\"},{\"default\":0,\"kind\":null,\"name\":\"_clear\"},{\"default\":[{\"background\":\"#ffc107\",\"icon\":{\"className\":\"fas fa-exclamation-triangle\",\"color\":\"white\",\"tagName\":\"i\"},\"type\":\"warning\"},{\"background\":\"#007bff\",\"icon\":{\"className\":\"fas fa-info-circle\",\"color\":\"white\",\"tagName\":\"i\"},\"type\":\"info\"}],\"kind\":null,\"name\":\"types\"}]},{\"extends\":null,\"module\":null,\"name\":\"Notification\",\"overrides\":[],\"properties\":[{\"default\":null,\"kind\":null,\"name\":\"background\"},{\"default\":3000,\"kind\":null,\"name\":\"duration\"},{\"default\":null,\"kind\":null,\"name\":\"icon\"},{\"default\":\"\",\"kind\":null,\"name\":\"message\"},{\"default\":null,\"kind\":null,\"name\":\"notification_type\"},{\"default\":false,\"kind\":null,\"name\":\"_destroyed\"}]},{\"extends\":null,\"module\":null,\"name\":\"TemplateActions1\",\"overrides\":[],\"properties\":[{\"default\":0,\"kind\":null,\"name\":\"open_modal\"},{\"default\":0,\"kind\":null,\"name\":\"close_modal\"}]},{\"extends\":null,\"module\":null,\"name\":\"MaterialTemplateActions1\",\"overrides\":[],\"properties\":[{\"default\":0,\"kind\":null,\"name\":\"open_modal\"},{\"default\":0,\"kind\":null,\"name\":\"close_modal\"}]}],\"roots\":{\"references\":[{\"attributes\":{\"client_comm_id\":\"ad3abd3ce06546db813357af2bfeedcb\",\"comm_id\":\"48615e34ed06423c9042b8cfee3a9afb\",\"plot_id\":\"3550\"},\"id\":\"3618\",\"type\":\"panel.models.comm_manager.CommManager\"},{\"attributes\":{},\"id\":\"3519\",\"type\":\"UnionRenderers\"},{\"attributes\":{\"data\":{\"x\":{\"__ndarray__\":\"7N0EP9Q2/z5g7bU++IQEPtBIGD7odLA+gJ3xPYCBGz7wBCQ+wCzBPFqjWz/kFmw/YGWPPUT3XT/EQYo+BPgjP/wkxj4gLeU+3D7nPiA43T3w0Qg/JmI8P+iTiD66Eis/rAqlPjgdYz6e7UI/hHlZP+gBXT5c2ME+DvAoP8DoaD7WWTI/rNGfPtJJAz/wCi0+cl4uP+DEBj9AQes+NKKAPrI1GD9OHUQ/cHTMPuwfEj+cmpw+mqxfP7iW9T50PCQ/EphXP5jmIj6WUR8/VO8xP7JYEz/8XpU+WGMPPqSE7z7exh4/CNE6PxIaTD8atGs/6oMGPyxhaD+cBjg/MI6tPvCl0T0A6A47RtlMPyYjIj+SbAc/IHYnPyg2cz9MZK8+mI4SP3RGNT/Oa2M/YLLhPlAHHD/iDwI/2BIpP7Aqbz4MGXw/VgtwP5agUD84HFc+2K94PtSOZD9YSTk/YJp7PdxJBT9klL4+qD1zPuRAzj78Cw4/cGG5PgAfxz0wOc4+6HeePtA+Uz4gIrw95GT5Pg==\",\"dtype\":\"float32\",\"order\":\"little\",\"shape\":[100]},\"y\":{\"__ndarray__\":\"uZtjQJaQX0AWZUNASu8WQL27GkDGSkFAEK8UQDxaG0AZ/RxATxsCQDsok0AOe5lA2T4LQEoNlEDimzJApIR7QOCgSUBujlVADVpWQFK5EkC4pWZAvSSHQKf2MUBlfYBAiOc8QGUdKUDAqIlAWVOSQPHwJ0DR+UdAiFZ/QIQ6KkCISYNAnuU6QBJlYkAOuR5AtMGBQBISZUCS5FdA8eguQHB6ckB8HYpA0g1MQOPMbUA/qTlAZLWUQHDdW0BBuXtASpqRQBHGHEB+8XdAmCCDQFW9bkCG4TZACAYZQBSIWUDahndAjoqGQHIvjUAVVZlAIuBkQAEOmEDzd4VASi1AQKucEUBEyvs/8XiNQDIcekD+kmVA/zN+QOE3nED94UBA9yFuQEpphEAWJpZADDhUQPxpdUC6c2FARnF/QGRuK0BMop9AOACbQMLsjkDMziZAyUItQPOVlkAA9IVABY4JQLTuY0B9uEZA1jYsQM++TEBaqmpA5rhEQLOZEEDZu0xAtmA6QKUQJkBmiw9A41NdQA==\",\"dtype\":\"float32\",\"order\":\"little\",\"shape\":[100]}},\"selected\":{\"id\":\"3546\"},\"selection_policy\":{\"id\":\"3545\"}},\"id\":\"3530\",\"type\":\"ColumnDataSource\"},{\"attributes\":{\"fill_alpha\":{\"value\":0.5},\"fill_color\":{\"value\":\"red\"},\"hatch_alpha\":{\"value\":0.5},\"line_alpha\":{\"value\":0.5},\"line_color\":{\"value\":\"white\"},\"size\":{\"value\":10},\"x\":{\"field\":\"x\"},\"y\":{\"field\":\"y\"}},\"id\":\"3508\",\"type\":\"Circle\"},{\"attributes\":{},\"id\":\"3545\",\"type\":\"UnionRenderers\"},{\"attributes\":{\"label\":{\"value\":\"Observations\"},\"renderers\":[{\"id\":\"3510\"}]},\"id\":\"3523\",\"type\":\"LegendItem\"},{\"attributes\":{\"data\":{\"x\":{\"__ndarray__\":\"7N0EP9Q2/z5g7bU++IQEPtBIGD7odLA+gJ3xPYCBGz7wBCQ+wCzBPFqjWz/kFmw/YGWPPUT3XT/EQYo+BPgjP/wkxj4gLeU+3D7nPiA43T3w0Qg/JmI8P+iTiD66Eis/rAqlPjgdYz6e7UI/hHlZP+gBXT5c2ME+DvAoP8DoaD7WWTI/rNGfPtJJAz/wCi0+cl4uP+DEBj9AQes+NKKAPrI1GD9OHUQ/cHTMPuwfEj+cmpw+mqxfP7iW9T50PCQ/EphXP5jmIj6WUR8/VO8xP7JYEz/8XpU+WGMPPqSE7z7exh4/CNE6PxIaTD8atGs/6oMGPyxhaD+cBjg/MI6tPvCl0T0A6A47RtlMPyYjIj+SbAc/IHYnPyg2cz9MZK8+mI4SP3RGNT/Oa2M/YLLhPlAHHD/iDwI/2BIpP7Aqbz4MGXw/VgtwP5agUD84HFc+2K94PtSOZD9YSTk/YJp7PdxJBT9klL4+qD1zPuRAzj78Cw4/cGG5PgAfxz0wOc4+6HeePtA+Uz4gIrw95GT5Pg==\",\"dtype\":\"float32\",\"order\":\"little\",\"shape\":[100]},\"y\":{\"__ndarray__\":\"jTtpQEHUQ0D0K0ZAA2QdQOYtDUAko1ZAgjIVQNlw+j99hSxAxcYDQK1ujED+wJRA+l7+P+r5kkA2QS9AHpR8QAn8RkBm9ldAKBVZQInyCECdtFRAqsmIQP70HkDJNYNA+fI+QG8hL0CgXIdAk1CHQHbqLUAw3ktAozOBQDyzI0DOxoZAkl06QOI3ZECT6zZACK5xQJ2VWkCbVVtARDMuQJlhgECBY4ZA8ftiQNhSZECXMzxAoIGSQChOakABt3JAAiWLQMNcKUDCI3tAQjWOQFMdd0CcdCdAOQEXQGiuSkA50IhAeIyRQEJIjEB6nJRApXdfQOofmEClpolA3jhGQAeWEkB0K/Q/69uNQH0GiUDOpGFAX79yQDM3pUBhiUpAQzloQMdniUDZ/JNAr+xMQOzockASOWZA/aODQGtvIUCw56JAx0ObQH4xkkCP6zhA9r4rQDbBnUBhFIVAsNYfQF6sX0CpQDlAojoqQOaFOUDbe29AFv5YQCCVLkCxf0hAqSk/QHnbKkACNxlADmheQA==\",\"dtype\":\"float32\",\"order\":\"little\",\"shape\":[100]}},\"selected\":{\"id\":\"3520\"},\"selection_policy\":{\"id\":\"3519\"}},\"id\":\"3505\",\"type\":\"ColumnDataSource\"},{\"attributes\":{\"tools\":[{\"id\":\"3491\"},{\"id\":\"3492\"},{\"id\":\"3493\"},{\"id\":\"3494\"},{\"id\":\"3495\"},{\"id\":\"3496\"},{\"id\":\"3524\"},{\"id\":\"3528\"}]},\"id\":\"3498\",\"type\":\"Toolbar\"},{\"attributes\":{\"fill_alpha\":{\"value\":0.2},\"fill_color\":{\"value\":\"midnightblue\"},\"hatch_alpha\":{\"value\":0.2},\"line_alpha\":{\"value\":0.2},\"line_color\":{\"value\":\"white\"},\"size\":{\"value\":10},\"x\":{\"field\":\"x\"},\"y\":{\"field\":\"y\"}},\"id\":\"3509\",\"type\":\"Circle\"},{\"attributes\":{\"source\":{\"id\":\"3505\"}},\"id\":\"3511\",\"type\":\"CDSView\"},{\"attributes\":{\"coordinates\":null,\"data_source\":{\"id\":\"3505\"},\"glyph\":{\"id\":\"3506\"},\"group\":null,\"hover_glyph\":{\"id\":\"3508\"},\"muted_glyph\":{\"id\":\"3509\"},\"nonselection_glyph\":{\"id\":\"3527\"},\"selection_glyph\":{\"id\":\"3526\"},\"view\":{\"id\":\"3511\"}},\"id\":\"3510\",\"type\":\"GlyphRenderer\"},{\"attributes\":{\"line_alpha\":0.2,\"line_color\":\"red\",\"line_width\":6,\"x\":{\"field\":\"x\"},\"y\":{\"field\":\"y\"}},\"id\":\"3533\",\"type\":\"Line\"},{\"attributes\":{\"background_fill_alpha\":0.25,\"background_fill_color\":\"#505050\",\"border_line_alpha\":0.25,\"coordinates\":null,\"group\":null,\"items\":[{\"id\":\"3523\"},{\"id\":\"3549\"}],\"label_standoff\":8,\"label_text_color\":\"#E0E0E0\",\"label_text_font\":\"Josefin Sans\",\"label_text_font_size\":\"1.15em\",\"spacing\":8},\"id\":\"3522\",\"type\":\"Legend\"},{\"attributes\":{\"callback\":null,\"mode\":\"vline\",\"renderers\":[{\"id\":\"3510\"}],\"tooltips\":null},\"id\":\"3524\",\"type\":\"HoverTool\"},{\"attributes\":{},\"id\":\"3546\",\"type\":\"Selection\"},{\"attributes\":{\"line_alpha\":0.6,\"line_color\":\"red\",\"line_width\":6,\"x\":{\"field\":\"x\"},\"y\":{\"field\":\"y\"}},\"id\":\"3531\",\"type\":\"Line\"},{\"attributes\":{\"bottom_units\":\"screen\",\"coordinates\":null,\"fill_alpha\":0.5,\"fill_color\":\"lightgrey\",\"group\":null,\"left_units\":\"screen\",\"level\":\"overlay\",\"line_alpha\":1.0,\"line_color\":\"black\",\"line_dash\":[4,4],\"line_width\":2,\"right_units\":\"screen\",\"syncable\":false,\"top_units\":\"screen\"},\"id\":\"3497\",\"type\":\"BoxAnnotation\"},{\"attributes\":{\"fill_alpha\":{\"value\":0.25},\"fill_color\":{\"value\":\"midnightblue\"},\"hatch_alpha\":{\"value\":0.25},\"line_alpha\":{\"value\":0.25},\"line_color\":{\"value\":\"white\"},\"size\":{\"value\":10},\"x\":{\"field\":\"x\"},\"y\":{\"field\":\"y\"}},\"id\":\"3506\",\"type\":\"Circle\"},{\"attributes\":{},\"id\":\"3475\",\"type\":\"DataRange1d\"},{\"attributes\":{\"background_fill_alpha\":0.9,\"background_fill_color\":\"#0f0f0f\",\"below\":[{\"id\":\"3483\"}],\"border_fill_alpha\":0.8,\"border_fill_color\":\"#111111\",\"center\":[{\"id\":\"3486\"},{\"id\":\"3490\"},{\"id\":\"3522\"}],\"height\":450,\"left\":[{\"id\":\"3487\"}],\"outline_line_alpha\":0.25,\"outline_line_color\":\"#E0E0E0\",\"outline_line_width\":3,\"renderers\":[{\"id\":\"3510\"},{\"id\":\"3534\"}],\"title\":{\"id\":\"3473\"},\"toolbar\":{\"id\":\"3498\"},\"toolbar_location\":null,\"x_range\":{\"id\":\"3475\"},\"x_scale\":{\"id\":\"3479\"},\"y_range\":{\"id\":\"3477\"},\"y_scale\":{\"id\":\"3481\"}},\"id\":\"3472\",\"subtype\":\"Figure\",\"type\":\"Plot\"},{\"attributes\":{},\"id\":\"3477\",\"type\":\"DataRange1d\"},{\"attributes\":{},\"id\":\"3479\",\"type\":\"LinearScale\"},{\"attributes\":{\"axis_label\":\"y\",\"axis_label_standoff\":10,\"axis_label_text_color\":\"#FFFFFF\",\"axis_label_text_font\":\"Josefin Sans\",\"axis_label_text_font_size\":\"1.9em\",\"axis_label_text_font_style\":\"bold\",\"axis_line_alpha\":0.4,\"axis_line_color\":\"#E0E0E0\",\"coordinates\":null,\"formatter\":{\"id\":\"3514\"},\"group\":null,\"major_label_policy\":{\"id\":\"3515\"},\"major_label_text_color\":\"#E0E0E0\",\"major_label_text_font\":\"Josefin Sans\",\"major_label_text_font_size\":\"1.15em\",\"major_tick_line_alpha\":0.4,\"major_tick_line_color\":\"#E0E0E0\",\"minor_tick_line_alpha\":0.4,\"minor_tick_line_color\":\"#E0E0E0\",\"ticker\":{\"id\":\"3488\"}},\"id\":\"3487\",\"type\":\"LinearAxis\"},{\"attributes\":{},\"id\":\"3496\",\"type\":\"HelpTool\"},{\"attributes\":{},\"id\":\"3518\",\"type\":\"AllLabels\"},{\"attributes\":{},\"id\":\"3481\",\"type\":\"LinearScale\"},{\"attributes\":{\"fill_alpha\":{\"value\":0.8},\"fill_color\":{\"value\":\"red\"},\"line_color\":{\"value\":\"white\"}},\"id\":\"3526\",\"type\":\"Circle\"},{\"attributes\":{\"fill_alpha\":{\"value\":0.5},\"fill_color\":{\"value\":\"midnightblue\"},\"line_color\":{\"value\":\"white\"}},\"id\":\"3527\",\"type\":\"Circle\"},{\"attributes\":{},\"id\":\"3517\",\"type\":\"BasicTickFormatter\"},{\"attributes\":{},\"id\":\"3514\",\"type\":\"BasicTickFormatter\"},{\"attributes\":{},\"id\":\"3515\",\"type\":\"AllLabels\"},{\"attributes\":{},\"id\":\"3495\",\"type\":\"ResetTool\"},{\"attributes\":{},\"id\":\"3494\",\"type\":\"SaveTool\"},{\"attributes\":{\"overlay\":{\"id\":\"3497\"}},\"id\":\"3493\",\"type\":\"BoxZoomTool\"},{\"attributes\":{},\"id\":\"3491\",\"type\":\"PanTool\"},{\"attributes\":{\"children\":[{\"id\":\"3551\"},{\"id\":\"3472\"},{\"id\":\"3578\"}],\"margin\":[0,0,0,0],\"name\":\"Row00253\"},\"id\":\"3550\",\"type\":\"Row\"},{\"attributes\":{\"bottom_units\":\"screen\",\"coordinates\":null,\"fill_alpha\":0.5,\"fill_color\":\"lightgrey\",\"group\":null,\"left_units\":\"screen\",\"level\":\"overlay\",\"line_alpha\":1.0,\"line_color\":\"black\",\"line_dash\":[4,4],\"line_width\":2,\"right_units\":\"screen\",\"syncable\":false,\"top_units\":\"screen\"},\"id\":\"3548\",\"type\":\"BoxAnnotation\"},{\"attributes\":{},\"id\":\"3492\",\"type\":\"WheelZoomTool\"},{\"attributes\":{\"margin\":[5,5,5,5],\"name\":\"HSpacer00250\",\"sizing_mode\":\"stretch_width\"},\"id\":\"3578\",\"type\":\"Spacer\"},{\"attributes\":{\"mode\":\"append\",\"overlay\":{\"id\":\"3548\"},\"renderers\":[{\"id\":\"3510\"}]},\"id\":\"3528\",\"type\":\"BoxSelectTool\"},{\"attributes\":{\"margin\":[5,5,5,5],\"name\":\"HSpacer00249\",\"sizing_mode\":\"stretch_width\"},\"id\":\"3551\",\"type\":\"Spacer\"},{\"attributes\":{},\"id\":\"3484\",\"type\":\"BasicTicker\"},{\"attributes\":{\"coordinates\":null,\"group\":null,\"text\":\"Linear regression\",\"text_color\":\"#E0E0E0\",\"text_font\":\"Josefin Sans\",\"text_font_size\":\"2.1em\"},\"id\":\"3473\",\"type\":\"Title\"},{\"attributes\":{\"coordinates\":null,\"data_source\":{\"id\":\"3530\"},\"glyph\":{\"id\":\"3531\"},\"group\":null,\"hover_glyph\":null,\"muted_glyph\":{\"id\":\"3533\"},\"nonselection_glyph\":{\"id\":\"3532\"},\"view\":{\"id\":\"3535\"}},\"id\":\"3534\",\"type\":\"GlyphRenderer\"},{\"attributes\":{},\"id\":\"3488\",\"type\":\"BasicTicker\"},{\"attributes\":{\"axis_label\":\"x\",\"axis_label_standoff\":10,\"axis_label_text_color\":\"#FFFFFF\",\"axis_label_text_font\":\"Josefin Sans\",\"axis_label_text_font_size\":\"1.9em\",\"axis_label_text_font_style\":\"bold\",\"axis_line_alpha\":0.4,\"axis_line_color\":\"#E0E0E0\",\"coordinates\":null,\"formatter\":{\"id\":\"3517\"},\"group\":null,\"major_label_policy\":{\"id\":\"3518\"},\"major_label_text_color\":\"#E0E0E0\",\"major_label_text_font\":\"Josefin Sans\",\"major_label_text_font_size\":\"1.15em\",\"major_tick_line_alpha\":0.4,\"major_tick_line_color\":\"#E0E0E0\",\"minor_tick_line_alpha\":0.4,\"minor_tick_line_color\":\"#E0E0E0\",\"ticker\":{\"id\":\"3484\"}},\"id\":\"3483\",\"type\":\"LinearAxis\"},{\"attributes\":{\"axis\":{\"id\":\"3487\"},\"coordinates\":null,\"dimension\":1,\"grid_line_alpha\":0.15,\"grid_line_color\":\"#E0E0E0\",\"group\":null,\"ticker\":null},\"id\":\"3490\",\"type\":\"Grid\"},{\"attributes\":{\"label\":{\"value\":\"Learned model\"},\"renderers\":[{\"id\":\"3534\"}]},\"id\":\"3549\",\"type\":\"LegendItem\"},{\"attributes\":{\"source\":{\"id\":\"3530\"}},\"id\":\"3535\",\"type\":\"CDSView\"},{\"attributes\":{},\"id\":\"3520\",\"type\":\"Selection\"},{\"attributes\":{\"axis\":{\"id\":\"3483\"},\"coordinates\":null,\"grid_line_alpha\":0.15,\"grid_line_color\":\"#E0E0E0\",\"group\":null,\"ticker\":null},\"id\":\"3486\",\"type\":\"Grid\"},{\"attributes\":{\"line_alpha\":0.1,\"line_color\":\"red\",\"line_width\":6,\"x\":{\"field\":\"x\"},\"y\":{\"field\":\"y\"}},\"id\":\"3532\",\"type\":\"Line\"}],\"root_ids\":[\"3550\",\"3618\"]},\"title\":\"Bokeh Application\",\"version\":\"2.4.3\"}};\n",
              "    var render_items = [{\"docid\":\"e6e1fd86-c6b6-44cc-b811-254b33bc1efd\",\"root_ids\":[\"3550\"],\"roots\":{\"3550\":\"a3850a4d-a61f-459e-95fd-c5f3e9b83769\"}}];\n",
              "    root.Bokeh.embed.embed_items_notebook(docs_json, render_items);\n",
              "    for (const render_item of render_items) {\n",
              "      for (const root_id of render_item.root_ids) {\n",
              "\tconst id_el = document.getElementById(root_id)\n",
              "\tif (id_el.children.length && (id_el.children[0].className === 'bk-root')) {\n",
              "\t  const root_el = id_el.children[0]\n",
              "\t  root_el.id = root_el.id + '-rendered'\n",
              "\t}\n",
              "      }\n",
              "    }\n",
              "  }\n",
              "  if (root.Bokeh !== undefined && root.Bokeh.Panel !== undefined) {\n",
              "    embed_document(root);\n",
              "  } else {\n",
              "    var attempts = 0;\n",
              "    var timer = setInterval(function(root) {\n",
              "      if (root.Bokeh !== undefined && root.Bokeh.Panel !== undefined) {\n",
              "        clearInterval(timer);\n",
              "        embed_document(root);\n",
              "      } else if (document.readyState == \"complete\") {\n",
              "        attempts++;\n",
              "        if (attempts > 200) {\n",
              "          clearInterval(timer);\n",
              "          console.log(\"Bokeh: ERROR: Unable to run BokehJS code because BokehJS library is missing\");\n",
              "        }\n",
              "      }\n",
              "    }, 25, root)\n",
              "  }\n",
              "})(window);</script>"
            ],
            "text/plain": [
              "Row\n",
              "    [0] HSpacer()\n",
              "    [1] Bokeh(Figure)\n",
              "    [2] HSpacer()"
            ]
          },
          "execution_count": 29,
          "metadata": {
            "application/vnd.holoviews_exec.v0+json": {
              "id": "3550"
            }
          },
          "output_type": "execute_result"
        }
      ],
      "source": [
        "p = scatter(np.array(x), np.array(y), title=\"Linear regression\")\n",
        "p.line(np.array(x), np.array(w_1 * x + w_0), line_width=6, line_alpha=0.6, color=\"red\", legend_label=r\"Learned model\")\n",
        "plot = (center_plot(p))\n",
        "plot"
      ]
    },
    {
      "cell_type": "code",
      "execution_count": 30,
      "metadata": {
        "colab": {
          "base_uri": "https://localhost:8080/",
          "height": 1000
        },
        "id": "Ky4boVP3f-pt",
        "outputId": "e8ff8d4d-45f7-4e36-f3db-46d57e32abc2"
      },
      "outputs": [
        {
          "data": {},
          "metadata": {},
          "output_type": "display_data"
        },
        {
          "data": {
            "application/vnd.holoviews_exec.v0+json": "",
            "text/html": [
              "<div id='3762'>\n",
              "  <div class=\"bk-root\" id=\"976ccbb9-af14-405d-aed3-cc801468b272\" data-root-id=\"3762\"></div>\n",
              "</div>\n",
              "<script type=\"application/javascript\">(function(root) {\n",
              "  function embed_document(root) {\n",
              "    var docs_json = {\"466cea6f-7ce0-4cfa-ad34-3f2da7ba3b99\":{\"defs\":[{\"extends\":null,\"module\":null,\"name\":\"ReactiveHTML1\",\"overrides\":[],\"properties\":[]},{\"extends\":null,\"module\":null,\"name\":\"FlexBox1\",\"overrides\":[],\"properties\":[{\"default\":\"flex-start\",\"kind\":null,\"name\":\"align_content\"},{\"default\":\"flex-start\",\"kind\":null,\"name\":\"align_items\"},{\"default\":\"row\",\"kind\":null,\"name\":\"flex_direction\"},{\"default\":\"wrap\",\"kind\":null,\"name\":\"flex_wrap\"},{\"default\":\"flex-start\",\"kind\":null,\"name\":\"justify_content\"}]},{\"extends\":null,\"module\":null,\"name\":\"GridStack1\",\"overrides\":[],\"properties\":[{\"default\":\"warn\",\"kind\":null,\"name\":\"mode\"},{\"default\":null,\"kind\":null,\"name\":\"ncols\"},{\"default\":null,\"kind\":null,\"name\":\"nrows\"},{\"default\":true,\"kind\":null,\"name\":\"allow_resize\"},{\"default\":true,\"kind\":null,\"name\":\"allow_drag\"},{\"default\":[],\"kind\":null,\"name\":\"state\"}]},{\"extends\":null,\"module\":null,\"name\":\"click1\",\"overrides\":[],\"properties\":[{\"default\":\"\",\"kind\":null,\"name\":\"terminal_output\"},{\"default\":\"\",\"kind\":null,\"name\":\"debug_name\"},{\"default\":0,\"kind\":null,\"name\":\"clears\"}]},{\"extends\":null,\"module\":null,\"name\":\"NotificationAreaBase1\",\"overrides\":[],\"properties\":[{\"default\":\"bottom-right\",\"kind\":null,\"name\":\"position\"},{\"default\":0,\"kind\":null,\"name\":\"_clear\"}]},{\"extends\":null,\"module\":null,\"name\":\"NotificationArea1\",\"overrides\":[],\"properties\":[{\"default\":[],\"kind\":null,\"name\":\"notifications\"},{\"default\":\"bottom-right\",\"kind\":null,\"name\":\"position\"},{\"default\":0,\"kind\":null,\"name\":\"_clear\"},{\"default\":[{\"background\":\"#ffc107\",\"icon\":{\"className\":\"fas fa-exclamation-triangle\",\"color\":\"white\",\"tagName\":\"i\"},\"type\":\"warning\"},{\"background\":\"#007bff\",\"icon\":{\"className\":\"fas fa-info-circle\",\"color\":\"white\",\"tagName\":\"i\"},\"type\":\"info\"}],\"kind\":null,\"name\":\"types\"}]},{\"extends\":null,\"module\":null,\"name\":\"Notification\",\"overrides\":[],\"properties\":[{\"default\":null,\"kind\":null,\"name\":\"background\"},{\"default\":3000,\"kind\":null,\"name\":\"duration\"},{\"default\":null,\"kind\":null,\"name\":\"icon\"},{\"default\":\"\",\"kind\":null,\"name\":\"message\"},{\"default\":null,\"kind\":null,\"name\":\"notification_type\"},{\"default\":false,\"kind\":null,\"name\":\"_destroyed\"}]},{\"extends\":null,\"module\":null,\"name\":\"TemplateActions1\",\"overrides\":[],\"properties\":[{\"default\":0,\"kind\":null,\"name\":\"open_modal\"},{\"default\":0,\"kind\":null,\"name\":\"close_modal\"}]},{\"extends\":null,\"module\":null,\"name\":\"MaterialTemplateActions1\",\"overrides\":[],\"properties\":[{\"default\":0,\"kind\":null,\"name\":\"open_modal\"},{\"default\":0,\"kind\":null,\"name\":\"close_modal\"}]}],\"roots\":{\"references\":[{\"attributes\":{\"callback\":null,\"mode\":\"vline\",\"renderers\":[{\"id\":\"3722\"}],\"tooltips\":null},\"id\":\"3736\",\"type\":\"HoverTool\"},{\"attributes\":{\"fill_alpha\":{\"value\":0.5},\"fill_color\":{\"value\":\"midnightblue\"},\"line_color\":{\"value\":\"white\"}},\"id\":\"3739\",\"type\":\"Circle\"},{\"attributes\":{\"overlay\":{\"id\":\"3709\"}},\"id\":\"3705\",\"type\":\"BoxZoomTool\"},{\"attributes\":{},\"id\":\"3703\",\"type\":\"PanTool\"},{\"attributes\":{},\"id\":\"3704\",\"type\":\"WheelZoomTool\"},{\"attributes\":{},\"id\":\"3729\",\"type\":\"BasicTickFormatter\"},{\"attributes\":{},\"id\":\"3689\",\"type\":\"DataRange1d\"},{\"attributes\":{},\"id\":\"3730\",\"type\":\"AllLabels\"},{\"attributes\":{},\"id\":\"3706\",\"type\":\"SaveTool\"},{\"attributes\":{\"bottom_units\":\"screen\",\"coordinates\":null,\"fill_alpha\":0.5,\"fill_color\":\"lightgrey\",\"group\":null,\"left_units\":\"screen\",\"level\":\"overlay\",\"line_alpha\":1.0,\"line_color\":\"black\",\"line_dash\":[4,4],\"line_width\":2,\"right_units\":\"screen\",\"syncable\":false,\"top_units\":\"screen\"},\"id\":\"3760\",\"type\":\"BoxAnnotation\"},{\"attributes\":{},\"id\":\"3731\",\"type\":\"UnionRenderers\"},{\"attributes\":{\"source\":{\"id\":\"3742\"}},\"id\":\"3747\",\"type\":\"CDSView\"},{\"attributes\":{\"coordinates\":null,\"group\":null,\"text\":\"Linear regression problem\",\"text_color\":\"#E0E0E0\",\"text_font\":\"Josefin Sans\",\"text_font_size\":\"2.1em\"},\"id\":\"3685\",\"type\":\"Title\"},{\"attributes\":{},\"id\":\"3732\",\"type\":\"Selection\"},{\"attributes\":{\"background_fill_alpha\":0.9,\"background_fill_color\":\"#0f0f0f\",\"below\":[{\"id\":\"3695\"}],\"border_fill_alpha\":0.8,\"border_fill_color\":\"#111111\",\"center\":[{\"id\":\"3698\"},{\"id\":\"3702\"},{\"id\":\"3734\"}],\"height\":450,\"left\":[{\"id\":\"3699\"}],\"outline_line_alpha\":0.25,\"outline_line_color\":\"#E0E0E0\",\"outline_line_width\":3,\"renderers\":[{\"id\":\"3722\"},{\"id\":\"3746\"}],\"title\":{\"id\":\"3685\"},\"toolbar\":{\"id\":\"3710\"},\"toolbar_location\":null,\"x_range\":{\"id\":\"3687\"},\"x_scale\":{\"id\":\"3691\"},\"y_range\":{\"id\":\"3689\"},\"y_scale\":{\"id\":\"3693\"}},\"id\":\"3684\",\"subtype\":\"Figure\",\"type\":\"Plot\"},{\"attributes\":{\"bottom_units\":\"screen\",\"coordinates\":null,\"fill_alpha\":0.5,\"fill_color\":\"lightgrey\",\"group\":null,\"left_units\":\"screen\",\"level\":\"overlay\",\"line_alpha\":1.0,\"line_color\":\"black\",\"line_dash\":[4,4],\"line_width\":2,\"right_units\":\"screen\",\"syncable\":false,\"top_units\":\"screen\"},\"id\":\"3709\",\"type\":\"BoxAnnotation\"},{\"attributes\":{\"coordinates\":null,\"data_source\":{\"id\":\"3717\"},\"glyph\":{\"id\":\"3718\"},\"group\":null,\"hover_glyph\":{\"id\":\"3720\"},\"muted_glyph\":{\"id\":\"3721\"},\"nonselection_glyph\":{\"id\":\"3739\"},\"selection_glyph\":{\"id\":\"3738\"},\"view\":{\"id\":\"3723\"}},\"id\":\"3722\",\"type\":\"GlyphRenderer\"},{\"attributes\":{\"axis\":{\"id\":\"3695\"},\"coordinates\":null,\"grid_line_alpha\":0.15,\"grid_line_color\":\"#E0E0E0\",\"group\":null,\"ticker\":null},\"id\":\"3698\",\"type\":\"Grid\"},{\"attributes\":{\"children\":[{\"id\":\"3684\"}],\"margin\":[0,0,0,0],\"name\":\"Row00278\"},\"id\":\"3774\",\"type\":\"Row\"},{\"attributes\":{\"code\":\"def linear(\\n        coefficients: jnp.ndarray,\\n        n_observations: int = 100) -> [jnp.ndarray, jnp.ndarray]:\\n    x = jnp.linspace(0, 1, n_observations)\\n    y = coefficients[0] * x + coefficients[1]\\n    return x, \",\"filename\":\"\",\"height\":150,\"js_property_callbacks\":{\"change:disabled\":[{\"id\":\"3817\"}],\"change:readonly\":[{\"id\":\"3816\"}]},\"language\":\"python\",\"margin\":[5,10,5,10],\"sizing_mode\":\"stretch_both\",\"theme\":\"chaos\"},\"id\":\"3801\",\"type\":\"panel.models.ace.AcePlot\"},{\"attributes\":{},\"id\":\"3727\",\"type\":\"AllLabels\"},{\"attributes\":{},\"id\":\"3687\",\"type\":\"DataRange1d\"},{\"attributes\":{\"line_alpha\":0.2,\"line_color\":\"red\",\"line_width\":4,\"x\":{\"field\":\"x\"},\"y\":{\"field\":\"y\"}},\"id\":\"3745\",\"type\":\"Line\"},{\"attributes\":{\"args\":{\"bidirectional\":true,\"properties\":{\"readonly\":\"disabled\"},\"source\":{\"id\":\"3801\"},\"target\":{\"id\":\"3801\"}},\"code\":\"\\n    var value = source['readonly'];\\n    value = value;\\n    value = value;\\n    try {\\n      var property = target.properties['disabled'];\\n      if (property !== undefined) { property.validate(value); }\\n    } catch(err) {\\n      console.log('WARNING: Could not set disabled on target, raised error: ' + err);\\n      return;\\n    }\\n    try {\\n      target['disabled'] = value;\\n    } catch(err) {\\n      console.log(err)\\n    }\\n    \",\"tags\":[[140542147761232,[null,\"readonly\"],[null,\"disabled\"]]]},\"id\":\"3816\",\"type\":\"CustomJS\"},{\"attributes\":{\"children\":[{\"id\":\"3763\"},{\"id\":\"3764\"},{\"id\":\"3802\"}],\"margin\":[0,0,0,0],\"name\":\"Row00286\"},\"id\":\"3762\",\"type\":\"Row\"},{\"attributes\":{\"data\":{\"x\":{\"__ndarray__\":\"AAAAALV+JTy1fqU8ED74PLV+JT1i3k49ED54Pd7OkD21fqU9jC66PWLezj05juM9ED74PfN2Bj7ezhA+yiYbPrV+JT6g1i8+jC46PneGRD5i3k4+TjZZPjmOYz4k5m0+ED54Pv1KgT7zdoY+6aKLPt7OkD7U+pU+yiabPr9SoD61fqU+q6qqPqDWrz6WArU+jC66PoFavz53hsQ+bbLJPmLezj5YCtQ+TjbZPkNi3j45juM+L7roPiTm7T4aEvM+ED74PgVq/T79SgE/+OADP/N2Bj/uDAk/6aILP+Q4Dj/ezhA/2WQTP9T6FT/PkBg/yiYbP8W8HT+/UiA/uugiP7V+JT+wFCg/q6oqP6VALT+g1i8/m2wyP5YCNT+RmDc/jC46P4bEPD+BWj8/fPBBP3eGRD9yHEc/bbJJP2dITD9i3k4/XXRRP1gKVD9ToFY/TjZZP0jMWz9DYl4/PvhgPzmOYz80JGY/L7poPylQaz8k5m0/H3xwPxoScz8VqHU/ED54PwrUej8Fan0/AACAPw==\",\"dtype\":\"float32\",\"order\":\"little\",\"shape\":[100]},\"y\":{\"__ndarray__\":\"R2wsvdqiGL16vzi9LliyPeC3VLvovuw9QBJhuzgZjTxE/Hw9uBMEPcfYAz6wd808Mm4APnbe4z2E1gE+Yo40PjjMED55tNg9EkL2PcQRYj50rwc+nSeCPr+zTT5JbUM+cME3PnVgfj7mm7E+rRi9PnrdeD5Ph5Y+WQqnPqUuuT7kUoA+2c92Pr090T7DecA+YaqZPjSm8T6iDeU+7d+wPnbwqD6mff4+rTC4PnpPrj4u2bw+QPLlPrJRvj6QJdk+e9T9PhhqzD5ebRk/1X8EP8YqAz+Ckv8+3sjmPtCpJz9uwv4+xKoWP25ZHj+fzSI/AwUrP9kHND+93DQ/tlk2Px09Ij+Lnj4/HNIcPyO8QT9S2kA/FKYgP45UHj95BEA/DbwgP/JQLj/RCkA/vi9aPwtjTT/ywDo/y0dHPwOCNj/ugEI/z19JP/I5YD9vqk4/lkxPP5djcD8ioW8/CXpqP93Pbj+zglw/vrlQP+QXej+i41U/cIiEPxHLXT8nW14/e2yGP/zMgT9OxnI/PPZ8Pw==\",\"dtype\":\"float32\",\"order\":\"little\",\"shape\":[100]}},\"selected\":{\"id\":\"3732\"},\"selection_policy\":{\"id\":\"3731\"}},\"id\":\"3717\",\"type\":\"ColumnDataSource\"},{\"attributes\":{\"margin\":[5,5,5,5],\"name\":\"HSpacer00285\",\"sizing_mode\":\"stretch_width\"},\"id\":\"3802\",\"type\":\"Spacer\"},{\"attributes\":{\"label\":{\"value\":\"Observations\"},\"renderers\":[{\"id\":\"3722\"}]},\"id\":\"3735\",\"type\":\"LegendItem\"},{\"attributes\":{\"margin\":[5,5,5,5],\"name\":\"HSpacer00257\",\"sizing_mode\":\"stretch_width\"},\"id\":\"3763\",\"type\":\"Spacer\"},{\"attributes\":{},\"id\":\"3707\",\"type\":\"ResetTool\"},{\"attributes\":{\"client_comm_id\":\"21787997c3944485a3862f215dd5258f\",\"comm_id\":\"9d078a67da62467ca8fcceecdb776034\",\"plot_id\":\"3762\"},\"id\":\"3844\",\"type\":\"panel.models.comm_manager.CommManager\"},{\"attributes\":{\"axis_label\":\"$$\\\\color{white} 1.0x^1 + 0.0$$\",\"axis_label_standoff\":10,\"axis_label_text_color\":\"#FFFFFF\",\"axis_label_text_font\":\"Josefin Sans\",\"axis_label_text_font_size\":\"1.9em\",\"axis_label_text_font_style\":\"bold\",\"axis_line_alpha\":0.4,\"axis_line_color\":\"#E0E0E0\",\"coordinates\":null,\"formatter\":{\"id\":\"3726\"},\"group\":null,\"major_label_policy\":{\"id\":\"3727\"},\"major_label_text_color\":\"#E0E0E0\",\"major_label_text_font\":\"Josefin Sans\",\"major_label_text_font_size\":\"1.15em\",\"major_tick_line_alpha\":0.4,\"major_tick_line_color\":\"#E0E0E0\",\"minor_tick_line_alpha\":0.4,\"minor_tick_line_color\":\"#E0E0E0\",\"ticker\":{\"id\":\"3700\"}},\"id\":\"3699\",\"type\":\"LinearAxis\"},{\"attributes\":{\"children\":[{\"id\":\"3765\"},{\"id\":\"3801\"}],\"margin\":[0,0,0,0],\"name\":\"Column00284\"},\"id\":\"3764\",\"type\":\"Column\"},{\"attributes\":{\"args\":{\"bidirectional\":true,\"properties\":{\"readonly\":\"disabled\"},\"source\":{\"id\":\"3801\"},\"target\":{\"id\":\"3801\"}},\"code\":\"\\n    var value = source['disabled'];\\n    value = value;\\n    value = value;\\n    try {\\n      var property = target.properties['readonly'];\\n      if (property !== undefined) { property.validate(value); }\\n    } catch(err) {\\n      console.log('WARNING: Could not set readonly on target, raised error: ' + err);\\n      return;\\n    }\\n    try {\\n      target['readonly'] = value;\\n    } catch(err) {\\n      console.log(err)\\n    }\\n    \",\"tags\":[[140542147761232,[null,\"readonly\"],[null,\"disabled\"]]]},\"id\":\"3817\",\"type\":\"CustomJS\"},{\"attributes\":{\"label\":{\"value\":\"Learned model\"},\"renderers\":[{\"id\":\"3746\"}]},\"id\":\"3761\",\"type\":\"LegendItem\"},{\"attributes\":{\"children\":[{\"id\":\"3767\"},{\"id\":\"3768\"},{\"id\":\"3769\"},{\"id\":\"3770\"},{\"id\":\"3771\"},{\"id\":\"3772\"},{\"id\":\"3773\"}],\"margin\":[5,5,5,5],\"min_width\":300,\"name\":\"Problem parameters\",\"width\":300},\"id\":\"3766\",\"type\":\"Column\"},{\"attributes\":{\"coordinates\":null,\"data_source\":{\"id\":\"3742\"},\"glyph\":{\"id\":\"3743\"},\"group\":null,\"hover_glyph\":null,\"muted_glyph\":{\"id\":\"3745\"},\"nonselection_glyph\":{\"id\":\"3744\"},\"view\":{\"id\":\"3747\"}},\"id\":\"3746\",\"type\":\"GlyphRenderer\"},{\"attributes\":{\"background_fill_alpha\":0.25,\"background_fill_color\":\"#505050\",\"border_line_alpha\":0.25,\"coordinates\":null,\"group\":null,\"items\":[{\"id\":\"3735\"},{\"id\":\"3761\"}],\"label_standoff\":8,\"label_text_color\":\"#E0E0E0\",\"label_text_font\":\"Josefin Sans\",\"label_text_font_size\":\"1.15em\",\"spacing\":8},\"id\":\"3734\",\"type\":\"Legend\"},{\"attributes\":{\"children\":[{\"id\":\"3766\"},{\"id\":\"3774\"}],\"margin\":[0,0,0,0],\"name\":\"Row00281\"},\"id\":\"3765\",\"type\":\"Row\"},{\"attributes\":{\"source\":{\"id\":\"3717\"}},\"id\":\"3723\",\"type\":\"CDSView\"},{\"attributes\":{},\"id\":\"3691\",\"type\":\"LinearScale\"},{\"attributes\":{\"margin\":[5,10,5,10],\"name\":\"\",\"text\":\"<b>Problem parameters</b>\"},\"id\":\"3767\",\"type\":\"Div\"},{\"attributes\":{\"data\":{\"x\":{\"__ndarray__\":\"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\",\"dtype\":\"float64\",\"order\":\"little\",\"shape\":[200]},\"y\":{\"__ndarray__\":\"lm2SvAa4ULy+Kfm74MYhu7jFLjssqf87vPdTPHANlDwEH748mDDoPBYhCT3fKR49qTIzPXE7SD07RF09BU1yPeiqgz1ML449srOYPRY4oz18vK094EC4PUTFwj2qSc09Ds7XPXJS4j3W1uw9PFv3PdDvAD4DMgY+NXQLPmi2ED6a+BU+zTobPv98ID4yvyU+ZAErPpZDMD7JhTU++8c6Pi4KQD5gTEU+ko5KPsTQTz73ElU+KVVaPlyXXz6O2WQ+wRtqPvNdbz4loHQ+V+J5Pokkfz5fM4I+eNSEPpF1hz6qFoo+w7eMPt1Yjz72+ZE+D5uUPig8lz5C3Zk+W36cPnQfnz6NwKE+p2GkPsACpz7Zo6k+8kSsPgzmrj4lh7E+Pii0PlfJtj5wark+igu8PqOsvj68TcE+1e7DPu+Pxj4IMck+IdLLPjpzzj5UFNE+bLXTPoVW1j6e99g+uJjbPtE53j7q2uA+A3zjPhwd5j42vug+T1/rPmgA7j6BofA+m0LzPrTj9T7NhPg+5yX7Pv/G/T4LNAA/mIQBPyXVAj+xJQQ/PnYFP8vGBj9XFwg/5GcJP3C4Cj/9CAw/ilkNPxaqDj+j+g8/L0sRP7ybEj9J7BM/1TwVP2KNFj/v3Rc/ey4ZPwh/Gj+Uzxs/ISAdP65wHj86wR8/xxEhP1NiIj/gsiM/bQMlP/lTJj+GpCc/E/UoP59FKj8slis/uOYsP0U3Lj/Shy8/XtgwP+soMj94eTM/BMo0P5EaNj8dazc/qrs4PzcMOj/DXDs/UK08P9z9PT9pTj8/9p5AP4LvQT8PQEM/nJBEPyjhRT+1MUc/QYJIP87SST9bI0s/53NMP3TETT8BFU8/jWVQPxq2UT+mBlM/M1dUP8CnVT9L+FY/2EhYP2SZWT/x6Vo/fjpcPwqLXT+X214/JCxgP7B8YT89zWI/yR1kP1ZuZT/jvmY/bw9oP/xfaT+IsGo/FQFsP6JRbT8uom4/u/JvP0hDcT/Uk3I/YeRzP+00dT96hXY/B9Z3P5MmeT8gd3o/rcd7PzkYfT/HaH4/U7l/P/CEgD8=\",\"dtype\":\"float32\",\"order\":\"little\",\"shape\":[200]}},\"selected\":{\"id\":\"3758\"},\"selection_policy\":{\"id\":\"3757\"}},\"id\":\"3742\",\"type\":\"ColumnDataSource\"},{\"attributes\":{\"labels\":[\"Ground truth\"],\"margin\":[5,10,5,10]},\"id\":\"3770\",\"type\":\"CheckboxGroup\"},{\"attributes\":{\"labels\":[\"Error\"],\"margin\":[5,10,5,10]},\"id\":\"3771\",\"type\":\"CheckboxGroup\"},{\"attributes\":{\"line_alpha\":0.1,\"line_color\":\"red\",\"line_width\":4,\"x\":{\"field\":\"x\"},\"y\":{\"field\":\"y\"}},\"id\":\"3744\",\"type\":\"Line\"},{\"attributes\":{},\"id\":\"3700\",\"type\":\"BasicTicker\"},{\"attributes\":{\"fill_alpha\":{\"value\":0.25},\"fill_color\":{\"value\":\"midnightblue\"},\"hatch_alpha\":{\"value\":0.25},\"line_alpha\":{\"value\":0.25},\"line_color\":{\"value\":\"white\"},\"size\":{\"value\":10},\"x\":{\"field\":\"x\"},\"y\":{\"field\":\"y\"}},\"id\":\"3718\",\"type\":\"Circle\"},{\"attributes\":{\"end\":1000,\"margin\":[5,10,5,10],\"start\":10,\"title\":\"Number observations\",\"value\":100},\"id\":\"3768\",\"type\":\"Slider\"},{\"attributes\":{},\"id\":\"3696\",\"type\":\"BasicTicker\"},{\"attributes\":{\"axis_label\":\"$$\\\\color{white} x$$\",\"axis_label_standoff\":10,\"axis_label_text_color\":\"#FFFFFF\",\"axis_label_text_font\":\"Josefin Sans\",\"axis_label_text_font_size\":\"1.9em\",\"axis_label_text_font_style\":\"bold\",\"axis_line_alpha\":0.4,\"axis_line_color\":\"#E0E0E0\",\"coordinates\":null,\"formatter\":{\"id\":\"3729\"},\"group\":null,\"major_label_policy\":{\"id\":\"3730\"},\"major_label_text_color\":\"#E0E0E0\",\"major_label_text_font\":\"Josefin Sans\",\"major_label_text_font_size\":\"1.15em\",\"major_tick_line_alpha\":0.4,\"major_tick_line_color\":\"#E0E0E0\",\"minor_tick_line_alpha\":0.4,\"minor_tick_line_color\":\"#E0E0E0\",\"ticker\":{\"id\":\"3696\"}},\"id\":\"3695\",\"type\":\"LinearAxis\"},{\"attributes\":{\"end\":5.0,\"margin\":[5,10,5,10],\"start\":-5.0,\"step\":0.1,\"title\":\"X 1\",\"value\":1.0},\"id\":\"3772\",\"type\":\"Slider\"},{\"attributes\":{\"axis\":{\"id\":\"3699\"},\"coordinates\":null,\"dimension\":1,\"grid_line_alpha\":0.15,\"grid_line_color\":\"#E0E0E0\",\"group\":null,\"ticker\":null},\"id\":\"3702\",\"type\":\"Grid\"},{\"attributes\":{\"end\":5.0,\"margin\":[5,10,5,10],\"start\":0.0,\"step\":0.1,\"title\":\"Noise level\",\"value\":0.1},\"id\":\"3769\",\"type\":\"Slider\"},{\"attributes\":{},\"id\":\"3693\",\"type\":\"LinearScale\"},{\"attributes\":{},\"id\":\"3708\",\"type\":\"HelpTool\"},{\"attributes\":{},\"id\":\"3757\",\"type\":\"UnionRenderers\"},{\"attributes\":{},\"id\":\"3726\",\"type\":\"BasicTickFormatter\"},{\"attributes\":{\"line_alpha\":0.7,\"line_color\":\"red\",\"line_width\":4,\"x\":{\"field\":\"x\"},\"y\":{\"field\":\"y\"}},\"id\":\"3743\",\"type\":\"Line\"},{\"attributes\":{\"fill_alpha\":{\"value\":0.2},\"fill_color\":{\"value\":\"midnightblue\"},\"hatch_alpha\":{\"value\":0.2},\"line_alpha\":{\"value\":0.2},\"line_color\":{\"value\":\"white\"},\"size\":{\"value\":10},\"x\":{\"field\":\"x\"},\"y\":{\"field\":\"y\"}},\"id\":\"3721\",\"type\":\"Circle\"},{\"attributes\":{\"end\":5.0,\"margin\":[5,10,5,10],\"start\":-5.0,\"step\":0.1,\"title\":\"X 0\",\"value\":0.0},\"id\":\"3773\",\"type\":\"Slider\"},{\"attributes\":{\"fill_alpha\":{\"value\":0.5},\"fill_color\":{\"value\":\"red\"},\"hatch_alpha\":{\"value\":0.5},\"line_alpha\":{\"value\":0.5},\"line_color\":{\"value\":\"white\"},\"size\":{\"value\":10},\"x\":{\"field\":\"x\"},\"y\":{\"field\":\"y\"}},\"id\":\"3720\",\"type\":\"Circle\"},{\"attributes\":{},\"id\":\"3758\",\"type\":\"Selection\"},{\"attributes\":{\"fill_alpha\":{\"value\":0.8},\"fill_color\":{\"value\":\"red\"},\"line_color\":{\"value\":\"white\"}},\"id\":\"3738\",\"type\":\"Circle\"},{\"attributes\":{\"tools\":[{\"id\":\"3703\"},{\"id\":\"3704\"},{\"id\":\"3705\"},{\"id\":\"3706\"},{\"id\":\"3707\"},{\"id\":\"3708\"},{\"id\":\"3736\"},{\"id\":\"3740\"}]},\"id\":\"3710\",\"type\":\"Toolbar\"},{\"attributes\":{\"mode\":\"append\",\"overlay\":{\"id\":\"3760\"},\"renderers\":[{\"id\":\"3722\"}]},\"id\":\"3740\",\"type\":\"BoxSelectTool\"}],\"root_ids\":[\"3762\",\"3844\"]},\"title\":\"Bokeh Application\",\"version\":\"2.4.3\"}};\n",
              "    var render_items = [{\"docid\":\"466cea6f-7ce0-4cfa-ad34-3f2da7ba3b99\",\"root_ids\":[\"3762\"],\"roots\":{\"3762\":\"976ccbb9-af14-405d-aed3-cc801468b272\"}}];\n",
              "    root.Bokeh.embed.embed_items_notebook(docs_json, render_items);\n",
              "    for (const render_item of render_items) {\n",
              "      for (const root_id of render_item.root_ids) {\n",
              "\tconst id_el = document.getElementById(root_id)\n",
              "\tif (id_el.children.length && (id_el.children[0].className === 'bk-root')) {\n",
              "\t  const root_el = id_el.children[0]\n",
              "\t  root_el.id = root_el.id + '-rendered'\n",
              "\t}\n",
              "      }\n",
              "    }\n",
              "  }\n",
              "  if (root.Bokeh !== undefined && root.Bokeh.Panel !== undefined) {\n",
              "    embed_document(root);\n",
              "  } else {\n",
              "    var attempts = 0;\n",
              "    var timer = setInterval(function(root) {\n",
              "      if (root.Bokeh !== undefined && root.Bokeh.Panel !== undefined) {\n",
              "        clearInterval(timer);\n",
              "        embed_document(root);\n",
              "      } else if (document.readyState == \"complete\") {\n",
              "        attempts++;\n",
              "        if (attempts > 200) {\n",
              "          clearInterval(timer);\n",
              "          console.log(\"Bokeh: ERROR: Unable to run BokehJS code because BokehJS library is missing\");\n",
              "        }\n",
              "      }\n",
              "    }, 25, root)\n",
              "  }\n",
              "})(window);</script>"
            ],
            "text/plain": [
              "Row\n",
              "    [0] HSpacer()\n",
              "    [1] Column\n",
              "        [0] Row\n",
              "            [0] Param(RegressionLinearSolver, name='Problem parameters', widgets={})\n",
              "            [1] ParamMethod(method, _pane=Bokeh)\n",
              "        [1] Ace(height=150, language='python', sizing_mode='stretch_both', theme='chaos', value='def linear(\\n        coef...)\n",
              "    [2] HSpacer()"
            ]
          },
          "execution_count": 30,
          "metadata": {
            "application/vnd.holoviews_exec.v0+json": {
              "id": "3762"
            }
          },
          "output_type": "execute_result"
        }
      ],
      "source": [
        "from cml.tasks import RegressionLinearSolver\n",
        "explorer = RegressionLinearSolver()\n",
        "global key\n",
        "key = random.PRNGKey(23)\n",
        "def solve(x, y):\n",
        "    global key\n",
        "    key_gd, key = random.split(key, 2)\n",
        "    w_1, w_0, loss_history = gradient_descent(key_gd, x, y)\n",
        "    x_predict = np.linspace(np.min(x), np.max(x), 200)\n",
        "    y_model = w_1 * x_predict + w_0\n",
        "    return np.array(x_predict), np.array(y_model) #np.array(jnp.zeros(y_model.shape))\n",
        "\n",
        "explorer.solve = solve\n",
        "explorer.render()"
      ]
    },
    {
      "attachments": {},
      "cell_type": "markdown",
      "metadata": {
        "id": "8uG09YDEf-pt"
      },
      "source": [
        "<div class=\"alert alert-success\" markdown=\"1\" style=\"color:white; background-color: #192841; border-color: #779ecb\">\n",
        "\n",
        "> ### Going further\n",
        "\n",
        "> You are encouraged to experiment in a similar way as outlined for NumPy with different learning rates, maximum number of iterations, and regularization techniques, as well as compare the performance (both accuracy and speed) of the implemented algorithms with `scikit-learn` built-in linear regression functions.\n",
        "\n",
        "</div>"
      ]
    },
    {
      "attachments": {},
      "cell_type": "markdown",
      "metadata": {
        "id": "0hA25myuf-pt"
      },
      "source": [
        "<a id=\"capacity\"></a>\n",
        "## Understanding model capacity and selection\n",
        "\n",
        "\n",
        "In real-life problem, we are aiming to find the parameters of a model, but we do not really know what is the _real_ function underlying this process. So what we can decide to select _any_ function of _any_ **capacity** (complexity of the function). One of the problem with that, is that if we have a too simple function, it will _underfit_ (it is not complex enough for our observations). On the opposite end, if we have a function which is too complex, it might be able to _fit through all training points exactly_ ... even though there is noise in our observations ! This is examplified in the following\n",
        "\n",
        "<img src=\"images/01_soa_function_families.png\" align=\"center\"/>\n",
        "\n",
        "We can observe this idea and play with it directly by trying to find a function approximating our previous observations with a polynomial function chosen to have a degree inside \\([1,2,8]\\).\n"
      ]
    },
    {
      "attachments": {},
      "cell_type": "markdown",
      "metadata": {
        "id": "UyrfNGY7f-pt"
      },
      "source": [
        "\n",
        "Depending on the _capacity_ of the model, what we can observe is that\n",
        "\n",
        "- `capacity too low   -> underfitting   : prediction variance >  noise variance`\n",
        "- `adequate capacity  -> good fit       : prediction variance == noise variance`\n",
        "- `capacity too high  -> overfitting    : prediction variance <  noise variance`\n"
      ]
    },
    {
      "attachments": {},
      "cell_type": "markdown",
      "metadata": {
        "id": "9EiDs-0bf-pt"
      },
      "source": [
        "A similar example can be given for a classification problem in two dimensions as follows\n",
        "\n",
        "<img src=\"images/01_underfit.png\" align=\"center\"/>\n"
      ]
    },
    {
      "attachments": {},
      "cell_type": "markdown",
      "metadata": {
        "id": "bxf4W6-Hf-pt"
      },
      "source": [
        "# Exercises\n",
        "\n",
        "In the following, we define the exercises that you should fill for this session. These go further than what we have seen together in the course, but they are based on the exact same principles, simply with slightly more complex definitions. We provide an overall guideline for successfully implementing each of the exercise."
      ]
    },
    {
      "attachments": {},
      "cell_type": "markdown",
      "metadata": {
        "id": "JlNc0Z8nf-pt"
      },
      "source": [
        "## Exercise 1 - Linear classification"
      ]
    },
    {
      "attachments": {},
      "cell_type": "markdown",
      "metadata": {
        "id": "0Hedfl4Of-pt"
      },
      "source": [
        "<div class=\"alert alert-success\" markdown=\"1\" style=\"color:white; background-color: #013220; border-color: #03C03C\">\n",
        "\n",
        "> In this exercise, we will implement linear classification using NumPy and JAX. The goal of this exercise is to gain a better understanding of how linear classification works and how to implement it ourselves using our two first libraries of choice, namely NumPy and JAX. To complete this exercise, you will need to have a basic understanding of NumPy and JAX. You can use the resources provided in the previous exercises to learn more about these libraries.\n",
        "\n",
        "We help you out by first defining a simple linear classification problem to solve\n",
        "\n",
        "</div>"
      ]
    },
    {
      "cell_type": "code",
      "execution_count": 31,
      "metadata": {
        "colab": {
          "base_uri": "https://localhost:8080/"
        },
        "id": "g-VnkgtQz33K",
        "outputId": "bb042f95-62ca-4e39-8b64-c272cbe990e6"
      },
      "outputs": [
        {
          "name": "stdout",
          "output_type": "stream",
          "text": [
            "[-1  1  1  1  1  1 -1 -1  1 -1  1  1 -1  1 -1 -1 -1 -1  1  1  1 -1 -1 -1\n",
            " -1 -1  1  1 -1 -1 -1  1 -1 -1 -1  1 -1  1 -1  1 -1 -1  1 -1 -1 -1 -1  1\n",
            "  1 -1 -1 -1  1 -1 -1 -1  1  1 -1  1 -1  1 -1 -1  1  1 -1 -1 -1 -1  1 -1\n",
            "  1 -1 -1 -1  1 -1  1  1 -1  1 -1 -1 -1 -1 -1  1 -1 -1  1 -1  1  1  1 -1\n",
            "  1  1 -1 -1  1  1  1  1 -1  1 -1  1 -1 -1 -1  1  1  1 -1  1  1 -1  1  1\n",
            "  1 -1 -1 -1 -1 -1  1 -1  1 -1 -1  1  1 -1 -1  1  1  1 -1 -1  1  1  1  1\n",
            "  1  1 -1 -1  1 -1  1  1  1  1 -1  1 -1 -1 -1 -1 -1  1 -1  1  1 -1 -1  1\n",
            "  1  1  1  1  1  1 -1  1  1  1  1  1 -1  1 -1 -1 -1 -1  1  1  1 -1  1 -1\n",
            "  1  1  1 -1  1  1 -1  1]\n"
          ]
        }
      ],
      "source": [
        "import numpy as np\n",
        "from sklearn.datasets import make_blobs\n",
        "# Properties of the problem\n",
        "n_observations = 200\n",
        "noise = 0.2\n",
        "c1_center = [-2, -1]\n",
        "c2_center = [2, 1]\n",
        "# Create points\n",
        "x_coords, y_class = make_blobs(n_samples=n_observations, centers=[c1_center, c2_center], n_features=2, cluster_std=0.55)\n",
        "x_data = x_coords + (noise * np.random.randn(n_observations, 2))\n",
        "#x_data = x_coords\n",
        "y_classes = y_class\n",
        "y_classes[y_classes == 0] = -1\n",
        "print(y_classes)"
      ]
    },
    {
      "attachments": {},
      "cell_type": "markdown",
      "metadata": {
        "id": "o4b099YDf-pt"
      },
      "source": [
        "<div class=\"alert alert-success\" markdown=\"1\" style=\"color:white; background-color: #013220; border-color: #03C03C\">\n",
        "\n",
        "> ### Question 1.1 - Implement linear classification with NumPy\n",
        "\n",
        "> 1. Check the training data with two classes that are linearly separable.\n",
        "> 2. Initialize weights and bias.\n",
        "> 3. Implement the forward pass of the linear classifier.\n",
        "> 4. Implement the hinge loss for classification.\n",
        "> 5. Derive the gradients (backward pass) of the linear classifier.\n",
        "> 6. Implement gradient descent to optimize the weights and bias.\n",
        "\n",
        "</div>"
      ]
    },
    {
      "cell_type": "code",
      "execution_count": 32,
      "metadata": {
        "id": "bQyTRmpXJAVd"
      },
      "outputs": [],
      "source": [
        "import time\n",
        "import timeit"
      ]
    },
    {
      "cell_type": "code",
      "execution_count": 33,
      "metadata": {
        "colab": {
          "base_uri": "https://localhost:8080/",
          "height": 448
        },
        "id": "yaQqfwUqf-pt",
        "outputId": "25417620-d8c1-4aeb-8bb4-2ef7d128a450"
      },
      "outputs": [
        {
          "data": {
            "image/png": "[encoded data removed]",
            "text/plain": [
              "<Figure size 640x480 with 1 Axes>"
            ]
          },
          "metadata": {},
          "output_type": "display_data"
        }
      ],
      "source": [
        "# 1. Check the training data with two classes that are linearly separable.\n",
        "plt.scatter(x_data[:, 0], x_data[:, 1], c=y_classes)\n",
        "plt.show()\n",
        "# From the plot, we can see that two classes can be seperate by a line."
      ]
    },
    {
      "cell_type": "code",
      "execution_count": 34,
      "metadata": {
        "collapsed": true,
        "id": "LKzy0Og8z-mf"
      },
      "outputs": [],
      "source": [
        "# 2. Initialize weights and bias.\n",
        "def initialize():\n",
        "  w = np.random.randn(2)\n",
        "  b = np.random.randn()\n",
        "  return w, b"
      ]
    },
    {
      "cell_type": "code",
      "execution_count": 35,
      "metadata": {
        "id": "D4s0zk_t3FSY"
      },
      "outputs": [],
      "source": [
        "# 3. Implement the forward pass of the linear classifier.\n",
        "def forward_pass(x, w, b):\n",
        "  return x.dot(w)+b"
      ]
    },
    {
      "cell_type": "code",
      "execution_count": 36,
      "metadata": {
        "id": "HcNqxm1Z3dfH"
      },
      "outputs": [],
      "source": [
        "# 4. Implement the hinge loss for classification.\n",
        "def hinge_loss(x, y, w, b):\n",
        "  return np.sum(np.maximum(0, 1-y*forward_pass(x, w, b)))"
      ]
    },
    {
      "cell_type": "code",
      "execution_count": 37,
      "metadata": {
        "id": "QCotQjwd4_8m"
      },
      "outputs": [],
      "source": [
        "# 5. Derive the gradients (backward pass) of the linear classifier.\n",
        "def hinge_loss_grad(x, y, w, b):\n",
        "  grad = y*forward_pass(x, w, b)\n",
        "  # print(grad.shape)\n",
        "  w_0 = np.copy(grad)\n",
        "  dw_1 = np.copy(grad)\n",
        "  dw_0 = np.copy(grad)\n",
        "  db = np.copy(grad)\n",
        "  dw_0[grad>=1]=0\n",
        "  dw_1[grad>=1]=0\n",
        "  db[grad>=1]=0\n",
        "  dw_0[grad<1] = -y[grad<1][:]*x[:, 0][grad<1]\n",
        "  dw_1[grad<1] = -y[grad<1][:]*x[:, 1][grad<1]\n",
        "  # print(dw_0.shape)\n",
        "  db[grad<1] = -y[grad<1]\n",
        "  return np.array([np.mean(dw_0), np.mean(dw_1)]), np.mean(db)"
      ]
    },
    {
      "cell_type": "code",
      "execution_count": 38,
      "metadata": {
        "colab": {
          "base_uri": "https://localhost:8080/",
          "height": 527
        },
        "id": "8tPSobcY_gBW",
        "outputId": "b9c3ae83-7a37-4875-9946-23d902fae714"
      },
      "outputs": [
        {
          "name": "stdout",
          "output_type": "stream",
          "text": [
            "Gradient Descent coefficients: [0.90928293 0.98380059] 0.030819152594925743\n",
            "Final loss 1.1940299718028298\n",
            "time:  0.08591365814208984\n"
          ]
        },
        {
          "data": {
            "image/png": "[encoded data removed]",
            "text/plain": [
              "<Figure size 640x480 with 1 Axes>"
            ]
          },
          "metadata": {},
          "output_type": "display_data"
        }
      ],
      "source": [
        "# 6. Implement gradient descent to optimize the weights and bias.\n",
        "def gradient_descent(x, y, w, b, n_iter=2000, lr=0.01):\n",
        "    # Perform gradient descent\n",
        "    loss_history = []\n",
        "    for _ in range(n_iter):\n",
        "        dw, db = hinge_loss_grad(x, y, w, b)\n",
        "        #print(gradients[0])\n",
        "        w -= lr * dw\n",
        "        b -= lr * db\n",
        "        loss_history.append(hinge_loss(x, y, w, b))\n",
        "    return w, b, loss_history\n",
        "\n",
        "w, b = initialize()\n",
        "time_start = time.time()\n",
        "w, b, loss_history = gradient_descent(x_data, y_classes, w, b)\n",
        "time_end = time.time()\n",
        "print(\"Gradient Descent coefficients:\", w, b)\n",
        "print(\"Final loss\", loss_history[-1])\n",
        "print(\"time: \", time_end-time_start)\n",
        "plt.plot(loss_history)\n",
        "plt.title(\"Loss history\")\n",
        "plt.xlabel(\"Iteration\")\n",
        "plt.ylabel(\"loss\")\n",
        "plt.show()"
      ]
    },
    {
      "cell_type": "code",
      "execution_count": 39,
      "metadata": {
        "colab": {
          "base_uri": "https://localhost:8080/",
          "height": 430
        },
        "id": "NGr3QJU67eWG",
        "outputId": "7992c910-0fd7-4578-f9cd-0833460f3fc1"
      },
      "outputs": [
        {
          "data": {
            "image/png": "[encoded data removed]",
            "text/plain": [
              "<Figure size 640x480 with 1 Axes>"
            ]
          },
          "metadata": {},
          "output_type": "display_data"
        }
      ],
      "source": [
        "plt.scatter(x_data[:, 0], x_data[:, 1], c=y_classes)\n",
        "plt.plot(np.linspace(-4, 4, 100), (-b-w[0]*np.linspace(-4, 4, 100))/w[1])\n",
        "plt.show()"
      ]
    },
    {
      "attachments": {},
      "cell_type": "markdown",
      "metadata": {
        "id": "kZ8sD8CQf-pt"
      },
      "source": [
        "<div class=\"alert alert-success\" markdown=\"1\" style=\"color:white; background-color: #192841; border-color: #779ecb\">\n",
        "\n",
        "> ### Going further (optional)\n",
        "> Try to replace the Hinge loss by the cross-entropy loss in your implementation\n",
        "\n",
        "</div>"
      ]
    },
    {
      "cell_type": "code",
      "execution_count": null,
      "metadata": {
        "id": "jCy74EhFf-pt"
      },
      "outputs": [],
      "source": []
    },
    {
      "attachments": {},
      "cell_type": "markdown",
      "metadata": {
        "id": "-SgwV_B3f-pu"
      },
      "source": [
        "<div class=\"alert alert-success\" markdown=\"1\" style=\"color:white; background-color: #013220; border-color: #03C03C\">\n",
        "\n",
        "> ### Question 1.2 - Implement linear classification with JAX\n",
        "\n",
        "> 1. Initialize weights and bias.\n",
        "> 2. Define the loss function using the jax.nn.softmax_cross_entropy_with_logits function.\n",
        "> 3. Implement gradient descent to optimize the weights and bias.\n",
        "\n",
        "</div>"
      ]
    },
    {
      "cell_type": "code",
      "execution_count": 40,
      "metadata": {
        "colab": {
          "base_uri": "https://localhost:8080/",
          "height": 940
        },
        "id": "vmIclHJ3f-pu",
        "outputId": "8f686577-f618-4ce6-e68c-b4f996e68456"
      },
      "outputs": [
        {
          "name": "stdout",
          "output_type": "stream",
          "text": [
            "Gradient Descent coefficients: [1.2201655 0.7950497] 0.09081914\n",
            "Final loss 0.0\n",
            "time:  0.13972043991088867\n"
          ]
        },
        {
          "data": {
            "image/png": "[encoded data removed]",
            "text/plain": [
              "<Figure size 640x480 with 1 Axes>"
            ]
          },
          "metadata": {},
          "output_type": "display_data"
        },
        {
          "data": {
            "image/png": "[encoded data removed]",
            "text/plain": [
              "<Figure size 640x480 with 1 Axes>"
            ]
          },
          "metadata": {},
          "output_type": "display_data"
        }
      ],
      "source": [
        "# 3. Implement the forward pass of the linear classifier.\n",
        "def forward_pass(x, w, b):\n",
        "  return jnp.dot(x, w)+b\n",
        "\n",
        "# 4. Implement the hinge loss for classification.\n",
        "def hinge_loss(x, y, w, b):\n",
        "  return jnp.sum(jnp.maximum(0, 1-y*forward_pass(x, w, b)))\n",
        "\n",
        "# 5. Derive the gradients (backward pass) of the linear classifier.\n",
        "grad_loss_function = jit(grad(hinge_loss, argnums=[2, 3]))\n",
        "\n",
        "# 6. Implement gradient descent to optimize the weights and bias.\n",
        "def gradient_descent(x, y, w, b, n_iter=2000, lr=0.01):\n",
        "    # Perform gradient descent\n",
        "    loss_history = []\n",
        "    for _ in range(n_iter):\n",
        "        gradients = grad_loss_function(x, y, w, b)\n",
        "        #print(gradients[0])\n",
        "        w -= lr * gradients[0]\n",
        "        b -= lr * gradients[1]\n",
        "        loss_history.append(hinge_loss(x, y, w, b))\n",
        "    return w, b, loss_history\n",
        "\n",
        "w = jnp.array(w)\n",
        "b = jnp.array(b)\n",
        "time_start = time.time()\n",
        "w, b, loss_history = gradient_descent(x_data, y_classes, w, b)\n",
        "time_end = time.time()\n",
        "print(\"Gradient Descent coefficients:\", w, b)\n",
        "print(\"Final loss\", loss_history[-1])\n",
        "print(\"time: \", time_end-time_start)\n",
        "plt.plot(loss_history)\n",
        "plt.title(\"Loss history\")\n",
        "plt.xlabel(\"Iteration\")\n",
        "plt.ylabel(\"loss\")\n",
        "plt.show()\n",
        "\n",
        "plt.scatter(x_data[:, 0], x_data[:, 1], c=y_classes)\n",
        "plt.plot(np.linspace(-4, 4, 100), (-b-w[0]*np.linspace(-4, 4, 100))/w[1])\n",
        "plt.show()"
      ]
    },
    {
      "attachments": {},
      "cell_type": "markdown",
      "metadata": {
        "id": "zZMdraMPf-pu"
      },
      "source": [
        "<div class=\"alert alert-success\" markdown=\"1\" style=\"color:white; background-color: #013220; border-color: #03C03C\">\n",
        "\n",
        "> ### Question 1.3 - Compare the results of the NumPy and JAX implementations.\n",
        "> 1. Plot the decision boundary for each implementation.\n",
        "> 2. Compare the training time and accuracy of each implementation.\n",
        "\n",
        "</div>"
      ]
    },
    {
      "cell_type": "code",
      "execution_count": 41,
      "metadata": {
        "id": "uq57Mkmhf-pu"
      },
      "outputs": [],
      "source": [
        "# From the plots and results above, we can see that jax implementation has a lower loss and shorter computation time."
      ]
    },
    {
      "attachments": {},
      "cell_type": "markdown",
      "metadata": {
        "id": "11PyJB13f-pu"
      },
      "source": [
        "<div class=\"alert alert-success\" markdown=\"1\" style=\"color:white; background-color: #192841; border-color: #779ecb\">\n",
        "\n",
        "> ### Going further (optional)\n",
        "> Implement a more complex dataset and compare the results of the NumPy and JAX implementations.\n",
        "\n",
        "</div>"
      ]
    },
    {
      "cell_type": "code",
      "execution_count": null,
      "metadata": {
        "id": "SQbHeF3Ef-pu"
      },
      "outputs": [],
      "source": []
    },
    {
      "attachments": {},
      "cell_type": "markdown",
      "metadata": {
        "id": "Zu9fA9Zaf-pu"
      },
      "source": [
        "## Exercise 2 - Polynomial regression"
      ]
    },
    {
      "attachments": {},
      "cell_type": "markdown",
      "metadata": {
        "id": "uP06_0wVf-pu"
      },
      "source": [
        "<div class=\"alert alert-success\" markdown=\"1\" style=\"color:white; background-color: #013220; border-color: #03C03C\">\n",
        "\n",
        "> In this exercise, you will implement polynomial regression using NumPy and JAX. This should be a quite straightforward extension of what we have seen until now. We deliberately removed details of the implementation (list of points to adress) so that you can start defining your first entire machine learning setup by yourself.\n",
        "\n",
        "</div>"
      ]
    },
    {
      "attachments": {},
      "cell_type": "markdown",
      "metadata": {
        "id": "d9gUcPZ8f-pu"
      },
      "source": [
        "<div class=\"alert alert-success\" markdown=\"1\" style=\"color:white; background-color: #013220; border-color: #03C03C\">\n",
        "\n",
        "> ### Question 2.1 - Implement polynomial regression using NumPy with gradient descent.\n",
        "\n",
        "</div>"
      ]
    },
    {
      "cell_type": "code",
      "execution_count": 107,
      "metadata": {
        "id": "ibJWricxf-pu"
      },
      "outputs": [
        {
          "name": "stdout",
          "output_type": "stream",
          "text": [
            "Gradient Descent coefficients: [2.79339916 1.02364394 3.19477895 0.74137403]\n",
            "Final loss 1.6413337802311292\n",
            "time:  0.38118481636047363\n"
          ]
        },
        {
          "data": {
            "image/png": "[encoded data removed]",
            "text/plain": [
              "<Figure size 640x480 with 1 Axes>"
            ]
          },
          "metadata": {},
          "output_type": "display_data"
        }
      ],
      "source": [
        "# generate dataset\n",
        "x = np.linspace(-3,3,100)\n",
        "y = 3*x**3 + x**2 + 2*x + 1 + np.random.randn(100)\n",
        "degree = 3\n",
        "lam=0.001\n",
        "w = np.random.randn(degree+1)\n",
        "def forward(x, w):\n",
        "    xs = np.ones(len(x))\n",
        "    for d in range(degree):\n",
        "        xs = np.vstack((x**(d+1), xs))\n",
        "    return (xs.T).dot(w)\n",
        "def mse(x, y, w, lam):\n",
        "    y_t = forward(x, w)\n",
        "    return np.mean((y_t-y)**2)+lam*np.sum(np.abs(w))\n",
        "def gradient(x, y, w, lam):\n",
        "    xs = np.ones(len(x))\n",
        "    for d in range(degree):\n",
        "        xs = np.vstack((x**(d+1), xs))\n",
        "    return 2*xs.dot(forward(x, w)-y)/np.diag(xs.dot(xs.T))+lam*(np.abs(w)/w)\n",
        "def gradient_descent(x, y, w, lam, n_iter=10000, lr=0.001):\n",
        "     # Perform gradient descent\n",
        "    loss_history = []\n",
        "    for _ in range(n_iter):\n",
        "        dw = gradient(x, y, w, lam)\n",
        "        #print(gradients[0])\n",
        "        w -= lr * dw\n",
        "        loss_history.append(mse(x, y, w, lam))\n",
        "    return w, loss_history\n",
        "\n",
        "time_start = time.time()\n",
        "w, loss_history = gradient_descent(x, y, w, lam)\n",
        "time_end = time.time()\n",
        "print(\"Gradient Descent coefficients:\", w)\n",
        "print(\"Final loss\", loss_history[-1])\n",
        "print(\"time: \", time_end-time_start)\n",
        "plt.plot(loss_history)\n",
        "plt.title(\"Loss history\")\n",
        "plt.xlabel(\"Iteration\")\n",
        "plt.ylabel(\"loss\")\n",
        "plt.show()"
      ]
    },
    {
      "attachments": {},
      "cell_type": "markdown",
      "metadata": {
        "id": "nAAXT8zOf-pu"
      },
      "source": [
        "<div class=\"alert alert-success\" markdown=\"1\" style=\"color:white; background-color: #013220; border-color: #03C03C\">\n",
        "\n",
        "> ### Question 2.2. Implement polynomial regression using JAX with gradient descent.\n",
        "\n",
        "</div>"
      ]
    },
    {
      "cell_type": "code",
      "execution_count": 108,
      "metadata": {
        "id": "l2JKTHr_f-pu"
      },
      "outputs": [
        {
          "name": "stdout",
          "output_type": "stream",
          "text": [
            "Gradient Descent coefficients: [2.9899454 1.0300289 2.0153306 0.7162685]\n",
            "Final loss 0.9294057\n",
            "time:  5.207418918609619\n"
          ]
        },
        {
          "data": {
            "image/png": "[encoded data removed]",
            "text/plain": [
              "<Figure size 640x480 with 1 Axes>"
            ]
          },
          "metadata": {},
          "output_type": "display_data"
        }
      ],
      "source": [
        "# generate dataset\n",
        "# x = np.linspace(-3,3,100)\n",
        "# y = 3*x**3 + x**2 + 2*x + 1 + np.random.randn(100)\n",
        "# degree = 3\n",
        "# lam=0.01\n",
        "# w = np.random.randn(degree+1)\n",
        "def forward(x, w):\n",
        "    xs = jnp.ones(len(x))\n",
        "    for d in range(degree):\n",
        "        xs = jnp.vstack((x**(d+1), xs))\n",
        "    return jnp.dot(xs.T, w)\n",
        "def mse(x, y, w, lam):\n",
        "    y_t = forward(x, w)\n",
        "    return jnp.mean((y_t-y)**2)+lam*jnp.sum(jnp.abs(w))\n",
        "grad_loss_function = jit(grad(mse, argnums=[2]))\n",
        "def gradient(x, y, w, lam):\n",
        "    xs = np.ones(len(x))\n",
        "    for d in range(degree):\n",
        "        xs = jnp.vstack((x**(d+1), xs))\n",
        "    return 2*jnp.dot(xs, forward(x, w)-y)+lam*(jnp.abs(w)/w)\n",
        "def gradient_descent(x, y, w, lam, n_iter=10000, lr=0.001):\n",
        "     # Perform gradient descent\n",
        "    loss_history = []\n",
        "    for _ in range(n_iter):\n",
        "        dw = grad_loss_function(x, y, w, lam)\n",
        "        #print(gradients[0])\n",
        "        w -= lr * dw[0]\n",
        "        loss_history.append(mse(x, y, w, lam))\n",
        "    return w, loss_history\n",
        "\n",
        "time_start = time.time()\n",
        "w, loss_history = gradient_descent(x, y, w, lam)\n",
        "time_end = time.time()\n",
        "print(\"Gradient Descent coefficients:\", w)\n",
        "print(\"Final loss\", loss_history[-1])\n",
        "print(\"time: \", time_end-time_start)\n",
        "plt.plot(loss_history)\n",
        "plt.title(\"Loss history\")\n",
        "plt.xlabel(\"Iteration\")\n",
        "plt.ylabel(\"loss\")\n",
        "plt.show()"
      ]
    },
    {
      "attachments": {},
      "cell_type": "markdown",
      "metadata": {
        "id": "RiUD2c6Zf-pu"
      },
      "source": [
        "<div class=\"alert alert-success\" markdown=\"1\" style=\"color:white; background-color: #013220; border-color: #03C03C\">\n",
        "\n",
        "> ### Question 2.3 - Compare the results of both implementations and the speed of the optimization algorithm.\n",
        "\n",
        "</div>"
      ]
    },
    {
      "cell_type": "code",
      "execution_count": null,
      "metadata": {},
      "outputs": [],
      "source": [
        "# From the plots and results above, we can see that jax implementation has a lower loss, but in this case it depends on the hyperparameters. For the speed, jax implementation is not as fast as the numpy version and converage in slower speed, maybe because the autograd doesn't compute as effciently as the derived gradient (where normalization is used)."
      ]
    },
    {
      "attachments": {},
      "cell_type": "markdown",
      "metadata": {
        "id": "y8BLg7jof-pu"
      },
      "source": [
        "<a id=\"audio\"></a>\n",
        "# Audio applications\n",
        "\n",
        "In order to test our algorithms on audio and music data, we will work with several datasets. We will both be using well-known state-of-art datasets (through the TF dataset system). But first, we will rely on a simple dataset (`Musclefish`) that should be downloaded on your local computer first from this [link ![](images/file.png)](https://nubo.ircam.fr/index.php/s/ByK4QL7nE4Mq5MA).\n",
        "\n",
        "**The following set of instructions will perform that automatically for you :)**"
      ]
    },
    {
      "cell_type": "code",
      "execution_count": 42,
      "metadata": {
        "colab": {
          "base_uri": "https://localhost:8080/"
        },
        "id": "14fDuetcmMMK",
        "outputId": "fef50972-b65b-44c5-e06f-7a7d3a90712c"
      },
      "outputs": [
        {
          "name": "stdout",
          "output_type": "stream",
          "text": [
            "Will not apply HSTS. The HSTS database must be a regular and non-world-writable file.\n",
            "ERROR: could not open HSTS store at '/home/zhaoyutian/.wget-hsts'. HSTS will be disabled.\n",
            "--2023-05-16 23:26:59--  https://nubo.ircam.fr/index.php/s/ByK4QL7nE4Mq5MA/download/musclefish.zip\n",
            "Resolving nubo.ircam.fr (nubo.ircam.fr)... 129.102.1.87, 2001:660:3004:4001::87:666\n",
            "Connecting to nubo.ircam.fr (nubo.ircam.fr)|129.102.1.87|:443... connected.\n",
            "HTTP request sent, awaiting response... 200 OK\n",
            "Length: 3080254 (2.9M) [application/zip]\n",
            "Saving to: ‘musclefish.zip’\n",
            "\n",
            "musclefish.zip      100%[===================>]   2.94M  1.99MB/s    in 1.5s    \n",
            "\n",
            "2023-05-16 23:27:03 (1.99 MB/s) - ‘musclefish.zip’ saved [3080254/3080254]\n",
            "\n",
            "Archive:  musclefish.zip\n",
            "   creating: musclefish/\n",
            "  inflating: __MACOSX/._musclefish   \n",
            "   creating: musclefish/bells/\n",
            "  inflating: __MACOSX/musclefish/._bells  \n",
            "  inflating: musclefish/.DS_Store    \n",
            "  inflating: __MACOSX/musclefish/._.DS_Store  \n",
            "   creating: musclefish/speech.male/\n",
            "  inflating: __MACOSX/musclefish/._speech.male  \n",
            "   creating: musclefish/water/\n",
            "  inflating: __MACOSX/musclefish/._water  \n",
            "   creating: musclefish/oboe/\n",
            "  inflating: __MACOSX/musclefish/._oboe  \n",
            "   creating: musclefish/altotrombone/\n",
            "  inflating: __MACOSX/musclefish/._altotrombone  \n",
            "   creating: musclefish/speech.female/\n",
            "  inflating: __MACOSX/musclefish/._speech.female  \n",
            "   creating: musclefish/telephone/\n",
            "  inflating: __MACOSX/musclefish/._telephone  \n",
            "   creating: musclefish/percussion/\n",
            "  inflating: __MACOSX/musclefish/._percussion  \n",
            "   creating: musclefish/violinpizz/\n",
            "  inflating: __MACOSX/musclefish/._violinpizz  \n",
            "   creating: musclefish/laughter/\n",
            "  inflating: __MACOSX/musclefish/._laughter  \n",
            "   creating: musclefish/machines/\n",
            "  inflating: __MACOSX/musclefish/._machines  \n",
            "   creating: musclefish/tubularbells/\n",
            "  inflating: __MACOSX/musclefish/._tubularbells  \n",
            "   creating: musclefish/animals/\n",
            "  inflating: __MACOSX/musclefish/._animals  \n",
            "   creating: musclefish/violinbowed/\n",
            "  inflating: __MACOSX/musclefish/._violinbowed  \n",
            "   creating: musclefish/cellobowed/\n",
            "  inflating: __MACOSX/musclefish/._cellobowed  \n",
            "   creating: musclefish/crowds/\n",
            "  inflating: __MACOSX/musclefish/._crowds  \n",
            "  inflating: musclefish/bells/.DS_Store  \n",
            "  inflating: __MACOSX/musclefish/bells/._.DS_Store  \n",
            "  inflating: musclefish/bells/bellTower5.2notes.wav  \n",
            "  inflating: __MACOSX/musclefish/bells/._bellTower5.2notes.wav  \n",
            "  inflating: musclefish/bells/bellTower3.wav  \n",
            "  inflating: __MACOSX/musclefish/bells/._bellTower3.wav  \n",
            "  inflating: musclefish/bells/bellTower2.wav  \n",
            "  inflating: __MACOSX/musclefish/bells/._bellTower2.wav  \n",
            "  inflating: musclefish/bells/bellTower1.wav  \n",
            "  inflating: __MACOSX/musclefish/bells/._bellTower1.wav  \n",
            "  inflating: musclefish/bells/bellTower4.wav  \n",
            "  inflating: __MACOSX/musclefish/bells/._bellTower4.wav  \n",
            "  inflating: musclefish/bells/bellTower6.wav  \n",
            "  inflating: __MACOSX/musclefish/bells/._bellTower6.wav  \n",
            "  inflating: musclefish/bells/bellTower7.wav  \n",
            "  inflating: __MACOSX/musclefish/bells/._bellTower7.wav  \n",
            "  inflating: musclefish/speech.male/male1.several.wav  \n",
            "  inflating: __MACOSX/musclefish/speech.male/._male1.several.wav  \n",
            "  inflating: musclefish/speech.male/male3.place.wav  \n",
            "  inflating: __MACOSX/musclefish/speech.male/._male3.place.wav  \n",
            "  inflating: musclefish/speech.male/male3.neanderthals.wav  \n",
            "  inflating: __MACOSX/musclefish/speech.male/._male3.neanderthals.wav  \n",
            "  inflating: musclefish/speech.male/.DS_Store  \n",
            "  inflating: __MACOSX/musclefish/speech.male/._.DS_Store  \n",
            "  inflating: musclefish/speech.male/male2.favorite.wav  \n",
            "  inflating: __MACOSX/musclefish/speech.male/._male2.favorite.wav  \n",
            "  inflating: musclefish/speech.male/male4.poetry.wav  \n",
            "  inflating: __MACOSX/musclefish/speech.male/._male4.poetry.wav  \n",
            "  inflating: musclefish/speech.male/male3.soft.wav  \n",
            "  inflating: __MACOSX/musclefish/speech.male/._male3.soft.wav  \n",
            "  inflating: musclefish/speech.male/male1.layoffs.wav  \n",
            "  inflating: __MACOSX/musclefish/speech.male/._male1.layoffs.wav  \n",
            "  inflating: musclefish/speech.male/male3.caves.wav  \n",
            "  inflating: __MACOSX/musclefish/speech.male/._male3.caves.wav  \n",
            "  inflating: musclefish/speech.male/male2.cincinnatiReds.wav  \n",
            "  inflating: __MACOSX/musclefish/speech.male/._male2.cincinnatiReds.wav  \n",
            "  inflating: musclefish/speech.male/male3.rock.wav  \n",
            "  inflating: __MACOSX/musclefish/speech.male/._male3.rock.wav  \n",
            "  inflating: musclefish/speech.male/male3.shaggy.wav  \n",
            "  inflating: __MACOSX/musclefish/speech.male/._male3.shaggy.wav  \n",
            "  inflating: musclefish/speech.male/male2.giant.wav  \n",
            "  inflating: __MACOSX/musclefish/speech.male/._male2.giant.wav  \n",
            "  inflating: musclefish/speech.male/male1.daily.wav  \n",
            "  inflating: __MACOSX/musclefish/speech.male/._male1.daily.wav  \n",
            "  inflating: musclefish/speech.male/male4.manner.wav  \n",
            "  inflating: __MACOSX/musclefish/speech.male/._male4.manner.wav  \n",
            "  inflating: musclefish/speech.male/male1.special.wav  \n",
            "  inflating: __MACOSX/musclefish/speech.male/._male1.special.wav  \n",
            "  inflating: musclefish/speech.male/male3.time.wav  \n",
            "  inflating: __MACOSX/musclefish/speech.male/._male3.time.wav  \n",
            "  inflating: musclefish/speech.male/male2.sanfrancisco.wav  \n",
            "  inflating: __MACOSX/musclefish/speech.male/._male2.sanfrancisco.wav  \n",
            "  inflating: musclefish/water/rainAndThunder.wav  \n",
            "  inflating: __MACOSX/musclefish/water/._rainAndThunder.wav  \n",
            "  inflating: musclefish/water/bubbling.wav  \n",
            "  inflating: __MACOSX/musclefish/water/._bubbling.wav  \n",
            "  inflating: musclefish/water/.DS_Store  \n",
            "  inflating: __MACOSX/musclefish/water/._.DS_Store  \n",
            "  inflating: musclefish/water/rainInWoods.wav  \n",
            "  inflating: __MACOSX/musclefish/water/._rainInWoods.wav  \n",
            "  inflating: musclefish/water/thunderstorm.wav  \n",
            "  inflating: __MACOSX/musclefish/water/._thunderstorm.wav  \n",
            "  inflating: musclefish/water/runningWater.wav  \n",
            "  inflating: __MACOSX/musclefish/water/._runningWater.wav  \n",
            "  inflating: musclefish/water/rapids.wav  \n",
            "  inflating: __MACOSX/musclefish/water/._rapids.wav  \n",
            "  inflating: musclefish/water/rainingHeavy.wav  \n",
            "  inflating: __MACOSX/musclefish/water/._rainingHeavy.wav  \n",
            "  inflating: musclefish/oboe/.DS_Store  \n",
            "  inflating: __MACOSX/musclefish/oboe/._.DS_Store  \n",
            "  inflating: musclefish/oboe/oboe23.wav  \n",
            "  inflating: __MACOSX/musclefish/oboe/._oboe23.wav  \n",
            "  inflating: musclefish/oboe/oboe22.wav  \n",
            "  inflating: __MACOSX/musclefish/oboe/._oboe22.wav  \n",
            "  inflating: musclefish/oboe/oboe34.wav  \n",
            "  inflating: __MACOSX/musclefish/oboe/._oboe34.wav  \n",
            "  inflating: musclefish/oboe/oboe20.wav  \n",
            "  inflating: __MACOSX/musclefish/oboe/._oboe20.wav  \n",
            "  inflating: musclefish/oboe/oboe9.wav  \n",
            "  inflating: __MACOSX/musclefish/oboe/._oboe9.wav  \n",
            "  inflating: musclefish/oboe/oboe8.wav  \n",
            "  inflating: __MACOSX/musclefish/oboe/._oboe8.wav  \n",
            "  inflating: musclefish/oboe/oboe21.wav  \n",
            "  inflating: __MACOSX/musclefish/oboe/._oboe21.wav  \n",
            "  inflating: musclefish/oboe/oboe19.wav  \n",
            "  inflating: __MACOSX/musclefish/oboe/._oboe19.wav  \n",
            "  inflating: musclefish/oboe/oboe31.wav  \n",
            "  inflating: __MACOSX/musclefish/oboe/._oboe31.wav  \n",
            "  inflating: musclefish/oboe/oboe25.wav  \n",
            "  inflating: __MACOSX/musclefish/oboe/._oboe25.wav  \n",
            "  inflating: musclefish/oboe/oboe30.wav  \n",
            "  inflating: __MACOSX/musclefish/oboe/._oboe30.wav  \n",
            "  inflating: musclefish/oboe/oboe18.wav  \n",
            "  inflating: __MACOSX/musclefish/oboe/._oboe18.wav  \n",
            "  inflating: musclefish/oboe/oboe26.wav  \n",
            "  inflating: __MACOSX/musclefish/oboe/._oboe26.wav  \n",
            "  inflating: musclefish/oboe/oboe32.wav  \n",
            "  inflating: __MACOSX/musclefish/oboe/._oboe32.wav  \n",
            "  inflating: musclefish/oboe/oboe33.wav  \n",
            "  inflating: __MACOSX/musclefish/oboe/._oboe33.wav  \n",
            "  inflating: musclefish/oboe/oboe27.wav  \n",
            "  inflating: __MACOSX/musclefish/oboe/._oboe27.wav  \n",
            "  inflating: musclefish/oboe/oboe16.wav  \n",
            "  inflating: __MACOSX/musclefish/oboe/._oboe16.wav  \n",
            "  inflating: musclefish/oboe/oboe3.wav  \n",
            "  inflating: __MACOSX/musclefish/oboe/._oboe3.wav  \n",
            "  inflating: musclefish/oboe/oboe2.wav  \n",
            "  inflating: __MACOSX/musclefish/oboe/._oboe2.wav  \n",
            "  inflating: musclefish/oboe/oboe17.wav  \n",
            "  inflating: __MACOSX/musclefish/oboe/._oboe17.wav  \n",
            "  inflating: musclefish/oboe/oboe29.wav  \n",
            "  inflating: __MACOSX/musclefish/oboe/._oboe29.wav  \n",
            "  inflating: musclefish/oboe/oboe0.wav  \n",
            "  inflating: __MACOSX/musclefish/oboe/._oboe0.wav  \n",
            "  inflating: musclefish/oboe/oboe1.wav  \n",
            "  inflating: __MACOSX/musclefish/oboe/._oboe1.wav  \n",
            "  inflating: musclefish/oboe/oboe28.wav  \n",
            "  inflating: __MACOSX/musclefish/oboe/._oboe28.wav  \n",
            "  inflating: musclefish/oboe/oboe14.wav  \n",
            "  inflating: __MACOSX/musclefish/oboe/._oboe14.wav  \n",
            "  inflating: musclefish/oboe/oboe10.wav  \n",
            "  inflating: __MACOSX/musclefish/oboe/._oboe10.wav  \n",
            "  inflating: musclefish/oboe/oboe5.wav  \n",
            "  inflating: __MACOSX/musclefish/oboe/._oboe5.wav  \n",
            "  inflating: musclefish/oboe/oboe4.wav  \n",
            "  inflating: __MACOSX/musclefish/oboe/._oboe4.wav  \n",
            "  inflating: musclefish/oboe/oboe11.wav  \n",
            "  inflating: __MACOSX/musclefish/oboe/._oboe11.wav  \n",
            "  inflating: musclefish/oboe/oboe13.wav  \n",
            "  inflating: __MACOSX/musclefish/oboe/._oboe13.wav  \n",
            "  inflating: musclefish/oboe/oboe7.wav  \n",
            "  inflating: __MACOSX/musclefish/oboe/._oboe7.wav  \n",
            "  inflating: musclefish/oboe/oboe12.wav  \n",
            "  inflating: __MACOSX/musclefish/oboe/._oboe12.wav  \n",
            "  inflating: musclefish/altotrombone/altotrb9.wav  \n",
            "  inflating: __MACOSX/musclefish/altotrombone/._altotrb9.wav  \n",
            "  inflating: musclefish/altotrombone/.DS_Store  \n",
            "  inflating: __MACOSX/musclefish/altotrombone/._.DS_Store  \n",
            "  inflating: musclefish/altotrombone/altotrb14.wav  \n",
            "  inflating: __MACOSX/musclefish/altotrombone/._altotrb14.wav  \n",
            "  inflating: musclefish/altotrombone/altotrb13.wav  \n",
            "  inflating: __MACOSX/musclefish/altotrombone/._altotrb13.wav  \n",
            "  inflating: musclefish/altotrombone/altotrb12.wav  \n",
            "  inflating: __MACOSX/musclefish/altotrombone/._altotrb12.wav  \n",
            "  inflating: musclefish/altotrombone/altotrb11.wav  \n",
            "  inflating: __MACOSX/musclefish/altotrombone/._altotrb11.wav  \n",
            "  inflating: musclefish/altotrombone/altotrb0.wav  \n",
            "  inflating: __MACOSX/musclefish/altotrombone/._altotrb0.wav  \n",
            "  inflating: musclefish/altotrombone/altotrb1.wav  \n",
            "  inflating: __MACOSX/musclefish/altotrombone/._altotrb1.wav  \n",
            "  inflating: musclefish/altotrombone/altotrb3.wav  \n",
            "  inflating: __MACOSX/musclefish/altotrombone/._altotrb3.wav  \n",
            "  inflating: musclefish/altotrombone/altotrb2.wav  \n",
            "  inflating: __MACOSX/musclefish/altotrombone/._altotrb2.wav  \n",
            "  inflating: musclefish/altotrombone/altotrb6.wav  \n",
            "  inflating: __MACOSX/musclefish/altotrombone/._altotrb6.wav  \n",
            "  inflating: musclefish/altotrombone/altotrb7.wav  \n",
            "  inflating: __MACOSX/musclefish/altotrombone/._altotrb7.wav  \n",
            "  inflating: musclefish/altotrombone/altotrb5.wav  \n",
            "  inflating: __MACOSX/musclefish/altotrombone/._altotrb5.wav  \n",
            "  inflating: musclefish/altotrombone/altotrb4.wav  \n",
            "  inflating: __MACOSX/musclefish/altotrombone/._altotrb4.wav  \n",
            "  inflating: musclefish/speech.female/female4.earthquake.wav  \n",
            "  inflating: __MACOSX/musclefish/speech.female/._female4.earthquake.wav  \n",
            "  inflating: musclefish/speech.female/female3.cleveland.wav  \n",
            "  inflating: __MACOSX/musclefish/speech.female/._female3.cleveland.wav  \n",
            "  inflating: musclefish/speech.female/female2.completely.wav  \n",
            "  inflating: __MACOSX/musclefish/speech.female/._female2.completely.wav  \n",
            "  inflating: musclefish/speech.female/female2.fathers.wav  \n",
            "  inflating: __MACOSX/musclefish/speech.female/._female2.fathers.wav  \n",
            "  inflating: musclefish/speech.female/female2.didnot2.wav  \n",
            "  inflating: __MACOSX/musclefish/speech.female/._female2.didnot2.wav  \n",
            "  inflating: musclefish/speech.female/.DS_Store  \n",
            "  inflating: __MACOSX/musclefish/speech.female/._.DS_Store  \n",
            "  inflating: musclefish/speech.female/female2.house.wav  \n",
            "  inflating: __MACOSX/musclefish/speech.female/._female2.house.wav  \n",
            "  inflating: musclefish/speech.female/female4.but.wav  \n",
            "  inflating: __MACOSX/musclefish/speech.female/._female4.but.wav  \n",
            "  inflating: musclefish/speech.female/female4.this.wav  \n",
            "  inflating: __MACOSX/musclefish/speech.female/._female4.this.wav  \n",
            "  inflating: musclefish/speech.female/female1.branch.wav  \n",
            "  inflating: __MACOSX/musclefish/speech.female/._female1.branch.wav  \n",
            "  inflating: musclefish/speech.female/female3.university.wav  \n",
            "  inflating: __MACOSX/musclefish/speech.female/._female3.university.wav  \n",
            "  inflating: musclefish/speech.female/female2.neighborhood.wav  \n",
            "  inflating: __MACOSX/musclefish/speech.female/._female2.neighborhood.wav  \n",
            "  inflating: musclefish/speech.female/female2.didnot.wav  \n",
            "  inflating: __MACOSX/musclefish/speech.female/._female2.didnot.wav  \n",
            "  inflating: musclefish/speech.female/female4.parents.wav  \n",
            "  inflating: __MACOSX/musclefish/speech.female/._female4.parents.wav  \n",
            "  inflating: musclefish/speech.female/female3.conference.wav  \n",
            "  inflating: __MACOSX/musclefish/speech.female/._female3.conference.wav  \n",
            "  inflating: musclefish/speech.female/female3.cosponsor.wav  \n",
            "  inflating: __MACOSX/musclefish/speech.female/._female3.cosponsor.wav  \n",
            "  inflating: musclefish/speech.female/female1.former.wav  \n",
            "  inflating: __MACOSX/musclefish/speech.female/._female1.former.wav  \n",
            "  inflating: musclefish/speech.female/female4.system.wav  \n",
            "  inflating: __MACOSX/musclefish/speech.female/._female4.system.wav  \n",
            "  inflating: musclefish/speech.female/female4.schools.wav  \n",
            "  inflating: __MACOSX/musclefish/speech.female/._female4.schools.wav  \n",
            "  inflating: musclefish/speech.female/female1.issued.wav  \n",
            "  inflating: __MACOSX/musclefish/speech.female/._female1.issued.wav  \n",
            "  inflating: musclefish/speech.female/female1.teargas.wav  \n",
            "  inflating: __MACOSX/musclefish/speech.female/._female1.teargas.wav  \n",
            "  inflating: musclefish/speech.female/female1.order.wav  \n",
            "  inflating: __MACOSX/musclefish/speech.female/._female1.order.wav  \n",
            "  inflating: musclefish/speech.female/female1.never.wav  \n",
            "  inflating: __MACOSX/musclefish/speech.female/._female1.never.wav  \n",
            "  inflating: musclefish/speech.female/female4.this2.wav  \n",
            "  inflating: __MACOSX/musclefish/speech.female/._female4.this2.wav  \n",
            "  inflating: musclefish/speech.female/female4.sex.wav  \n",
            "  inflating: __MACOSX/musclefish/speech.female/._female4.sex.wav  \n",
            "  inflating: musclefish/speech.female/female3.professor.wav  \n",
            "  inflating: __MACOSX/musclefish/speech.female/._female3.professor.wav  \n",
            "  inflating: musclefish/speech.female/female3.doctor.wav  \n",
            "  inflating: __MACOSX/musclefish/speech.female/._female3.doctor.wav  \n",
            "  inflating: musclefish/speech.female/female2.people.wav  \n",
            "  inflating: __MACOSX/musclefish/speech.female/._female2.people.wav  \n",
            "  inflating: musclefish/speech.female/female3.dictionary.wav  \n",
            "  inflating: __MACOSX/musclefish/speech.female/._female3.dictionary.wav  \n",
            "  inflating: musclefish/speech.female/female4.thebeginning.wav  \n",
            "  inflating: __MACOSX/musclefish/speech.female/._female4.thebeginning.wav  \n",
            "  inflating: musclefish/speech.female/female2.mothers.wav  \n",
            "  inflating: __MACOSX/musclefish/speech.female/._female2.mothers.wav  \n",
            "  inflating: musclefish/speech.female/female4.california.wav  \n",
            "  inflating: __MACOSX/musclefish/speech.female/._female4.california.wav  \n",
            "  inflating: musclefish/speech.female/female1.davidians.wav  \n",
            "  inflating: __MACOSX/musclefish/speech.female/._female1.davidians.wav  \n",
            "  inflating: musclefish/speech.female/female1.treasury.wav  \n",
            "  inflating: __MACOSX/musclefish/speech.female/._female1.treasury.wav  \n",
            "  inflating: musclefish/speech.female/female3.western.wav  \n",
            "  inflating: __MACOSX/musclefish/speech.female/._female3.western.wav  \n",
            "  inflating: musclefish/speech.female/female2.yard.wav  \n",
            "  inflating: __MACOSX/musclefish/speech.female/._female2.yard.wav  \n",
            "  inflating: musclefish/telephone/teltt9.wav  \n",
            "  inflating: __MACOSX/musclefish/telephone/._teltt9.wav  \n",
            "  inflating: musclefish/telephone/telephoneBusySignal.wav  \n",
            "  inflating: __MACOSX/musclefish/telephone/._telephoneBusySignal.wav  \n",
            "  inflating: musclefish/telephone/teltt8.wav  \n",
            "  inflating: __MACOSX/musclefish/telephone/._teltt8.wav  \n",
            "  inflating: musclefish/telephone/.DS_Store  \n",
            "  inflating: __MACOSX/musclefish/telephone/._.DS_Store  \n",
            "  inflating: musclefish/telephone/teltt13.wav  \n",
            "  inflating: __MACOSX/musclefish/telephone/._teltt13.wav  \n",
            "  inflating: musclefish/telephone/teltt12.wav  \n",
            "  inflating: __MACOSX/musclefish/telephone/._teltt12.wav  \n",
            "  inflating: musclefish/telephone/teltt10.wav  \n",
            "  inflating: __MACOSX/musclefish/telephone/._teltt10.wav  \n",
            "  inflating: musclefish/telephone/teltt11.wav  \n",
            "  inflating: __MACOSX/musclefish/telephone/._teltt11.wav  \n",
            "  inflating: musclefish/telephone/teltt3.wav  \n",
            "  inflating: __MACOSX/musclefish/telephone/._teltt3.wav  \n",
            "  inflating: musclefish/telephone/telephoneTouchTones2.wav  \n",
            "  inflating: __MACOSX/musclefish/telephone/._telephoneTouchTones2.wav  \n",
            "  inflating: musclefish/telephone/teltt2.wav  \n",
            "  inflating: __MACOSX/musclefish/telephone/._teltt2.wav  \n",
            "  inflating: musclefish/telephone/teltt0.wav  \n",
            "  inflating: __MACOSX/musclefish/telephone/._teltt0.wav  \n",
            "  inflating: musclefish/telephone/telephoneTouchTones1.wav  \n",
            "  inflating: __MACOSX/musclefish/telephone/._telephoneTouchTones1.wav  \n",
            "  inflating: musclefish/telephone/teltt1.wav  \n",
            "  inflating: __MACOSX/musclefish/telephone/._teltt1.wav  \n",
            "  inflating: musclefish/telephone/teltt5.wav  \n",
            "  inflating: __MACOSX/musclefish/telephone/._teltt5.wav  \n",
            "  inflating: musclefish/telephone/teltt4.wav  \n",
            "  inflating: __MACOSX/musclefish/telephone/._teltt4.wav  \n",
            "  inflating: musclefish/telephone/teltt6.wav  \n",
            "  inflating: __MACOSX/musclefish/telephone/._teltt6.wav  \n",
            "  inflating: musclefish/telephone/teltt7.wav  \n",
            "  inflating: __MACOSX/musclefish/telephone/._teltt7.wav  \n",
            "  inflating: musclefish/percussion/sdhitinverse.wav  \n",
            "  inflating: __MACOSX/musclefish/percussion/._sdhitinverse.wav  \n",
            "  inflating: musclefish/percussion/msbrush.wav  \n",
            "  inflating: __MACOSX/musclefish/percussion/._msbrush.wav  \n",
            "  inflating: musclefish/percussion/whip.wav  \n",
            "  inflating: __MACOSX/musclefish/percussion/._whip.wav  \n",
            "  inflating: musclefish/percussion/waterphone1.wav  \n",
            "  inflating: __MACOSX/musclefish/percussion/._waterphone1.wav  \n",
            "  inflating: musclefish/percussion/icebells.wav  \n",
            "  inflating: __MACOSX/musclefish/percussion/._icebells.wav  \n",
            "  inflating: musclefish/percussion/sbonoghit.wav  \n",
            "  inflating: __MACOSX/musclefish/percussion/._sbonoghit.wav  \n",
            "  inflating: musclefish/percussion/tomtom10.wav  \n",
            "  inflating: __MACOSX/musclefish/percussion/._tomtom10.wav  \n",
            "  inflating: musclefish/percussion/bamboochimeshit.wav  \n",
            "  inflating: __MACOSX/musclefish/percussion/._bamboochimeshit.wav  \n",
            "  inflating: musclefish/percussion/rocksd.wav  \n",
            "  inflating: __MACOSX/musclefish/percussion/._rocksd.wav  \n",
            "  inflating: musclefish/percussion/waterphone2.wav  \n",
            "  inflating: __MACOSX/musclefish/percussion/._waterphone2.wav  \n",
            "  inflating: musclefish/percussion/mdroll.wav  \n",
            "  inflating: __MACOSX/musclefish/percussion/._mdroll.wav  \n",
            "  inflating: musclefish/percussion/congapop.wav  \n",
            "  inflating: __MACOSX/musclefish/percussion/._congapop.wav  \n",
            "  inflating: musclefish/percussion/sdroll.wav  \n",
            "  inflating: __MACOSX/musclefish/percussion/._sdroll.wav  \n",
            "  inflating: musclefish/percussion/.DS_Store  \n",
            "  inflating: __MACOSX/musclefish/percussion/._.DS_Store  \n",
            "  inflating: musclefish/percussion/tambshake.wav  \n",
            "  inflating: __MACOSX/musclefish/percussion/._tambshake.wav  \n",
            "  inflating: musclefish/percussion/woodblock2.wav  \n",
            "  inflating: __MACOSX/musclefish/percussion/._woodblock2.wav  \n",
            "  inflating: musclefish/percussion/agogo1.wav  \n",
            "  inflating: __MACOSX/musclefish/percussion/._agogo1.wav  \n",
            "  inflating: musclefish/percussion/maracasbrassroll.wav  \n",
            "  inflating: __MACOSX/musclefish/percussion/._maracasbrassroll.wav  \n",
            "  inflating: musclefish/percussion/ltimbales.wav  \n",
            "  inflating: __MACOSX/musclefish/percussion/._ltimbales.wav  \n",
            "  inflating: musclefish/percussion/tomtom8.wav  \n",
            "  inflating: __MACOSX/musclefish/percussion/._tomtom8.wav  \n",
            "  inflating: musclefish/percussion/castanethit.wav  \n",
            "  inflating: __MACOSX/musclefish/percussion/._castanethit.wav  \n",
            "  inflating: musclefish/percussion/turkcym15sm.wav  \n",
            "  inflating: __MACOSX/musclefish/percussion/._turkcym15sm.wav  \n",
            "  inflating: musclefish/percussion/lbongoroll.wav  \n",
            "  inflating: __MACOSX/musclefish/percussion/._lbongoroll.wav  \n",
            "  inflating: musclefish/percussion/stimbales.wav  \n",
            "  inflating: __MACOSX/musclefish/percussion/._stimbales.wav  \n",
            "  inflating: musclefish/percussion/mdcrossstick.wav  \n",
            "  inflating: __MACOSX/musclefish/percussion/._mdcrossstick.wav  \n",
            "  inflating: musclefish/percussion/woodblock1.wav  \n",
            "  inflating: __MACOSX/musclefish/percussion/._woodblock1.wav  \n",
            "  inflating: musclefish/percussion/agogo2.wav  \n",
            "  inflating: __MACOSX/musclefish/percussion/._agogo2.wav  \n",
            "  inflating: musclefish/percussion/smallgong.wav  \n",
            "  inflating: __MACOSX/musclefish/percussion/._smallgong.wav  \n",
            "  inflating: musclefish/percussion/lbongohit.wav  \n",
            "  inflating: __MACOSX/musclefish/percussion/._lbongohit.wav  \n",
            "  inflating: musclefish/percussion/mshitinverse.wav  \n",
            "  inflating: __MACOSX/musclefish/percussion/._mshitinverse.wav  \n",
            "  inflating: musclefish/percussion/alpenglock1.wav  \n",
            "  inflating: __MACOSX/musclefish/percussion/._alpenglock1.wav  \n",
            "  inflating: musclefish/percussion/alpenglock3.wav  \n",
            "  inflating: __MACOSX/musclefish/percussion/._alpenglock3.wav  \n",
            "  inflating: musclefish/percussion/claves.wav  \n",
            "  inflating: __MACOSX/musclefish/percussion/._claves.wav  \n",
            "  inflating: musclefish/percussion/maracasskinhit.wav  \n",
            "  inflating: __MACOSX/musclefish/percussion/._maracasskinhit.wav  \n",
            "  inflating: musclefish/percussion/fingercym.wav  \n",
            "  inflating: __MACOSX/musclefish/percussion/._fingercym.wav  \n",
            "  inflating: musclefish/percussion/orchcym.wav  \n",
            "  inflating: __MACOSX/musclefish/percussion/._orchcym.wav  \n",
            "  inflating: musclefish/percussion/mshit.wav  \n",
            "  inflating: __MACOSX/musclefish/percussion/._mshit.wav  \n",
            "  inflating: musclefish/percussion/alpenglock2.wav  \n",
            "  inflating: __MACOSX/musclefish/percussion/._alpenglock2.wav  \n",
            "  inflating: musclefish/percussion/sdbrushroll.wav  \n",
            "  inflating: __MACOSX/musclefish/percussion/._sdbrushroll.wav  \n",
            "  inflating: musclefish/percussion/msbrushroll.wav  \n",
            "  inflating: __MACOSX/musclefish/percussion/._msbrushroll.wav  \n",
            "  inflating: musclefish/percussion/congaslide.wav  \n",
            "  inflating: __MACOSX/musclefish/percussion/._congaslide.wav  \n",
            "  inflating: musclefish/percussion/msroll.wav  \n",
            "  inflating: __MACOSX/musclefish/percussion/._msroll.wav  \n",
            "  inflating: musclefish/percussion/alpenglock4.wav  \n",
            "  inflating: __MACOSX/musclefish/percussion/._alpenglock4.wav  \n",
            "  inflating: musclefish/percussion/turkcym15.wav  \n",
            "  inflating: __MACOSX/musclefish/percussion/._turkcym15.wav  \n",
            "  inflating: musclefish/percussion/chingong2.wav  \n",
            "  inflating: __MACOSX/musclefish/percussion/._chingong2.wav  \n",
            "  inflating: musclefish/percussion/mdhitinverse.wav  \n",
            "  inflating: __MACOSX/musclefish/percussion/._mdhitinverse.wav  \n",
            "  inflating: musclefish/percussion/cuica4.wav  \n",
            "  inflating: __MACOSX/musclefish/percussion/._cuica4.wav  \n",
            "  inflating: musclefish/percussion/cuicaslide.wav  \n",
            "  inflating: __MACOSX/musclefish/percussion/._cuicaslide.wav  \n",
            "  inflating: musclefish/percussion/castanetroll.wav  \n",
            "  inflating: __MACOSX/musclefish/percussion/._castanetroll.wav  \n",
            "  inflating: musclefish/percussion/sdhit.wav  \n",
            "  inflating: __MACOSX/musclefish/percussion/._sdhit.wav  \n",
            "  inflating: musclefish/percussion/ltimbalesrs.wav  \n",
            "  inflating: __MACOSX/musclefish/percussion/._ltimbalesrs.wav  \n",
            "  inflating: musclefish/percussion/orchbassdrum.wav  \n",
            "  inflating: __MACOSX/musclefish/percussion/._orchbassdrum.wav  \n",
            "  inflating: musclefish/percussion/ratchet.wav  \n",
            "  inflating: __MACOSX/musclefish/percussion/._ratchet.wav  \n",
            "  inflating: musclefish/percussion/rockbassdrum.wav  \n",
            "  inflating: __MACOSX/musclefish/percussion/._rockbassdrum.wav  \n",
            "  inflating: musclefish/percussion/chingong1.wav  \n",
            "  inflating: __MACOSX/musclefish/percussion/._chingong1.wav  \n",
            "  inflating: musclefish/percussion/tomtom8rs.wav  \n",
            "  inflating: __MACOSX/musclefish/percussion/._tomtom8rs.wav  \n",
            "  inflating: musclefish/percussion/mdbrush.wav  \n",
            "  inflating: __MACOSX/musclefish/percussion/._mdbrush.wav  \n",
            "  inflating: musclefish/percussion/bamboochimes.wav  \n",
            "  inflating: __MACOSX/musclefish/percussion/._bamboochimes.wav  \n",
            "  inflating: musclefish/percussion/sbonogroll.wav  \n",
            "  inflating: __MACOSX/musclefish/percussion/._sbonogroll.wav  \n",
            "  inflating: musclefish/percussion/cuica3.wav  \n",
            "  inflating: __MACOSX/musclefish/percussion/._cuica3.wav  \n",
            "  inflating: musclefish/percussion/templeblock1.wav  \n",
            "  inflating: __MACOSX/musclefish/percussion/._templeblock1.wav  \n",
            "  inflating: musclefish/percussion/brakedrum2.wav  \n",
            "  inflating: __MACOSX/musclefish/percussion/._brakedrum2.wav  \n",
            "  inflating: musclefish/percussion/cuica2.wav  \n",
            "  inflating: __MACOSX/musclefish/percussion/._cuica2.wav  \n",
            "  inflating: musclefish/percussion/sdbrush.wav  \n",
            "  inflating: __MACOSX/musclefish/percussion/._sdbrush.wav  \n",
            "  inflating: musclefish/percussion/congaclosed.wav  \n",
            "  inflating: __MACOSX/musclefish/percussion/._congaclosed.wav  \n",
            "  inflating: musclefish/percussion/sdcrossstick.wav  \n",
            "  inflating: __MACOSX/musclefish/percussion/._sdcrossstick.wav  \n",
            "  inflating: musclefish/percussion/templeblock3.wav  \n",
            "  inflating: __MACOSX/musclefish/percussion/._templeblock3.wav  \n",
            "  inflating: musclefish/percussion/templeblock2.wav  \n",
            "  inflating: __MACOSX/musclefish/percussion/._templeblock2.wav  \n",
            "  inflating: musclefish/percussion/brakedrum1.wav  \n",
            "  inflating: __MACOSX/musclefish/percussion/._brakedrum1.wav  \n",
            "  inflating: musclefish/percussion/cuica1.wav  \n",
            "  inflating: __MACOSX/musclefish/percussion/._cuica1.wav  \n",
            "  inflating: musclefish/percussion/tympC2.wav  \n",
            "  inflating: __MACOSX/musclefish/percussion/._tympC2.wav  \n",
            "  inflating: musclefish/percussion/marktreel2h.wav  \n",
            "  inflating: __MACOSX/musclefish/percussion/._marktreel2h.wav  \n",
            "  inflating: musclefish/percussion/marktreeh2l.wav  \n",
            "  inflating: __MACOSX/musclefish/percussion/._marktreeh2l.wav  \n",
            "  inflating: musclefish/percussion/tumbaopen.wav  \n",
            "  inflating: __MACOSX/musclefish/percussion/._tumbaopen.wav  \n",
            "  inflating: musclefish/percussion/tumbaclosed.wav  \n",
            "  inflating: __MACOSX/musclefish/percussion/._tumbaclosed.wav  \n",
            "  inflating: musclefish/percussion/largegong.wav  \n",
            "  inflating: __MACOSX/musclefish/percussion/._largegong.wav  \n",
            "  inflating: musclefish/percussion/sleighbells.wav  \n",
            "  inflating: __MACOSX/musclefish/percussion/._sleighbells.wav  \n",
            "  inflating: musclefish/percussion/logdrum4.wav  \n",
            "  inflating: __MACOSX/musclefish/percussion/._logdrum4.wav  \n",
            "  inflating: musclefish/percussion/maracasskinroll.wav  \n",
            "  inflating: __MACOSX/musclefish/percussion/._maracasskinroll.wav  \n",
            "  inflating: musclefish/percussion/logdrum5.wav  \n",
            "  inflating: __MACOSX/musclefish/percussion/._logdrum5.wav  \n",
            "  inflating: musclefish/percussion/cencerros4.wav  \n",
            "  inflating: __MACOSX/musclefish/percussion/._cencerros4.wav  \n",
            "  inflating: musclefish/percussion/logdrum1.wav  \n",
            "  inflating: __MACOSX/musclefish/percussion/._logdrum1.wav  \n",
            "  inflating: musclefish/percussion/mediumgong.wav  \n",
            "  inflating: __MACOSX/musclefish/percussion/._mediumgong.wav  \n",
            "  inflating: musclefish/percussion/mdbrushroll.wav  \n",
            "  inflating: __MACOSX/musclefish/percussion/._mdbrushroll.wav  \n",
            "  inflating: musclefish/percussion/tambroll.wav  \n",
            "  inflating: __MACOSX/musclefish/percussion/._tambroll.wav  \n",
            "  inflating: musclefish/percussion/congaopen.wav  \n",
            "  inflating: __MACOSX/musclefish/percussion/._congaopen.wav  \n",
            "  inflating: musclefish/percussion/cencerros1.wav  \n",
            "  inflating: __MACOSX/musclefish/percussion/._cencerros1.wav  \n",
            "  inflating: musclefish/percussion/tympE2.wav  \n",
            "  inflating: __MACOSX/musclefish/percussion/._tympE2.wav  \n",
            "  inflating: musclefish/percussion/logdrum2.wav  \n",
            "  inflating: __MACOSX/musclefish/percussion/._logdrum2.wav  \n",
            "  inflating: musclefish/percussion/cencerros3.wav  \n",
            "  inflating: __MACOSX/musclefish/percussion/._cencerros3.wav  \n",
            "  inflating: musclefish/percussion/stimbalesrs.wav  \n",
            "  inflating: __MACOSX/musclefish/percussion/._stimbalesrs.wav  \n",
            "  inflating: musclefish/percussion/striangle.wav  \n",
            "  inflating: __MACOSX/musclefish/percussion/._striangle.wav  \n",
            "  inflating: musclefish/percussion/tomtom10rs.wav  \n",
            "  inflating: __MACOSX/musclefish/percussion/._tomtom10rs.wav  \n",
            "  inflating: musclefish/percussion/ltriangle.wav  \n",
            "  inflating: __MACOSX/musclefish/percussion/._ltriangle.wav  \n",
            "  inflating: musclefish/percussion/chincym20.wav  \n",
            "  inflating: __MACOSX/musclefish/percussion/._chincym20.wav  \n",
            "  inflating: musclefish/percussion/mdhit.wav  \n",
            "  inflating: __MACOSX/musclefish/percussion/._mdhit.wav  \n",
            "  inflating: musclefish/percussion/tambpop.wav  \n",
            "  inflating: __MACOSX/musclefish/percussion/._tambpop.wav  \n",
            "  inflating: musclefish/percussion/cencerros2.wav  \n",
            "  inflating: __MACOSX/musclefish/percussion/._cencerros2.wav  \n",
            "  inflating: musclefish/percussion/logdrum3.wav  \n",
            "  inflating: __MACOSX/musclefish/percussion/._logdrum3.wav  \n",
            "  inflating: musclefish/percussion/mscrossstick.wav  \n",
            "  inflating: __MACOSX/musclefish/percussion/._mscrossstick.wav  \n",
            "  inflating: musclefish/violinpizz/violinpizz23.wav  \n",
            "  inflating: __MACOSX/musclefish/violinpizz/._violinpizz23.wav  \n",
            "  inflating: musclefish/violinpizz/violinpizz37.wav  \n",
            "  inflating: __MACOSX/musclefish/violinpizz/._violinpizz37.wav  \n",
            "  inflating: musclefish/violinpizz/violinpizz36.wav  \n",
            "  inflating: __MACOSX/musclefish/violinpizz/._violinpizz36.wav  \n",
            "  inflating: musclefish/violinpizz/violinpizz22.wav  \n",
            "  inflating: __MACOSX/musclefish/violinpizz/._violinpizz22.wav  \n",
            "  inflating: musclefish/violinpizz/violinpizz34.wav  \n",
            "  inflating: __MACOSX/musclefish/violinpizz/._violinpizz34.wav  \n",
            "  inflating: musclefish/violinpizz/violinpizz20.wav  \n",
            "  inflating: __MACOSX/musclefish/violinpizz/._violinpizz20.wav  \n",
            "  inflating: musclefish/violinpizz/violinpizz21.wav  \n",
            "  inflating: __MACOSX/musclefish/violinpizz/._violinpizz21.wav  \n",
            "  inflating: musclefish/violinpizz/violinpizz35.wav  \n",
            "  inflating: __MACOSX/musclefish/violinpizz/._violinpizz35.wav  \n",
            "  inflating: musclefish/violinpizz/violinpizz9.wav  \n",
            "  inflating: __MACOSX/musclefish/violinpizz/._violinpizz9.wav  \n",
            "  inflating: musclefish/violinpizz/violinpizz19.wav  \n",
            "  inflating: __MACOSX/musclefish/violinpizz/._violinpizz19.wav  \n",
            "  inflating: musclefish/violinpizz/violinpizz31.wav  \n",
            "  inflating: __MACOSX/musclefish/violinpizz/._violinpizz31.wav  \n",
            "  inflating: musclefish/violinpizz/violinpizz25.wav  \n",
            "  inflating: __MACOSX/musclefish/violinpizz/._violinpizz25.wav  \n",
            "  inflating: musclefish/violinpizz/.DS_Store  \n",
            "  inflating: __MACOSX/musclefish/violinpizz/._.DS_Store  \n",
            "  inflating: musclefish/violinpizz/violinpizz24.wav  \n",
            "  inflating: __MACOSX/musclefish/violinpizz/._violinpizz24.wav  \n",
            "  inflating: musclefish/violinpizz/violinpizz30.wav  \n",
            "  inflating: __MACOSX/musclefish/violinpizz/._violinpizz30.wav  \n",
            "  inflating: musclefish/violinpizz/violinpizz18.wav  \n",
            "  inflating: __MACOSX/musclefish/violinpizz/._violinpizz18.wav  \n",
            "  inflating: musclefish/violinpizz/violinpizz8.wav  \n",
            "  inflating: __MACOSX/musclefish/violinpizz/._violinpizz8.wav  \n",
            "  inflating: musclefish/violinpizz/violinpizz26.wav  \n",
            "  inflating: __MACOSX/musclefish/violinpizz/._violinpizz26.wav  \n",
            "  inflating: musclefish/violinpizz/violinpizz32.wav  \n",
            "  inflating: __MACOSX/musclefish/violinpizz/._violinpizz32.wav  \n",
            "  inflating: musclefish/violinpizz/violinpizz33.wav  \n",
            "  inflating: __MACOSX/musclefish/violinpizz/._violinpizz33.wav  \n",
            "  inflating: musclefish/violinpizz/violinpizz27.wav  \n",
            "  inflating: __MACOSX/musclefish/violinpizz/._violinpizz27.wav  \n",
            "  inflating: musclefish/violinpizz/violinpizz6.wav  \n",
            "  inflating: __MACOSX/musclefish/violinpizz/._violinpizz6.wav  \n",
            "  inflating: musclefish/violinpizz/violinpizz16.wav  \n",
            "  inflating: __MACOSX/musclefish/violinpizz/._violinpizz16.wav  \n",
            "  inflating: musclefish/violinpizz/violinpizz17.wav  \n",
            "  inflating: __MACOSX/musclefish/violinpizz/._violinpizz17.wav  \n",
            "  inflating: musclefish/violinpizz/violinpizz7.wav  \n",
            "  inflating: __MACOSX/musclefish/violinpizz/._violinpizz7.wav  \n",
            "  inflating: musclefish/violinpizz/violinpizz5.wav  \n",
            "  inflating: __MACOSX/musclefish/violinpizz/._violinpizz5.wav  \n",
            "  inflating: musclefish/violinpizz/violinpizz15.wav  \n",
            "  inflating: __MACOSX/musclefish/violinpizz/._violinpizz15.wav  \n",
            "  inflating: musclefish/violinpizz/violinpizz29.wav  \n",
            "  inflating: __MACOSX/musclefish/violinpizz/._violinpizz29.wav  \n",
            "  inflating: musclefish/violinpizz/violinpizz28.wav  \n",
            "  inflating: __MACOSX/musclefish/violinpizz/._violinpizz28.wav  \n",
            "  inflating: musclefish/violinpizz/violinpizz14.wav  \n",
            "  inflating: __MACOSX/musclefish/violinpizz/._violinpizz14.wav  \n",
            "  inflating: musclefish/violinpizz/violinpizz4.wav  \n",
            "  inflating: __MACOSX/musclefish/violinpizz/._violinpizz4.wav  \n",
            "  inflating: musclefish/violinpizz/violinpizz0.wav  \n",
            "  inflating: __MACOSX/musclefish/violinpizz/._violinpizz0.wav  \n",
            "  inflating: musclefish/violinpizz/violinpizz38.wav  \n",
            "  inflating: __MACOSX/musclefish/violinpizz/._violinpizz38.wav  \n",
            "  inflating: musclefish/violinpizz/violinpizz10.wav  \n",
            "  inflating: __MACOSX/musclefish/violinpizz/._violinpizz10.wav  \n",
            "  inflating: musclefish/violinpizz/violinpizz11.wav  \n",
            "  inflating: __MACOSX/musclefish/violinpizz/._violinpizz11.wav  \n",
            "  inflating: musclefish/violinpizz/violinpizz39.wav  \n",
            "  inflating: __MACOSX/musclefish/violinpizz/._violinpizz39.wav  \n",
            "  inflating: musclefish/violinpizz/violinpizz1.wav  \n",
            "  inflating: __MACOSX/musclefish/violinpizz/._violinpizz1.wav  \n",
            "  inflating: musclefish/violinpizz/violinpizz3.wav  \n",
            "  inflating: __MACOSX/musclefish/violinpizz/._violinpizz3.wav  \n",
            "  inflating: musclefish/violinpizz/violinpizz13.wav  \n",
            "  inflating: __MACOSX/musclefish/violinpizz/._violinpizz13.wav  \n",
            "  inflating: musclefish/violinpizz/violinpizz12.wav  \n",
            "  inflating: __MACOSX/musclefish/violinpizz/._violinpizz12.wav  \n",
            "  inflating: musclefish/violinpizz/violinpizz2.wav  \n",
            "  inflating: __MACOSX/musclefish/violinpizz/._violinpizz2.wav  \n",
            "  inflating: musclefish/laughter/laughterYoungMale.wav  \n",
            "  inflating: __MACOSX/musclefish/laughter/._laughterYoungMale.wav  \n",
            "  inflating: musclefish/laughter/.DS_Store  \n",
            "  inflating: __MACOSX/musclefish/laughter/._.DS_Store  \n",
            "  inflating: musclefish/laughter/laughterFemale3.wav  \n",
            "  inflating: __MACOSX/musclefish/laughter/._laughterFemale3.wav  \n",
            "  inflating: musclefish/laughter/laughterFemale2.wav  \n",
            "  inflating: __MACOSX/musclefish/laughter/._laughterFemale2.wav  \n",
            "  inflating: musclefish/laughter/laughterFemale1.wav  \n",
            "  inflating: __MACOSX/musclefish/laughter/._laughterFemale1.wav  \n",
            "  inflating: musclefish/laughter/laughterYoungMale3.wav  \n",
            "  inflating: __MACOSX/musclefish/laughter/._laughterYoungMale3.wav  \n",
            "  inflating: musclefish/laughter/laughterYoungMale2.wav  \n",
            "  inflating: __MACOSX/musclefish/laughter/._laughterYoungMale2.wav  \n",
            "  inflating: musclefish/laughter/laughterYoungMale4.wav  \n",
            "  inflating: __MACOSX/musclefish/laughter/._laughterYoungMale4.wav  \n",
            "  inflating: musclefish/machines/creakDoorClose.wav  \n",
            "  inflating: __MACOSX/musclefish/machines/._creakDoorClose.wav  \n",
            "  inflating: musclefish/machines/creakDoorOpen.wav  \n",
            "  inflating: __MACOSX/musclefish/machines/._creakDoorOpen.wav  \n",
            "  inflating: musclefish/machines/.DS_Store  \n",
            "  inflating: __MACOSX/musclefish/machines/._.DS_Store  \n",
            "  inflating: musclefish/machines/electricSaw.wav  \n",
            "  inflating: __MACOSX/musclefish/machines/._electricSaw.wav  \n",
            "  inflating: musclefish/machines/chopTree2.wav  \n",
            "  inflating: __MACOSX/musclefish/machines/._chopTree2.wav  \n",
            "  inflating: musclefish/machines/hammering.wav  \n",
            "  inflating: __MACOSX/musclefish/machines/._hammering.wav  \n",
            "  inflating: musclefish/machines/chopTree1.wav  \n",
            "  inflating: __MACOSX/musclefish/machines/._chopTree1.wav  \n",
            "  inflating: musclefish/machines/bulldozer.wav  \n",
            "  inflating: __MACOSX/musclefish/machines/._bulldozer.wav  \n",
            "  inflating: musclefish/machines/piledriver.wav  \n",
            "  inflating: __MACOSX/musclefish/machines/._piledriver.wav  \n",
            "  inflating: musclefish/machines/drill.wav  \n",
            "  inflating: __MACOSX/musclefish/machines/._drill.wav  \n",
            "  inflating: musclefish/machines/hammering2.wav  \n",
            "  inflating: __MACOSX/musclefish/machines/._hammering2.wav  \n",
            "  inflating: musclefish/machines/handSaw.wav  \n",
            "  inflating: __MACOSX/musclefish/machines/._handSaw.wav  \n",
            "  inflating: musclefish/tubularbells/tubular13.wav  \n",
            "  inflating: __MACOSX/musclefish/tubularbells/._tubular13.wav  \n",
            "  inflating: musclefish/tubularbells/tubular2.wav  \n",
            "  inflating: __MACOSX/musclefish/tubularbells/._tubular2.wav  \n",
            "  inflating: musclefish/tubularbells/tubular3.wav  \n",
            "  inflating: __MACOSX/musclefish/tubularbells/._tubular3.wav  \n",
            "  inflating: musclefish/tubularbells/tubular12.wav  \n",
            "  inflating: __MACOSX/musclefish/tubularbells/._tubular12.wav  \n",
            "  inflating: musclefish/tubularbells/tubular10.wav  \n",
            "  inflating: __MACOSX/musclefish/tubularbells/._tubular10.wav  \n",
            "  inflating: musclefish/tubularbells/tubular1.wav  \n",
            "  inflating: __MACOSX/musclefish/tubularbells/._tubular1.wav  \n",
            "  inflating: musclefish/tubularbells/tubular0.wav  \n",
            "  inflating: __MACOSX/musclefish/tubularbells/._tubular0.wav  \n",
            "  inflating: musclefish/tubularbells/tubular11.wav  \n",
            "  inflating: __MACOSX/musclefish/tubularbells/._tubular11.wav  \n",
            "  inflating: musclefish/tubularbells/tubular15.wav  \n",
            "  inflating: __MACOSX/musclefish/tubularbells/._tubular15.wav  \n",
            "  inflating: musclefish/tubularbells/.DS_Store  \n",
            "  inflating: __MACOSX/musclefish/tubularbells/._.DS_Store  \n",
            "  inflating: musclefish/tubularbells/tubular4.wav  \n",
            "  inflating: __MACOSX/musclefish/tubularbells/._tubular4.wav  \n",
            "  inflating: musclefish/tubularbells/tubular5.wav  \n",
            "  inflating: __MACOSX/musclefish/tubularbells/._tubular5.wav  \n",
            "  inflating: musclefish/tubularbells/tubular14.wav  \n",
            "  inflating: __MACOSX/musclefish/tubularbells/._tubular14.wav  \n",
            "  inflating: musclefish/tubularbells/tubular7.wav  \n",
            "  inflating: __MACOSX/musclefish/tubularbells/._tubular7.wav  \n",
            "  inflating: musclefish/tubularbells/tubular6.wav  \n",
            "  inflating: __MACOSX/musclefish/tubularbells/._tubular6.wav  \n",
            "  inflating: musclefish/tubularbells/tubular17.wav  \n",
            "  inflating: __MACOSX/musclefish/tubularbells/._tubular17.wav  \n",
            "  inflating: musclefish/tubularbells/tubular19.wav  \n",
            "  inflating: __MACOSX/musclefish/tubularbells/._tubular19.wav  \n",
            "  inflating: musclefish/tubularbells/tubular8.wav  \n",
            "  inflating: __MACOSX/musclefish/tubularbells/._tubular8.wav  \n",
            "  inflating: musclefish/tubularbells/tubular9.wav  \n",
            "  inflating: __MACOSX/musclefish/tubularbells/._tubular9.wav  \n",
            "  inflating: musclefish/tubularbells/tubular18.wav  \n",
            "  inflating: __MACOSX/musclefish/tubularbells/._tubular18.wav  \n",
            "  inflating: musclefish/tubularbells/tubular20.wav  \n",
            "  inflating: __MACOSX/musclefish/tubularbells/._tubular20.wav  \n",
            "  inflating: musclefish/animals/.DS_Store  \n",
            "  inflating: __MACOSX/musclefish/animals/._.DS_Store  \n",
            "  inflating: musclefish/animals/chickenCoop2.wav  \n",
            "  inflating: __MACOSX/musclefish/animals/._chickenCoop2.wav  \n",
            "  inflating: musclefish/animals/kitten.wav  \n",
            "  inflating: __MACOSX/musclefish/animals/._kitten.wav  \n",
            "  inflating: musclefish/animals/pigs.wav  \n",
            "  inflating: __MACOSX/musclefish/animals/._pigs.wav  \n",
            "  inflating: musclefish/animals/chickenCoop.wav  \n",
            "  inflating: __MACOSX/musclefish/animals/._chickenCoop.wav  \n",
            "  inflating: musclefish/animals/ducksAndGeese.wav  \n",
            "  inflating: __MACOSX/musclefish/animals/._ducksAndGeese.wav  \n",
            "  inflating: musclefish/animals/cat.wav  \n",
            "  inflating: __MACOSX/musclefish/animals/._cat.wav  \n",
            "  inflating: musclefish/animals/dogsBark.wav  \n",
            "  inflating: __MACOSX/musclefish/animals/._dogsBark.wav  \n",
            "  inflating: musclefish/animals/dogsBark2.wav  \n",
            "  inflating: __MACOSX/musclefish/animals/._dogsBark2.wav  \n",
            "  inflating: musclefish/animals/horseWinnie.wav  \n",
            "  inflating: __MACOSX/musclefish/animals/._horseWinnie.wav  \n",
            "  inflating: musclefish/violinbowed/vlnbow14.wav  \n",
            "  inflating: __MACOSX/musclefish/violinbowed/._vlnbow14.wav  \n",
            "  inflating: musclefish/violinbowed/vlnbow28.wav  \n",
            "  inflating: __MACOSX/musclefish/violinbowed/._vlnbow28.wav  \n",
            "  inflating: musclefish/violinbowed/vlnbow29.wav  \n",
            "  inflating: __MACOSX/musclefish/violinbowed/._vlnbow29.wav  \n",
            "  inflating: musclefish/violinbowed/vlnbow15.wav  \n",
            "  inflating: __MACOSX/musclefish/violinbowed/._vlnbow15.wav  \n",
            "  inflating: musclefish/violinbowed/vlnbow17.wav  \n",
            "  inflating: __MACOSX/musclefish/violinbowed/._vlnbow17.wav  \n",
            "  inflating: musclefish/violinbowed/vlnbow16.wav  \n",
            "  inflating: __MACOSX/musclefish/violinbowed/._vlnbow16.wav  \n",
            "  inflating: musclefish/violinbowed/vlnbow12.wav  \n",
            "  inflating: __MACOSX/musclefish/violinbowed/._vlnbow12.wav  \n",
            "  inflating: musclefish/violinbowed/.DS_Store  \n",
            "  inflating: __MACOSX/musclefish/violinbowed/._.DS_Store  \n",
            "  inflating: musclefish/violinbowed/vlnbow13.wav  \n",
            "  inflating: __MACOSX/musclefish/violinbowed/._vlnbow13.wav  \n",
            "  inflating: musclefish/violinbowed/vlnbow39.wav  \n",
            "  inflating: __MACOSX/musclefish/violinbowed/._vlnbow39.wav  \n",
            "  inflating: musclefish/violinbowed/vlnbow11.wav  \n",
            "  inflating: __MACOSX/musclefish/violinbowed/._vlnbow11.wav  \n",
            "  inflating: musclefish/violinbowed/vlnbow10.wav  \n",
            "  inflating: __MACOSX/musclefish/violinbowed/._vlnbow10.wav  \n",
            "  inflating: musclefish/violinbowed/vlnbow38.wav  \n",
            "  inflating: __MACOSX/musclefish/violinbowed/._vlnbow38.wav  \n",
            "  inflating: musclefish/violinbowed/vlnbow0.wav  \n",
            "  inflating: __MACOSX/musclefish/violinbowed/._vlnbow0.wav  \n",
            "  inflating: musclefish/violinbowed/vlnbow3.wav  \n",
            "  inflating: __MACOSX/musclefish/violinbowed/._vlnbow3.wav  \n",
            "  inflating: musclefish/violinbowed/vlnbow2.wav  \n",
            "  inflating: __MACOSX/musclefish/violinbowed/._vlnbow2.wav  \n",
            "  inflating: musclefish/violinbowed/vlnbow7.wav  \n",
            "  inflating: __MACOSX/musclefish/violinbowed/._vlnbow7.wav  \n",
            "  inflating: musclefish/violinbowed/vlnbow5.wav  \n",
            "  inflating: __MACOSX/musclefish/violinbowed/._vlnbow5.wav  \n",
            "  inflating: musclefish/violinbowed/vlnbow4.wav  \n",
            "  inflating: __MACOSX/musclefish/violinbowed/._vlnbow4.wav  \n",
            "  inflating: musclefish/violinbowed/vlnbow42.wav  \n",
            "  inflating: __MACOSX/musclefish/violinbowed/._vlnbow42.wav  \n",
            "  inflating: musclefish/violinbowed/vlnbow9.wav  \n",
            "  inflating: __MACOSX/musclefish/violinbowed/._vlnbow9.wav  \n",
            "  inflating: musclefish/violinbowed/vlnbow8.wav  \n",
            "  inflating: __MACOSX/musclefish/violinbowed/._vlnbow8.wav  \n",
            "  inflating: musclefish/violinbowed/vlnbow43.wav  \n",
            "  inflating: __MACOSX/musclefish/violinbowed/._vlnbow43.wav  \n",
            "  inflating: musclefish/violinbowed/vlnbow41.wav  \n",
            "  inflating: __MACOSX/musclefish/violinbowed/._vlnbow41.wav  \n",
            "  inflating: musclefish/violinbowed/vlnbow40.wav  \n",
            "  inflating: __MACOSX/musclefish/violinbowed/._vlnbow40.wav  \n",
            "  inflating: musclefish/violinbowed/vlnbow44.wav  \n",
            "  inflating: __MACOSX/musclefish/violinbowed/._vlnbow44.wav  \n",
            "  inflating: musclefish/violinbowed/vlnbow45.wav  \n",
            "  inflating: __MACOSX/musclefish/violinbowed/._vlnbow45.wav  \n",
            "  inflating: musclefish/violinbowed/vlnbow46.wav  \n",
            "  inflating: __MACOSX/musclefish/violinbowed/._vlnbow46.wav  \n",
            "  inflating: musclefish/violinbowed/vlnbow21.wav  \n",
            "  inflating: __MACOSX/musclefish/violinbowed/._vlnbow21.wav  \n",
            "  inflating: musclefish/violinbowed/vlnbow35.wav  \n",
            "  inflating: __MACOSX/musclefish/violinbowed/._vlnbow35.wav  \n",
            "  inflating: musclefish/violinbowed/vlnbow34.wav  \n",
            "  inflating: __MACOSX/musclefish/violinbowed/._vlnbow34.wav  \n",
            "  inflating: musclefish/violinbowed/vlnbow20.wav  \n",
            "  inflating: __MACOSX/musclefish/violinbowed/._vlnbow20.wav  \n",
            "  inflating: musclefish/violinbowed/vlnbow36.wav  \n",
            "  inflating: __MACOSX/musclefish/violinbowed/._vlnbow36.wav  \n",
            "  inflating: musclefish/violinbowed/vlnbow22.wav  \n",
            "  inflating: __MACOSX/musclefish/violinbowed/._vlnbow22.wav  \n",
            "  inflating: musclefish/violinbowed/vlnbow23.wav  \n",
            "  inflating: __MACOSX/musclefish/violinbowed/._vlnbow23.wav  \n",
            "  inflating: musclefish/violinbowed/vlnbow37.wav  \n",
            "  inflating: __MACOSX/musclefish/violinbowed/._vlnbow37.wav  \n",
            "  inflating: musclefish/violinbowed/vlnbow33.wav  \n",
            "  inflating: __MACOSX/musclefish/violinbowed/._vlnbow33.wav  \n",
            "  inflating: musclefish/violinbowed/vlnbow27.wav  \n",
            "  inflating: __MACOSX/musclefish/violinbowed/._vlnbow27.wav  \n",
            "  inflating: musclefish/violinbowed/vlnbow26.wav  \n",
            "  inflating: __MACOSX/musclefish/violinbowed/._vlnbow26.wav  \n",
            "  inflating: musclefish/violinbowed/vlnbow32.wav  \n",
            "  inflating: __MACOSX/musclefish/violinbowed/._vlnbow32.wav  \n",
            "  inflating: musclefish/violinbowed/vlnbow18.wav  \n",
            "  inflating: __MACOSX/musclefish/violinbowed/._vlnbow18.wav  \n",
            "  inflating: musclefish/violinbowed/vlnbow24.wav  \n",
            "  inflating: __MACOSX/musclefish/violinbowed/._vlnbow24.wav  \n",
            "  inflating: musclefish/violinbowed/vlnbow30.wav  \n",
            "  inflating: __MACOSX/musclefish/violinbowed/._vlnbow30.wav  \n",
            "  inflating: musclefish/violinbowed/vlnbow31.wav  \n",
            "  inflating: __MACOSX/musclefish/violinbowed/._vlnbow31.wav  \n",
            "  inflating: musclefish/violinbowed/vlnbow25.wav  \n",
            "  inflating: __MACOSX/musclefish/violinbowed/._vlnbow25.wav  \n",
            "  inflating: musclefish/violinbowed/vlnbow19.wav  \n",
            "  inflating: __MACOSX/musclefish/violinbowed/._vlnbow19.wav  \n",
            "  inflating: musclefish/cellobowed/vcbowed98.wav  \n",
            "  inflating: __MACOSX/musclefish/cellobowed/._vcbowed98.wav  \n",
            "  inflating: musclefish/cellobowed/vcbowed88.wav  \n",
            "  inflating: __MACOSX/musclefish/cellobowed/._vcbowed88.wav  \n",
            "  inflating: musclefish/cellobowed/vcbowed63.wav  \n",
            "  inflating: __MACOSX/musclefish/cellobowed/._vcbowed63.wav  \n",
            "  inflating: musclefish/cellobowed/.DS_Store  \n",
            "  inflating: __MACOSX/musclefish/cellobowed/._.DS_Store  \n",
            "  inflating: musclefish/cellobowed/vcbowed62.wav  \n",
            "  inflating: __MACOSX/musclefish/cellobowed/._vcbowed62.wav  \n",
            "  inflating: musclefish/cellobowed/vcbowed48.wav  \n",
            "  inflating: __MACOSX/musclefish/cellobowed/._vcbowed48.wav  \n",
            "  inflating: musclefish/cellobowed/vcbowed75.wav  \n",
            "  inflating: __MACOSX/musclefish/cellobowed/._vcbowed75.wav  \n",
            "  inflating: musclefish/cellobowed/vcbowed100.wav  \n",
            "  inflating: __MACOSX/musclefish/cellobowed/._vcbowed100.wav  \n",
            "  inflating: musclefish/cellobowed/vcbowed101.wav  \n",
            "  inflating: __MACOSX/musclefish/cellobowed/._vcbowed101.wav  \n",
            "  inflating: musclefish/cellobowed/vcbowed0.wav  \n",
            "  inflating: __MACOSX/musclefish/cellobowed/._vcbowed0.wav  \n",
            "  inflating: musclefish/cellobowed/vcbowed129.wav  \n",
            "  inflating: __MACOSX/musclefish/cellobowed/._vcbowed129.wav  \n",
            "  inflating: musclefish/cellobowed/vcbowed2.wav  \n",
            "  inflating: __MACOSX/musclefish/cellobowed/._vcbowed2.wav  \n",
            "  inflating: musclefish/cellobowed/vcbowed103.wav  \n",
            "  inflating: __MACOSX/musclefish/cellobowed/._vcbowed103.wav  \n",
            "  inflating: musclefish/cellobowed/vcbowed39.wav  \n",
            "  inflating: __MACOSX/musclefish/cellobowed/._vcbowed39.wav  \n",
            "  inflating: musclefish/cellobowed/vcbowed10.wav  \n",
            "  inflating: __MACOSX/musclefish/cellobowed/._vcbowed10.wav  \n",
            "  inflating: musclefish/cellobowed/vcbowed116.wav  \n",
            "  inflating: __MACOSX/musclefish/cellobowed/._vcbowed116.wav  \n",
            "  inflating: musclefish/cellobowed/vcbowed14.wav  \n",
            "  inflating: __MACOSX/musclefish/cellobowed/._vcbowed14.wav  \n",
            "  inflating: musclefish/cellobowed/vcbowed105.wav  \n",
            "  inflating: __MACOSX/musclefish/cellobowed/._vcbowed105.wav  \n",
            "  inflating: musclefish/cellobowed/vcbowed139.wav  \n",
            "  inflating: __MACOSX/musclefish/cellobowed/._vcbowed139.wav  \n",
            "  inflating: musclefish/cellobowed/vcbowed110.wav  \n",
            "  inflating: __MACOSX/musclefish/cellobowed/._vcbowed110.wav  \n",
            "  inflating: musclefish/cellobowed/vcbowed109.wav  \n",
            "  inflating: __MACOSX/musclefish/cellobowed/._vcbowed109.wav  \n",
            "  inflating: musclefish/cellobowed/vcbowed135.wav  \n",
            "  inflating: __MACOSX/musclefish/cellobowed/._vcbowed135.wav  \n",
            "  inflating: musclefish/cellobowed/vcbowed121.wav  \n",
            "  inflating: __MACOSX/musclefish/cellobowed/._vcbowed121.wav  \n",
            "  inflating: musclefish/cellobowed/vcbowed108.wav  \n",
            "  inflating: __MACOSX/musclefish/cellobowed/._vcbowed108.wav  \n",
            "  inflating: musclefish/cellobowed/vcbowed122.wav  \n",
            "  inflating: __MACOSX/musclefish/cellobowed/._vcbowed122.wav  \n",
            "  inflating: musclefish/cellobowed/vcbowed136.wav  \n",
            "  inflating: __MACOSX/musclefish/cellobowed/._vcbowed136.wav  \n",
            "  inflating: musclefish/cellobowed/vcbowed25.wav  \n",
            "  inflating: __MACOSX/musclefish/cellobowed/._vcbowed25.wav  \n",
            "  inflating: musclefish/cellobowed/vcbowed31.wav  \n",
            "  inflating: __MACOSX/musclefish/cellobowed/._vcbowed31.wav  \n",
            "  inflating: musclefish/cellobowed/vcbowed137.wav  \n",
            "  inflating: __MACOSX/musclefish/cellobowed/._vcbowed137.wav  \n",
            "  inflating: musclefish/cellobowed/vcbowed123.wav  \n",
            "  inflating: __MACOSX/musclefish/cellobowed/._vcbowed123.wav  \n",
            "  inflating: musclefish/cellobowed/vcbowed127.wav  \n",
            "  inflating: __MACOSX/musclefish/cellobowed/._vcbowed127.wav  \n",
            "  inflating: musclefish/cellobowed/vcbowed34.wav  \n",
            "  inflating: __MACOSX/musclefish/cellobowed/._vcbowed34.wav  \n",
            "  inflating: musclefish/cellobowed/vcbowed132.wav  \n",
            "  inflating: __MACOSX/musclefish/cellobowed/._vcbowed132.wav  \n",
            "  inflating: musclefish/cellobowed/vcbowed126.wav  \n",
            "  inflating: __MACOSX/musclefish/cellobowed/._vcbowed126.wav  \n",
            "  inflating: musclefish/cellobowed/vcbowed124.wav  \n",
            "  inflating: __MACOSX/musclefish/cellobowed/._vcbowed124.wav  \n",
            "  inflating: musclefish/cellobowed/vcbowed36.wav  \n",
            "  inflating: __MACOSX/musclefish/cellobowed/._vcbowed36.wav  \n",
            "  inflating: musclefish/cellobowed/vcbowed125.wav  \n",
            "  inflating: __MACOSX/musclefish/cellobowed/._vcbowed125.wav  \n",
            "  inflating: musclefish/cellobowed/vcbowed51.wav  \n",
            "  inflating: __MACOSX/musclefish/cellobowed/._vcbowed51.wav  \n",
            "  inflating: musclefish/cellobowed/vcbowed45.wav  \n",
            "  inflating: __MACOSX/musclefish/cellobowed/._vcbowed45.wav  \n",
            "  inflating: musclefish/cellobowed/vcbowed86.wav  \n",
            "  inflating: __MACOSX/musclefish/cellobowed/._vcbowed86.wav  \n",
            "  inflating: musclefish/cellobowed/vcbowed84.wav  \n",
            "  inflating: __MACOSX/musclefish/cellobowed/._vcbowed84.wav  \n",
            "  inflating: musclefish/cellobowed/vcbowed91.wav  \n",
            "  inflating: __MACOSX/musclefish/cellobowed/._vcbowed91.wav  \n",
            "  inflating: musclefish/cellobowed/vcbowed42.wav  \n",
            "  inflating: __MACOSX/musclefish/cellobowed/._vcbowed42.wav  \n",
            "  inflating: musclefish/cellobowed/vcbowed96.wav  \n",
            "  inflating: __MACOSX/musclefish/cellobowed/._vcbowed96.wav  \n",
            "  inflating: musclefish/cellobowed/vcbowed69.wav  \n",
            "  inflating: __MACOSX/musclefish/cellobowed/._vcbowed69.wav  \n",
            "  inflating: musclefish/cellobowed/vcbowed55.wav  \n",
            "  inflating: __MACOSX/musclefish/cellobowed/._vcbowed55.wav  \n",
            "  inflating: musclefish/cellobowed/vcbowed40.wav  \n",
            "  inflating: __MACOSX/musclefish/cellobowed/._vcbowed40.wav  \n",
            "  inflating: musclefish/cellobowed/vcbowed97.wav  \n",
            "  inflating: __MACOSX/musclefish/cellobowed/._vcbowed97.wav  \n",
            "  inflating: musclefish/crowds/.DS_Store  \n",
            "  inflating: __MACOSX/musclefish/crowds/._.DS_Store  \n",
            "  inflating: musclefish/crowds/restaurant.wav  \n",
            "  inflating: __MACOSX/musclefish/crowds/._restaurant.wav  \n",
            "  inflating: musclefish/crowds/largeCrowd.wav  \n",
            "  inflating: __MACOSX/musclefish/crowds/._largeCrowd.wav  \n",
            "  inflating: musclefish/crowds/crowd.wav  \n",
            "  inflating: __MACOSX/musclefish/crowds/._crowd.wav  \n",
            "  inflating: musclefish/crowds/sidewalk.wav  \n",
            "  inflating: __MACOSX/musclefish/crowds/._sidewalk.wav  \n"
          ]
        }
      ],
      "source": [
        "!wget https://nubo.ircam.fr/index.php/s/ByK4QL7nE4Mq5MA/download/musclefish.zip\n",
        "!unzip musclefish.zip\n",
        "!mkdir data\n",
        "!mv musclefish data/"
      ]
    },
    {
      "attachments": {},
      "cell_type": "markdown",
      "metadata": {
        "id": "od1VKDyengI9"
      },
      "source": [
        "## Dataset details\n",
        "\n",
        "  |**Type**|*Origin*|\n",
        "  |-------:|:---------|\n",
        "  |**Classification**|[*MuscleFish*](http://knight.cis.temple.edu/~vasilis/Courses/CIS750/Papers/muscle_fish.pdf) dataset|\n",
        "  |**Music-speech**|[*MIREX Recognition*](http://www.music-ir.org/mirex/wiki/2015:Music/Speech_Classification_and_Detection) set|\n",
        "  |**Source separation**|[*SMC Mirum*](http://smc.inesctec.pt/research/data-2/) dataset|\n",
        "  |**Speech recognition**|[*CMU Arctic*](http://festvox.org/cmu_arctic/) dataset|\n",
        "\n",
        "**Unzip the file and place the `musclefish` folder inside a `data` folder in the root of this notebook**\n",
        "For the first parts of the tutorial, we will mostly rely solely on the classification dataset. In order to facilitate the interactions, we provide a dataset class called `AudioSupervisedDataset` that will allow to import all audio datasets along the tutorials. This class also contains a set of holders and will allow us to perform batch-wise gradient descent.\n",
        "\n",
        "```Python\n",
        "class AudioSupervisedDataset():\n",
        "    \"\"\"\n",
        "    Helper class to import datasets\n",
        "    % class_path  : Path to the dataset (string)\n",
        "    % type       : Type of dataset (string: 'classify', 'plain', 'metadata')\n",
        "    \"\"\" \n",
        "    audio_files\n",
        "    labels\n",
        "    labels_names\n",
        "    num_examples \n",
        "    num_classes \n",
        "```\n",
        "\n",
        "We also provide a simplified function `import_dataset` that is demonstrated below.\n",
        "\n",
        "***\n",
        "<div class=\"alert alert-success\" markdown=\"1\" style=\"color:white; background-color: #192841; border-color: #779ecb\">\n",
        "\n",
        "**_Exercise_**  \n",
        "\n",
        "  1. Launch the import procedure and check the corresponding structure\n",
        "  2. Code a count function that prints the name and number of examples for each classes \n",
        "\n",
        "</div>\n",
        "\n",
        "***"
      ]
    },
    {
      "cell_type": "code",
      "execution_count": 43,
      "metadata": {
        "id": "dRLjPVI-f-pu",
        "outputId": "23f99d1e-e6c1-41e9-8430-e43c791e4d41"
      },
      "outputs": [
        {
          "name": "stdout",
          "output_type": "stream",
          "text": [
            "Recursive search in data//musclefish\n",
            "(16, 44100)\n",
            "(16,)\n"
          ]
        },
        {
          "name": "stderr",
          "output_type": "stream",
          "text": [
            "2023-05-16 23:27:26.136365: I tensorflow/compiler/xla/stream_executor/cuda/cuda_gpu_executor.cc:996] successful NUMA node read from SysFS had negative value (-1), but there must be at least one NUMA node, so returning NUMA node zero. See more at https://github.com/torvalds/linux/blob/v6.0/Documentation/ABI/testing/sysfs-bus-pci#L344-L355\n",
            "2023-05-16 23:27:26.136639: W tensorflow/core/common_runtime/gpu/gpu_device.cc:1956] Cannot dlopen some GPU libraries. Please make sure the missing libraries mentioned above are installed properly if you would like to use GPU. Follow the guide at https://www.tensorflow.org/install/gpu for how to download and setup the required libraries for your platform.\n",
            "Skipping registering GPU devices...\n",
            "2023-05-16 23:27:27.653324: I tensorflow/core/common_runtime/executor.cc:1197] [/device:CPU:0] (DEBUG INFO) Executor start aborting (this does not indicate an error and you can ignore this message): INVALID_ARGUMENT: You must feed a value for placeholder tensor 'Placeholder/_0' with dtype float and shape [820,44100]\n",
            "\t [[{{node Placeholder/_0}}]]\n",
            "2023-05-16 23:27:27.653493: I tensorflow/core/common_runtime/executor.cc:1197] [/device:CPU:0] (DEBUG INFO) Executor start aborting (this does not indicate an error and you can ignore this message): INVALID_ARGUMENT: You must feed a value for placeholder tensor 'Placeholder/_1' with dtype int32 and shape [820]\n",
            "\t [[{{node Placeholder/_1}}]]\n"
          ]
        }
      ],
      "source": [
        "from cml.data import import_dataset, AudioSupervisedDataset\n",
        "data_path = \"data/\"\n",
        "batch_size = 16\n",
        "# Instantiate the dataset class\n",
        "train_dataset = import_dataset(data_path, \"musclefish\", 'train', batch_size=batch_size)\n",
        "# Generate a batch of data from the train dataset\n",
        "batch_x, batch_y = next(train_dataset)\n",
        "# Print the shape of the input and output batch tensors\n",
        "print(batch_x.shape)  # (16, 44100)\n",
        "print(batch_y.shape)  # (16,)"
      ]
    },
    {
      "cell_type": "code",
      "execution_count": 44,
      "metadata": {
        "id": "KLpqEPXwf-pu",
        "outputId": "ec2d9409-6b40-4c1e-d48f-3476429c1b6a"
      },
      "outputs": [
        {
          "name": "stdout",
          "output_type": "stream",
          "text": [
            "52\n"
          ]
        },
        {
          "name": "stderr",
          "output_type": "stream",
          "text": [
            "2023-05-16 23:27:27.879783: I tensorflow/core/common_runtime/executor.cc:1197] [/device:CPU:0] (DEBUG INFO) Executor start aborting (this does not indicate an error and you can ignore this message): INVALID_ARGUMENT: You must feed a value for placeholder tensor 'Placeholder/_1' with dtype int32 and shape [820]\n",
            "\t [[{{node Placeholder/_1}}]]\n",
            "2023-05-16 23:27:27.879941: I tensorflow/core/common_runtime/executor.cc:1197] [/device:CPU:0] (DEBUG INFO) Executor start aborting (this does not indicate an error and you can ignore this message): INVALID_ARGUMENT: You must feed a value for placeholder tensor 'Placeholder/_1' with dtype int32 and shape [820]\n",
            "\t [[{{node Placeholder/_1}}]]\n"
          ]
        }
      ],
      "source": [
        "#%% Q-0.1.2 - Count function to print the number of examples in each class along with class label\n",
        "\n",
        "n_batch = 0\n",
        "train_dataset._reset_generator()\n",
        "for batch_x, batch_y in iter(train_dataset):\n",
        "    n_batch += 1\n",
        "    ######################\n",
        "    # YOUR CODE GOES HERE\n",
        "    ######################\n",
        "\n",
        "print(n_batch)"
      ]
    },
    {
      "attachments": {},
      "cell_type": "markdown",
      "metadata": {
        "id": "wzEDrl_Mf-pu"
      },
      "source": [
        "### Preprocessing\n",
        "\n",
        "We will rely on a set of spectral transforms that allow to obtain a more descriptive view over the audio information. As most of these are out of the scope of the machine learning course, we redirect you to a [signal processing course](https://ccrma.stanford.edu/~jos/sasp/) proposed by [Julius O. Smith](https://ccrma.stanford.edu/~jos/).  \n",
        "\n",
        "The following functions to compute various types of transforms are given as part of the basic audio dataset class, in the `cml.data.audio` package\n",
        "\n",
        "  |**Name**|*Transform*|\n",
        "  |-------:|:----------|\n",
        "  |`stft`       |[Short-term Fourier transform](https://en.wikipedia.org/wiki/Short-time_Fourier_transform)|\n",
        "  |`mel`  |[Mel scale](https://en.wikipedia.org/wiki/Mel_scale) transform|\n",
        "  |`chroma` |[Chromas vector](https://en.wikipedia.org/wiki/Harmonic_pitch_class_profiles)|\n",
        "  |`cqt`        |[Constant-Q](https://en.wikipedia.org/wiki/Constant_Q_transform) transform|\n",
        "\n",
        "In order to perform the various computations, we provide the following function, in the `AudioSupervisedDataset` which performs the different transforms on a complete dataset.  \n",
        "\n",
        "``` Python\n",
        "dataset.transform(index, name)\n",
        "    \"\"\" index   : Specific index in our dataset \"\"\"\n",
        "    \"\"\" name    : Name of the transform to apply \"\"\"\n",
        "\n",
        "# The name can be selected in \n",
        "\"stft\"      # Power spectrum (STFT)\n",
        "\"mel\"       # Spectrum in Mel scale\n",
        "\"chroma\"    # Chroma vectors\n",
        "\"cqt\"       # Constant-Q transform\n",
        "```\n"
      ]
    },
    {
      "attachments": {},
      "cell_type": "markdown",
      "metadata": {
        "id": "mWjCX2Qbf-pv"
      },
      "source": [
        "***\n",
        "<div class=\"alert alert-success\" markdown=\"1\" style=\"color:white; background-color: #192841; border-color: #779ecb\">\n",
        "\n",
        "**Exercise**  \n",
        "\n",
        "  1. Launch the transform computation procedure and check the corresponding structure\n",
        "  2. For each class, select a random element and plot its various transforms on a single plot. You should obtain plots similar to those shown afterwards.\n",
        "  3. For each transform, try to spot major pros and cons of their representation.\n",
        "  \n",
        "</div>\n",
        "\n",
        "***"
      ]
    },
    {
      "cell_type": "code",
      "execution_count": 45,
      "metadata": {
        "id": "HmY5DEVMf-pv"
      },
      "outputs": [],
      "source": [
        "# 0.2 - Pre-process the audio to obtain spectral transforms \n",
        "power_spec = train_dataset.transform(0, \"stft\")"
      ]
    },
    {
      "cell_type": "code",
      "execution_count": 46,
      "metadata": {
        "id": "lDCcJCrtf-pv"
      },
      "outputs": [],
      "source": [
        "#%% Q-0.2.2 - Plot the various transforms \n",
        "\n",
        "######################\n",
        "# YOUR CODE GOES HERE\n",
        "######################\n"
      ]
    },
    {
      "attachments": {},
      "cell_type": "markdown",
      "metadata": {
        "id": "GXHeK2xnf-pv"
      },
      "source": [
        "### Features\n",
        "\n",
        "<div markdown = \"1\">\n",
        "\n",
        "As you might have noted from the previous exercice, most spectral transforms have a very high dimensionality, and might not be suited to exhibit the relevant structure of different classes. To that end, we provide a set of functions for computing several spectral features in the `cml.data` package, we redirect interested readers to this [exhaustive article](http://recherche.ircam.fr/anasyn/peeters/ARTICLES/Peeters_2003_cuidadoaudiofeatures.pdf) on spectral features computation.\n",
        "\n",
        "  |**File**|*Transform*|\n",
        "  |-------:|:----------|\n",
        "  |`spectral_centroid`|Spectral centroid|\n",
        "  |`spectral_bandwidth`|Spectral bandwidth|\n",
        "  |`spectral_contrast`|Spectral contrast|\n",
        "  |`spectral_flatness`|Spectral flatness|\n",
        "  |`spectral_rolloff`|Spectral rolloff|\n",
        "\n",
        "Once again, we provide a function to perform the computation of different features on a complete set. Note that for each feature, we obtain the temporal evolution in a vector. Therefore, for further learning tasks, if you wish to obtain simplified spaces, you might need to compute the mean and standard deviation of each feature.\n",
        "\n",
        "``` Python\n",
        "dataset.feature(index, name)\n",
        "    \"\"\" index   : Specific index in our dataset \"\"\"\n",
        "    \"\"\" name    : Name of the feature to obtain \"\"\"\n",
        "\n",
        "# Name can be chosen inside the following\n",
        "\"loudness\"    # Loudness\n",
        "\"centroid\"    # Spectral centroid\n",
        "\"bandwidth\"   # Spectral bandwidth\n",
        "\"contrast\"    # Spectral contrast\n",
        "\"flatness\"    # Spectral flatness\n",
        "\"rolloff\"     # Spectral rolloff\n",
        "\n",
        "```"
      ]
    },
    {
      "attachments": {},
      "cell_type": "markdown",
      "metadata": {
        "id": "eooifOMkf-pv"
      },
      "source": [
        "***\n",
        "<div class=\"alert alert-success\" markdown=\"1\" style=\"color:white; background-color: #192841; border-color: #779ecb\">\n",
        "\n",
        "**Exercise**\n",
        "\n",
        "  1. Launch the feature computation procedure and check the corresponding structure\n",
        "  2. This time for each class, superimpose the plots of various features on a single plot, along with a boxplot of mean and standard deviations. You should obtain plots similar to those shown afterwards.\n",
        "  3. What conclusions can you make on the discriminative power of each feature ?\n",
        "  4. Perform scatter plots of the mean features for all the dataset, while coloring different classes.\n",
        "  5. What conclusions can you make on the discriminative power of mean features ?\n",
        "\n",
        "</div>\n",
        "\n",
        "***"
      ]
    },
    {
      "cell_type": "code",
      "execution_count": 47,
      "metadata": {
        "id": "ZXSzynzdf-pv"
      },
      "outputs": [],
      "source": [
        "# 0.3 - Compute temporal spectral features\n",
        "power_spec = train_dataset.feature(0, \"centroid\")"
      ]
    },
    {
      "cell_type": "code",
      "execution_count": 48,
      "metadata": {
        "id": "oEaDTpqsf-pv"
      },
      "outputs": [],
      "source": [
        "#%% Q-0.3.2 - Plot the various features \n",
        "\n",
        "# Use these styles for boxplot\n",
        "boxprops=dict(linewidth=3, color='white')\n",
        "whiskerprops=dict(linewidth=3, color='white')\n",
        "medianprops=dict(linewidth=2.5, color='firebrick')\n",
        "flierprops = dict(markeredgecolor='white', markerfacecolor='firebrick')\n",
        "\n",
        "######################\n",
        "# YOUR CODE GOES HERE\n",
        "######################\n"
      ]
    },
    {
      "cell_type": "code",
      "execution_count": 49,
      "metadata": {
        "id": "WfTX8jz0f-pv"
      },
      "outputs": [
        {
          "ename": "NameError",
          "evalue": "name 'data_struct' is not defined",
          "output_type": "error",
          "traceback": [
            "\u001b[0;31m---------------------------------------------------------------------------\u001b[0m",
            "\u001b[0;31mNameError\u001b[0m                                 Traceback (most recent call last)",
            "Cell \u001b[0;32mIn[49], line 7\u001b[0m\n\u001b[1;32m      5\u001b[0m plt\u001b[39m.\u001b[39mfigure(figsize\u001b[39m=\u001b[39m(\u001b[39m12\u001b[39m,\u001b[39m8\u001b[39m))\n\u001b[1;32m      6\u001b[0m \u001b[39m# Create a vector of random colors for each class\u001b[39;00m\n\u001b[0;32m----> 7\u001b[0m colorVect \u001b[39m=\u001b[39m np\u001b[39m.\u001b[39mzeros((\u001b[39m3\u001b[39m, \u001b[39mlen\u001b[39m(data_struct[\u001b[39m\"\u001b[39m\u001b[39mclass_names\u001b[39m\u001b[39m\"\u001b[39m])));\n\u001b[1;32m      8\u001b[0m \u001b[39mfor\u001b[39;00m c \u001b[39min\u001b[39;00m \u001b[39mrange\u001b[39m(\u001b[39mlen\u001b[39m(data_struct[\u001b[39m\"\u001b[39m\u001b[39mclass_names\u001b[39m\u001b[39m\"\u001b[39m])):\n\u001b[1;32m      9\u001b[0m     colorVect[:,c] \u001b[39m=\u001b[39m np\u001b[39m.\u001b[39mrandom\u001b[39m.\u001b[39mrand(\u001b[39m3\u001b[39m);\n",
            "\u001b[0;31mNameError\u001b[0m: name 'data_struct' is not defined"
          ]
        },
        {
          "data": {
            "text/plain": [
              "<Figure size 1200x800 with 0 Axes>"
            ]
          },
          "metadata": {},
          "output_type": "display_data"
        }
      ],
      "source": [
        "#%% Q-0.3.4 - Observe the distribution of classes for different features\n",
        "\n",
        "# This allows to use 3D rendering in matplotlib\n",
        "from mpl_toolkits.mplot3d import Axes3D\n",
        "plt.figure(figsize=(12,8))\n",
        "# Create a vector of random colors for each class\n",
        "colorVect = np.zeros((3, len(data_struct[\"class_names\"])));\n",
        "for c in range(len(data_struct[\"class_names\"])):\n",
        "    colorVect[:,c] = np.random.rand(3);\n",
        "\n",
        "######################\n",
        "# YOUR CODE GOES HERE\n",
        "######################\n"
      ]
    },
    {
      "attachments": {},
      "cell_type": "markdown",
      "metadata": {
        "id": "URLWoCbOf-pv"
      },
      "source": [
        "That's it for this tutorial, now remember that we can use any form of description (features) as a basis for learning algorithms. We will see in the next tutorial what we an do with these features."
      ]
    }
  ],
  "metadata": {
    "colab": {
      "provenance": []
    },
    "kernelspec": {
      "display_name": "Python 3 (ipykernel)",
      "language": "python",
      "name": "python3"
    },
    "language_info": {
      "codemirror_mode": {
        "name": "ipython",
        "version": 3
      },
      "file_extension": ".py",
      "mimetype": "text/x-python",
      "name": "python",
      "nbconvert_exporter": "python",
      "pygments_lexer": "ipython3",
      "version": "3.11.3"
    },
    "latex_envs": {
      "LaTeX_envs_menu_present": true,
      "autoclose": false,
      "autocomplete": true,
      "bibliofile": "biblio.bib",
      "cite_by": "apalike",
      "current_citInitial": 1,
      "eqLabelWithNumbers": true,
      "eqNumInitial": 1,
      "hotkeys": {
        "equation": "Ctrl-E",
        "itemize": "Ctrl-I"
      },
      "labels_anchors": false,
      "latex_user_defs": false,
      "report_style_numbering": false,
      "user_envs_cfg": false
    }
  },
  "nbformat": 4,
  "nbformat_minor": 0
}
